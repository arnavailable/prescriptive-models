{
 "cells": [
  {
   "attachments": {
    "image.png": {
     "image/png": "[encoded data removed]"
    }
   },
   "cell_type": "markdown",
   "metadata": {
    "tags": [
     "parameters"
    ]
   },
   "source": [
    "<div align=\"right\">\n",
    "\n",
    "![image.png](attachment:image.png)\n",
    "\n",
    "</div>"
   ]
  },
  {
   "cell_type": "markdown",
   "metadata": {},
   "source": [
    "<div align=\"center\">\n",
    "<font size=\"5\"><b>PRESCRIPTIVE MODELS AND DATA ANALYTICS</b></font>\n",
    "<br>\n",
    "<font size=\"5\"><b>Problem Set #3: Diff-in-diff</b></font>\n",
    "<br>\n",
    "<font size=\"5\">Application: Online Word-of-Mouth</font>\n",
    "<br>\n",
    "<br>\n",
    "<font size=\"5\"><b>Arnav Garg (906310841)</b></font>\n",
    "</div>\n",
    "<br>\n",
    "<br>\n",
    "<br>\n",
    "<font size=\"4\"><b>1 Measuring the impact of online word-of-mouth</b></font>\n",
    "<br>\n",
    "<br>\n",
    "<font size=\"4\"> You are trying to measure the impact of online word-of-mouth on product demand in the Chinese TV market. Specifically, you are interested in finding out whether consumers’ tweets about a TV show lead to higher viewership of the show. You obtain episode-level data of ratings (market-share in terms of viewership) for a large set of TV shows as well as information on the number of tweets on Sina Weibo (the Chinese version of Twitter) mentioning the name of the show on the day on which a specific episode aired. You also have data on ratings for a set of shows in Hong Kong, where Sina Weibo has almost no market penetration because Hong Kong residents mainly use Twitter (which is blocked in mainland China). For this homework use the data-set weibo data.csv. </font>\n",
    "<br>\n",
    "<br>\n",
    "<br>\n",
    "<font size=\"3.5\"><b>1.1 Simple regression</b></font>\n",
    "<br>\n",
    "<br>\n",
    "<font size=\"3.5\"><b>Question 1.</b> Load the data and regress (log) ratings of each show onto the (log) number of tweets per episode. Do you think this regression gives you the causal effect of tweets on show viewership? If not, do you think your estimate will be biased upwards or downwards? </font>\n",
    "\n",
    "This regression does not give us the causal effect of tweets on show viewership."
   ]
  },
  {
   "cell_type": "code",
   "execution_count": 1,
   "metadata": {},
   "outputs": [],
   "source": [
    "import pandas as pd\n",
    "import numpy as np\n",
    "import matplotlib.pyplot as plt \n",
    "import seaborn as sns\n",
    "import os\n",
    "import sys\n",
    "import statsmodels.api as sm\n",
    "from statsmodels.formula.api import ols\n",
    "import warnings\n",
    "warnings.filterwarnings('ignore')\n"
   ]
  },
  {
   "cell_type": "code",
   "execution_count": 3,
   "metadata": {},
   "outputs": [
    {
     "name": "stdout",
     "output_type": "stream",
     "text": [
      "(11427, 9)\n"
     ]
    },
    {
     "data": {
      "text/html": [
       "<div>\n",
       "<style scoped>\n",
       "    .dataframe tbody tr th:only-of-type {\n",
       "        vertical-align: middle;\n",
       "    }\n",
       "\n",
       "    .dataframe tbody tr th {\n",
       "        vertical-align: top;\n",
       "    }\n",
       "\n",
       "    .dataframe thead th {\n",
       "        text-align: right;\n",
       "    }\n",
       "</style>\n",
       "<table border=\"1\" class=\"dataframe\">\n",
       "  <thead>\n",
       "    <tr style=\"text-align: right;\">\n",
       "      <th></th>\n",
       "      <th>location</th>\n",
       "      <th>show_id</th>\n",
       "      <th>episode_num</th>\n",
       "      <th>censor_dummy</th>\n",
       "      <th>log_rating</th>\n",
       "      <th>log_tweet</th>\n",
       "      <th>av_tweets</th>\n",
       "      <th>day_id</th>\n",
       "      <th>mainland_dummy</th>\n",
       "    </tr>\n",
       "  </thead>\n",
       "  <tbody>\n",
       "    <tr>\n",
       "      <th>0</th>\n",
       "      <td>Mainland China</td>\n",
       "      <td>1</td>\n",
       "      <td>1</td>\n",
       "      <td>1</td>\n",
       "      <td>0.475764</td>\n",
       "      <td>0.000000</td>\n",
       "      <td>3.692308</td>\n",
       "      <td>33</td>\n",
       "      <td>1</td>\n",
       "    </tr>\n",
       "    <tr>\n",
       "      <th>1</th>\n",
       "      <td>Mainland China</td>\n",
       "      <td>1</td>\n",
       "      <td>2</td>\n",
       "      <td>0</td>\n",
       "      <td>0.468479</td>\n",
       "      <td>0.000000</td>\n",
       "      <td>3.692308</td>\n",
       "      <td>34</td>\n",
       "      <td>1</td>\n",
       "    </tr>\n",
       "    <tr>\n",
       "      <th>2</th>\n",
       "      <td>Mainland China</td>\n",
       "      <td>1</td>\n",
       "      <td>3</td>\n",
       "      <td>0</td>\n",
       "      <td>0.581327</td>\n",
       "      <td>1.386294</td>\n",
       "      <td>3.692308</td>\n",
       "      <td>35</td>\n",
       "      <td>1</td>\n",
       "    </tr>\n",
       "    <tr>\n",
       "      <th>3</th>\n",
       "      <td>Mainland China</td>\n",
       "      <td>1</td>\n",
       "      <td>4</td>\n",
       "      <td>0</td>\n",
       "      <td>0.547851</td>\n",
       "      <td>0.000000</td>\n",
       "      <td>3.692308</td>\n",
       "      <td>36</td>\n",
       "      <td>1</td>\n",
       "    </tr>\n",
       "    <tr>\n",
       "      <th>4</th>\n",
       "      <td>Mainland China</td>\n",
       "      <td>1</td>\n",
       "      <td>5</td>\n",
       "      <td>0</td>\n",
       "      <td>0.483728</td>\n",
       "      <td>1.386294</td>\n",
       "      <td>3.692308</td>\n",
       "      <td>37</td>\n",
       "      <td>1</td>\n",
       "    </tr>\n",
       "  </tbody>\n",
       "</table>\n",
       "</div>"
      ],
      "text/plain": [
       "         location  show_id  episode_num  censor_dummy  log_rating  log_tweet  \\\n",
       "0  Mainland China        1            1             1    0.475764   0.000000   \n",
       "1  Mainland China        1            2             0    0.468479   0.000000   \n",
       "2  Mainland China        1            3             0    0.581327   1.386294   \n",
       "3  Mainland China        1            4             0    0.547851   0.000000   \n",
       "4  Mainland China        1            5             0    0.483728   1.386294   \n",
       "\n",
       "   av_tweets  day_id  mainland_dummy  \n",
       "0   3.692308      33               1  \n",
       "1   3.692308      34               1  \n",
       "2   3.692308      35               1  \n",
       "3   3.692308      36               1  \n",
       "4   3.692308      37               1  "
      ]
     },
     "execution_count": 3,
     "metadata": {},
     "output_type": "execute_result"
    }
   ],
   "source": [
    "# Load dataset\n",
    "weibo_data = pd.read_csv('weibo_data.csv')\n",
    "\n",
    "# Print the number of rows and columns\n",
    "print(weibo_data.shape)\n",
    "\n",
    "# Print the first few rows\n",
    "weibo_data.head()"
   ]
  },
  {
   "cell_type": "code",
   "execution_count": 5,
   "metadata": {},
   "outputs": [
    {
     "name": "stdout",
     "output_type": "stream",
     "text": [
      "                            OLS Regression Results                            \n",
      "==============================================================================\n",
      "Dep. Variable:             log_rating   R-squared:                       0.111\n",
      "Model:                            OLS   Adj. R-squared:                  0.111\n",
      "Method:                 Least Squares   F-statistic:                     987.9\n",
      "Date:                Mon, 19 Feb 2024   Prob (F-statistic):          2.00e-204\n",
      "Time:                        18:06:52   Log-Likelihood:                -87.734\n",
      "No. Observations:                7899   AIC:                             179.5\n",
      "Df Residuals:                    7897   BIC:                             193.4\n",
      "Df Model:                           1                                         \n",
      "Covariance Type:            nonrobust                                         \n",
      "==============================================================================\n",
      "                 coef    std err          t      P>|t|      [0.025      0.975]\n",
      "------------------------------------------------------------------------------\n",
      "Intercept      0.2664      0.003     81.566      0.000       0.260       0.273\n",
      "log_tweet      0.0310      0.001     31.431      0.000       0.029       0.033\n",
      "==============================================================================\n",
      "Omnibus:                     2518.070   Durbin-Watson:                   0.367\n",
      "Prob(Omnibus):                  0.000   Jarque-Bera (JB):             9432.121\n",
      "Skew:                           1.564   Prob(JB):                         0.00\n",
      "Kurtosis:                       7.344   Cond. No.                         4.03\n",
      "==============================================================================\n",
      "\n",
      "Notes:\n",
      "[1] Standard Errors assume that the covariance matrix of the errors is correctly specified.\n"
     ]
    }
   ],
   "source": [
    "# regress (log) ratings of each show onto the (log) number of tweets per episode.\n",
    "\n",
    "# Fit a linear regression model\n",
    "model = ols('log_rating ~ log_tweet', data = weibo_data).fit()\n",
    "\n",
    "# Print the model summary\n",
    "print(model.summary())"
   ]
  },
  {
   "cell_type": "markdown",
   "metadata": {},
   "source": [
    "<font size=\"3.5\"><b>1.2 Geographic Diff-in-diff</b></font>\n",
    "<br>\n",
    "<br>\n",
    "<font size=\"3.5\"><b>Question 1.</b> During the time period of your data, the Chinese government blocked the entire Sina Weibo platform due to a political scandal for three days (a dummy for those three days called censor dummy is included in the data). Assume that the censorship constitutes an exogenous shock that affected the number of tweets during the three days it lasted. You want to exploit this shock in order to analyze whether ratings decreased during the censorship. </font>"
   ]
  },
  {
   "cell_type": "markdown",
   "metadata": {},
   "source": [
    "<font size=\"3.5\"><b>(a)</b> Run a regression of episode-level (log) ratings on show fixed effects and the censorship dummy using only data from mainland China. Interpret the coefficient on the censorship dummy. Is this result what you expected?</font>\n",
    "\n",
    "xxx"
   ]
  },
  {
   "cell_type": "code",
   "execution_count": null,
   "metadata": {},
   "outputs": [],
   "source": [
    "# regress epi"
   ]
  },
  {
   "cell_type": "markdown",
   "metadata": {},
   "source": [
    "<font size=\"3.5\"><b>(b)</b> Was it necessary to control for show fixed effects in the regression above? If you ran the regression without show fixed effects, how would the interpretation of the coefficient on the censorship dummy differ?</font>\n",
    "\n",
    "xxx"
   ]
  },
  {
   "cell_type": "code",
   "execution_count": null,
   "metadata": {},
   "outputs": [],
   "source": []
  },
  {
   "cell_type": "markdown",
   "metadata": {},
   "source": [
    "<font size=\"3.5\"><b>(c)</b> Run the same regression as in part (a), but use only data from Hong Kong (and not mainland China). Make sure to control for show fixed effects. Interpret the coefficient on the censorship dummy. Is this result what you expected?</font>\n",
    "\n",
    "xxx"
   ]
  },
  {
   "cell_type": "code",
   "execution_count": null,
   "metadata": {},
   "outputs": [],
   "source": []
  },
  {
   "cell_type": "markdown",
   "metadata": {},
   "source": [
    "<font size=\"3.5\"><b>(d)</b> sing data from both Hong Kong and mainland China, implement a difference-in-differences regression with mainland China as the treatment group and Hong Kong as the control group. In other words, you want to show that the censorship event had a differential effect in mainland China relative to Hong Kong. Make sure to control for show fixed effects. Interpret the relevant coefficients of this regression.</font>\n",
    "\n",
    "xxx"
   ]
  },
  {
   "cell_type": "code",
   "execution_count": null,
   "metadata": {},
   "outputs": [],
   "source": []
  },
  {
   "cell_type": "markdown",
   "metadata": {},
   "source": [
    "<font size=\"3.5\"><b>1.3 Across-show Diff-in-diff</b></font>\n",
    "<br>\n",
    "<br>\n",
    "From this question onward, use only observations from shows in mainland China.\n",
    "<br>\n",
    "<br>\n",
    "<font size=\"3.5\"><b>Question 1.</b> The variable av tweets denotes the average number of tweets associated with an episode of each show (outside of the censored time period). Therefore, this variable is show specific, but it does not vary over time. We can use this variable to capture the general level of social media interest in each show. Generate a set of three dummy variables based on the av tweets variable: The first dummy is equal to one for shows with fewer than 5 tweets per episode, the second dummy is equal to one for shows with at least 5 but less than 100 tweets per episode, and the third dummy should be equal to one for shows with at least 100 tweets per episode. </font>"
   ]
  },
  {
   "cell_type": "markdown",
   "metadata": {},
   "source": [
    "<font size=\"3.5\"><b>(a)</b> Run three separate regressions for shows with less than 5 tweets per episode, shows with 5 to 100 tweets per episode and shows with at least 100 tweets. What do you find in terms of impact of the censorship event across the three regressions?</font>\n",
    "\n",
    "xxx"
   ]
  },
  {
   "cell_type": "code",
   "execution_count": null,
   "metadata": {},
   "outputs": [],
   "source": []
  },
  {
   "cell_type": "markdown",
   "metadata": {},
   "source": [
    "<font size=\"3.5\"><b>(b)</b> Run a difference-in-difference regression that allows for the censorship event to have a different effect for three sets of shows with the three different activity levels defined above. Interpret the relevant coefficients.</font>\n",
    "\n",
    "xxx"
   ]
  },
  {
   "cell_type": "code",
   "execution_count": null,
   "metadata": {},
   "outputs": [],
   "source": []
  },
  {
   "cell_type": "markdown",
   "metadata": {},
   "source": [
    "<font size=\"3.5\"><b>(c)</b> Relate your findings across shows with different activity levels to the geographic difference-in-difference\n",
    "approach. Which regression is more informative regarding the impact of the censorship on ratings?</font>\n",
    "\n",
    "xxx"
   ]
  },
  {
   "cell_type": "code",
   "execution_count": null,
   "metadata": {},
   "outputs": [],
   "source": []
  }
 ],
 "metadata": {
  "kernelspec": {
   "display_name": "base",
   "language": "python",
   "name": "python3"
  },
  "language_info": {
   "codemirror_mode": {
    "name": "ipython",
    "version": 3
   },
   "file_extension": ".py",
   "mimetype": "text/x-python",
   "name": "python",
   "nbconvert_exporter": "python",
   "pygments_lexer": "ipython3",
   "version": "3.11.5"
  }
 },
 "nbformat": 4,
 "nbformat_minor": 2
}
