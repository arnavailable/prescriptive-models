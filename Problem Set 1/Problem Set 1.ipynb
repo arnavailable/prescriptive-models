{
 "cells": [
  {
   "cell_type": "markdown",
   "metadata": {},
   "source": [
    "<div align=\"center\">\n",
    "<font size=\"5\"><b>PRESCRIPTIVE MODELS AND DATA ANALYTICS</b></font>\n",
    "<br>\n",
    "<font size=\"5\"><b>Problem Set #1</b></font>\n",
    "<br>\n",
    "<br>\n",
    "<font size=\"5\"><b>Arnav Garg (906310841)</b></font>\n",
    "</div>\n",
    "<br>\n",
    "<br>\n",
    "<font size=\"4\"><b>Setup</b></font>\n",
    "<br>\n",
    "<br>\n",
    "<font size=\"3\">All questions below are based on the paper “Does Price Matter in Charitable Giving? Evidence from a Large-Scale Natural Field Experiment,” by Karlan and List, The American Economic Review (2007).</font>\n",
    "<br>\n",
    "<br>\n",
    "<br>\n",
    "<font size=\"4\"><b>1 Table 1</b></font>\n",
    "<br>\n",
    "<br>\n",
    "<font size=\"3\"><b>Question 1.</b> Load the “charitable giving.csv” dataset and run a regression to assess whether the average “Number of months since last donation” is significantly different between treatment and control. Interpret the relevant regression coefficients and compare the regression-based comparison to the group-specific means reported in Table 1 of the paper.</font>"
   ]
  },
  {
   "cell_type": "code",
   "execution_count": 58,
   "metadata": {},
   "outputs": [],
   "source": [
    "import pandas as pd\n",
    "import numpy as np\n",
    "import matplotlib.pyplot as plt \n",
    "import seaborn as sns\n",
    "import os\n",
    "import sys\n",
    "import statsmodels.api as sm\n",
    "from statsmodels.formula.api import ols"
   ]
  },
  {
   "cell_type": "code",
   "execution_count": 59,
   "metadata": {},
   "outputs": [
    {
     "name": "stdout",
     "output_type": "stream",
     "text": [
      "(50130, 12)\n"
     ]
    },
    {
     "data": {
      "text/html": [
       "<div>\n",
       "<style scoped>\n",
       "    .dataframe tbody tr th:only-of-type {\n",
       "        vertical-align: middle;\n",
       "    }\n",
       "\n",
       "    .dataframe tbody tr th {\n",
       "        vertical-align: top;\n",
       "    }\n",
       "\n",
       "    .dataframe thead th {\n",
       "        text-align: right;\n",
       "    }\n",
       "</style>\n",
       "<table border=\"1\" class=\"dataframe\">\n",
       "  <thead>\n",
       "    <tr style=\"text-align: right;\">\n",
       "      <th></th>\n",
       "      <th>donation_amount</th>\n",
       "      <th>donation_dummy</th>\n",
       "      <th>control</th>\n",
       "      <th>treatment</th>\n",
       "      <th>match_ratio</th>\n",
       "      <th>ratio1</th>\n",
       "      <th>ratio2</th>\n",
       "      <th>ratio3</th>\n",
       "      <th>red_state_dummy</th>\n",
       "      <th>months_since_last_donation</th>\n",
       "      <th>highest_previous_donation</th>\n",
       "      <th>prior_donations_num</th>\n",
       "    </tr>\n",
       "  </thead>\n",
       "  <tbody>\n",
       "    <tr>\n",
       "      <th>0</th>\n",
       "      <td>0.0</td>\n",
       "      <td>0.0</td>\n",
       "      <td>0.0</td>\n",
       "      <td>1.0</td>\n",
       "      <td>1.0</td>\n",
       "      <td>1</td>\n",
       "      <td>0.0</td>\n",
       "      <td>0.0</td>\n",
       "      <td>1.0</td>\n",
       "      <td>19.0</td>\n",
       "      <td>500.0</td>\n",
       "      <td>32.0</td>\n",
       "    </tr>\n",
       "    <tr>\n",
       "      <th>1</th>\n",
       "      <td>0.0</td>\n",
       "      <td>0.0</td>\n",
       "      <td>1.0</td>\n",
       "      <td>0.0</td>\n",
       "      <td>0.0</td>\n",
       "      <td>0</td>\n",
       "      <td>0.0</td>\n",
       "      <td>0.0</td>\n",
       "      <td>1.0</td>\n",
       "      <td>29.0</td>\n",
       "      <td>300.0</td>\n",
       "      <td>22.0</td>\n",
       "    </tr>\n",
       "    <tr>\n",
       "      <th>2</th>\n",
       "      <td>0.0</td>\n",
       "      <td>0.0</td>\n",
       "      <td>1.0</td>\n",
       "      <td>0.0</td>\n",
       "      <td>0.0</td>\n",
       "      <td>0</td>\n",
       "      <td>0.0</td>\n",
       "      <td>0.0</td>\n",
       "      <td>1.0</td>\n",
       "      <td>3.0</td>\n",
       "      <td>500.0</td>\n",
       "      <td>22.0</td>\n",
       "    </tr>\n",
       "    <tr>\n",
       "      <th>3</th>\n",
       "      <td>0.0</td>\n",
       "      <td>0.0</td>\n",
       "      <td>0.0</td>\n",
       "      <td>1.0</td>\n",
       "      <td>3.0</td>\n",
       "      <td>0</td>\n",
       "      <td>0.0</td>\n",
       "      <td>1.0</td>\n",
       "      <td>0.0</td>\n",
       "      <td>4.0</td>\n",
       "      <td>250.0</td>\n",
       "      <td>29.0</td>\n",
       "    </tr>\n",
       "    <tr>\n",
       "      <th>4</th>\n",
       "      <td>0.0</td>\n",
       "      <td>0.0</td>\n",
       "      <td>0.0</td>\n",
       "      <td>1.0</td>\n",
       "      <td>2.0</td>\n",
       "      <td>0</td>\n",
       "      <td>1.0</td>\n",
       "      <td>0.0</td>\n",
       "      <td>0.0</td>\n",
       "      <td>8.0</td>\n",
       "      <td>50.0</td>\n",
       "      <td>17.0</td>\n",
       "    </tr>\n",
       "  </tbody>\n",
       "</table>\n",
       "</div>"
      ],
      "text/plain": [
       "   donation_amount  donation_dummy  control  treatment  match_ratio  ratio1  \\\n",
       "0              0.0             0.0      0.0        1.0          1.0       1   \n",
       "1              0.0             0.0      1.0        0.0          0.0       0   \n",
       "2              0.0             0.0      1.0        0.0          0.0       0   \n",
       "3              0.0             0.0      0.0        1.0          3.0       0   \n",
       "4              0.0             0.0      0.0        1.0          2.0       0   \n",
       "\n",
       "   ratio2  ratio3  red_state_dummy  months_since_last_donation  \\\n",
       "0     0.0     0.0              1.0                        19.0   \n",
       "1     0.0     0.0              1.0                        29.0   \n",
       "2     0.0     0.0              1.0                         3.0   \n",
       "3     0.0     1.0              0.0                         4.0   \n",
       "4     1.0     0.0              0.0                         8.0   \n",
       "\n",
       "   highest_previous_donation  prior_donations_num  \n",
       "0                      500.0                 32.0  \n",
       "1                      300.0                 22.0  \n",
       "2                      500.0                 22.0  \n",
       "3                      250.0                 29.0  \n",
       "4                       50.0                 17.0  "
      ]
     },
     "execution_count": 59,
     "metadata": {},
     "output_type": "execute_result"
    }
   ],
   "source": [
    "# Load dataset\n",
    "charitable_giving = pd.read_csv('charitable_giving.csv')\n",
    "\n",
    "# Print the number of rows and columns\n",
    "print(charitable_giving.shape)\n",
    "\n",
    "# Print the first few rows\n",
    "charitable_giving.head()"
   ]
  },
  {
   "cell_type": "code",
   "execution_count": 60,
   "metadata": {},
   "outputs": [
    {
     "name": "stdout",
     "output_type": "stream",
     "text": [
      "                                OLS Regression Results                                \n",
      "======================================================================================\n",
      "Dep. Variable:     months_since_last_donation   R-squared:                       0.000\n",
      "Model:                                    OLS   Adj. R-squared:                 -0.000\n",
      "Method:                         Least Squares   F-statistic:                   0.01428\n",
      "Date:                        Sat, 27 Jan 2024   Prob (F-statistic):              0.905\n",
      "Time:                                22:26:55   Log-Likelihood:            -1.9585e+05\n",
      "No. Observations:                       50082   AIC:                         3.917e+05\n",
      "Df Residuals:                           50080   BIC:                         3.917e+05\n",
      "Df Model:                                   1                                         \n",
      "Covariance Type:                    nonrobust                                         \n",
      "==============================================================================\n",
      "                 coef    std err          t      P>|t|      [0.025      0.975]\n",
      "------------------------------------------------------------------------------\n",
      "Intercept     12.9981      0.094    138.979      0.000      12.815      13.181\n",
      "treatment      0.0137      0.115      0.119      0.905      -0.211       0.238\n",
      "==============================================================================\n",
      "Omnibus:                     8031.352   Durbin-Watson:                   1.714\n",
      "Prob(Omnibus):                  0.000   Jarque-Bera (JB):            12471.135\n",
      "Skew:                           1.163   Prob(JB):                         0.00\n",
      "Kurtosis:                       3.751   Cond. No.                         3.23\n",
      "==============================================================================\n",
      "\n",
      "Notes:\n",
      "[1] Standard Errors assume that the covariance matrix of the errors is correctly specified.\n"
     ]
    }
   ],
   "source": [
    "model = ols('months_since_last_donation ~ treatment', data=charitable_giving).fit()\n",
    "print(model.summary())"
   ]
  },
  {
   "cell_type": "markdown",
   "metadata": {},
   "source": [
    "The control group's months since last donation were 12.998 months and the treatment group's months since last donation were 13.012 months. The difference is not a lot. These values are similar to what we see in the group-specific means from table 1 of the paper."
   ]
  },
  {
   "cell_type": "markdown",
   "metadata": {},
   "source": [
    "<font size=\"3\"><b>Question 2.</b> Is the difference in “Number of month since last donation” between treatment and control statistically significant (at the usual 95% confidence level)? Is this the result you expected?</font>"
   ]
  },
  {
   "cell_type": "markdown",
   "metadata": {},
   "source": [
    "The difference between treatment and control is not statistically significant because the p-value is greater than 0.05. This result was expected because treatment was randomly assigned."
   ]
  },
  {
   "cell_type": "markdown",
   "metadata": {},
   "source": [
    "<font size=\"3\"><b>Question 3.</b> More generally, describe the take-away from Table 1 in the paper.</font>"
   ]
  },
  {
   "cell_type": "markdown",
   "metadata": {},
   "source": [
    "Table 1 in the paper tells us that the treatment and control groups were randomly assigned and the difference between the values of variables between these two groups is not statistically significant."
   ]
  },
  {
   "cell_type": "markdown",
   "metadata": {},
   "source": [
    "<font size=\"4\"><b>2 <t>Response rate regressions</t></b></font>"
   ]
  },
  {
   "cell_type": "markdown",
   "metadata": {},
   "source": [
    "<font size=\"3\"><b>Question 1.</b> Run a linear regression of response rate (the donation dummy) on the treatment dummy (and an intercept). Interpret both coefficients and compare them to the results presented in the first row of Table 2a.</font>"
   ]
  },
  {
   "cell_type": "code",
   "execution_count": 61,
   "metadata": {},
   "outputs": [
    {
     "name": "stdout",
     "output_type": "stream",
     "text": [
      "                            OLS Regression Results                            \n",
      "==============================================================================\n",
      "Dep. Variable:         donation_dummy   R-squared:                       0.000\n",
      "Model:                            OLS   Adj. R-squared:                  0.000\n",
      "Method:                 Least Squares   F-statistic:                     9.618\n",
      "Date:                Sat, 27 Jan 2024   Prob (F-statistic):            0.00193\n",
      "Time:                        22:26:56   Log-Likelihood:                 26630.\n",
      "No. Observations:               50083   AIC:                        -5.326e+04\n",
      "Df Residuals:                   50081   BIC:                        -5.324e+04\n",
      "Df Model:                           1                                         \n",
      "Covariance Type:            nonrobust                                         \n",
      "==============================================================================\n",
      "                 coef    std err          t      P>|t|      [0.025      0.975]\n",
      "------------------------------------------------------------------------------\n",
      "Intercept      0.0179      0.001     16.225      0.000       0.016       0.020\n",
      "treatment      0.0042      0.001      3.101      0.002       0.002       0.007\n",
      "==============================================================================\n",
      "Omnibus:                    59814.280   Durbin-Watson:                   1.997\n",
      "Prob(Omnibus):                  0.000   Jarque-Bera (JB):          4317152.727\n",
      "Skew:                           6.740   Prob(JB):                         0.00\n",
      "Kurtosis:                      46.440   Cond. No.                         3.23\n",
      "==============================================================================\n",
      "\n",
      "Notes:\n",
      "[1] Standard Errors assume that the covariance matrix of the errors is correctly specified.\n"
     ]
    }
   ],
   "source": [
    "#Run a linear regression of response rate (the donation dummy) on the treatment dummy (and an intercept)\n",
    "model = ols('donation_dummy ~ treatment', data=charitable_giving).fit()\n",
    "print(model.summary())"
   ]
  },
  {
   "cell_type": "markdown",
   "metadata": {},
   "source": [
    "The mean response rate for control group is 0.018 and for treatment group is 0.022. These values are similar to what we see in the first row of table 2a of the paper."
   ]
  },
  {
   "cell_type": "markdown",
   "metadata": {},
   "source": [
    "<font size=\"3\"><b>Question 2.</b> Run a regression on three dummies for match ratio treatment (1:1, 2:1, and 3:1 and an intercept). Interpret all four regression coefficients.</font>"
   ]
  },
  {
   "cell_type": "code",
   "execution_count": 62,
   "metadata": {},
   "outputs": [
    {
     "name": "stdout",
     "output_type": "stream",
     "text": [
      "                            OLS Regression Results                            \n",
      "==============================================================================\n",
      "Dep. Variable:         donation_dummy   R-squared:                       0.000\n",
      "Model:                            OLS   Adj. R-squared:                  0.000\n",
      "Method:                 Least Squares   F-statistic:                     3.665\n",
      "Date:                Sat, 27 Jan 2024   Prob (F-statistic):             0.0118\n",
      "Time:                        22:26:56   Log-Likelihood:                 26630.\n",
      "No. Observations:               50083   AIC:                        -5.325e+04\n",
      "Df Residuals:                   50079   BIC:                        -5.322e+04\n",
      "Df Model:                           3                                         \n",
      "Covariance Type:            nonrobust                                         \n",
      "==============================================================================\n",
      "                 coef    std err          t      P>|t|      [0.025      0.975]\n",
      "------------------------------------------------------------------------------\n",
      "Intercept      0.0179      0.001     16.225      0.000       0.016       0.020\n",
      "ratio1         0.0029      0.002      1.661      0.097      -0.001       0.006\n",
      "ratio2         0.0048      0.002      2.744      0.006       0.001       0.008\n",
      "ratio3         0.0049      0.002      2.802      0.005       0.001       0.008\n",
      "==============================================================================\n",
      "Omnibus:                    59812.754   Durbin-Watson:                   1.997\n",
      "Prob(Omnibus):                  0.000   Jarque-Bera (JB):          4316693.217\n",
      "Skew:                           6.740   Prob(JB):                         0.00\n",
      "Kurtosis:                      46.438   Cond. No.                         4.26\n",
      "==============================================================================\n",
      "\n",
      "Notes:\n",
      "[1] Standard Errors assume that the covariance matrix of the errors is correctly specified.\n"
     ]
    }
   ],
   "source": [
    "#Run a regression on three dummies for match ratio treatment (1:1, 2:1, and 3:1 and an intercept).\n",
    "model = ols('donation_dummy ~ ratio1 + ratio2 + ratio3', data = charitable_giving).fit()\n",
    "print(model.summary())"
   ]
  },
  {
   "cell_type": "markdown",
   "metadata": {},
   "source": [
    "The intercept represents the mean response rate for the control group and the coefficients for each of the match ratios represent the difference in response rate for that particular match ratio from the control group."
   ]
  },
  {
   "cell_type": "markdown",
   "metadata": {},
   "source": [
    "<font size=\"3\"><b>Question 3.</b> Calculate the response rate difference between the 1:1 and 2:1 match ratios.</font>"
   ]
  },
  {
   "cell_type": "code",
   "execution_count": 63,
   "metadata": {},
   "outputs": [
    {
     "name": "stdout",
     "output_type": "stream",
     "text": [
      "1:1 Match Ratio: 0.0028909112451113196\n",
      "2:1 Match Ratio: 0.004775162266831068\n",
      "Difference: 0.0018842510217197484\n"
     ]
    }
   ],
   "source": [
    "# Calculate the response rate difference between the 1:1 and 2:1 match ratios\n",
    "print(\"1:1 Match Ratio:\", model.params[1])\n",
    "print(\"2:1 Match Ratio:\", model.params[2])\n",
    "print(\"Difference:\", model.params[2] - model.params[1])"
   ]
  },
  {
   "cell_type": "markdown",
   "metadata": {},
   "source": [
    "<font size=\"3\"><b>Question 4.</b> Based on the regressions you just ran and more generally the results in Table 2a, what do you conclude regarding the effectiveness of using matched donations?</font>"
   ]
  },
  {
   "cell_type": "markdown",
   "metadata": {},
   "source": [
    "Matching is an effective tool to increase number of donations, but it doesn't really affect the number of donations when the match ratio is increased beyond 1:1."
   ]
  },
  {
   "cell_type": "markdown",
   "metadata": {},
   "source": [
    "<font size=\"4\"><b>3 <t>Response rates in red/blue states</t></b></font>"
   ]
  },
  {
   "cell_type": "markdown",
   "metadata": {},
   "source": [
    "<font size=\"3\"><b>Question 1.</b> Repeat the regression of response rate on treatment and an intercept (do not include separate match ratio dummies). But this time, base the regression only on respondents in blue states or red states. I.e. run two regressions, one on each of the two sub-samples of data. Interpret the coefficients in both regressions. Is the treatment more effective in red or blue states?</font>"
   ]
  },
  {
   "cell_type": "code",
   "execution_count": 64,
   "metadata": {},
   "outputs": [
    {
     "name": "stdout",
     "output_type": "stream",
     "text": [
      "                            OLS Regression Results                            \n",
      "==============================================================================\n",
      "Dep. Variable:         donation_dummy   R-squared:                       0.001\n",
      "Model:                            OLS   Adj. R-squared:                  0.001\n",
      "Method:                 Least Squares   F-statistic:                     17.24\n",
      "Date:                Sat, 27 Jan 2024   Prob (F-statistic):           3.31e-05\n",
      "Time:                        22:26:56   Log-Likelihood:                 10839.\n",
      "No. Observations:               20242   AIC:                        -2.167e+04\n",
      "Df Residuals:                   20240   BIC:                        -2.166e+04\n",
      "Df Model:                           1                                         \n",
      "Covariance Type:            nonrobust                                         \n",
      "==============================================================================\n",
      "                 coef    std err          t      P>|t|      [0.025      0.975]\n",
      "------------------------------------------------------------------------------\n",
      "Intercept      0.0146      0.002      8.398      0.000       0.011       0.018\n",
      "treatment      0.0088      0.002      4.152      0.000       0.005       0.013\n",
      "==============================================================================\n",
      "Omnibus:                    24251.343   Durbin-Watson:                   2.002\n",
      "Prob(Omnibus):                  0.000   Jarque-Bera (JB):          1766349.071\n",
      "Skew:                           6.759   Prob(JB):                         0.00\n",
      "Kurtosis:                      46.721   Cond. No.                         3.25\n",
      "==============================================================================\n",
      "\n",
      "Notes:\n",
      "[1] Standard Errors assume that the covariance matrix of the errors is correctly specified.\n"
     ]
    }
   ],
   "source": [
    "model = ols('donation_dummy ~ treatment', data=charitable_giving.loc[charitable_giving.red_state_dummy == 1]).fit()\n",
    "print(model.summary())"
   ]
  },
  {
   "cell_type": "code",
   "execution_count": 65,
   "metadata": {},
   "outputs": [
    {
     "name": "stdout",
     "output_type": "stream",
     "text": [
      "                            OLS Regression Results                            \n",
      "==============================================================================\n",
      "Dep. Variable:         donation_dummy   R-squared:                       0.000\n",
      "Model:                            OLS   Adj. R-squared:                 -0.000\n",
      "Method:                 Least Squares   F-statistic:                    0.3567\n",
      "Date:                Sat, 27 Jan 2024   Prob (F-statistic):              0.550\n",
      "Time:                        22:26:56   Log-Likelihood:                 15783.\n",
      "No. Observations:               29806   AIC:                        -3.156e+04\n",
      "Df Residuals:                   29804   BIC:                        -3.155e+04\n",
      "Df Model:                           1                                         \n",
      "Covariance Type:            nonrobust                                         \n",
      "==============================================================================\n",
      "                 coef    std err          t      P>|t|      [0.025      0.975]\n",
      "------------------------------------------------------------------------------\n",
      "Intercept      0.0200      0.001     14.085      0.000       0.017       0.023\n",
      "treatment      0.0010      0.002      0.597      0.550      -0.002       0.004\n",
      "==============================================================================\n",
      "Omnibus:                    35568.600   Durbin-Watson:                   1.996\n",
      "Prob(Omnibus):                  0.000   Jarque-Bera (JB):          2547856.644\n",
      "Skew:                           6.727   Prob(JB):                         0.00\n",
      "Kurtosis:                      46.250   Cond. No.                         3.21\n",
      "==============================================================================\n",
      "\n",
      "Notes:\n",
      "[1] Standard Errors assume that the covariance matrix of the errors is correctly specified.\n"
     ]
    }
   ],
   "source": [
    "model = ols('donation_dummy ~ treatment', data=charitable_giving.loc[charitable_giving.red_state_dummy == 0]).fit()\n",
    "print(model.summary())"
   ]
  },
  {
   "cell_type": "markdown",
   "metadata": {},
   "source": [
    "Treatment is more effective in red states than in blue states because the coefficient for treatment is larger in magnitude in red states than in blue states."
   ]
  },
  {
   "cell_type": "markdown",
   "metadata": {},
   "source": [
    "<font size=\"3\"><b>Question 2.</b> States are of course not randomly assigned. Does the treatment coefficient have a causal interpretation in each of the two regressions? Does the difference in the treatment effect between states have a causal interpretation?</font>"
   ]
  },
  {
   "cell_type": "markdown",
   "metadata": {},
   "source": [
    "Treatment coefficient has a causal interpretation in each of the two regressions because treatment and control are randomly assigned in each regression. However, difference in treatment effect between states doesn't have a causal interpretation because states aren't randomly assigned."
   ]
  },
  {
   "cell_type": "markdown",
   "metadata": {},
   "source": [
    "<font size=\"4\"><b>4 <t>Response rates and donation amount</t></b></font>"
   ]
  },
  {
   "cell_type": "markdown",
   "metadata": {},
   "source": [
    "<font size=\"3\"><b>Question 1.</b> Run a regression of dollars given on a treatment dummy and an intercept. Interpret the regression coefficients. Does the treatment coefficient have a causal interpretation?</font>"
   ]
  },
  {
   "cell_type": "code",
   "execution_count": 66,
   "metadata": {},
   "outputs": [
    {
     "name": "stdout",
     "output_type": "stream",
     "text": [
      "                            OLS Regression Results                            \n",
      "==============================================================================\n",
      "Dep. Variable:        donation_amount   R-squared:                       0.000\n",
      "Model:                            OLS   Adj. R-squared:                  0.000\n",
      "Method:                 Least Squares   F-statistic:                     3.461\n",
      "Date:                Sat, 27 Jan 2024   Prob (F-statistic):             0.0628\n",
      "Time:                        22:26:56   Log-Likelihood:            -1.7946e+05\n",
      "No. Observations:               50083   AIC:                         3.589e+05\n",
      "Df Residuals:                   50081   BIC:                         3.589e+05\n",
      "Df Model:                           1                                         \n",
      "Covariance Type:            nonrobust                                         \n",
      "==============================================================================\n",
      "                 coef    std err          t      P>|t|      [0.025      0.975]\n",
      "------------------------------------------------------------------------------\n",
      "Intercept      0.8133      0.067     12.063      0.000       0.681       0.945\n",
      "treatment      0.1536      0.083      1.861      0.063      -0.008       0.315\n",
      "==============================================================================\n",
      "Omnibus:                    96861.113   Durbin-Watson:                   1.987\n",
      "Prob(Omnibus):                  0.000   Jarque-Bera (JB):        240735713.630\n",
      "Skew:                          15.297   Prob(JB):                         0.00\n",
      "Kurtosis:                     341.269   Cond. No.                         3.23\n",
      "==============================================================================\n",
      "\n",
      "Notes:\n",
      "[1] Standard Errors assume that the covariance matrix of the errors is correctly specified.\n"
     ]
    }
   ],
   "source": [
    "model = ols('donation_amount ~ treatment', data = charitable_giving).fit()\n",
    "print(model.summary())"
   ]
  },
  {
   "cell_type": "markdown",
   "metadata": {},
   "source": [
    "Control group donates \\$0.813 on average and treatment group donates \\$0.967 on average. The treatment effect does have a causal interpretation because treatment and control is assigned randomly on the whole data set."
   ]
  },
  {
   "cell_type": "markdown",
   "metadata": {},
   "source": [
    "<font size=\"3\"><b>Question 2.</b> Next, regress dollars given on a treatment dummy and an intercept, but base the regression only on respondents that made a donation (i.e. donation dummy is equal to 1). This regression allows you to analyze how much respondents donate conditional on donating some positive amount. Interpret the regression coefficients. Does the treatment coefficient have a causal interpretation?</font>"
   ]
  },
  {
   "cell_type": "code",
   "execution_count": 67,
   "metadata": {},
   "outputs": [
    {
     "name": "stdout",
     "output_type": "stream",
     "text": [
      "                            OLS Regression Results                            \n",
      "==============================================================================\n",
      "Dep. Variable:        donation_amount   R-squared:                       0.000\n",
      "Model:                            OLS   Adj. R-squared:                 -0.001\n",
      "Method:                 Least Squares   F-statistic:                    0.3374\n",
      "Date:                Sat, 27 Jan 2024   Prob (F-statistic):              0.561\n",
      "Time:                        22:26:56   Log-Likelihood:                -5326.8\n",
      "No. Observations:                1034   AIC:                         1.066e+04\n",
      "Df Residuals:                    1032   BIC:                         1.067e+04\n",
      "Df Model:                           1                                         \n",
      "Covariance Type:            nonrobust                                         \n",
      "==============================================================================\n",
      "                 coef    std err          t      P>|t|      [0.025      0.975]\n",
      "------------------------------------------------------------------------------\n",
      "Intercept     45.5403      2.423     18.792      0.000      40.785      50.296\n",
      "treatment     -1.6684      2.872     -0.581      0.561      -7.305       3.968\n",
      "==============================================================================\n",
      "Omnibus:                      587.258   Durbin-Watson:                   1.838\n",
      "Prob(Omnibus):                  0.000   Jarque-Bera (JB):             5623.279\n",
      "Skew:                           2.464   Prob(JB):                         0.00\n",
      "Kurtosis:                      13.307   Cond. No.                         3.49\n",
      "==============================================================================\n",
      "\n",
      "Notes:\n",
      "[1] Standard Errors assume that the covariance matrix of the errors is correctly specified.\n"
     ]
    }
   ],
   "source": [
    "model = ols('donation_amount ~ treatment', data=charitable_giving.loc[charitable_giving.donation_dummy == 1]).fit()\n",
    "print(model.summary())"
   ]
  },
  {
   "cell_type": "markdown",
   "metadata": {},
   "source": [
    "Control group donates \\$45.54 on average and treatment group donates \\$43.872 on average. The treatment effect does not have a causal interpretation because treatment and control is not assigned randomly on this sample since people make a choice whether to donate or not."
   ]
  }
 ],
 "metadata": {
  "kernelspec": {
   "display_name": "base",
   "language": "python",
   "name": "python3"
  },
  "language_info": {
   "codemirror_mode": {
    "name": "ipython",
    "version": 3
   },
   "file_extension": ".py",
   "mimetype": "text/x-python",
   "name": "python",
   "nbconvert_exporter": "python",
   "pygments_lexer": "ipython3",
   "version": "3.11.5"
  }
 },
 "nbformat": 4,
 "nbformat_minor": 2
}
