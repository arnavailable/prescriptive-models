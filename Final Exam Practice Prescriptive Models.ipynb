{
 "cells": [
  {
   "attachments": {},
   "cell_type": "markdown",
   "id": "be74405d",
   "metadata": {},
   "source": [
    "<center> <h1> Practice Exam Solution</h1> </center> "
   ]
  },
  {
   "cell_type": "code",
   "execution_count": 1,
   "id": "fbbdd183",
   "metadata": {},
   "outputs": [],
   "source": [
    "import pandas as pd\n",
    "import matplotlib.pyplot as plt\n",
    "import numpy as np\n",
    "import statsmodels.api as sm\n",
    "import statsmodels.formula.api as smfb\n",
    "from scipy import sparse\n",
    "from sklearn ibmport linear_model\n",
    "from sklearn.linear_model import LassoCV"
   ]
  },
  {
   "cell_type": "code",
   "execution_count": 5,
   "id": "97869e56",
   "metadata": {},
   "outputs": [],
   "source": [
    "def plot_lassoCV(lasso,nfolds):\n",
    "     #1se rule \n",
    "    mean = np.mean(lasso.mse_path_, axis=1)\n",
    "    std_error = np.std(lasso.mse_path_, axis=1)/np.sqrt(nfolds)\n",
    "    mean_min  = mean[lasso.alphas_==lasso.alpha_]\n",
    "    std_min   = std_error[lasso.alphas_==lasso.alpha_]\n",
    "    alpha_1se = np.max(lasso.alphas_[mean <= mean_min + std_min])\n",
    "\n",
    "    # Plot    \n",
    "    plt.semilogx(lasso.alphas_, np.mean(lasso.mse_path_, axis=1))\n",
    "\n",
    "    plt.semilogx(lasso.alphas_, mean + std_error, \"b--\")\n",
    "    plt.semilogx(lasso.alphas_, mean - std_error, \"b--\")\n",
    "    plt.fill_between(lasso.alphas_, mean + std_error, mean - std_error, alpha=0.2)\n",
    "    plt.axvline(lasso.alpha_, linestyle=\"--\", color=\"black\", label=\"$\\lambda_{min}$\")\n",
    "    plt.axvline(alpha_1se, linestyle=\"--\", color=\"red\", label=\"$\\lambda_{1se}$\")\n",
    "    plt.legend()\n",
    "    plt.xlabel(\"$\\log(\\lambda)$\")\n",
    "    plt.ylabel(\"Mean Squared Error\")\n",
    "    plt.show() \n",
    "    \n",
    "def get_coef(lasso,scale,coeffnames):\n",
    "    # getting the coefficients and picking those that are not zero\n",
    "    coefficients = np.append(lasso.intercept_, lasso.coef_/scale) \n",
    "    coeffnames = coeffnames[coefficients != 0]\n",
    "    coeffvalues = coefficients[coefficients != 0]\n",
    "    # return non-zero ones \n",
    "    return pd.DataFrame([coeffnames, coeffvalues]).T"
   ]
  },
  {
   "attachments": {},
   "cell_type": "markdown",
   "id": "e79d8886",
   "metadata": {},
   "source": [
    "## QUESTION 1: (4 sub-questions, 20 points)\n",
    "The 4 sub-questions of this question are not related to each other."
   ]
  },
  {
   "cell_type": "markdown",
   "id": "b7f71a83",
   "metadata": {},
   "source": [
    "### QUESTION 1.1 (5 points)\n",
    "You want to study the effect of class sizes on student achievement.You have data from an experiment in which Tennessee schools created some smaller classes and randomly assigned each student to either a small class or to a regular-sized class. It was, however, left to each school to decide how many small classes they wanted to have. Thus, the randomization only assured that within schools students were randomly assigned to classes of different sizes.\n",
    "Download and view Table 2 from the academic study that analyzes data from this experiment; the table is provided in the PDF file “star_table.pdf”. The columns labeled (1) and (2) present two regressions run by the study’s authors. The table reports standard errors in parentheses below the coefficient estimates.\n",
    "\n",
    "\n",
    "Why did the authors run these regressions? What do we learn from these results? Be sure to explain why columns (1) and (2) differ and which one is the more appropriate one to use given the nature of the randomization.\n"
   ]
  },
  {
   "cell_type": "markdown",
   "id": "055a2e29",
   "metadata": {},
   "source": [
    "**ANSWER:** The table shows regression output for two regressions of treatment on various demographics; thus, these regressions provide a randomization check.\n",
    "\n",
    "Given that schools can choose their own proportion of small vs regular-sized classes, column (2) provides the more appropriate regression to use to assess the quality of the randomization. That is, because student assignment to small-vs-large classes is random within a school but not across schools, it is necessary to control for school fixed effects in the randomization check.\n",
    "\n",
    "The coefficient estimates for the demographics differ between columns (1) and (2) because (2) includes school fixed effects. The change in coefficient estimates must result from the fact that demographics vary by school.\n",
    "\n",
    "All coefficients for demographics in column (2) are within 2 standard errors of zero (i.e., no demographic is statistically significant), which is consistent with random assignment of treatment.\n"
   ]
  },
  {
   "cell_type": "markdown",
   "id": "811f1686",
   "metadata": {},
   "source": [
    "### QUESTION 1.2 (5 points)\n",
    "You are tasked to implement a randomized experiment in order to test the effectiveness (measured in grade point averages, “GPA”) of new schooling material for high school students. At one high school, you are planning to randomly give the material to a subset of students, but not other students at that same school. From historic data (i.e. before the intervention) you know that the variance of the GPA score is equal to 1.3. The organization expects an increase in GPA scores of 0.1 due to the intervention. Assume that the treatment / control proportions are equal to 80% / 20%.\n",
    "How large does the sample size have to be in order to be able to find a positive effect on GPA scores at the 97.5 percent level of confidence (i.e., $t_{critical}=1.96$)?\n",
    "\n"
   ]
  },
  {
   "attachments": {},
   "cell_type": "markdown",
   "id": "254336e6",
   "metadata": {},
   "source": [
    "**ANSWER:** We want \n",
    "\n",
    "$$N=\\frac{s^2}{Var(X)\\cdot SE^2},$$\n",
    "\n",
    "with $SE<0.1/1.96$. Using the historical variance of GPA as a proxy for $s^2$, we have\n",
    "\n",
    "$$\n",
    "N>\\frac{1.3\\cdot 1.96^2}{0.8\\cdot0.2\\cdot 0.1^2}= 3121.3.\n",
    "$$\n",
    "\n",
    "You can thus pick $N\\ge 3122$.\n"
   ]
  },
  {
   "cell_type": "markdown",
   "id": "009a7a9c",
   "metadata": {},
   "source": [
    "### QUESTION 1.3 (5 points)\n",
    "You are running an A/B test to assess whether a new online ad campaign will increase revenue relative to your current campaign. Suppose you find that your new campaign does not outperform the old one. You wonder if the new campaign might only appeal to certain demographic groups. You therefore split the sample into male/female and 10 age bins for each gender (i.e. 20 bins in total). Only for 1 of the 20 demographic groups (women between ages 20 and 25) are you able to reject the null hypothesis that the new campaign has the same effect as the old one.\n",
    "\n",
    "Based on this result, would you advise your marketing manager to target the new campaign specifically to this demographic group (and show the old ad to everybody else)? Explain your reasoning.\n"
   ]
  },
  {
   "cell_type": "markdown",
   "id": "07321af8",
   "metadata": {},
   "source": [
    "**ANSWER:** Here we find 5% of our variables are statistically significant at a 95% confidence level, which is exactly the expected Type I error rate (i.e., the probability that we erroneously find a statistically significant result by chance when in fact there is no true effect is 5%).\n",
    "\n",
    "You thus conclude that there is no statistically-detectable difference between the performance of the new and old ad campaigns.\n"
   ]
  },
  {
   "attachments": {},
   "cell_type": "markdown",
   "id": "bc6f4e72",
   "metadata": {},
   "source": [
    "### QUESTION 1.4 (5 points)\n",
    "You are trying to optimize pricing for a product sold at a large number of stores. You implement an A/B test where you randomly vary price. However, you are only able to randomly vary prices for a given store relative to the historical price level at that store. Because prices differed across stores in the past, the A/B test only generates random variation in prices within stores, whereas price differences across stores are not random. Assume that the only variable that is correlated with price across stores is advertising and that stores with higher prices advertise more. Suppose you have panel data set on these randomized prices and on sales at the week/store level.\n",
    "\n",
    "Explain why a regression of sales on price would give you a biased estimate of the price coefficient and explain which regression you would run instead to remove the bias. Then use the omitted variables bias formula to guess the sign of the bias in the first regression.\n"
   ]
  },
  {
   "cell_type": "markdown",
   "id": "42820902",
   "metadata": {},
   "source": [
    "**ANSWER:** Price is not randomly assigned across stores and therefore some of the price variation used in this regression is non-random. A regression with store fixed effects will remove the bias. The price coefficient is likely overestimated when not including store fixed effects. Thinking of advertising as the omitted variable, we know that price and advertising are positively correlated, and we expect advertising to positively affect demand.\n"
   ]
  },
  {
   "cell_type": "markdown",
   "id": "f5dee1ce",
   "metadata": {},
   "source": [
    "## QUESTION 2. Predicting credit default (4 sub-questions, 20 points)\n",
    "You are working at a FinTech start-up which is trying to use demographic data to predict default risk for small loans. You have access to historic data on loans, including information on a set of demographics, whether the loan was repaid, and the interest rate (coded as a percentage, i.e. between 0 and 100) that was charged to the customer. Demographics are coded as 100 mutually exclusive groups (each constitutes a unique demographic characteristic).\n",
    "\n",
    "The company used demographics to predict default risk in the past and charged different interest rates based on the default predictions. Your task is to update the targeting algorithm based on new data (the credit_default data-set).\n"
   ]
  },
  {
   "cell_type": "code",
   "execution_count": 2,
   "id": "5eb27df9",
   "metadata": {},
   "outputs": [
    {
     "data": {
      "text/html": [
       "<div>\n",
       "<style scoped>\n",
       "    .dataframe tbody tr th:only-of-type {\n",
       "        vertical-align: middle;\n",
       "    }\n",
       "\n",
       "    .dataframe tbody tr th {\n",
       "        vertical-align: top;\n",
       "    }\n",
       "\n",
       "    .dataframe thead th {\n",
       "        text-align: right;\n",
       "    }\n",
       "</style>\n",
       "<table border=\"1\" class=\"dataframe\">\n",
       "  <thead>\n",
       "    <tr style=\"text-align: right;\">\n",
       "      <th></th>\n",
       "      <th>consumer_id</th>\n",
       "      <th>demo_group</th>\n",
       "      <th>default_dummy</th>\n",
       "      <th>interest_rate</th>\n",
       "    </tr>\n",
       "  </thead>\n",
       "  <tbody>\n",
       "    <tr>\n",
       "      <th>0</th>\n",
       "      <td>1</td>\n",
       "      <td>79</td>\n",
       "      <td>0</td>\n",
       "      <td>6.0</td>\n",
       "    </tr>\n",
       "    <tr>\n",
       "      <th>1</th>\n",
       "      <td>2</td>\n",
       "      <td>53</td>\n",
       "      <td>0</td>\n",
       "      <td>6.0</td>\n",
       "    </tr>\n",
       "    <tr>\n",
       "      <th>2</th>\n",
       "      <td>3</td>\n",
       "      <td>70</td>\n",
       "      <td>0</td>\n",
       "      <td>6.0</td>\n",
       "    </tr>\n",
       "    <tr>\n",
       "      <th>3</th>\n",
       "      <td>4</td>\n",
       "      <td>9</td>\n",
       "      <td>0</td>\n",
       "      <td>6.0</td>\n",
       "    </tr>\n",
       "    <tr>\n",
       "      <th>4</th>\n",
       "      <td>5</td>\n",
       "      <td>38</td>\n",
       "      <td>0</td>\n",
       "      <td>6.0</td>\n",
       "    </tr>\n",
       "  </tbody>\n",
       "</table>\n",
       "</div>"
      ],
      "text/plain": [
       "   consumer_id  demo_group  default_dummy  interest_rate\n",
       "0            1          79              0            6.0\n",
       "1            2          53              0            6.0\n",
       "2            3          70              0            6.0\n",
       "3            4           9              0            6.0\n",
       "4            5          38              0            6.0"
      ]
     },
     "execution_count": 2,
     "metadata": {},
     "output_type": "execute_result"
    }
   ],
   "source": [
    "credit_default   = pd.read_csv('credit_default.csv')\n",
    "credit_default  .head()"
   ]
  },
  {
   "cell_type": "markdown",
   "id": "4d166482",
   "metadata": {},
   "source": [
    "### QUESTION 2.1 (5 points)\n",
    "The following output is from a cross-validated Lasso where the candidate X-variables are the dummies for all 100 demographic groups. Interpret the results from this regression."
   ]
  },
  {
   "cell_type": "code",
   "execution_count": 12,
   "id": "082ebd41",
   "metadata": {},
   "outputs": [
    {
     "data": {
      "text/html": [
       "<div>\n",
       "<style scoped>\n",
       "    .dataframe tbody tr th:only-of-type {\n",
       "        vertical-align: middle;\n",
       "    }\n",
       "\n",
       "    .dataframe tbody tr th {\n",
       "        vertical-align: top;\n",
       "    }\n",
       "\n",
       "    .dataframe thead th {\n",
       "        text-align: right;\n",
       "    }\n",
       "</style>\n",
       "<table border=\"1\" class=\"dataframe\">\n",
       "  <thead>\n",
       "    <tr style=\"text-align: right;\">\n",
       "      <th></th>\n",
       "      <th>demo_group_2</th>\n",
       "      <th>demo_group_3</th>\n",
       "      <th>demo_group_4</th>\n",
       "      <th>demo_group_5</th>\n",
       "      <th>demo_group_6</th>\n",
       "      <th>demo_group_7</th>\n",
       "      <th>demo_group_8</th>\n",
       "      <th>demo_group_9</th>\n",
       "      <th>demo_group_10</th>\n",
       "      <th>demo_group_11</th>\n",
       "      <th>...</th>\n",
       "      <th>demo_group_91</th>\n",
       "      <th>demo_group_92</th>\n",
       "      <th>demo_group_93</th>\n",
       "      <th>demo_group_94</th>\n",
       "      <th>demo_group_95</th>\n",
       "      <th>demo_group_96</th>\n",
       "      <th>demo_group_97</th>\n",
       "      <th>demo_group_98</th>\n",
       "      <th>demo_group_99</th>\n",
       "      <th>demo_group_100</th>\n",
       "    </tr>\n",
       "  </thead>\n",
       "  <tbody>\n",
       "    <tr>\n",
       "      <th>0</th>\n",
       "      <td>0</td>\n",
       "      <td>0</td>\n",
       "      <td>0</td>\n",
       "      <td>0</td>\n",
       "      <td>0</td>\n",
       "      <td>0</td>\n",
       "      <td>0</td>\n",
       "      <td>0</td>\n",
       "      <td>0</td>\n",
       "      <td>0</td>\n",
       "      <td>...</td>\n",
       "      <td>0</td>\n",
       "      <td>0</td>\n",
       "      <td>0</td>\n",
       "      <td>0</td>\n",
       "      <td>0</td>\n",
       "      <td>0</td>\n",
       "      <td>0</td>\n",
       "      <td>0</td>\n",
       "      <td>0</td>\n",
       "      <td>0</td>\n",
       "    </tr>\n",
       "    <tr>\n",
       "      <th>1</th>\n",
       "      <td>0</td>\n",
       "      <td>0</td>\n",
       "      <td>0</td>\n",
       "      <td>0</td>\n",
       "      <td>0</td>\n",
       "      <td>0</td>\n",
       "      <td>0</td>\n",
       "      <td>0</td>\n",
       "      <td>0</td>\n",
       "      <td>0</td>\n",
       "      <td>...</td>\n",
       "      <td>0</td>\n",
       "      <td>0</td>\n",
       "      <td>0</td>\n",
       "      <td>0</td>\n",
       "      <td>0</td>\n",
       "      <td>0</td>\n",
       "      <td>0</td>\n",
       "      <td>0</td>\n",
       "      <td>0</td>\n",
       "      <td>0</td>\n",
       "    </tr>\n",
       "    <tr>\n",
       "      <th>2</th>\n",
       "      <td>0</td>\n",
       "      <td>0</td>\n",
       "      <td>0</td>\n",
       "      <td>0</td>\n",
       "      <td>0</td>\n",
       "      <td>0</td>\n",
       "      <td>0</td>\n",
       "      <td>0</td>\n",
       "      <td>0</td>\n",
       "      <td>0</td>\n",
       "      <td>...</td>\n",
       "      <td>0</td>\n",
       "      <td>0</td>\n",
       "      <td>0</td>\n",
       "      <td>0</td>\n",
       "      <td>0</td>\n",
       "      <td>0</td>\n",
       "      <td>0</td>\n",
       "      <td>0</td>\n",
       "      <td>0</td>\n",
       "      <td>0</td>\n",
       "    </tr>\n",
       "    <tr>\n",
       "      <th>3</th>\n",
       "      <td>0</td>\n",
       "      <td>0</td>\n",
       "      <td>0</td>\n",
       "      <td>0</td>\n",
       "      <td>0</td>\n",
       "      <td>0</td>\n",
       "      <td>0</td>\n",
       "      <td>1</td>\n",
       "      <td>0</td>\n",
       "      <td>0</td>\n",
       "      <td>...</td>\n",
       "      <td>0</td>\n",
       "      <td>0</td>\n",
       "      <td>0</td>\n",
       "      <td>0</td>\n",
       "      <td>0</td>\n",
       "      <td>0</td>\n",
       "      <td>0</td>\n",
       "      <td>0</td>\n",
       "      <td>0</td>\n",
       "      <td>0</td>\n",
       "    </tr>\n",
       "    <tr>\n",
       "      <th>4</th>\n",
       "      <td>0</td>\n",
       "      <td>0</td>\n",
       "      <td>0</td>\n",
       "      <td>0</td>\n",
       "      <td>0</td>\n",
       "      <td>0</td>\n",
       "      <td>0</td>\n",
       "      <td>0</td>\n",
       "      <td>0</td>\n",
       "      <td>0</td>\n",
       "      <td>...</td>\n",
       "      <td>0</td>\n",
       "      <td>0</td>\n",
       "      <td>0</td>\n",
       "      <td>0</td>\n",
       "      <td>0</td>\n",
       "      <td>0</td>\n",
       "      <td>0</td>\n",
       "      <td>0</td>\n",
       "      <td>0</td>\n",
       "      <td>0</td>\n",
       "    </tr>\n",
       "  </tbody>\n",
       "</table>\n",
       "<p>5 rows × 99 columns</p>\n",
       "</div>"
      ],
      "text/plain": [
       "   demo_group_2  demo_group_3  demo_group_4  demo_group_5  demo_group_6  \\\n",
       "0             0             0             0             0             0   \n",
       "1             0             0             0             0             0   \n",
       "2             0             0             0             0             0   \n",
       "3             0             0             0             0             0   \n",
       "4             0             0             0             0             0   \n",
       "\n",
       "   demo_group_7  demo_group_8  demo_group_9  demo_group_10  demo_group_11  \\\n",
       "0             0             0             0              0              0   \n",
       "1             0             0             0              0              0   \n",
       "2             0             0             0              0              0   \n",
       "3             0             0             1              0              0   \n",
       "4             0             0             0              0              0   \n",
       "\n",
       "   ...  demo_group_91  demo_group_92  demo_group_93  demo_group_94  \\\n",
       "0  ...              0              0              0              0   \n",
       "1  ...              0              0              0              0   \n",
       "2  ...              0              0              0              0   \n",
       "3  ...              0              0              0              0   \n",
       "4  ...              0              0              0              0   \n",
       "\n",
       "   demo_group_95  demo_group_96  demo_group_97  demo_group_98  demo_group_99  \\\n",
       "0              0              0              0              0              0   \n",
       "1              0              0              0              0              0   \n",
       "2              0              0              0              0              0   \n",
       "3              0              0              0              0              0   \n",
       "4              0              0              0              0              0   \n",
       "\n",
       "   demo_group_100  \n",
       "0               0  \n",
       "1               0  \n",
       "2               0  \n",
       "3               0  \n",
       "4               0  \n",
       "\n",
       "[5 rows x 99 columns]"
      ]
     },
     "execution_count": 12,
     "metadata": {},
     "output_type": "execute_result"
    }
   ],
   "source": [
    "# make categorical variables into dummy columns, this is the dataframe we will use to generate X in lasso\n",
    "df_demo = pd.get_dummies(credit_default[\"demo_group\"], columns=['demo_group'],drop_first=True)\n",
    "df_demo = df_demo.add_prefix('demo_group_')\n",
    "#\n",
    "df_demo.head()"
   ]
  },
  {
   "cell_type": "code",
   "execution_count": 13,
   "id": "38c507bc",
   "metadata": {},
   "outputs": [
    {
     "data": {
      "text/plain": [
       "LassoCV(cv=10, max_iter=10000)"
      ]
     },
     "execution_count": 13,
     "metadata": {},
     "output_type": "execute_result"
    }
   ],
   "source": [
    "# X variables to try for LASSO\n",
    "X = sparse.csc_matrix(df_demo)\n",
    "# Y variables to try for LASSO\n",
    "Y = credit_default['default_dummy']\n",
    "# We run CV Lasso\n",
    "nfolds  = 10\n",
    "lassocv = LassoCV(cv = nfolds, max_iter = 10000)\n",
    "lassocv.fit(X,Y)"
   ]
  },
  {
   "cell_type": "code",
   "execution_count": 14,
   "id": "0996216c",
   "metadata": {},
   "outputs": [
    {
     "data": {
      "image/png": "[encoded data removed]",
      "text/plain": [
       "<Figure size 432x288 with 1 Axes>"
      ]
     },
     "metadata": {
      "needs_background": "light"
     },
     "output_type": "display_data"
    }
   ],
   "source": [
    "plot_lassoCV(lassocv,nfolds)"
   ]
  },
  {
   "cell_type": "code",
   "execution_count": 15,
   "id": "35a55a11",
   "metadata": {},
   "outputs": [
    {
     "data": {
      "text/html": [
       "<div>\n",
       "<style scoped>\n",
       "    .dataframe tbody tr th:only-of-type {\n",
       "        vertical-align: middle;\n",
       "    }\n",
       "\n",
       "    .dataframe tbody tr th {\n",
       "        vertical-align: top;\n",
       "    }\n",
       "\n",
       "    .dataframe thead th {\n",
       "        text-align: right;\n",
       "    }\n",
       "</style>\n",
       "<table border=\"1\" class=\"dataframe\">\n",
       "  <thead>\n",
       "    <tr style=\"text-align: right;\">\n",
       "      <th></th>\n",
       "      <th>0</th>\n",
       "      <th>1</th>\n",
       "    </tr>\n",
       "  </thead>\n",
       "  <tbody>\n",
       "    <tr>\n",
       "      <th>0</th>\n",
       "      <td>(Intercept)</td>\n",
       "      <td>0.059131</td>\n",
       "    </tr>\n",
       "    <tr>\n",
       "      <th>1</th>\n",
       "      <td>demo_group_9</td>\n",
       "      <td>0.005629</td>\n",
       "    </tr>\n",
       "    <tr>\n",
       "      <th>2</th>\n",
       "      <td>demo_group_10</td>\n",
       "      <td>0.03566</td>\n",
       "    </tr>\n",
       "    <tr>\n",
       "      <th>3</th>\n",
       "      <td>demo_group_12</td>\n",
       "      <td>0.018453</td>\n",
       "    </tr>\n",
       "    <tr>\n",
       "      <th>4</th>\n",
       "      <td>demo_group_15</td>\n",
       "      <td>0.02749</td>\n",
       "    </tr>\n",
       "    <tr>\n",
       "      <th>5</th>\n",
       "      <td>demo_group_17</td>\n",
       "      <td>0.037516</td>\n",
       "    </tr>\n",
       "    <tr>\n",
       "      <th>6</th>\n",
       "      <td>demo_group_21</td>\n",
       "      <td>-0.025074</td>\n",
       "    </tr>\n",
       "    <tr>\n",
       "      <th>7</th>\n",
       "      <td>demo_group_23</td>\n",
       "      <td>0.007677</td>\n",
       "    </tr>\n",
       "    <tr>\n",
       "      <th>8</th>\n",
       "      <td>demo_group_25</td>\n",
       "      <td>-0.001674</td>\n",
       "    </tr>\n",
       "    <tr>\n",
       "      <th>9</th>\n",
       "      <td>demo_group_27</td>\n",
       "      <td>-0.046385</td>\n",
       "    </tr>\n",
       "    <tr>\n",
       "      <th>10</th>\n",
       "      <td>demo_group_28</td>\n",
       "      <td>-0.043829</td>\n",
       "    </tr>\n",
       "    <tr>\n",
       "      <th>11</th>\n",
       "      <td>demo_group_30</td>\n",
       "      <td>-0.023857</td>\n",
       "    </tr>\n",
       "    <tr>\n",
       "      <th>12</th>\n",
       "      <td>demo_group_33</td>\n",
       "      <td>-0.001129</td>\n",
       "    </tr>\n",
       "    <tr>\n",
       "      <th>13</th>\n",
       "      <td>demo_group_37</td>\n",
       "      <td>-0.003743</td>\n",
       "    </tr>\n",
       "    <tr>\n",
       "      <th>14</th>\n",
       "      <td>demo_group_39</td>\n",
       "      <td>-0.004719</td>\n",
       "    </tr>\n",
       "    <tr>\n",
       "      <th>15</th>\n",
       "      <td>demo_group_40</td>\n",
       "      <td>-0.008517</td>\n",
       "    </tr>\n",
       "    <tr>\n",
       "      <th>16</th>\n",
       "      <td>demo_group_41</td>\n",
       "      <td>0.007681</td>\n",
       "    </tr>\n",
       "    <tr>\n",
       "      <th>17</th>\n",
       "      <td>demo_group_42</td>\n",
       "      <td>0.001139</td>\n",
       "    </tr>\n",
       "    <tr>\n",
       "      <th>18</th>\n",
       "      <td>demo_group_43</td>\n",
       "      <td>0.003232</td>\n",
       "    </tr>\n",
       "    <tr>\n",
       "      <th>19</th>\n",
       "      <td>demo_group_45</td>\n",
       "      <td>0.04268</td>\n",
       "    </tr>\n",
       "    <tr>\n",
       "      <th>20</th>\n",
       "      <td>demo_group_46</td>\n",
       "      <td>-0.007453</td>\n",
       "    </tr>\n",
       "    <tr>\n",
       "      <th>21</th>\n",
       "      <td>demo_group_49</td>\n",
       "      <td>-0.000753</td>\n",
       "    </tr>\n",
       "    <tr>\n",
       "      <th>22</th>\n",
       "      <td>demo_group_50</td>\n",
       "      <td>0.005828</td>\n",
       "    </tr>\n",
       "    <tr>\n",
       "      <th>23</th>\n",
       "      <td>demo_group_51</td>\n",
       "      <td>0.001397</td>\n",
       "    </tr>\n",
       "    <tr>\n",
       "      <th>24</th>\n",
       "      <td>demo_group_53</td>\n",
       "      <td>0.012765</td>\n",
       "    </tr>\n",
       "    <tr>\n",
       "      <th>25</th>\n",
       "      <td>demo_group_54</td>\n",
       "      <td>0.008087</td>\n",
       "    </tr>\n",
       "    <tr>\n",
       "      <th>26</th>\n",
       "      <td>demo_group_56</td>\n",
       "      <td>-0.023442</td>\n",
       "    </tr>\n",
       "    <tr>\n",
       "      <th>27</th>\n",
       "      <td>demo_group_66</td>\n",
       "      <td>0.001756</td>\n",
       "    </tr>\n",
       "    <tr>\n",
       "      <th>28</th>\n",
       "      <td>demo_group_69</td>\n",
       "      <td>0.002887</td>\n",
       "    </tr>\n",
       "    <tr>\n",
       "      <th>29</th>\n",
       "      <td>demo_group_79</td>\n",
       "      <td>0.014902</td>\n",
       "    </tr>\n",
       "    <tr>\n",
       "      <th>30</th>\n",
       "      <td>demo_group_83</td>\n",
       "      <td>-0.01583</td>\n",
       "    </tr>\n",
       "    <tr>\n",
       "      <th>31</th>\n",
       "      <td>demo_group_87</td>\n",
       "      <td>-0.033099</td>\n",
       "    </tr>\n",
       "    <tr>\n",
       "      <th>32</th>\n",
       "      <td>demo_group_93</td>\n",
       "      <td>0.002255</td>\n",
       "    </tr>\n",
       "    <tr>\n",
       "      <th>33</th>\n",
       "      <td>demo_group_95</td>\n",
       "      <td>-0.001217</td>\n",
       "    </tr>\n",
       "  </tbody>\n",
       "</table>\n",
       "</div>"
      ],
      "text/plain": [
       "                0         1\n",
       "0     (Intercept)  0.059131\n",
       "1    demo_group_9  0.005629\n",
       "2   demo_group_10   0.03566\n",
       "3   demo_group_12  0.018453\n",
       "4   demo_group_15   0.02749\n",
       "5   demo_group_17  0.037516\n",
       "6   demo_group_21 -0.025074\n",
       "7   demo_group_23  0.007677\n",
       "8   demo_group_25 -0.001674\n",
       "9   demo_group_27 -0.046385\n",
       "10  demo_group_28 -0.043829\n",
       "11  demo_group_30 -0.023857\n",
       "12  demo_group_33 -0.001129\n",
       "13  demo_group_37 -0.003743\n",
       "14  demo_group_39 -0.004719\n",
       "15  demo_group_40 -0.008517\n",
       "16  demo_group_41  0.007681\n",
       "17  demo_group_42  0.001139\n",
       "18  demo_group_43  0.003232\n",
       "19  demo_group_45   0.04268\n",
       "20  demo_group_46 -0.007453\n",
       "21  demo_group_49 -0.000753\n",
       "22  demo_group_50  0.005828\n",
       "23  demo_group_51  0.001397\n",
       "24  demo_group_53  0.012765\n",
       "25  demo_group_54  0.008087\n",
       "26  demo_group_56 -0.023442\n",
       "27  demo_group_66  0.001756\n",
       "28  demo_group_69  0.002887\n",
       "29  demo_group_79  0.014902\n",
       "30  demo_group_83  -0.01583\n",
       "31  demo_group_87 -0.033099\n",
       "32  demo_group_93  0.002255\n",
       "33  demo_group_95 -0.001217"
      ]
     },
     "execution_count": 15,
     "metadata": {},
     "output_type": "execute_result"
    }
   ],
   "source": [
    "coeffnames = list(df_demo.columns)\n",
    "coeffnames.insert(0,'(Intercept)')\n",
    "coeffnames = np.array(coeffnames)\n",
    "get_coef(lassocv,1,coeffnames)"
   ]
  },
  {
   "cell_type": "markdown",
   "id": "ef19aef3",
   "metadata": {},
   "source": [
    "**ANSWER:** Only a limited number of demographics are retained in the regression, suggesting that including all demographic dummies would lead to overfitting. Demographics 27, 28 and 45 are the ones more strongly associated (in absolute value) with defaults.\n"
   ]
  },
  {
   "cell_type": "markdown",
   "id": "e86fa37a",
   "metadata": {},
   "source": [
    "### QUESTION 2.2 (5 points)\n",
    "The following cross-validated Lasso regression includes the interest rate as well as the demographics in the set of X-variables to select from. How do the results differ from the ones in 1.1? Why are fewer demographics retained when also including the interest rate among the candidate X variables?"
   ]
  },
  {
   "cell_type": "code",
   "execution_count": 16,
   "id": "58d644e7",
   "metadata": {},
   "outputs": [
    {
     "data": {
      "text/plain": [
       "LassoCV(cv=10)"
      ]
     },
     "execution_count": 16,
     "metadata": {},
     "output_type": "execute_result"
    }
   ],
   "source": [
    "# X variables to try for LASSO\n",
    "X_interest = sparse.csc_matrix(pd.concat([df_demo, credit_default[\"interest_rate\"]], axis=1))\n",
    "\n",
    "# We run CV Lasso\n",
    "nfolds  = 10\n",
    "lassocv_interest = LassoCV(cv = nfolds, max_iter = 1000)\n",
    "lassocv_interest.fit(X_interest,Y)"
   ]
  },
  {
   "cell_type": "code",
   "execution_count": 17,
   "id": "8dc28cee",
   "metadata": {},
   "outputs": [
    {
     "data": {
      "image/png": "[encoded data removed]",
      "text/plain": [
       "<Figure size 432x288 with 1 Axes>"
      ]
     },
     "metadata": {
      "needs_background": "light"
     },
     "output_type": "display_data"
    }
   ],
   "source": [
    "plot_lassoCV(lassocv_interest,nfolds)"
   ]
  },
  {
   "cell_type": "code",
   "execution_count": 19,
   "id": "63f938f8",
   "metadata": {},
   "outputs": [
    {
     "data": {
      "text/html": [
       "<div>\n",
       "<style scoped>\n",
       "    .dataframe tbody tr th:only-of-type {\n",
       "        vertical-align: middle;\n",
       "    }\n",
       "\n",
       "    .dataframe tbody tr th {\n",
       "        vertical-align: top;\n",
       "    }\n",
       "\n",
       "    .dataframe thead th {\n",
       "        text-align: right;\n",
       "    }\n",
       "</style>\n",
       "<table border=\"1\" class=\"dataframe\">\n",
       "  <thead>\n",
       "    <tr style=\"text-align: right;\">\n",
       "      <th></th>\n",
       "      <th>0</th>\n",
       "      <th>1</th>\n",
       "    </tr>\n",
       "  </thead>\n",
       "  <tbody>\n",
       "    <tr>\n",
       "      <th>0</th>\n",
       "      <td>(Intercept)</td>\n",
       "      <td>-0.058912</td>\n",
       "    </tr>\n",
       "    <tr>\n",
       "      <th>1</th>\n",
       "      <td>demo_group_15</td>\n",
       "      <td>0.021755</td>\n",
       "    </tr>\n",
       "    <tr>\n",
       "      <th>2</th>\n",
       "      <td>demo_group_21</td>\n",
       "      <td>-0.018037</td>\n",
       "    </tr>\n",
       "    <tr>\n",
       "      <th>3</th>\n",
       "      <td>demo_group_23</td>\n",
       "      <td>0.00161</td>\n",
       "    </tr>\n",
       "    <tr>\n",
       "      <th>4</th>\n",
       "      <td>demo_group_40</td>\n",
       "      <td>-0.000827</td>\n",
       "    </tr>\n",
       "    <tr>\n",
       "      <th>5</th>\n",
       "      <td>demo_group_41</td>\n",
       "      <td>-0.017965</td>\n",
       "    </tr>\n",
       "    <tr>\n",
       "      <th>6</th>\n",
       "      <td>demo_group_46</td>\n",
       "      <td>-0.000688</td>\n",
       "    </tr>\n",
       "    <tr>\n",
       "      <th>7</th>\n",
       "      <td>demo_group_53</td>\n",
       "      <td>0.006602</td>\n",
       "    </tr>\n",
       "    <tr>\n",
       "      <th>8</th>\n",
       "      <td>demo_group_54</td>\n",
       "      <td>0.001979</td>\n",
       "    </tr>\n",
       "    <tr>\n",
       "      <th>9</th>\n",
       "      <td>demo_group_79</td>\n",
       "      <td>0.00854</td>\n",
       "    </tr>\n",
       "    <tr>\n",
       "      <th>10</th>\n",
       "      <td>demo_group_83</td>\n",
       "      <td>-0.008594</td>\n",
       "    </tr>\n",
       "    <tr>\n",
       "      <th>11</th>\n",
       "      <td>interest_rate</td>\n",
       "      <td>0.019581</td>\n",
       "    </tr>\n",
       "  </tbody>\n",
       "</table>\n",
       "</div>"
      ],
      "text/plain": [
       "                0         1\n",
       "0     (Intercept) -0.058912\n",
       "1   demo_group_15  0.021755\n",
       "2   demo_group_21 -0.018037\n",
       "3   demo_group_23   0.00161\n",
       "4   demo_group_40 -0.000827\n",
       "5   demo_group_41 -0.017965\n",
       "6   demo_group_46 -0.000688\n",
       "7   demo_group_53  0.006602\n",
       "8   demo_group_54  0.001979\n",
       "9   demo_group_79   0.00854\n",
       "10  demo_group_83 -0.008594\n",
       "11  interest_rate  0.019581"
      ]
     },
     "execution_count": 19,
     "metadata": {},
     "output_type": "execute_result"
    }
   ],
   "source": [
    "coeffnames = list(pd.concat([df_demo, credit_default[\"interest_rate\"]], axis=1).columns)\n",
    "coeffnames.insert(0,'(Intercept)')\n",
    "coeffnames = np.array(coeffnames)\n",
    "get_coef(lassocv_interest,1,coeffnames)"
   ]
  },
  {
   "cell_type": "markdown",
   "id": "78b3d262",
   "metadata": {},
   "source": [
    "**ANSWER:** The interest rate was set based on demographics (and how they predict default) in the past. Hence we would expect the interest rate to be highly correlated with the set of demographics that predict default in the current data. After controlling for past interest rates, some demographics might not provide additional explanatory power and hence Lasso does not retain them.\n"
   ]
  },
  {
   "cell_type": "markdown",
   "id": "b659729b",
   "metadata": {},
   "source": [
    "### QUESTION 2.3 (5 points)\n",
    "The following code runs a regression of the default dummy on the interest rate and computes the a R-squared for the Lasso regression in question 2.2. Based on the comparison of the R-squared from the first regression and the Lasso R-squared, do you think that interest rates were well targeted in your data (i.e., past interest rates are a good predictor of default)?\n"
   ]
  },
  {
   "cell_type": "code",
   "execution_count": 22,
   "id": "e69cc081",
   "metadata": {},
   "outputs": [
    {
     "name": "stdout",
     "output_type": "stream",
     "text": [
      "                            OLS Regression Results                            \n",
      "==============================================================================\n",
      "Dep. Variable:          default_dummy   R-squared:                       0.003\n",
      "Model:                            OLS   Adj. R-squared:                  0.003\n",
      "Method:                 Least Squares   F-statistic:                     159.4\n",
      "Date:                Tue, 08 Mar 2022   Prob (F-statistic):           1.75e-36\n",
      "Time:                        13:13:38   Log-Likelihood:                 1344.9\n",
      "No. Observations:               50000   AIC:                            -2686.\n",
      "Df Residuals:                   49998   BIC:                            -2668.\n",
      "Df Model:                           1                                         \n",
      "Covariance Type:            nonrobust                                         \n",
      "=================================================================================\n",
      "                    coef    std err          t      P>|t|      [0.025      0.975]\n",
      "---------------------------------------------------------------------------------\n",
      "Intercept        -0.0550      0.009     -6.041      0.000      -0.073      -0.037\n",
      "interest_rate     0.0189      0.001     12.625      0.000       0.016       0.022\n",
      "==============================================================================\n",
      "Omnibus:                    36965.986   Durbin-Watson:                   1.997\n",
      "Prob(Omnibus):                  0.000   Jarque-Bera (JB):           409878.984\n",
      "Skew:                           3.719   Prob(JB):                         0.00\n",
      "Kurtosis:                      14.892   Cond. No.                         53.9\n",
      "==============================================================================\n",
      "\n",
      "Notes:\n",
      "[1] Standard Errors assume that the covariance matrix of the errors is correctly specified.\n",
      "0.0031776768727018734\n"
     ]
    }
   ],
   "source": [
    "interest_reg   = smf.ols(formula = 'default_dummy ~ interest_rate', data = credit_default).fit()\n",
    "print(interest_reg.summary())\n",
    "print(interest_reg.rsquared)"
   ]
  },
  {
   "cell_type": "code",
   "execution_count": 21,
   "id": "60374c17",
   "metadata": {},
   "outputs": [
    {
     "data": {
      "text/plain": [
       "0.003994606371087617"
      ]
     },
     "execution_count": 21,
     "metadata": {},
     "output_type": "execute_result"
    }
   ],
   "source": [
    "credit_default[\"prediction\"] = lassocv_interest.predict(X_interest)\n",
    "credit_default[\"residual\"] = credit_default[\"default_dummy\"] - credit_default[\"prediction\"]\n",
    "1 - np.var(credit_default[\"residual\"])/np.var(credit_default[\"default_dummy\"])"
   ]
  },
  {
   "attachments": {},
   "cell_type": "markdown",
   "id": "017c1f0f",
   "metadata": {},
   "source": [
    "**ANSWER:** The R-squared from the simple regression (0.0031776768727018734) is only slightly lower than the R-squared from the Lasso regression (0.003994606371087617). This suggests that the past interest rate alone is a strong predictor of default, so it is well targeted, in the sense that higher-risk customers receive higher interest rates. However, the interest rate alone does not perfectly capture the relevant demographics (if it did, only the interest rate would have been retained in the Lasso regression).\n"
   ]
  },
  {
   "cell_type": "markdown",
   "id": "5e21125f",
   "metadata": {},
   "source": [
    "### QUESTION 2.4 (5 points)\n",
    "Which Lasso regression (with or without the interest rate) would you use to decide how to set interest rates in the future for **NEW** customers?"
   ]
  },
  {
   "cell_type": "markdown",
   "id": "51d7397d",
   "metadata": {},
   "source": [
    "**ANSWER:** Interest rates for new customers have to be set based on the Lasso regression that does not include the interest rate. By construction, a new customer will not have been charged an interest rate yet and hence this variable cannot be used for prediction.\n"
   ]
  },
  {
   "cell_type": "markdown",
   "id": "a0cb23eb",
   "metadata": {},
   "source": [
    "## QUESTION 2. Yelp Star Ratings (5 sub-questions, 25 points)\n",
    "You want to study the impact of star ratings (yelp_star) on clicks to restaurant websites in the Yelp platform. You have data on average daily clicks across a range of restaurants and the star ratings for those restaurants (which vary in half-star increments and take on values in the range 5, 4.5, …, 2.5). The data also contain the actual average Yelp score underlying the star rating (yelp_score). The star rating is equal to the actual average Yelp score (e.g., 4.1374) rounded to the nearest half-star value (e.g., 4.0).\n"
   ]
  },
  {
   "attachments": {},
   "cell_type": "markdown",
   "id": "4bbf0b71",
   "metadata": {},
   "source": [
    "### QUESTION 2.1 (5 points)\n",
    "You regress clicks on yelp_star and yelp_score and obtain the following estimated relationship (two stars next to a coefficient indicate significance at the 5% level; no stars indicate no significance at the 5% level):\n",
    "\n",
    "$$\n",
    "clicks = -41.4^{**} +2.9^{**}yelp\\_star +23.6^{**}yelp\\_score+error\n",
    "$$\n",
    "\n",
    "\n",
    "Interpret the coefficients."
   ]
  },
  {
   "cell_type": "markdown",
   "id": "90419c7a",
   "metadata": {},
   "source": [
    "**ANSWER:** Holding the yelp_score constant, a half star increase in the yelp_star ratings is associated with a 2.9 increase in average daily clicks. The intercept is not meaningful here as there are no restaurants with zero stars in the dataset. The yelp_score is positively correlated with clicks."
   ]
  },
  {
   "cell_type": "markdown",
   "id": "4d47d4ed",
   "metadata": {},
   "source": [
    "### QUESTION 2.2 (5 points)\n",
    "A regression of clicks on yelp_star only gives the following estimates (two stars next to a coefficient indicate significance at the 5% level; no stars indicate no significance at the 5% level):\n",
    "\n",
    "$$\n",
    "clicks = -36.4^{**} +25.2^{**}yelp\\_star+error\n",
    "$$\n",
    "\n",
    "Use the omitted variables bias formula to explain the change in the coefficient on the yelp_star variable between the two regressions in questions 2.1 and 2.2.\n"
   ]
  },
  {
   "cell_type": "markdown",
   "id": "1b86d4c6",
   "metadata": {},
   "source": [
    "**ANSWER:** The coefficient decreases when controlling for yelp_score. This is because the score is positively correlated with clicks (as we see from the 2.1 regression) and is also positively correlated with yelp_star by definition (the higher the score, the higher the rounded number, i.e., the higher the star rating). The univariate regression thus suffers from positive omitted variable bias so the coefficient on yelp_star goes down once controlling for yelp_score.\n"
   ]
  },
  {
   "attachments": {},
   "cell_type": "markdown",
   "id": "58120a34",
   "metadata": {},
   "source": [
    "### QUESTION 2.3 (5 points)\n",
    "Under which assumption does the yelp_star variable have a causal interpretation?"
   ]
  },
  {
   "cell_type": "markdown",
   "id": "c43b7832",
   "metadata": {},
   "source": [
    "**ANSWER:** We would like to know if star ratings cause more clicks. Under the assumption that, after controlling for yelp_score, yelp_star ratings only affect clicks directly (not indirectly via correlation with any other variable), then the yelp_star ratings variable has a causal interpretation. Here, this assumption probably holds because star ratings is a function of score (and nothing else).\n",
    "You can also think of this as a regression of clicks on yelp_star, where yelp_score is the only omitted variable impacting the yelp_star rating coefficient. Once we control for yelp_score, the coefficient on yelp_star has a causal interpretation.\n"
   ]
  },
  {
   "attachments": {},
   "cell_type": "markdown",
   "id": "017d3dd4",
   "metadata": {},
   "source": [
    "### QUESTION 2.4 (5 points)\n",
    "Suppose you have data for all the stores in the Yelp dataset at two different months in a given year, and suppose that for each store you can measure clicks and yelp_star ratings at each month, but cannot measure yelp_score. Explain how you would use these data to estimate the causal effect of yelp_star on clicks. Which condition on the time variation in yelp_star ratings must be satisfied for you to be able to estimate this causal effect?"
   ]
  },
  {
   "cell_type": "markdown",
   "id": "673df298",
   "metadata": {},
   "source": [
    "**ANSWER:** You can use a panel data regression with store fixed effects to control for the unobservable omitted variable “store quality” (since this is plausibly constant within a year). You need at least some stores to change their ratings between the two months, otherwise you cannot pin down the causal effect of ratings if all of them stay constant (the variable would be explained by the store fixed effects and dropped from the regression or you would have a multicollinearity problem).\n"
   ]
  },
  {
   "cell_type": "code",
   "execution_count": null,
   "id": "171270ed",
   "metadata": {},
   "outputs": [],
   "source": []
  }
 ],
 "metadata": {
  "kernelspec": {
   "display_name": "Python 3 (ipykernel)",
   "language": "python",
   "name": "python3"
  },
  "language_info": {
   "codemirror_mode": {
    "name": "ipython",
    "version": 3
   },
   "file_extension": ".py",
   "mimetype": "text/x-python",
   "name": "python",
   "nbconvert_exporter": "python",
   "pygments_lexer": "ipython3",
   "version": "3.9.7"
  }
 },
 "nbformat": 4,
 "nbformat_minor": 5
}
