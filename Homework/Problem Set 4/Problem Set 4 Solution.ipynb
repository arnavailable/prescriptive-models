{
 "cells": [
  {
   "cell_type": "markdown",
   "id": "f0f1782d",
   "metadata": {},
   "source": [
    "<center> <h1>Homework 4 Solution</h1> </center> "
   ]
  },
  {
   "cell_type": "code",
   "execution_count": 17,
   "id": "transsexual-combination",
   "metadata": {
    "scrolled": false
   },
   "outputs": [],
   "source": [
    "import pandas as pd\n",
    "import matplotlib.pyplot as plt\n",
    "import numpy as np\n",
    "import statsmodels.api as sm\n",
    "import statsmodels.formula.api as smf\n",
    "from scipy import sparse\n",
    "from sklearn import linear_model\n",
    "from sklearn.linear_model import LassoCV"
   ]
  },
  {
   "cell_type": "code",
   "execution_count": 3,
   "id": "affected-lender",
   "metadata": {
    "scrolled": true
   },
   "outputs": [
    {
     "data": {
      "text/html": [
       "<div>\n",
       "<style scoped>\n",
       "    .dataframe tbody tr th:only-of-type {\n",
       "        vertical-align: middle;\n",
       "    }\n",
       "\n",
       "    .dataframe tbody tr th {\n",
       "        vertical-align: top;\n",
       "    }\n",
       "\n",
       "    .dataframe thead th {\n",
       "        text-align: right;\n",
       "    }\n",
       "</style>\n",
       "<table border=\"1\" class=\"dataframe\">\n",
       "  <thead>\n",
       "    <tr style=\"text-align: right;\">\n",
       "      <th></th>\n",
       "      <th>revenue</th>\n",
       "      <th>treatment</th>\n",
       "      <th>demographic_1</th>\n",
       "      <th>demographic_2</th>\n",
       "      <th>demographic_3</th>\n",
       "      <th>demographic_4</th>\n",
       "      <th>demographic_5</th>\n",
       "      <th>demographic_6</th>\n",
       "      <th>demographic_7</th>\n",
       "      <th>demographic_8</th>\n",
       "      <th>...</th>\n",
       "      <th>demographic_21</th>\n",
       "      <th>demographic_22</th>\n",
       "      <th>demographic_23</th>\n",
       "      <th>demographic_24</th>\n",
       "      <th>demographic_25</th>\n",
       "      <th>demographic_26</th>\n",
       "      <th>demographic_27</th>\n",
       "      <th>demographic_28</th>\n",
       "      <th>demographic_29</th>\n",
       "      <th>demographic_30</th>\n",
       "    </tr>\n",
       "  </thead>\n",
       "  <tbody>\n",
       "    <tr>\n",
       "      <th>0</th>\n",
       "      <td>5.504899</td>\n",
       "      <td>0</td>\n",
       "      <td>1</td>\n",
       "      <td>1</td>\n",
       "      <td>1</td>\n",
       "      <td>0</td>\n",
       "      <td>0</td>\n",
       "      <td>1</td>\n",
       "      <td>1</td>\n",
       "      <td>1</td>\n",
       "      <td>...</td>\n",
       "      <td>1</td>\n",
       "      <td>1</td>\n",
       "      <td>1</td>\n",
       "      <td>1</td>\n",
       "      <td>0</td>\n",
       "      <td>1</td>\n",
       "      <td>1</td>\n",
       "      <td>1</td>\n",
       "      <td>0</td>\n",
       "      <td>1</td>\n",
       "    </tr>\n",
       "    <tr>\n",
       "      <th>1</th>\n",
       "      <td>5.554275</td>\n",
       "      <td>1</td>\n",
       "      <td>0</td>\n",
       "      <td>1</td>\n",
       "      <td>1</td>\n",
       "      <td>0</td>\n",
       "      <td>0</td>\n",
       "      <td>0</td>\n",
       "      <td>1</td>\n",
       "      <td>0</td>\n",
       "      <td>...</td>\n",
       "      <td>0</td>\n",
       "      <td>0</td>\n",
       "      <td>0</td>\n",
       "      <td>1</td>\n",
       "      <td>1</td>\n",
       "      <td>0</td>\n",
       "      <td>1</td>\n",
       "      <td>1</td>\n",
       "      <td>1</td>\n",
       "      <td>0</td>\n",
       "    </tr>\n",
       "    <tr>\n",
       "      <th>2</th>\n",
       "      <td>5.219492</td>\n",
       "      <td>0</td>\n",
       "      <td>0</td>\n",
       "      <td>1</td>\n",
       "      <td>1</td>\n",
       "      <td>0</td>\n",
       "      <td>0</td>\n",
       "      <td>1</td>\n",
       "      <td>1</td>\n",
       "      <td>1</td>\n",
       "      <td>...</td>\n",
       "      <td>0</td>\n",
       "      <td>1</td>\n",
       "      <td>0</td>\n",
       "      <td>1</td>\n",
       "      <td>0</td>\n",
       "      <td>1</td>\n",
       "      <td>1</td>\n",
       "      <td>0</td>\n",
       "      <td>0</td>\n",
       "      <td>1</td>\n",
       "    </tr>\n",
       "    <tr>\n",
       "      <th>3</th>\n",
       "      <td>4.565855</td>\n",
       "      <td>0</td>\n",
       "      <td>1</td>\n",
       "      <td>0</td>\n",
       "      <td>0</td>\n",
       "      <td>0</td>\n",
       "      <td>1</td>\n",
       "      <td>1</td>\n",
       "      <td>0</td>\n",
       "      <td>1</td>\n",
       "      <td>...</td>\n",
       "      <td>1</td>\n",
       "      <td>0</td>\n",
       "      <td>0</td>\n",
       "      <td>1</td>\n",
       "      <td>0</td>\n",
       "      <td>1</td>\n",
       "      <td>0</td>\n",
       "      <td>0</td>\n",
       "      <td>1</td>\n",
       "      <td>0</td>\n",
       "    </tr>\n",
       "    <tr>\n",
       "      <th>4</th>\n",
       "      <td>5.020636</td>\n",
       "      <td>0</td>\n",
       "      <td>1</td>\n",
       "      <td>1</td>\n",
       "      <td>0</td>\n",
       "      <td>1</td>\n",
       "      <td>0</td>\n",
       "      <td>0</td>\n",
       "      <td>1</td>\n",
       "      <td>1</td>\n",
       "      <td>...</td>\n",
       "      <td>1</td>\n",
       "      <td>1</td>\n",
       "      <td>0</td>\n",
       "      <td>0</td>\n",
       "      <td>1</td>\n",
       "      <td>1</td>\n",
       "      <td>0</td>\n",
       "      <td>0</td>\n",
       "      <td>0</td>\n",
       "      <td>1</td>\n",
       "    </tr>\n",
       "  </tbody>\n",
       "</table>\n",
       "<p>5 rows × 32 columns</p>\n",
       "</div>"
      ],
      "text/plain": [
       "    revenue  treatment  demographic_1  demographic_2  demographic_3  \\\n",
       "0  5.504899          0              1              1              1   \n",
       "1  5.554275          1              0              1              1   \n",
       "2  5.219492          0              0              1              1   \n",
       "3  4.565855          0              1              0              0   \n",
       "4  5.020636          0              1              1              0   \n",
       "\n",
       "   demographic_4  demographic_5  demographic_6  demographic_7  demographic_8  \\\n",
       "0              0              0              1              1              1   \n",
       "1              0              0              0              1              0   \n",
       "2              0              0              1              1              1   \n",
       "3              0              1              1              0              1   \n",
       "4              1              0              0              1              1   \n",
       "\n",
       "   ...  demographic_21  demographic_22  demographic_23  demographic_24  \\\n",
       "0  ...               1               1               1               1   \n",
       "1  ...               0               0               0               1   \n",
       "2  ...               0               1               0               1   \n",
       "3  ...               1               0               0               1   \n",
       "4  ...               1               1               0               0   \n",
       "\n",
       "   demographic_25  demographic_26  demographic_27  demographic_28  \\\n",
       "0               0               1               1               1   \n",
       "1               1               0               1               1   \n",
       "2               0               1               1               0   \n",
       "3               0               1               0               0   \n",
       "4               1               1               0               0   \n",
       "\n",
       "   demographic_29  demographic_30  \n",
       "0               0               1  \n",
       "1               1               0  \n",
       "2               0               1  \n",
       "3               1               0  \n",
       "4               0               1  \n",
       "\n",
       "[5 rows x 32 columns]"
      ]
     },
     "execution_count": 3,
     "metadata": {},
     "output_type": "execute_result"
    }
   ],
   "source": [
    "ad_heterog  = pd.read_csv('ad_heterog.csv')\n",
    "ad_heterog .head()"
   ]
  },
  {
   "cell_type": "markdown",
   "id": "great-queens",
   "metadata": {},
   "source": [
    "# Part 1: Simple regressions"
   ]
  },
  {
   "cell_type": "markdown",
   "id": "comic-investment",
   "metadata": {},
   "source": [
    "### Question 1 Answer"
   ]
  },
  {
   "cell_type": "code",
   "execution_count": 4,
   "id": "e80537b0",
   "metadata": {},
   "outputs": [
    {
     "name": "stdout",
     "output_type": "stream",
     "text": [
      "                            OLS Regression Results                            \n",
      "==============================================================================\n",
      "Dep. Variable:                revenue   R-squared:                       0.281\n",
      "Model:                            OLS   Adj. R-squared:                  0.280\n",
      "Method:                 Least Squares   F-statistic:                     779.2\n",
      "Date:                Wed, 02 Mar 2022   Prob (F-statistic):          4.50e-145\n",
      "Time:                        10:20:56   Log-Likelihood:                -1532.5\n",
      "No. Observations:                2000   AIC:                             3069.\n",
      "Df Residuals:                    1998   BIC:                             3080.\n",
      "Df Model:                           1                                         \n",
      "Covariance Type:            nonrobust                                         \n",
      "==============================================================================\n",
      "                 coef    std err          t      P>|t|      [0.025      0.975]\n",
      "------------------------------------------------------------------------------\n",
      "Intercept      5.1082      0.016    315.942      0.000       5.076       5.140\n",
      "treatment      0.6508      0.023     27.915      0.000       0.605       0.696\n",
      "==============================================================================\n",
      "Omnibus:                        2.797   Durbin-Watson:                   1.989\n",
      "Prob(Omnibus):                  0.247   Jarque-Bera (JB):                2.981\n",
      "Skew:                          -0.010   Prob(JB):                        0.225\n",
      "Kurtosis:                       3.188   Cond. No.                         2.58\n",
      "==============================================================================\n",
      "\n",
      "Notes:\n",
      "[1] Standard Errors assume that the covariance matrix of the errors is correctly specified.\n"
     ]
    }
   ],
   "source": [
    "simple_reg   = smf.ols(formula = 'revenue ~ treatment', data = ad_heterog).fit()\n",
    "print(simple_reg .summary())"
   ]
  },
  {
   "cell_type": "markdown",
   "id": "cc459e7b",
   "metadata": {},
   "source": [
    "- Intercept: average revenue for the control group. \n",
    "\n",
    "- Coefficient: incremental change in average revenue for treatment group (i.e., showing the ad) compared to the control group (i.e., not showing the ad)."
   ]
  },
  {
   "cell_type": "markdown",
   "id": "c1ac53b5",
   "metadata": {},
   "source": [
    "### Question 2 Answer "
   ]
  },
  {
   "cell_type": "markdown",
   "id": "d7f4097b",
   "metadata": {},
   "source": [
    "No, because (incremental revenue - cost) = 0.65076 - 0.7 < 0."
   ]
  },
  {
   "cell_type": "markdown",
   "id": "a1286e3c",
   "metadata": {},
   "source": [
    "#  Part 2:  Lasso with interactions"
   ]
  },
  {
   "cell_type": "code",
   "execution_count": 5,
   "id": "a2fbbb0c",
   "metadata": {},
   "outputs": [],
   "source": [
    "# extract columns pertaining to demographic information (all columns except first two)\n",
    "demo_matrix = ad_heterog.iloc[:,2:]\n",
    "\n",
    "# generate interactions of each demographic variable with the treatment variable\n",
    "demo_treat_matrix = demo_matrix.multiply(ad_heterog['treatment'], axis=\"index\")\n",
    "demo_treat_matrix.columns = demo_treat_matrix.columns.str.replace(\"demographic\", \"treat_demo\")\n",
    "\n",
    "# generate treatment variable that is outside of data-frame (useful below)\n",
    "treatment = ad_heterog['treatment']"
   ]
  },
  {
   "cell_type": "markdown",
   "id": "d0dd46bf",
   "metadata": {},
   "source": [
    "### Question 1 Answer "
   ]
  },
  {
   "cell_type": "code",
   "execution_count": 11,
   "id": "44229fbf",
   "metadata": {},
   "outputs": [],
   "source": [
    "# X variables to try for LASSO\n",
    "X = sparse.csc_matrix(pd.concat([treatment, demo_treat_matrix], axis=1))\n",
    "# Y variable for LASSO\n",
    "Y = ad_heterog[\"revenue\"]\n",
    "\n",
    "\n",
    "# Compute paths\n",
    "n_alphas = 200\n",
    "alphas = np.logspace(-4, 0.2, n_alphas)\n",
    "coefs = []\n",
    "for a in alphas:\n",
    "    lasso = linear_model.Lasso(alpha=a)\n",
    "    lasso.fit(X, Y)\n",
    "    coefs.append(lasso.coef_)\n"
   ]
  },
  {
   "cell_type": "code",
   "execution_count": 12,
   "id": "cb06f106",
   "metadata": {},
   "outputs": [
    {
     "data": {
      "image/png": "[encoded data removed]",
      "text/plain": [
       "<Figure size 432x288 with 1 Axes>"
      ]
     },
     "metadata": {
      "needs_background": "light"
     },
     "output_type": "display_data"
    }
   ],
   "source": [
    "# Display results\n",
    "ax = plt.gca()\n",
    "ax.plot(alphas, coefs)\n",
    "ax.set_xscale(\"log\")\n",
    "plt.xlabel(\"$\\log(\\lambda)$\")\n",
    "plt.ylabel(\"weights\")\n",
    "plt.title(\"Lasso coefficients as a function of the regularization\") \n",
    "plt.axis(\"tight\")\n",
    "plt.show()"
   ]
  },
  {
   "cell_type": "markdown",
   "id": "804bff7e",
   "metadata": {},
   "source": [
    "The plot (going from right to left) shows how the regression coefficients behave as we lower the penalty parameter lambda. Each line corresponds to a regression coefficient. The first line increases at first, but as we start including the interaction terms, the value of the coefficient becomes smaller. The first line is likely to represent the treatment coefficient. Adding interaction terms changes the interpretation and magnitude of the treatment coefficient. Here this coefficient decreases because the interaction terms have positive coefficients.\n",
    "\n",
    "\n",
    "Recall interaction terms form Class 5. Consider an example with two demographics (1 and 2). If we have a regression\n",
    "\n",
    "$$\n",
    "Y = \\beta_0 +\\beta_1 Treatment\n",
    "$$\n",
    "\n",
    "then $\\beta_1 = E[Y|Treatment =1]-E[Y|Treatment =0]$, that is , $\\beta_1$ is interpreted as the treatment effect. If we add an interaction term:\n",
    "\n",
    "$$\n",
    "Y = \\beta_0 +\\beta_1 Treatment +\\beta_2 Treatment\\times demo_1\n",
    "$$\n",
    "\n",
    "then \n",
    "\n",
    "$$\n",
    "\\beta_1 = E[Y|demo_1=0,Treatment =1]-E[Y|Treatment =0],\n",
    "$$\n",
    "\n",
    "and \n",
    "\n",
    "$$\n",
    "\\beta_2 = E[Y|demo_1=1,Treatment =1]-E[Y|demo_1=0,Treatment =1]\n",
    "$$\n",
    "\n",
    "that is, $\\beta_1$ is interpreted as the treatment effect for the demographic 2 with respect to the complete control group; while $\\beta_2$ is interpreted as the effect of demographic in the treatment group. "
   ]
  },
  {
   "cell_type": "markdown",
   "id": "d1b3f386",
   "metadata": {},
   "source": [
    "### Question 2 Answer "
   ]
  },
  {
   "cell_type": "code",
   "execution_count": 15,
   "id": "71933e91",
   "metadata": {},
   "outputs": [],
   "source": [
    "def plot_lassoCV(lasso,nfolds):\n",
    "     #1se rule \n",
    "    mean = np.mean(lasso.mse_path_, axis=1)\n",
    "    std_error = np.std(lasso.mse_path_, axis=1)/np.sqrt(nfolds)\n",
    "    mean_min  = mean[lasso.alphas_==lasso.alpha_]\n",
    "    std_min   = std_error[lasso.alphas_==lasso.alpha_]\n",
    "    alpha_1se = np.max(lasso.alphas_[mean <= mean_min + std_min])\n",
    "\n",
    "    # Plot    \n",
    "    plt.semilogx(lasso.alphas_, np.mean(lasso.mse_path_, axis=1))\n",
    "\n",
    "    plt.semilogx(lasso.alphas_, mean + std_error, \"b--\")\n",
    "    plt.semilogx(lasso.alphas_, mean - std_error, \"b--\")\n",
    "    plt.fill_between(lasso.alphas_, mean + std_error, mean - std_error, alpha=0.2)\n",
    "    plt.axvline(lasso.alpha_, linestyle=\"--\", color=\"black\", label=\"$\\lambda_{min}$\")\n",
    "    plt.axvline(alpha_1se, linestyle=\"--\", color=\"red\", label=\"$\\lambda_{1se}$\")\n",
    "    plt.legend()\n",
    "    plt.xlabel(\"$\\log(\\lambda)$\")\n",
    "    plt.ylabel(\"Mean Squared Error\")\n",
    "    plt.show() \n",
    "    \n",
    "def get_coef(lasso,scale,coeffnames):\n",
    "    # getting the coefficients and picking those that are not zero\n",
    "    coefficients = np.append(lasso.intercept_, lasso.coef_/scale) \n",
    "    coeffnames = coeffnames[coefficients != 0]\n",
    "    coeffvalues = coefficients[coefficients != 0]\n",
    "    # return non-zero ones \n",
    "    return pd.DataFrame([coeffnames, coeffvalues]).T"
   ]
  },
  {
   "cell_type": "code",
   "execution_count": 75,
   "id": "baa438f5",
   "metadata": {},
   "outputs": [
    {
     "data": {
      "text/plain": [
       "LassoCV(cv=10, max_iter=10000)"
      ]
     },
     "execution_count": 75,
     "metadata": {},
     "output_type": "execute_result"
    }
   ],
   "source": [
    "# We run CV Lasso\n",
    "nfolds  = 10\n",
    "lassocv = LassoCV(cv = nfolds, max_iter = 10000)\n",
    "lassocv.fit(X,Y)"
   ]
  },
  {
   "cell_type": "code",
   "execution_count": 47,
   "id": "cbc9b154",
   "metadata": {},
   "outputs": [
    {
     "data": {
      "image/png": "[encoded data removed]",
      "text/plain": [
       "<Figure size 432x288 with 1 Axes>"
      ]
     },
     "metadata": {
      "needs_background": "light"
     },
     "output_type": "display_data"
    }
   ],
   "source": [
    "plot_lassoCV(lassocv,nfolds)"
   ]
  },
  {
   "cell_type": "code",
   "execution_count": 24,
   "id": "64fc36fd",
   "metadata": {},
   "outputs": [
    {
     "data": {
      "text/html": [
       "<div>\n",
       "<style scoped>\n",
       "    .dataframe tbody tr th:only-of-type {\n",
       "        vertical-align: middle;\n",
       "    }\n",
       "\n",
       "    .dataframe tbody tr th {\n",
       "        vertical-align: top;\n",
       "    }\n",
       "\n",
       "    .dataframe thead th {\n",
       "        text-align: right;\n",
       "    }\n",
       "</style>\n",
       "<table border=\"1\" class=\"dataframe\">\n",
       "  <thead>\n",
       "    <tr style=\"text-align: right;\">\n",
       "      <th></th>\n",
       "      <th>0</th>\n",
       "      <th>1</th>\n",
       "    </tr>\n",
       "  </thead>\n",
       "  <tbody>\n",
       "    <tr>\n",
       "      <th>0</th>\n",
       "      <td>(Intercept)</td>\n",
       "      <td>5.117759</td>\n",
       "    </tr>\n",
       "    <tr>\n",
       "      <th>1</th>\n",
       "      <td>treatment</td>\n",
       "      <td>0.280851</td>\n",
       "    </tr>\n",
       "    <tr>\n",
       "      <th>2</th>\n",
       "      <td>treat_demo_1</td>\n",
       "      <td>0.114795</td>\n",
       "    </tr>\n",
       "    <tr>\n",
       "      <th>3</th>\n",
       "      <td>treat_demo_3</td>\n",
       "      <td>0.158607</td>\n",
       "    </tr>\n",
       "    <tr>\n",
       "      <th>4</th>\n",
       "      <td>treat_demo_7</td>\n",
       "      <td>0.128264</td>\n",
       "    </tr>\n",
       "    <tr>\n",
       "      <th>5</th>\n",
       "      <td>treat_demo_9</td>\n",
       "      <td>0.040007</td>\n",
       "    </tr>\n",
       "    <tr>\n",
       "      <th>6</th>\n",
       "      <td>treat_demo_16</td>\n",
       "      <td>0.006887</td>\n",
       "    </tr>\n",
       "    <tr>\n",
       "      <th>7</th>\n",
       "      <td>treat_demo_18</td>\n",
       "      <td>0.022377</td>\n",
       "    </tr>\n",
       "    <tr>\n",
       "      <th>8</th>\n",
       "      <td>treat_demo_20</td>\n",
       "      <td>0.012228</td>\n",
       "    </tr>\n",
       "    <tr>\n",
       "      <th>9</th>\n",
       "      <td>treat_demo_22</td>\n",
       "      <td>0.041163</td>\n",
       "    </tr>\n",
       "    <tr>\n",
       "      <th>10</th>\n",
       "      <td>treat_demo_23</td>\n",
       "      <td>0.024366</td>\n",
       "    </tr>\n",
       "    <tr>\n",
       "      <th>11</th>\n",
       "      <td>treat_demo_25</td>\n",
       "      <td>0.097902</td>\n",
       "    </tr>\n",
       "    <tr>\n",
       "      <th>12</th>\n",
       "      <td>treat_demo_27</td>\n",
       "      <td>0.010894</td>\n",
       "    </tr>\n",
       "    <tr>\n",
       "      <th>13</th>\n",
       "      <td>treat_demo_28</td>\n",
       "      <td>0.039004</td>\n",
       "    </tr>\n",
       "    <tr>\n",
       "      <th>14</th>\n",
       "      <td>treat_demo_30</td>\n",
       "      <td>0.008116</td>\n",
       "    </tr>\n",
       "  </tbody>\n",
       "</table>\n",
       "</div>"
      ],
      "text/plain": [
       "                0         1\n",
       "0     (Intercept)  5.117759\n",
       "1       treatment  0.280851\n",
       "2    treat_demo_1  0.114795\n",
       "3    treat_demo_3  0.158607\n",
       "4    treat_demo_7  0.128264\n",
       "5    treat_demo_9  0.040007\n",
       "6   treat_demo_16  0.006887\n",
       "7   treat_demo_18  0.022377\n",
       "8   treat_demo_20  0.012228\n",
       "9   treat_demo_22  0.041163\n",
       "10  treat_demo_23  0.024366\n",
       "11  treat_demo_25  0.097902\n",
       "12  treat_demo_27  0.010894\n",
       "13  treat_demo_28  0.039004\n",
       "14  treat_demo_30  0.008116"
      ]
     },
     "execution_count": 24,
     "metadata": {},
     "output_type": "execute_result"
    }
   ],
   "source": [
    "coeffnames = list(pd.concat([treatment, demo_treat_matrix], axis=1).columns)\n",
    "coeffnames.insert(0,'(Intercept)')\n",
    "coeffnames = np.array(coeffnames)\n",
    "get_coef(lassocv,1,coeffnames)"
   ]
  },
  {
   "cell_type": "markdown",
   "id": "33260c2b",
   "metadata": {},
   "source": [
    "The results suggest that there is heterogeneity in the treatment effect across different demographics. The differences can be large (for example compare the coefficients for demo 3 and demo 16). This suggests that there may be scope for only showing the ad to a subset of consumers with specific demographic characteristics.\n"
   ]
  },
  {
   "cell_type": "markdown",
   "id": "72cd20e0",
   "metadata": {},
   "source": [
    "#  Part 3:  Lasso with baseline and interacted demographics"
   ]
  },
  {
   "cell_type": "markdown",
   "id": "c03ae16a",
   "metadata": {},
   "source": [
    "### Question 1 Answer "
   ]
  },
  {
   "cell_type": "code",
   "execution_count": 68,
   "id": "9a3c6c0a",
   "metadata": {},
   "outputs": [
    {
     "data": {
      "text/plain": [
       "LassoCV(cv=10, max_iter=10000)"
      ]
     },
     "execution_count": 68,
     "metadata": {},
     "output_type": "execute_result"
    }
   ],
   "source": [
    "# X variables to try for LASSO\n",
    "X = sparse.csc_matrix(pd.concat([treatment, demo_matrix, demo_treat_matrix], axis=1))\n",
    "\n",
    "# We run CV Lasso\n",
    "nfolds  = 10\n",
    "lassocv = LassoCV(cv = nfolds, max_iter = 10000)\n",
    "lassocv.fit(X,Y)"
   ]
  },
  {
   "cell_type": "code",
   "execution_count": 69,
   "id": "768e0c2d",
   "metadata": {},
   "outputs": [
    {
     "data": {
      "image/png": "[encoded data removed]",
      "text/plain": [
       "<Figure size 432x288 with 1 Axes>"
      ]
     },
     "metadata": {
      "needs_background": "light"
     },
     "output_type": "display_data"
    }
   ],
   "source": [
    "plot_lassoCV(lassocv,nfolds)"
   ]
  },
  {
   "cell_type": "code",
   "execution_count": 70,
   "id": "55cd54f1",
   "metadata": {
    "scrolled": true
   },
   "outputs": [
    {
     "data": {
      "text/html": [
       "<div>\n",
       "<style scoped>\n",
       "    .dataframe tbody tr th:only-of-type {\n",
       "        vertical-align: middle;\n",
       "    }\n",
       "\n",
       "    .dataframe tbody tr th {\n",
       "        vertical-align: top;\n",
       "    }\n",
       "\n",
       "    .dataframe thead th {\n",
       "        text-align: right;\n",
       "    }\n",
       "</style>\n",
       "<table border=\"1\" class=\"dataframe\">\n",
       "  <thead>\n",
       "    <tr style=\"text-align: right;\">\n",
       "      <th></th>\n",
       "      <th>0</th>\n",
       "      <th>1</th>\n",
       "    </tr>\n",
       "  </thead>\n",
       "  <tbody>\n",
       "    <tr>\n",
       "      <th>0</th>\n",
       "      <td>(Intercept)</td>\n",
       "      <td>4.964982</td>\n",
       "    </tr>\n",
       "    <tr>\n",
       "      <th>1</th>\n",
       "      <td>treatment</td>\n",
       "      <td>0.454866</td>\n",
       "    </tr>\n",
       "    <tr>\n",
       "      <th>2</th>\n",
       "      <td>demographic_1</td>\n",
       "      <td>0.138043</td>\n",
       "    </tr>\n",
       "    <tr>\n",
       "      <th>3</th>\n",
       "      <td>demographic_2</td>\n",
       "      <td>-0.002787</td>\n",
       "    </tr>\n",
       "    <tr>\n",
       "      <th>4</th>\n",
       "      <td>demographic_7</td>\n",
       "      <td>0.016443</td>\n",
       "    </tr>\n",
       "    <tr>\n",
       "      <th>5</th>\n",
       "      <td>demographic_9</td>\n",
       "      <td>0.034156</td>\n",
       "    </tr>\n",
       "    <tr>\n",
       "      <th>6</th>\n",
       "      <td>demographic_11</td>\n",
       "      <td>-0.014056</td>\n",
       "    </tr>\n",
       "    <tr>\n",
       "      <th>7</th>\n",
       "      <td>demographic_22</td>\n",
       "      <td>0.032252</td>\n",
       "    </tr>\n",
       "    <tr>\n",
       "      <th>8</th>\n",
       "      <td>demographic_23</td>\n",
       "      <td>0.020893</td>\n",
       "    </tr>\n",
       "    <tr>\n",
       "      <th>9</th>\n",
       "      <td>demographic_25</td>\n",
       "      <td>0.068269</td>\n",
       "    </tr>\n",
       "    <tr>\n",
       "      <th>10</th>\n",
       "      <td>demographic_28</td>\n",
       "      <td>0.014102</td>\n",
       "    </tr>\n",
       "    <tr>\n",
       "      <th>11</th>\n",
       "      <td>treat_demo_3</td>\n",
       "      <td>0.154882</td>\n",
       "    </tr>\n",
       "    <tr>\n",
       "      <th>12</th>\n",
       "      <td>treat_demo_7</td>\n",
       "      <td>0.1073</td>\n",
       "    </tr>\n",
       "    <tr>\n",
       "      <th>13</th>\n",
       "      <td>treat_demo_9</td>\n",
       "      <td>0.002065</td>\n",
       "    </tr>\n",
       "    <tr>\n",
       "      <th>14</th>\n",
       "      <td>treat_demo_16</td>\n",
       "      <td>0.001452</td>\n",
       "    </tr>\n",
       "    <tr>\n",
       "      <th>15</th>\n",
       "      <td>treat_demo_18</td>\n",
       "      <td>0.017417</td>\n",
       "    </tr>\n",
       "    <tr>\n",
       "      <th>16</th>\n",
       "      <td>treat_demo_20</td>\n",
       "      <td>0.008345</td>\n",
       "    </tr>\n",
       "    <tr>\n",
       "      <th>17</th>\n",
       "      <td>treat_demo_22</td>\n",
       "      <td>0.004202</td>\n",
       "    </tr>\n",
       "    <tr>\n",
       "      <th>18</th>\n",
       "      <td>treat_demo_25</td>\n",
       "      <td>0.02532</td>\n",
       "    </tr>\n",
       "    <tr>\n",
       "      <th>19</th>\n",
       "      <td>treat_demo_27</td>\n",
       "      <td>0.006126</td>\n",
       "    </tr>\n",
       "    <tr>\n",
       "      <th>20</th>\n",
       "      <td>treat_demo_28</td>\n",
       "      <td>0.020187</td>\n",
       "    </tr>\n",
       "    <tr>\n",
       "      <th>21</th>\n",
       "      <td>treat_demo_30</td>\n",
       "      <td>0.003243</td>\n",
       "    </tr>\n",
       "  </tbody>\n",
       "</table>\n",
       "</div>"
      ],
      "text/plain": [
       "                 0         1\n",
       "0      (Intercept)  4.964982\n",
       "1        treatment  0.454866\n",
       "2    demographic_1  0.138043\n",
       "3    demographic_2 -0.002787\n",
       "4    demographic_7  0.016443\n",
       "5    demographic_9  0.034156\n",
       "6   demographic_11 -0.014056\n",
       "7   demographic_22  0.032252\n",
       "8   demographic_23  0.020893\n",
       "9   demographic_25  0.068269\n",
       "10  demographic_28  0.014102\n",
       "11    treat_demo_3  0.154882\n",
       "12    treat_demo_7    0.1073\n",
       "13    treat_demo_9  0.002065\n",
       "14   treat_demo_16  0.001452\n",
       "15   treat_demo_18  0.017417\n",
       "16   treat_demo_20  0.008345\n",
       "17   treat_demo_22  0.004202\n",
       "18   treat_demo_25   0.02532\n",
       "19   treat_demo_27  0.006126\n",
       "20   treat_demo_28  0.020187\n",
       "21   treat_demo_30  0.003243"
      ]
     },
     "execution_count": 70,
     "metadata": {},
     "output_type": "execute_result"
    }
   ],
   "source": [
    "coeffnames = list(pd.concat([treatment, demo_matrix, demo_treat_matrix], axis=1).columns)\n",
    "coeffnames.insert(0,'(Intercept)')\n",
    "coeffnames = np.array(coeffnames)\n",
    "get_coef(lassocv,1,coeffnames)"
   ]
  },
  {
   "cell_type": "markdown",
   "id": "0b90cea1",
   "metadata": {},
   "source": [
    "We can only compute the treatment effect for a specific demographic characteristic (that is, the expected revenue for treated individuals with demographic7=1 minus the expected revenue for individuals in the control group with demographic7=1) if we have both interacted and un-interacted terms for that characteristic (i.e., intercept and slope dummy). If we only have the interaction dummy for a certain demographic characteristic, we cannot compute the expected revenue for individuals in the control group with that demographic only.\n",
    "\n",
    "For example, if we only account for demographic7: \n",
    "\n",
    "$$\n",
    "Y = \\beta_0 +\\beta_1 Treatment +\\beta_2 Treatment\\times demo_7 + \\beta_3demo_7.\n",
    "$$\n",
    "\n",
    "Then, \n",
    "\n",
    "$$\n",
    "E[Y|Treatment=1,demo_7=x]-E[Y|Treatment=0,demo_7=x] = (\\beta_0 +\\beta_1  +\\beta_2 x+ \\beta_3x) -\n",
    "(\\beta_0 + \\beta_3x)= \\beta_1 +\\beta_2x\\Big |_{x=1} =\\beta_1+\\beta_2\n",
    "$$\n",
    "\n",
    "Note that if $\\beta_3=0$ then $E[Y|Treatment=0,demo_7=x] = \\beta_0$ which is independent of $x$. That is $\\beta_0$ represents $E[Y|Treatment=0]$ and, thefore, we cannot compute the expected revenue for individuals in the control group with demographic7=1.  "
   ]
  },
  {
   "cell_type": "markdown",
   "id": "8f13f293",
   "metadata": {},
   "source": [
    "### Question 2 Answer "
   ]
  },
  {
   "cell_type": "code",
   "execution_count": 79,
   "id": "03812de2",
   "metadata": {},
   "outputs": [],
   "source": [
    "# X matrix based on all treated\n",
    "treat_always = (ad_heterog[\"treatment\"] >= 0)  # generates column of ones\n",
    "demo_treat_always = demo_matrix.multiply(treat_always, axis=\"index\")\n",
    "demo_treat_always.columns = demo_treat_always.columns.str.replace(\"demographic\", \"treat_demo\")\n",
    "X_always = sparse.csc_matrix(pd.concat([treat_always*1,demo_matrix,demo_treat_always], axis=1))"
   ]
  },
  {
   "cell_type": "code",
   "execution_count": 81,
   "id": "1dc3ea99",
   "metadata": {},
   "outputs": [],
   "source": [
    "# X matrix based on nobody is treated\n",
    "treat_never = (ad_heterog[\"treatment\"] < 0)  # generates column of zeros\n",
    "demo_treat_never = demo_matrix.multiply(treat_never, axis=\"index\")\n",
    "demo_treat_never.columns = demo_treat_never.columns.str.replace(\"demographic\", \"treat_demo\")\n",
    "X_never = sparse.csc_matrix(pd.concat([treat_never*1,demo_matrix,demo_treat_never], axis=1))"
   ]
  },
  {
   "cell_type": "code",
   "execution_count": 85,
   "id": "9fdc519f",
   "metadata": {},
   "outputs": [],
   "source": [
    "# compute revenue at baseline (no treatment) and under treatment for all consumers\n",
    "ad_heterog[\"treatment_rev\"] = lassocv.predict(X_always)\n",
    "ad_heterog[\"baseline_rev\"] = lassocv.predict(X_never)"
   ]
  },
  {
   "cell_type": "code",
   "execution_count": 87,
   "id": "e95f9c98",
   "metadata": {},
   "outputs": [
    {
     "data": {
      "text/plain": [
       "0.2605"
      ]
     },
     "execution_count": 87,
     "metadata": {},
     "output_type": "execute_result"
    }
   ],
   "source": [
    "# indicator for who is shown the ad\n",
    "ad_heterog[\"showad\"] = ad_heterog[\"treatment_rev\"] - ad_heterog[\"baseline_rev\"] > 0.7\n",
    "np.mean(ad_heterog[\"showad\"])"
   ]
  },
  {
   "cell_type": "code",
   "execution_count": 89,
   "id": "7ab62e5d",
   "metadata": {},
   "outputs": [],
   "source": [
    "# expected incremental profit without and with targeting\n",
    "ad_heterog[\"simple_profit\"] = (ad_heterog[\"treatment_rev\"] -ad_heterog[\"baseline_rev\"] - 0.7)\n",
    "ad_heterog[\"target_profit\"] = (ad_heterog[\"showad\"] *(ad_heterog[\"treatment_rev\"] - ad_heterog[\"baseline_rev\"] - 0.7))"
   ]
  },
  {
   "cell_type": "code",
   "execution_count": 90,
   "id": "2fd06989",
   "metadata": {},
   "outputs": [
    {
     "data": {
      "text/plain": [
       "-0.06826410916798252"
      ]
     },
     "execution_count": 90,
     "metadata": {},
     "output_type": "execute_result"
    }
   ],
   "source": [
    "# expected profit per consumer\n",
    "np.mean(ad_heterog[\"simple_profit\"])"
   ]
  },
  {
   "cell_type": "code",
   "execution_count": 91,
   "id": "7dc44457",
   "metadata": {},
   "outputs": [
    {
     "data": {
      "text/plain": [
       "0.016132434045402627"
      ]
     },
     "execution_count": 91,
     "metadata": {},
     "output_type": "execute_result"
    }
   ],
   "source": [
    "np.mean(ad_heterog[\"target_profit\"])"
   ]
  },
  {
   "cell_type": "markdown",
   "id": "524f107b",
   "metadata": {},
   "source": [
    "Lasso-based targeting results in a positive profit."
   ]
  }
 ],
 "metadata": {
  "kernelspec": {
   "display_name": "Python 3 (ipykernel)",
   "language": "python",
   "name": "python3"
  },
  "language_info": {
   "codemirror_mode": {
    "name": "ipython",
    "version": 3
   },
   "file_extension": ".py",
   "mimetype": "text/x-python",
   "name": "python",
   "nbconvert_exporter": "python",
   "pygments_lexer": "ipython3",
   "version": "3.9.7"
  }
 },
 "nbformat": 4,
 "nbformat_minor": 5
}
