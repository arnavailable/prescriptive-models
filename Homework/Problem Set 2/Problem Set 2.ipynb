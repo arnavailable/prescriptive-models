{
 "cells": [
  {
   "cell_type": "markdown",
   "metadata": {},
   "source": [
    "<div align=\"center\">\n",
    "<font size=\"5\"><b>PRESCRIPTIVE MODELS AND DATA ANALYTICS</b></font>\n",
    "<br>\n",
    "<font size=\"5\"><b>Problem Set #2</b></font>\n",
    "<br>\n",
    "<br>\n",
    "<font size=\"5\"><b>Arnav Garg (906310841)</b></font>\n",
    "</div>\n",
    "<br>\n",
    "<br>\n",
    "<br>\n",
    "<font size=\"4\"><b>1 Hospital admission & quality of service</b></font>\n",
    "<br>\n",
    "<br>\n",
    "<font size=\"4\"> Download health data.csv and load it into python. These are data from hospital admissions for coronary artery bypass graft (CABG) in the UK. Among other things, you observe whether the patient died after the surgery (coded up as patient died dummy), which hospital the patient visited (hospital id), and a series of patient characteristics such as gender and age. </font>\n",
    "<br>\n",
    "<br>\n",
    "<br>\n",
    "<font size=\"4\"><b>Question 1.</b> Start by regressing the patient-died dummy variable on a set of hospital dummies </font>"
   ]
  },
  {
   "cell_type": "code",
   "execution_count": 60,
   "metadata": {},
   "outputs": [],
   "source": [
    "import pandas as pd\n",
    "import numpy as np\n",
    "import matplotlib.pyplot as plt \n",
    "import seaborn as sns\n",
    "import os\n",
    "import sys\n",
    "import statsmodels.api as sm\n",
    "from statsmodels.formula.api import ols\n",
    "import warnings\n",
    "warnings.filterwarnings('ignore')\n"
   ]
  },
  {
   "cell_type": "code",
   "execution_count": 61,
   "metadata": {},
   "outputs": [
    {
     "name": "stdout",
     "output_type": "stream",
     "text": [
      "(24480, 6)\n"
     ]
    },
    {
     "data": {
      "text/html": [
       "<div>\n",
       "<style scoped>\n",
       "    .dataframe tbody tr th:only-of-type {\n",
       "        vertical-align: middle;\n",
       "    }\n",
       "\n",
       "    .dataframe tbody tr th {\n",
       "        vertical-align: top;\n",
       "    }\n",
       "\n",
       "    .dataframe thead th {\n",
       "        text-align: right;\n",
       "    }\n",
       "</style>\n",
       "<table border=\"1\" class=\"dataframe\">\n",
       "  <thead>\n",
       "    <tr style=\"text-align: right;\">\n",
       "      <th></th>\n",
       "      <th>patient_id</th>\n",
       "      <th>hospital_id</th>\n",
       "      <th>admin_year</th>\n",
       "      <th>patient_died_dummy</th>\n",
       "      <th>startage</th>\n",
       "      <th>female_dummy</th>\n",
       "    </tr>\n",
       "  </thead>\n",
       "  <tbody>\n",
       "    <tr>\n",
       "      <th>0</th>\n",
       "      <td>1</td>\n",
       "      <td>D</td>\n",
       "      <td>2003</td>\n",
       "      <td>0</td>\n",
       "      <td>81</td>\n",
       "      <td>0</td>\n",
       "    </tr>\n",
       "    <tr>\n",
       "      <th>1</th>\n",
       "      <td>2</td>\n",
       "      <td>H</td>\n",
       "      <td>2003</td>\n",
       "      <td>1</td>\n",
       "      <td>67</td>\n",
       "      <td>0</td>\n",
       "    </tr>\n",
       "    <tr>\n",
       "      <th>2</th>\n",
       "      <td>3</td>\n",
       "      <td>A</td>\n",
       "      <td>2003</td>\n",
       "      <td>0</td>\n",
       "      <td>54</td>\n",
       "      <td>0</td>\n",
       "    </tr>\n",
       "    <tr>\n",
       "      <th>3</th>\n",
       "      <td>4</td>\n",
       "      <td>E</td>\n",
       "      <td>2003</td>\n",
       "      <td>0</td>\n",
       "      <td>81</td>\n",
       "      <td>0</td>\n",
       "    </tr>\n",
       "    <tr>\n",
       "      <th>4</th>\n",
       "      <td>5</td>\n",
       "      <td>H</td>\n",
       "      <td>2003</td>\n",
       "      <td>0</td>\n",
       "      <td>69</td>\n",
       "      <td>0</td>\n",
       "    </tr>\n",
       "  </tbody>\n",
       "</table>\n",
       "</div>"
      ],
      "text/plain": [
       "   patient_id hospital_id  admin_year  patient_died_dummy  startage  \\\n",
       "0           1           D        2003                   0        81   \n",
       "1           2           H        2003                   1        67   \n",
       "2           3           A        2003                   0        54   \n",
       "3           4           E        2003                   0        81   \n",
       "4           5           H        2003                   0        69   \n",
       "\n",
       "   female_dummy  \n",
       "0             0  \n",
       "1             0  \n",
       "2             0  \n",
       "3             0  \n",
       "4             0  "
      ]
     },
     "execution_count": 61,
     "metadata": {},
     "output_type": "execute_result"
    }
   ],
   "source": [
    "# Load dataset\n",
    "health_data = pd.read_csv('health_data.csv')\n",
    "\n",
    "# Print the number of rows and columns\n",
    "print(health_data.shape)\n",
    "\n",
    "# Print the first few rows\n",
    "health_data.head()"
   ]
  },
  {
   "cell_type": "code",
   "execution_count": 62,
   "metadata": {},
   "outputs": [
    {
     "name": "stdout",
     "output_type": "stream",
     "text": [
      "                            OLS Regression Results                            \n",
      "==============================================================================\n",
      "Dep. Variable:     patient_died_dummy   R-squared:                       0.042\n",
      "Model:                            OLS   Adj. R-squared:                  0.042\n",
      "Method:                 Least Squares   F-statistic:                     119.3\n",
      "Date:                Sun, 11 Feb 2024   Prob (F-statistic):          1.75e-220\n",
      "Time:                        18:47:49   Log-Likelihood:                -7416.5\n",
      "No. Observations:               24480   AIC:                         1.485e+04\n",
      "Df Residuals:                   24470   BIC:                         1.493e+04\n",
      "Df Model:                           9                                         \n",
      "Covariance Type:            nonrobust                                         \n",
      "====================================================================================\n",
      "                       coef    std err          t      P>|t|      [0.025      0.975]\n",
      "------------------------------------------------------------------------------------\n",
      "Intercept            0.0970      0.006     16.355      0.000       0.085       0.109\n",
      "hospital_id[T.B]     0.0072      0.008      0.890      0.373      -0.009       0.023\n",
      "hospital_id[T.C]    -0.0483      0.010     -4.776      0.000      -0.068      -0.028\n",
      "hospital_id[T.D]     0.1882      0.008     23.188      0.000       0.172       0.204\n",
      "hospital_id[T.E]    -0.0531      0.011     -4.771      0.000      -0.075      -0.031\n",
      "hospital_id[T.F]     0.0003      0.009      0.030      0.976      -0.017       0.017\n",
      "hospital_id[T.G]     0.0441      0.008      5.273      0.000       0.028       0.061\n",
      "hospital_id[T.H]     0.0038      0.009      0.414      0.679      -0.014       0.022\n",
      "hospital_id[T.I]     0.0318      0.009      3.480      0.001       0.014       0.050\n",
      "hospital_id[T.J]     0.0112      0.011      1.028      0.304      -0.010       0.032\n",
      "==============================================================================\n",
      "Omnibus:                     9228.833   Durbin-Watson:                   2.025\n",
      "Prob(Omnibus):                  0.000   Jarque-Bera (JB):            25954.225\n",
      "Skew:                           2.096   Prob(JB):                         0.00\n",
      "Kurtosis:                       5.807   Cond. No.                         10.0\n",
      "==============================================================================\n",
      "\n",
      "Notes:\n",
      "[1] Standard Errors assume that the covariance matrix of the errors is correctly specified.\n"
     ]
    }
   ],
   "source": [
    "model = ols('patient_died_dummy ~ hospital_id', data = health_data).fit()\n",
    "print(model.summary())"
   ]
  },
  {
   "cell_type": "markdown",
   "metadata": {},
   "source": [
    "<font size=\"4\"><b>(a)</b> Based on the regression output, interpret the coefficients on the constant term and the dummy for hospital D.</font>\n",
    "\n",
    "The coefficient on the constant term (which is essentially a dummy for hospital A) is ~0.097 and the coefficient on the dummy for hospital D is ~0.188. This means that the probability of death for patients who went to hospital D is 18.8% higher than the patients who went to hospital A. The probability of death for patients who went to hospital A is 9.7%"
   ]
  },
  {
   "cell_type": "code",
   "execution_count": 63,
   "metadata": {},
   "outputs": [
    {
     "data": {
      "text/plain": [
       "(0.09701737135364538, 0.18824729245181226)"
      ]
     },
     "execution_count": 63,
     "metadata": {},
     "output_type": "execute_result"
    }
   ],
   "source": [
    "model.params[0], model.params[3]"
   ]
  },
  {
   "cell_type": "markdown",
   "metadata": {},
   "source": [
    "<font size=\"4\"><b>(b)</b> What is the difference between the mortality rates at hospitals D and E (use the regression output to derive this)? </font>\n",
    "\n",
    "The difference between mortality rates at hospital D and E is ~0.2414."
   ]
  },
  {
   "cell_type": "code",
   "execution_count": 64,
   "metadata": {},
   "outputs": [
    {
     "data": {
      "text/plain": [
       "0.24139049162003756"
      ]
     },
     "execution_count": 64,
     "metadata": {},
     "output_type": "execute_result"
    }
   ],
   "source": [
    "model.params[3] - model.params[4]"
   ]
  },
  {
   "cell_type": "markdown",
   "metadata": {},
   "source": [
    "<font size=\"4\"><b>Causal interpretation (or lack thereof)</b></font>\n",
    "<br>\n",
    "<br>\n",
    "<br>\n",
    "<font size=\"4\"><b>Question 2.</b> Continue to use the hospital data in this question, but only use data for patients that visited either hospital A or B. Regress mortality on an intercept and a dummy for whether the patient visited hospital B. </font>"
   ]
  },
  {
   "cell_type": "code",
   "execution_count": 65,
   "metadata": {},
   "outputs": [],
   "source": [
    "## data for patients that visited either hospital A or B. \n",
    "q2 = health_data[health_data['hospital_id'].isin(['A', 'B'])]\n",
    "## dummy for whether the patient visited hospital B.\n",
    "q2['hospital_B_dummy'] = 0\n",
    "q2.loc[q2.hospital_id == 'B', 'hospital_B_dummy'] = 1"
   ]
  },
  {
   "cell_type": "code",
   "execution_count": 66,
   "metadata": {},
   "outputs": [
    {
     "name": "stdout",
     "output_type": "stream",
     "text": [
      "                            OLS Regression Results                            \n",
      "==============================================================================\n",
      "Dep. Variable:     patient_died_dummy   R-squared:                       0.000\n",
      "Model:                            OLS   Adj. R-squared:                 -0.000\n",
      "Method:                 Least Squares   F-statistic:                    0.9377\n",
      "Date:                Sun, 11 Feb 2024   Prob (F-statistic):              0.333\n",
      "Time:                        18:47:49   Log-Likelihood:                -1446.8\n",
      "No. Observations:                6611   AIC:                             2898.\n",
      "Df Residuals:                    6609   BIC:                             2911.\n",
      "Df Model:                           1                                         \n",
      "Covariance Type:            nonrobust                                         \n",
      "====================================================================================\n",
      "                       coef    std err          t      P>|t|      [0.025      0.975]\n",
      "------------------------------------------------------------------------------------\n",
      "Intercept            0.0970      0.005     17.791      0.000       0.086       0.108\n",
      "hospital_B_dummy     0.0072      0.007      0.968      0.333      -0.007       0.022\n",
      "==============================================================================\n",
      "Omnibus:                     3377.258   Durbin-Watson:                   2.031\n",
      "Prob(Omnibus):                  0.000   Jarque-Bera (JB):            14683.814\n",
      "Skew:                           2.650   Prob(JB):                         0.00\n",
      "Kurtosis:                       8.022   Cond. No.                         2.72\n",
      "==============================================================================\n",
      "\n",
      "Notes:\n",
      "[1] Standard Errors assume that the covariance matrix of the errors is correctly specified.\n"
     ]
    }
   ],
   "source": [
    "model = ols('patient_died_dummy ~ hospital_B_dummy', data = q2).fit()\n",
    "print(model.summary())"
   ]
  },
  {
   "cell_type": "markdown",
   "metadata": {},
   "source": [
    "<font size=\"4\"><b>(a)</b> Explain why the difference in mortality rate implied by this regression cannot be interpreted as the causal effect of visiting a different hospital (i.e., the change in risk of dying when moving a patient from hospital A to B cannot be inferred from this regression). </font>\n",
    "\n",
    "The difference in mortality rate implied by this regression cannot be interpreted as the causal effect of visiting a different hospital because the regression does not account for the fact that patients who visit hospital B may be different from those who visit hospital A in ways that are correlated with the outcome. For example, patients who visit hospital B may be sicker than those who visit hospital A, and this difference in patient health may be correlated with the outcome. If this is the case, the difference in mortality rate between the two hospitals may be due to differences in patient health rather than differences in the quality of care provided by the hospitals.\n",
    "\n",
    "\n"
   ]
  },
  {
   "cell_type": "markdown",
   "metadata": {},
   "source": [
    "<font size=\"4\"><b>(b)</b> Do you think difference in mortality between hospitals are over or under estimated? Think about what type of patients go to which type of hospital.</font>\n",
    "\n",
    "Theoretically, we do not know whether the difference in mortality between hospitals is over or under estimated. However, by running a regression of mortality on potential control variables, we can figure out practically if the difference is over or under estimated in this dataset. We observe that the average age of patients who go to hospital B (~64.9 years) is slightly less than the average age of patients who go to hospital A (~65.7 years). Also, we observe that hospital A recieves 23.2% females vs hospital B which receives 20.5% females. By running a regression, we find out the following:\n",
    "1. Difference is very slightly (statistically insignificant) overestimated when only the variable \"startage\" is used as control variable\n",
    "2. Difference is underestimated when variable \"female_dummy\" is used as control variable\n",
    "3. Difference is overall underestimated when both variables \"startage\" and \"female_dummy\" are used as control variables"
   ]
  },
  {
   "cell_type": "code",
   "execution_count": 67,
   "metadata": {},
   "outputs": [
    {
     "data": {
      "text/plain": [
       "(hospital_id\n",
       " A    65.705015\n",
       " B    64.882303\n",
       " Name: startage, dtype: float64,\n",
       " hospital_id  female_dummy\n",
       " A            0               76.794494\n",
       "              1               23.205506\n",
       " B            0               79.494382\n",
       "              1               20.505618\n",
       " dtype: float64)"
      ]
     },
     "execution_count": 67,
     "metadata": {},
     "output_type": "execute_result"
    }
   ],
   "source": [
    "q2.groupby('hospital_id')['startage'].mean(), q2.groupby('hospital_id')['female_dummy'].value_counts()/q2.groupby('hospital_id')['female_dummy'].count()*100"
   ]
  },
  {
   "cell_type": "markdown",
   "metadata": {},
   "source": [
    "<font size=\"4\"><b>(c)</b> What are potential control variables that you might want to include in the regression, in order to obtain a causal estimate (or at least get closer to a causal estimate)? Run such a regression with suitable controls and interpret the change in the coefficient on the hospital B dummy. Explain why you included the specific set of variables.</font>\n",
    "\n",
    "As dicussed in part a, we can use factors such as age, gender, history of diseases, income level, etc as control variables to get closer to a causal estimate. However, we only have age and gender in our dataset so we use those as our control variables. Both hospitals might have a different distribution of age and gender of patients which will affect the mortality rate of such patients.\n",
    "\n",
    "As mentioned in part b, we observe the following changes:\n",
    "1. Coefficient of hospital_B_dummy goes down from 0.0072 to 0.0071 when we use \"startage\" as a control variable, meaning we were slightly overestimating the affect of hospital B on mortality\n",
    "2. Coefficient of hospital_B_dummy goes up from 0.0072 to 0.0121 when we use \"female_dummy\" as a control variable, meaning we were highly underestimating the affect of hospital B on mortality\n",
    "3. Coefficient of hospital_B_dummy goes up overall from 0.0072 to 0.0114 when we use both \"startage\" and \"female_dummy\" as a control variables, meaning overall we were underestimating the affect of hospital B on mortality"
   ]
  },
  {
   "cell_type": "code",
   "execution_count": 68,
   "metadata": {},
   "outputs": [
    {
     "name": "stdout",
     "output_type": "stream",
     "text": [
      "                            OLS Regression Results                            \n",
      "==============================================================================\n",
      "Dep. Variable:     patient_died_dummy   R-squared:                       0.063\n",
      "Model:                            OLS   Adj. R-squared:                  0.062\n",
      "Method:                 Least Squares   F-statistic:                     147.6\n",
      "Date:                Sun, 11 Feb 2024   Prob (F-statistic):           1.43e-92\n",
      "Time:                        18:47:49   Log-Likelihood:                -1232.8\n",
      "No. Observations:                6611   AIC:                             2474.\n",
      "Df Residuals:                    6607   BIC:                             2501.\n",
      "Df Model:                           3                                         \n",
      "Covariance Type:            nonrobust                                         \n",
      "====================================================================================\n",
      "                       coef    std err          t      P>|t|      [0.025      0.975]\n",
      "------------------------------------------------------------------------------------\n",
      "Intercept            0.1165      0.027      4.335      0.000       0.064       0.169\n",
      "hospital_B_dummy     0.0114      0.007      1.579      0.114      -0.003       0.026\n",
      "startage            -0.0009      0.000     -2.347      0.019      -0.002      -0.000\n",
      "female_dummy         0.1836      0.009     21.015      0.000       0.167       0.201\n",
      "==============================================================================\n",
      "Omnibus:                     3080.506   Durbin-Watson:                   2.037\n",
      "Prob(Omnibus):                  0.000   Jarque-Bera (JB):            12181.285\n",
      "Skew:                           2.411   Prob(JB):                         0.00\n",
      "Kurtosis:                       7.580   Cond. No.                         495.\n",
      "==============================================================================\n",
      "\n",
      "Notes:\n",
      "[1] Standard Errors assume that the covariance matrix of the errors is correctly specified.\n"
     ]
    }
   ],
   "source": [
    "model = ols('patient_died_dummy ~ hospital_B_dummy + startage + female_dummy', data = q2).fit()\n",
    "print(model.summary())"
   ]
  },
  {
   "cell_type": "markdown",
   "metadata": {},
   "source": [
    "<font size=\"4\"><b>2 Demand estimation</b></font>\n",
    "<br>\n",
    "<br>\n",
    "<font size=\"4\"> The dataset demand data.csv contains data on sales and prices at a set of ice-cream vendors measured over 52 weeks. All ice-cream at a given store is always priced the same, so there is only one price variable. However, different vendors charge different prices and most vendors vary their prices throughout the year. </font>\n",
    "<br>\n",
    "<br>\n",
    "<br>\n",
    "<font size=\"4\"><b>Question 1.</b> Load demand data.csv into Python. For vendor 1, run a regression of sales on price and also a regression of sales on price and a summer dummy (make sure your regression selects only the 52 weeks of data for vendor 1). Use the omitted variable bias formula to explain why the price coefficient changes when the summer dummy is also included in the regression. </font>\n",
    "\n",
    "The omitted variable bias formula is given by \n",
    "\n",
    "\\begin{align}\n",
    "\\beta_{price, LR} = \\beta_{price, MR} + \\beta_{summer, MR} * \\frac{Cov(price, summer)}{Var(price)} \\\\\n",
    "\\beta_{price, LR} = -141.2 + 358.50 \\times \\frac{0.12745}{0.41553} \\\\\n",
    "\\beta_{price, LR} = -31.24 (as observed) \\\\\n",
    "\\end{align}\n",
    "\n",
    "In this case, the price coefficient changes when the summer dummy is included in the regression because the summer dummy is correlated with the price variable. This means that the price variable is endogenous. The price coefficient in the first regression is biased because it does not account for the omitted variable, which is the summer dummy. When the summer dummy is included in the regression, the price coefficient changes to account for the omitted variable bias."
   ]
  },
  {
   "cell_type": "code",
   "execution_count": 69,
   "metadata": {},
   "outputs": [
    {
     "name": "stdout",
     "output_type": "stream",
     "text": [
      "(5200, 5)\n"
     ]
    },
    {
     "data": {
      "text/html": [
       "<div>\n",
       "<style scoped>\n",
       "    .dataframe tbody tr th:only-of-type {\n",
       "        vertical-align: middle;\n",
       "    }\n",
       "\n",
       "    .dataframe tbody tr th {\n",
       "        vertical-align: top;\n",
       "    }\n",
       "\n",
       "    .dataframe thead th {\n",
       "        text-align: right;\n",
       "    }\n",
       "</style>\n",
       "<table border=\"1\" class=\"dataframe\">\n",
       "  <thead>\n",
       "    <tr style=\"text-align: right;\">\n",
       "      <th></th>\n",
       "      <th>vendor_id</th>\n",
       "      <th>week</th>\n",
       "      <th>summer_dummy</th>\n",
       "      <th>price</th>\n",
       "      <th>sales</th>\n",
       "    </tr>\n",
       "  </thead>\n",
       "  <tbody>\n",
       "    <tr>\n",
       "      <th>0</th>\n",
       "      <td>1</td>\n",
       "      <td>1</td>\n",
       "      <td>0</td>\n",
       "      <td>2.0</td>\n",
       "      <td>8788.7383</td>\n",
       "    </tr>\n",
       "    <tr>\n",
       "      <th>1</th>\n",
       "      <td>1</td>\n",
       "      <td>2</td>\n",
       "      <td>0</td>\n",
       "      <td>3.0</td>\n",
       "      <td>8937.9863</td>\n",
       "    </tr>\n",
       "    <tr>\n",
       "      <th>2</th>\n",
       "      <td>1</td>\n",
       "      <td>3</td>\n",
       "      <td>0</td>\n",
       "      <td>3.0</td>\n",
       "      <td>8740.1777</td>\n",
       "    </tr>\n",
       "    <tr>\n",
       "      <th>3</th>\n",
       "      <td>1</td>\n",
       "      <td>4</td>\n",
       "      <td>0</td>\n",
       "      <td>3.0</td>\n",
       "      <td>8757.1338</td>\n",
       "    </tr>\n",
       "    <tr>\n",
       "      <th>4</th>\n",
       "      <td>1</td>\n",
       "      <td>5</td>\n",
       "      <td>0</td>\n",
       "      <td>3.0</td>\n",
       "      <td>8739.6104</td>\n",
       "    </tr>\n",
       "  </tbody>\n",
       "</table>\n",
       "</div>"
      ],
      "text/plain": [
       "   vendor_id  week  summer_dummy  price      sales\n",
       "0          1     1             0    2.0  8788.7383\n",
       "1          1     2             0    3.0  8937.9863\n",
       "2          1     3             0    3.0  8740.1777\n",
       "3          1     4             0    3.0  8757.1338\n",
       "4          1     5             0    3.0  8739.6104"
      ]
     },
     "execution_count": 69,
     "metadata": {},
     "output_type": "execute_result"
    }
   ],
   "source": [
    "# Load dataset\n",
    "demand_data = pd.read_csv('demand_data.csv')\n",
    "\n",
    "# Print the number of rows and columns\n",
    "print(demand_data.shape)\n",
    "\n",
    "# Print the first few rows\n",
    "demand_data.head()"
   ]
  },
  {
   "cell_type": "code",
   "execution_count": 70,
   "metadata": {},
   "outputs": [
    {
     "name": "stdout",
     "output_type": "stream",
     "text": [
      "                            OLS Regression Results                            \n",
      "==============================================================================\n",
      "Dep. Variable:                  sales   R-squared:                       0.006\n",
      "Model:                            OLS   Adj. R-squared:                 -0.013\n",
      "Method:                 Least Squares   F-statistic:                    0.3250\n",
      "Date:                Sun, 11 Feb 2024   Prob (F-statistic):              0.571\n",
      "Time:                        18:47:49   Log-Likelihood:                -360.33\n",
      "No. Observations:                  52   AIC:                             724.7\n",
      "Df Residuals:                      50   BIC:                             728.6\n",
      "Df Model:                           1                                         \n",
      "Covariance Type:            nonrobust                                         \n",
      "==============================================================================\n",
      "                 coef    std err          t      P>|t|      [0.025      0.975]\n",
      "------------------------------------------------------------------------------\n",
      "Intercept   8983.8227    145.437     61.771      0.000    8691.704    9275.941\n",
      "price        -31.2310     54.782     -0.570      0.571    -141.264      78.802\n",
      "==============================================================================\n",
      "Omnibus:                        3.319   Durbin-Watson:                   1.572\n",
      "Prob(Omnibus):                  0.190   Jarque-Bera (JB):                2.367\n",
      "Skew:                           0.346   Prob(JB):                        0.306\n",
      "Kurtosis:                       3.784   Cond. No.                         12.5\n",
      "==============================================================================\n",
      "\n",
      "Notes:\n",
      "[1] Standard Errors assume that the covariance matrix of the errors is correctly specified.\n"
     ]
    }
   ],
   "source": [
    "model = ols('sales ~ price', data = demand_data.loc[demand_data.vendor_id == 1]).fit()\n",
    "print(model.summary())"
   ]
  },
  {
   "cell_type": "code",
   "execution_count": 71,
   "metadata": {},
   "outputs": [
    {
     "name": "stdout",
     "output_type": "stream",
     "text": [
      "                            OLS Regression Results                            \n",
      "==============================================================================\n",
      "Dep. Variable:                  sales   R-squared:                       0.318\n",
      "Model:                            OLS   Adj. R-squared:                  0.290\n",
      "Method:                 Least Squares   F-statistic:                     11.42\n",
      "Date:                Sun, 11 Feb 2024   Prob (F-statistic):           8.49e-05\n",
      "Time:                        18:47:49   Log-Likelihood:                -350.56\n",
      "No. Observations:                  52   AIC:                             707.1\n",
      "Df Residuals:                      49   BIC:                             713.0\n",
      "Df Model:                           2                                         \n",
      "Covariance Type:            nonrobust                                         \n",
      "================================================================================\n",
      "                   coef    std err          t      P>|t|      [0.025      0.975]\n",
      "--------------------------------------------------------------------------------\n",
      "Intercept     9177.5500    128.432     71.458      0.000    8919.455    9435.644\n",
      "price         -141.1887     51.407     -2.746      0.008    -244.496     -37.882\n",
      "summer_dummy   358.5012     75.790      4.730      0.000     206.195     510.807\n",
      "==============================================================================\n",
      "Omnibus:                        0.027   Durbin-Watson:                   1.690\n",
      "Prob(Omnibus):                  0.986   Jarque-Bera (JB):                0.078\n",
      "Skew:                           0.039   Prob(JB):                        0.962\n",
      "Kurtosis:                       2.828   Cond. No.                         13.7\n",
      "==============================================================================\n",
      "\n",
      "Notes:\n",
      "[1] Standard Errors assume that the covariance matrix of the errors is correctly specified.\n"
     ]
    }
   ],
   "source": [
    "model = ols('sales ~ price + summer_dummy', data = demand_data.loc[demand_data.vendor_id == 1]).fit()\n",
    "print(model.summary())"
   ]
  },
  {
   "cell_type": "code",
   "execution_count": 72,
   "metadata": {},
   "outputs": [
    {
     "data": {
      "text/html": [
       "<div>\n",
       "<style scoped>\n",
       "    .dataframe tbody tr th:only-of-type {\n",
       "        vertical-align: middle;\n",
       "    }\n",
       "\n",
       "    .dataframe tbody tr th {\n",
       "        vertical-align: top;\n",
       "    }\n",
       "\n",
       "    .dataframe thead th {\n",
       "        text-align: right;\n",
       "    }\n",
       "</style>\n",
       "<table border=\"1\" class=\"dataframe\">\n",
       "  <thead>\n",
       "    <tr style=\"text-align: right;\">\n",
       "      <th></th>\n",
       "      <th>vendor_id</th>\n",
       "      <th>week</th>\n",
       "      <th>summer_dummy</th>\n",
       "      <th>price</th>\n",
       "      <th>sales</th>\n",
       "    </tr>\n",
       "  </thead>\n",
       "  <tbody>\n",
       "    <tr>\n",
       "      <th>vendor_id</th>\n",
       "      <td>0.0</td>\n",
       "      <td>0.000000</td>\n",
       "      <td>0.000000</td>\n",
       "      <td>0.000000</td>\n",
       "      <td>0.000000</td>\n",
       "    </tr>\n",
       "    <tr>\n",
       "      <th>week</th>\n",
       "      <td>0.0</td>\n",
       "      <td>229.666667</td>\n",
       "      <td>0.382353</td>\n",
       "      <td>0.313725</td>\n",
       "      <td>204.543909</td>\n",
       "    </tr>\n",
       "    <tr>\n",
       "      <th>summer_dummy</th>\n",
       "      <td>0.0</td>\n",
       "      <td>0.382353</td>\n",
       "      <td>0.191176</td>\n",
       "      <td>0.127451</td>\n",
       "      <td>50.542365</td>\n",
       "    </tr>\n",
       "    <tr>\n",
       "      <th>price</th>\n",
       "      <td>0.0</td>\n",
       "      <td>0.313725</td>\n",
       "      <td>0.127451</td>\n",
       "      <td>0.415535</td>\n",
       "      <td>-12.977568</td>\n",
       "    </tr>\n",
       "    <tr>\n",
       "      <th>sales</th>\n",
       "      <td>0.0</td>\n",
       "      <td>204.543909</td>\n",
       "      <td>50.542365</td>\n",
       "      <td>-12.977568</td>\n",
       "      <td>62758.194765</td>\n",
       "    </tr>\n",
       "  </tbody>\n",
       "</table>\n",
       "</div>"
      ],
      "text/plain": [
       "              vendor_id        week  summer_dummy      price         sales\n",
       "vendor_id           0.0    0.000000      0.000000   0.000000      0.000000\n",
       "week                0.0  229.666667      0.382353   0.313725    204.543909\n",
       "summer_dummy        0.0    0.382353      0.191176   0.127451     50.542365\n",
       "price               0.0    0.313725      0.127451   0.415535    -12.977568\n",
       "sales               0.0  204.543909     50.542365 -12.977568  62758.194765"
      ]
     },
     "execution_count": 72,
     "metadata": {},
     "output_type": "execute_result"
    }
   ],
   "source": [
    "demand_data.loc[demand_data.vendor_id == 1].cov()"
   ]
  },
  {
   "cell_type": "markdown",
   "metadata": {},
   "source": [
    "<font size=\"4\"><b>Question 2.</b> Repeat the two regressions that you just ran in question 1, but now use data only for vendor 2. In the case of the regression with the summer dummy, you should find that there might be multicollinearity problems. Why does this happen? </font>\n",
    "\n",
    "In the case of the regression with the summer dummy, there exist multicollinearity problems because vendor 2 systematically prices their products higher during the summer months. This means that there is a perfect correlation between price and summer_dummy which gives rise to multicollinearity."
   ]
  },
  {
   "cell_type": "code",
   "execution_count": 73,
   "metadata": {},
   "outputs": [
    {
     "name": "stdout",
     "output_type": "stream",
     "text": [
      "                            OLS Regression Results                            \n",
      "==============================================================================\n",
      "Dep. Variable:                  sales   R-squared:                       0.133\n",
      "Model:                            OLS   Adj. R-squared:                  0.116\n",
      "Method:                 Least Squares   F-statistic:                     7.684\n",
      "Date:                Sun, 11 Feb 2024   Prob (F-statistic):            0.00781\n",
      "Time:                        18:47:49   Log-Likelihood:                -359.10\n",
      "No. Observations:                  52   AIC:                             722.2\n",
      "Df Residuals:                      50   BIC:                             726.1\n",
      "Df Model:                           1                                         \n",
      "Covariance Type:            nonrobust                                         \n",
      "==============================================================================\n",
      "                 coef    std err          t      P>|t|      [0.025      0.975]\n",
      "------------------------------------------------------------------------------\n",
      "Intercept   8411.1748    219.545     38.312      0.000    7970.205    8852.145\n",
      "price        218.6028     78.863      2.772      0.008      60.202     377.004\n",
      "==============================================================================\n",
      "Omnibus:                        1.154   Durbin-Watson:                   2.369\n",
      "Prob(Omnibus):                  0.562   Jarque-Bera (JB):                0.467\n",
      "Skew:                           0.114   Prob(JB):                        0.792\n",
      "Kurtosis:                       3.404   Cond. No.                         20.2\n",
      "==============================================================================\n",
      "\n",
      "Notes:\n",
      "[1] Standard Errors assume that the covariance matrix of the errors is correctly specified.\n"
     ]
    }
   ],
   "source": [
    "model = ols('sales ~ price', data = demand_data.loc[demand_data.vendor_id == 2]).fit()\n",
    "print(model.summary())"
   ]
  },
  {
   "cell_type": "code",
   "execution_count": 74,
   "metadata": {},
   "outputs": [
    {
     "name": "stdout",
     "output_type": "stream",
     "text": [
      "                            OLS Regression Results                            \n",
      "==============================================================================\n",
      "Dep. Variable:                  sales   R-squared:                       0.133\n",
      "Model:                            OLS   Adj. R-squared:                  0.116\n",
      "Method:                 Least Squares   F-statistic:                     7.684\n",
      "Date:                Sun, 11 Feb 2024   Prob (F-statistic):            0.00781\n",
      "Time:                        18:47:49   Log-Likelihood:                -359.10\n",
      "No. Observations:                  52   AIC:                             722.2\n",
      "Df Residuals:                      50   BIC:                             726.1\n",
      "Df Model:                           1                                         \n",
      "Covariance Type:            nonrobust                                         \n",
      "================================================================================\n",
      "                   coef    std err          t      P>|t|      [0.025      0.975]\n",
      "--------------------------------------------------------------------------------\n",
      "Intercept     2105.3159     29.848     70.534      0.000    2045.364    2165.268\n",
      "price         2740.9463     10.951    250.283      0.000    2718.950    2762.943\n",
      "summer_dummy -2522.3436     75.986    -33.195      0.000   -2674.966   -2369.721\n",
      "==============================================================================\n",
      "Omnibus:                        1.154   Durbin-Watson:                   2.369\n",
      "Prob(Omnibus):                  0.562   Jarque-Bera (JB):                0.467\n",
      "Skew:                           0.114   Prob(JB):                        0.792\n",
      "Kurtosis:                       3.404   Cond. No.                     8.19e+15\n",
      "==============================================================================\n",
      "\n",
      "Notes:\n",
      "[1] Standard Errors assume that the covariance matrix of the errors is correctly specified.\n",
      "[2] The smallest eigenvalue is 6.84e-30. This might indicate that there are\n",
      "strong multicollinearity problems or that the design matrix is singular.\n"
     ]
    }
   ],
   "source": [
    "model = ols('sales ~ price + summer_dummy', data = demand_data.loc[demand_data.vendor_id == 2]).fit()\n",
    "print(model.summary())"
   ]
  },
  {
   "cell_type": "code",
   "execution_count": 75,
   "metadata": {},
   "outputs": [
    {
     "data": {
      "text/html": [
       "<div>\n",
       "<style scoped>\n",
       "    .dataframe tbody tr th:only-of-type {\n",
       "        vertical-align: middle;\n",
       "    }\n",
       "\n",
       "    .dataframe tbody tr th {\n",
       "        vertical-align: top;\n",
       "    }\n",
       "\n",
       "    .dataframe thead th {\n",
       "        text-align: right;\n",
       "    }\n",
       "</style>\n",
       "<table border=\"1\" class=\"dataframe\">\n",
       "  <thead>\n",
       "    <tr style=\"text-align: right;\">\n",
       "      <th></th>\n",
       "      <th>vendor_id</th>\n",
       "      <th>week</th>\n",
       "      <th>summer_dummy</th>\n",
       "      <th>price</th>\n",
       "      <th>sales</th>\n",
       "    </tr>\n",
       "  </thead>\n",
       "  <tbody>\n",
       "    <tr>\n",
       "      <th>vendor_id</th>\n",
       "      <td>NaN</td>\n",
       "      <td>NaN</td>\n",
       "      <td>NaN</td>\n",
       "      <td>NaN</td>\n",
       "      <td>NaN</td>\n",
       "    </tr>\n",
       "    <tr>\n",
       "      <th>week</th>\n",
       "      <td>NaN</td>\n",
       "      <td>1.000000</td>\n",
       "      <td>0.057703</td>\n",
       "      <td>0.057703</td>\n",
       "      <td>0.152865</td>\n",
       "    </tr>\n",
       "    <tr>\n",
       "      <th>summer_dummy</th>\n",
       "      <td>NaN</td>\n",
       "      <td>0.057703</td>\n",
       "      <td>1.000000</td>\n",
       "      <td>1.000000</td>\n",
       "      <td>0.364969</td>\n",
       "    </tr>\n",
       "    <tr>\n",
       "      <th>price</th>\n",
       "      <td>NaN</td>\n",
       "      <td>0.057703</td>\n",
       "      <td>1.000000</td>\n",
       "      <td>1.000000</td>\n",
       "      <td>0.364969</td>\n",
       "    </tr>\n",
       "    <tr>\n",
       "      <th>sales</th>\n",
       "      <td>NaN</td>\n",
       "      <td>0.152865</td>\n",
       "      <td>0.364969</td>\n",
       "      <td>0.364969</td>\n",
       "      <td>1.000000</td>\n",
       "    </tr>\n",
       "  </tbody>\n",
       "</table>\n",
       "</div>"
      ],
      "text/plain": [
       "              vendor_id      week  summer_dummy     price     sales\n",
       "vendor_id           NaN       NaN           NaN       NaN       NaN\n",
       "week                NaN  1.000000      0.057703  0.057703  0.152865\n",
       "summer_dummy        NaN  0.057703      1.000000  1.000000  0.364969\n",
       "price               NaN  0.057703      1.000000  1.000000  0.364969\n",
       "sales               NaN  0.152865      0.364969  0.364969  1.000000"
      ]
     },
     "execution_count": 75,
     "metadata": {},
     "output_type": "execute_result"
    }
   ],
   "source": [
    "demand_data.loc[demand_data.vendor_id == 2].corr()"
   ]
  },
  {
   "cell_type": "markdown",
   "metadata": {},
   "source": [
    "<font size=\"4\"><b>Question 3.</b> Suppose that one of the vendors did not systematically charge higher or lower prices in summer. If you were to repeat the analysis you just did for vendors 1 and 2, what would you expect to happen to the price coefficient estimate and its precision in the two regressions with and without the summer dummy? </font>\n",
    "\n",
    "The price coefficient estimate would be the same in both regressions because price and summer_dummy are uncorrelated in this case. Hence, the bias would be zero. However, precision would be higher in the regression with the summer dummy because variance is lower when more variables are added to the regression.\n"
   ]
  }
 ],
 "metadata": {
  "kernelspec": {
   "display_name": "base",
   "language": "python",
   "name": "python3"
  },
  "language_info": {
   "codemirror_mode": {
    "name": "ipython",
    "version": 3
   },
   "file_extension": ".py",
   "mimetype": "text/x-python",
   "name": "python",
   "nbconvert_exporter": "python",
   "pygments_lexer": "ipython3",
   "version": "3.11.5"
  }
 },
 "nbformat": 4,
 "nbformat_minor": 2
}
