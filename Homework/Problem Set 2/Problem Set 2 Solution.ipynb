{
 "cells": [
  {
   "cell_type": "code",
   "execution_count": 17,
   "id": "transsexual-combination",
   "metadata": {
    "scrolled": false
   },
   "outputs": [],
   "source": [
    "import pandas as pd\n",
    "import matplotlib.pyplot as plt\n",
    "import numpy as np\n",
    "import statsmodels.api as sm\n",
    "import statsmodels.formula.api as smf"
   ]
  },
  {
   "cell_type": "code",
   "execution_count": 18,
   "id": "affected-lender",
   "metadata": {
    "scrolled": true
   },
   "outputs": [
    {
     "data": {
      "text/html": [
       "<div>\n",
       "<style scoped>\n",
       "    .dataframe tbody tr th:only-of-type {\n",
       "        vertical-align: middle;\n",
       "    }\n",
       "\n",
       "    .dataframe tbody tr th {\n",
       "        vertical-align: top;\n",
       "    }\n",
       "\n",
       "    .dataframe thead th {\n",
       "        text-align: right;\n",
       "    }\n",
       "</style>\n",
       "<table border=\"1\" class=\"dataframe\">\n",
       "  <thead>\n",
       "    <tr style=\"text-align: right;\">\n",
       "      <th></th>\n",
       "      <th>patient_id</th>\n",
       "      <th>hospital_id</th>\n",
       "      <th>admin_year</th>\n",
       "      <th>patient_died_dummy</th>\n",
       "      <th>startage</th>\n",
       "      <th>female_dummy</th>\n",
       "    </tr>\n",
       "  </thead>\n",
       "  <tbody>\n",
       "    <tr>\n",
       "      <th>0</th>\n",
       "      <td>1</td>\n",
       "      <td>D</td>\n",
       "      <td>2003</td>\n",
       "      <td>0</td>\n",
       "      <td>81</td>\n",
       "      <td>0</td>\n",
       "    </tr>\n",
       "    <tr>\n",
       "      <th>1</th>\n",
       "      <td>2</td>\n",
       "      <td>H</td>\n",
       "      <td>2003</td>\n",
       "      <td>1</td>\n",
       "      <td>67</td>\n",
       "      <td>0</td>\n",
       "    </tr>\n",
       "    <tr>\n",
       "      <th>2</th>\n",
       "      <td>3</td>\n",
       "      <td>A</td>\n",
       "      <td>2003</td>\n",
       "      <td>0</td>\n",
       "      <td>54</td>\n",
       "      <td>0</td>\n",
       "    </tr>\n",
       "    <tr>\n",
       "      <th>3</th>\n",
       "      <td>4</td>\n",
       "      <td>E</td>\n",
       "      <td>2003</td>\n",
       "      <td>0</td>\n",
       "      <td>81</td>\n",
       "      <td>0</td>\n",
       "    </tr>\n",
       "    <tr>\n",
       "      <th>4</th>\n",
       "      <td>5</td>\n",
       "      <td>H</td>\n",
       "      <td>2003</td>\n",
       "      <td>0</td>\n",
       "      <td>69</td>\n",
       "      <td>0</td>\n",
       "    </tr>\n",
       "  </tbody>\n",
       "</table>\n",
       "</div>"
      ],
      "text/plain": [
       "   patient_id hospital_id  admin_year  patient_died_dummy  startage  \\\n",
       "0           1           D        2003                   0        81   \n",
       "1           2           H        2003                   1        67   \n",
       "2           3           A        2003                   0        54   \n",
       "3           4           E        2003                   0        81   \n",
       "4           5           H        2003                   0        69   \n",
       "\n",
       "   female_dummy  \n",
       "0             0  \n",
       "1             0  \n",
       "2             0  \n",
       "3             0  \n",
       "4             0  "
      ]
     },
     "execution_count": 18,
     "metadata": {},
     "output_type": "execute_result"
    }
   ],
   "source": [
    "health_data = pd.read_csv('health_data.csv')\n",
    "health_data.head()"
   ]
  },
  {
   "cell_type": "code",
   "execution_count": 19,
   "id": "stopped-alloy",
   "metadata": {},
   "outputs": [
    {
     "name": "stdout",
     "output_type": "stream",
     "text": [
      "patient_id             int64\n",
      "hospital_id           object\n",
      "admin_year             int64\n",
      "patient_died_dummy     int64\n",
      "startage               int64\n",
      "female_dummy           int64\n",
      "dtype: object\n"
     ]
    }
   ],
   "source": [
    "print(health_data.dtypes)"
   ]
  },
  {
   "cell_type": "markdown",
   "id": "great-queens",
   "metadata": {},
   "source": [
    "# Part 1: Hospital admission & quality of service"
   ]
  },
  {
   "cell_type": "markdown",
   "id": "comic-investment",
   "metadata": {},
   "source": [
    "### Question 1 Answer \n",
    "\n",
    "We start by regressing the patient-died dummy variable on a set of hospital dummies\n"
   ]
  },
  {
   "cell_type": "code",
   "execution_count": 20,
   "id": "equivalent-baking",
   "metadata": {},
   "outputs": [
    {
     "name": "stdout",
     "output_type": "stream",
     "text": [
      "                            OLS Regression Results                            \n",
      "==============================================================================\n",
      "Dep. Variable:     patient_died_dummy   R-squared:                       0.042\n",
      "Model:                            OLS   Adj. R-squared:                  0.042\n",
      "Method:                 Least Squares   F-statistic:                     119.3\n",
      "Date:                Mon, 24 Jan 2022   Prob (F-statistic):          1.75e-220\n",
      "Time:                        16:14:54   Log-Likelihood:                -7416.5\n",
      "No. Observations:               24480   AIC:                         1.485e+04\n",
      "Df Residuals:                   24470   BIC:                         1.493e+04\n",
      "Df Model:                           9                                         \n",
      "Covariance Type:            nonrobust                                         \n",
      "====================================================================================\n",
      "                       coef    std err          t      P>|t|      [0.025      0.975]\n",
      "------------------------------------------------------------------------------------\n",
      "Intercept            0.0970      0.006     16.355      0.000       0.085       0.109\n",
      "hospital_id[T.B]     0.0072      0.008      0.890      0.373      -0.009       0.023\n",
      "hospital_id[T.C]    -0.0483      0.010     -4.776      0.000      -0.068      -0.028\n",
      "hospital_id[T.D]     0.1882      0.008     23.188      0.000       0.172       0.204\n",
      "hospital_id[T.E]    -0.0531      0.011     -4.771      0.000      -0.075      -0.031\n",
      "hospital_id[T.F]     0.0003      0.009      0.030      0.976      -0.017       0.017\n",
      "hospital_id[T.G]     0.0441      0.008      5.273      0.000       0.028       0.061\n",
      "hospital_id[T.H]     0.0038      0.009      0.414      0.679      -0.014       0.022\n",
      "hospital_id[T.I]     0.0318      0.009      3.480      0.001       0.014       0.050\n",
      "hospital_id[T.J]     0.0112      0.011      1.028      0.304      -0.010       0.032\n",
      "==============================================================================\n",
      "Omnibus:                     9228.833   Durbin-Watson:                   2.025\n",
      "Prob(Omnibus):                  0.000   Jarque-Bera (JB):            25954.225\n",
      "Skew:                           2.096   Prob(JB):                         0.00\n",
      "Kurtosis:                       5.807   Cond. No.                         10.0\n",
      "==============================================================================\n",
      "\n",
      "Notes:\n",
      "[1] Standard Errors assume that the covariance matrix of the errors is correctly specified.\n"
     ]
    }
   ],
   "source": [
    "mortality_reg  = smf.ols(formula = 'patient_died_dummy ~ hospital_id',data=health_data) \n",
    "result = mortality_reg .fit()\n",
    "print(result.summary())"
   ]
  },
  {
   "attachments": {},
   "cell_type": "markdown",
   "id": "personal-resolution",
   "metadata": {},
   "source": [
    "**(a)** The intercept can be interpreted as the mortality rate of hospital A. Dummy coefficient for hospital D is the difference in mortality rates at hospital D and hopital A."
   ]
  },
  {
   "attachments": {},
   "cell_type": "markdown",
   "id": "forced-surge",
   "metadata": {},
   "source": [
    "**(b)**  The difference between the mortality rate at hospital D and E is the difference between coefficients of hospital D (0.188) and hopital E (-0.053). Hospital D has a 24.1 percentage points greater mortality rate than hospital E."
   ]
  },
  {
   "cell_type": "markdown",
   "id": "distinguished-decrease",
   "metadata": {},
   "source": [
    "## Causal interpretation (or lack thereof)\n",
    "\n",
    "### Question 2 Answer \n"
   ]
  },
  {
   "cell_type": "code",
   "execution_count": 22,
   "id": "elder-inventory",
   "metadata": {},
   "outputs": [
    {
     "name": "stdout",
     "output_type": "stream",
     "text": [
      "                            OLS Regression Results                            \n",
      "==============================================================================\n",
      "Dep. Variable:     patient_died_dummy   R-squared:                       0.000\n",
      "Model:                            OLS   Adj. R-squared:                 -0.000\n",
      "Method:                 Least Squares   F-statistic:                    0.9377\n",
      "Date:                Mon, 24 Jan 2022   Prob (F-statistic):              0.333\n",
      "Time:                        16:15:32   Log-Likelihood:                -1446.8\n",
      "No. Observations:                6611   AIC:                             2898.\n",
      "Df Residuals:                    6609   BIC:                             2911.\n",
      "Df Model:                           1                                         \n",
      "Covariance Type:            nonrobust                                         \n",
      "====================================================================================\n",
      "                       coef    std err          t      P>|t|      [0.025      0.975]\n",
      "------------------------------------------------------------------------------------\n",
      "Intercept            0.0970      0.005     17.791      0.000       0.086       0.108\n",
      "hospital_id[T.B]     0.0072      0.007      0.968      0.333      -0.007       0.022\n",
      "==============================================================================\n",
      "Omnibus:                     3377.258   Durbin-Watson:                   2.031\n",
      "Prob(Omnibus):                  0.000   Jarque-Bera (JB):            14683.814\n",
      "Skew:                           2.650   Prob(JB):                         0.00\n",
      "Kurtosis:                       8.022   Cond. No.                         2.72\n",
      "==============================================================================\n",
      "\n",
      "Notes:\n",
      "[1] Standard Errors assume that the covariance matrix of the errors is correctly specified.\n"
     ]
    }
   ],
   "source": [
    "mortality_reg_two_hospitals  = smf.ols(formula = 'patient_died_dummy ~ hospital_id',data = health_data, subset =(health_data['hospital_id']==\"A\")|(health_data['hospital_id']==\"B\")) \n",
    "result = mortality_reg_two_hospitals .fit()\n",
    "print(result.summary())"
   ]
  },
  {
   "attachments": {},
   "cell_type": "markdown",
   "id": "assigned-craps",
   "metadata": {},
   "source": [
    "**(a)** Patients with different levels of severity (and thus different probabilities of death) might go to different hospitals."
   ]
  },
  {
   "attachments": {},
   "cell_type": "markdown",
   "id": "three-treat",
   "metadata": {},
   "source": [
    "**(b)** More difficult cases are likely to be treated at the higher quality hospital. This will lead to an underestimation of the true difference in mortality."
   ]
  },
  {
   "attachments": {},
   "cell_type": "markdown",
   "id": "continuing-change",
   "metadata": {},
   "source": [
    "**(c)** We control  for age and gender:"
   ]
  },
  {
   "cell_type": "code",
   "execution_count": 24,
   "id": "appointed-section",
   "metadata": {
    "scrolled": true
   },
   "outputs": [
    {
     "name": "stdout",
     "output_type": "stream",
     "text": [
      "                            OLS Regression Results                            \n",
      "==============================================================================\n",
      "Dep. Variable:     patient_died_dummy   R-squared:                       0.063\n",
      "Model:                            OLS   Adj. R-squared:                  0.062\n",
      "Method:                 Least Squares   F-statistic:                     147.6\n",
      "Date:                Mon, 24 Jan 2022   Prob (F-statistic):           1.43e-92\n",
      "Time:                        16:33:43   Log-Likelihood:                -1232.8\n",
      "No. Observations:                6611   AIC:                             2474.\n",
      "Df Residuals:                    6607   BIC:                             2501.\n",
      "Df Model:                           3                                         \n",
      "Covariance Type:            nonrobust                                         \n",
      "====================================================================================\n",
      "                       coef    std err          t      P>|t|      [0.025      0.975]\n",
      "------------------------------------------------------------------------------------\n",
      "Intercept            0.1165      0.027      4.335      0.000       0.064       0.169\n",
      "hospital_id[T.B]     0.0114      0.007      1.579      0.114      -0.003       0.026\n",
      "startage            -0.0009      0.000     -2.347      0.019      -0.002      -0.000\n",
      "female_dummy         0.1836      0.009     21.015      0.000       0.167       0.201\n",
      "==============================================================================\n",
      "Omnibus:                     3080.506   Durbin-Watson:                   2.037\n",
      "Prob(Omnibus):                  0.000   Jarque-Bera (JB):            12181.285\n",
      "Skew:                           2.411   Prob(JB):                         0.00\n",
      "Kurtosis:                       7.580   Cond. No.                         495.\n",
      "==============================================================================\n",
      "\n",
      "Notes:\n",
      "[1] Standard Errors assume that the covariance matrix of the errors is correctly specified.\n"
     ]
    }
   ],
   "source": [
    "mortality_reg_controls   = smf.ols(formula = 'patient_died_dummy ~ hospital_id + startage + female_dummy',data = health_data, subset =(health_data['hospital_id']==\"A\")|(health_data['hospital_id']==\"B\")) \n",
    "result = mortality_reg_controls.fit()\n",
    "print(result.summary())"
   ]
  },
  {
   "cell_type": "markdown",
   "id": "grateful-blond",
   "metadata": {},
   "source": [
    "After controlling for age and gender, the difference between hospitals A and B increases. Age and gender can serve as proxy for severity of the case, but they are likely to only partially capture case severity."
   ]
  },
  {
   "cell_type": "markdown",
   "id": "miniature-blocking",
   "metadata": {},
   "source": [
    "# Part 2: Demand Estimation"
   ]
  },
  {
   "cell_type": "markdown",
   "id": "empty-belief",
   "metadata": {},
   "source": [
    "### Question 1 Answer "
   ]
  },
  {
   "cell_type": "code",
   "execution_count": 28,
   "id": "brazilian-container",
   "metadata": {},
   "outputs": [
    {
     "data": {
      "text/html": [
       "<div>\n",
       "<style scoped>\n",
       "    .dataframe tbody tr th:only-of-type {\n",
       "        vertical-align: middle;\n",
       "    }\n",
       "\n",
       "    .dataframe tbody tr th {\n",
       "        vertical-align: top;\n",
       "    }\n",
       "\n",
       "    .dataframe thead th {\n",
       "        text-align: right;\n",
       "    }\n",
       "</style>\n",
       "<table border=\"1\" class=\"dataframe\">\n",
       "  <thead>\n",
       "    <tr style=\"text-align: right;\">\n",
       "      <th></th>\n",
       "      <th>vendor_id</th>\n",
       "      <th>week</th>\n",
       "      <th>summer_dummy</th>\n",
       "      <th>price</th>\n",
       "      <th>sales</th>\n",
       "    </tr>\n",
       "  </thead>\n",
       "  <tbody>\n",
       "    <tr>\n",
       "      <th>0</th>\n",
       "      <td>1</td>\n",
       "      <td>1</td>\n",
       "      <td>0</td>\n",
       "      <td>2.0</td>\n",
       "      <td>8788.7383</td>\n",
       "    </tr>\n",
       "    <tr>\n",
       "      <th>1</th>\n",
       "      <td>1</td>\n",
       "      <td>2</td>\n",
       "      <td>0</td>\n",
       "      <td>3.0</td>\n",
       "      <td>8937.9863</td>\n",
       "    </tr>\n",
       "    <tr>\n",
       "      <th>2</th>\n",
       "      <td>1</td>\n",
       "      <td>3</td>\n",
       "      <td>0</td>\n",
       "      <td>3.0</td>\n",
       "      <td>8740.1777</td>\n",
       "    </tr>\n",
       "    <tr>\n",
       "      <th>3</th>\n",
       "      <td>1</td>\n",
       "      <td>4</td>\n",
       "      <td>0</td>\n",
       "      <td>3.0</td>\n",
       "      <td>8757.1338</td>\n",
       "    </tr>\n",
       "    <tr>\n",
       "      <th>4</th>\n",
       "      <td>1</td>\n",
       "      <td>5</td>\n",
       "      <td>0</td>\n",
       "      <td>3.0</td>\n",
       "      <td>8739.6104</td>\n",
       "    </tr>\n",
       "  </tbody>\n",
       "</table>\n",
       "</div>"
      ],
      "text/plain": [
       "   vendor_id  week  summer_dummy  price      sales\n",
       "0          1     1             0    2.0  8788.7383\n",
       "1          1     2             0    3.0  8937.9863\n",
       "2          1     3             0    3.0  8740.1777\n",
       "3          1     4             0    3.0  8757.1338\n",
       "4          1     5             0    3.0  8739.6104"
      ]
     },
     "execution_count": 28,
     "metadata": {},
     "output_type": "execute_result"
    }
   ],
   "source": [
    "demand_data = pd.read_csv(\"demand_data.csv\") \n",
    "demand_data.head()"
   ]
  },
  {
   "cell_type": "code",
   "execution_count": 27,
   "id": "structural-market",
   "metadata": {},
   "outputs": [
    {
     "name": "stdout",
     "output_type": "stream",
     "text": [
      "vendor_id         int64\n",
      "week              int64\n",
      "summer_dummy      int64\n",
      "price           float64\n",
      "sales           float64\n",
      "dtype: object\n"
     ]
    }
   ],
   "source": [
    "print(demand_data.dtypes)"
   ]
  },
  {
   "cell_type": "code",
   "execution_count": 35,
   "id": "pointed-costa",
   "metadata": {
    "scrolled": true
   },
   "outputs": [
    {
     "name": "stdout",
     "output_type": "stream",
     "text": [
      "                            OLS Regression Results                            \n",
      "==============================================================================\n",
      "Dep. Variable:                  sales   R-squared:                       0.006\n",
      "Model:                            OLS   Adj. R-squared:                 -0.013\n",
      "Method:                 Least Squares   F-statistic:                    0.3250\n",
      "Date:                Mon, 24 Jan 2022   Prob (F-statistic):              0.571\n",
      "Time:                        16:50:54   Log-Likelihood:                -360.33\n",
      "No. Observations:                  52   AIC:                             724.7\n",
      "Df Residuals:                      50   BIC:                             728.6\n",
      "Df Model:                           1                                         \n",
      "Covariance Type:            nonrobust                                         \n",
      "==============================================================================\n",
      "                 coef    std err          t      P>|t|      [0.025      0.975]\n",
      "------------------------------------------------------------------------------\n",
      "Intercept   8983.8227    145.437     61.771      0.000    8691.704    9275.941\n",
      "price        -31.2310     54.782     -0.570      0.571    -141.264      78.802\n",
      "==============================================================================\n",
      "Omnibus:                        3.319   Durbin-Watson:                   1.572\n",
      "Prob(Omnibus):                  0.190   Jarque-Bera (JB):                2.367\n",
      "Skew:                           0.346   Prob(JB):                        0.306\n",
      "Kurtosis:                       3.784   Cond. No.                         12.5\n",
      "==============================================================================\n",
      "\n",
      "Notes:\n",
      "[1] Standard Errors assume that the covariance matrix of the errors is correctly specified.\n"
     ]
    }
   ],
   "source": [
    "# vendor 1 regression w/o summer control \n",
    "vendor1_univar_reg = smf.ols(formula=\"sales ~ price\", data = demand_data[demand_data[\"vendor_id\"]==1])\n",
    "result =  vendor1_univar_reg.fit()\n",
    "print(result.summary())"
   ]
  },
  {
   "cell_type": "code",
   "execution_count": 36,
   "id": "diagnostic-broadcast",
   "metadata": {
    "scrolled": true
   },
   "outputs": [
    {
     "name": "stdout",
     "output_type": "stream",
     "text": [
      "                            OLS Regression Results                            \n",
      "==============================================================================\n",
      "Dep. Variable:                  sales   R-squared:                       0.318\n",
      "Model:                            OLS   Adj. R-squared:                  0.290\n",
      "Method:                 Least Squares   F-statistic:                     11.42\n",
      "Date:                Mon, 24 Jan 2022   Prob (F-statistic):           8.49e-05\n",
      "Time:                        16:51:01   Log-Likelihood:                -350.56\n",
      "No. Observations:                  52   AIC:                             707.1\n",
      "Df Residuals:                      49   BIC:                             713.0\n",
      "Df Model:                           2                                         \n",
      "Covariance Type:            nonrobust                                         \n",
      "================================================================================\n",
      "                   coef    std err          t      P>|t|      [0.025      0.975]\n",
      "--------------------------------------------------------------------------------\n",
      "Intercept     9177.5500    128.432     71.458      0.000    8919.455    9435.644\n",
      "price         -141.1887     51.407     -2.746      0.008    -244.496     -37.882\n",
      "summer_dummy   358.5012     75.790      4.730      0.000     206.195     510.807\n",
      "==============================================================================\n",
      "Omnibus:                        0.027   Durbin-Watson:                   1.690\n",
      "Prob(Omnibus):                  0.986   Jarque-Bera (JB):                0.078\n",
      "Skew:                           0.039   Prob(JB):                        0.962\n",
      "Kurtosis:                       2.828   Cond. No.                         13.7\n",
      "==============================================================================\n",
      "\n",
      "Notes:\n",
      "[1] Standard Errors assume that the covariance matrix of the errors is correctly specified.\n"
     ]
    }
   ],
   "source": [
    "# vendor 1 regression with summer control \n",
    "vendor1_summer_reg = smf.ols(formula=\"sales ~ price + summer_dummy\", data = demand_data[demand_data[\"vendor_id\"]==1])\n",
    "result = vendor1_summer_reg.fit()\n",
    "print(result.summary())"
   ]
  },
  {
   "attachments": {},
   "cell_type": "markdown",
   "id": "hispanic-russia",
   "metadata": {},
   "source": [
    "Demand and prices are higher in summer. Hence the price coefficient is biased upwards when not controlling for the summer dummy."
   ]
  },
  {
   "cell_type": "markdown",
   "id": "destroyed-intelligence",
   "metadata": {},
   "source": [
    "### Question 2 Answer "
   ]
  },
  {
   "cell_type": "code",
   "execution_count": 37,
   "id": "violent-measure",
   "metadata": {},
   "outputs": [
    {
     "name": "stdout",
     "output_type": "stream",
     "text": [
      "                            OLS Regression Results                            \n",
      "==============================================================================\n",
      "Dep. Variable:                  sales   R-squared:                       0.133\n",
      "Model:                            OLS   Adj. R-squared:                  0.116\n",
      "Method:                 Least Squares   F-statistic:                     7.684\n",
      "Date:                Mon, 24 Jan 2022   Prob (F-statistic):            0.00781\n",
      "Time:                        16:55:42   Log-Likelihood:                -359.10\n",
      "No. Observations:                  52   AIC:                             722.2\n",
      "Df Residuals:                      50   BIC:                             726.1\n",
      "Df Model:                           1                                         \n",
      "Covariance Type:            nonrobust                                         \n",
      "==============================================================================\n",
      "                 coef    std err          t      P>|t|      [0.025      0.975]\n",
      "------------------------------------------------------------------------------\n",
      "Intercept   8411.1748    219.545     38.312      0.000    7970.205    8852.145\n",
      "price        218.6028     78.863      2.772      0.008      60.202     377.004\n",
      "==============================================================================\n",
      "Omnibus:                        1.154   Durbin-Watson:                   2.369\n",
      "Prob(Omnibus):                  0.562   Jarque-Bera (JB):                0.467\n",
      "Skew:                           0.114   Prob(JB):                        0.792\n",
      "Kurtosis:                       3.404   Cond. No.                         20.2\n",
      "==============================================================================\n",
      "\n",
      "Notes:\n",
      "[1] Standard Errors assume that the covariance matrix of the errors is correctly specified.\n"
     ]
    }
   ],
   "source": [
    "# vendor 2 regression w/o summer control \n",
    "vendor2_univar_reg = smf.ols(formula=\"sales ~ price\", data = demand_data[demand_data[\"vendor_id\"]==2])\n",
    "result =  vendor2_univar_reg.fit()\n",
    "print(result.summary())"
   ]
  },
  {
   "cell_type": "code",
   "execution_count": 40,
   "id": "painful-desert",
   "metadata": {},
   "outputs": [
    {
     "name": "stdout",
     "output_type": "stream",
     "text": [
      "                            OLS Regression Results                            \n",
      "==============================================================================\n",
      "Dep. Variable:                  sales   R-squared:                       0.133\n",
      "Model:                            OLS   Adj. R-squared:                  0.116\n",
      "Method:                 Least Squares   F-statistic:                     7.684\n",
      "Date:                Mon, 24 Jan 2022   Prob (F-statistic):            0.00781\n",
      "Time:                        16:56:31   Log-Likelihood:                -359.10\n",
      "No. Observations:                  52   AIC:                             722.2\n",
      "Df Residuals:                      50   BIC:                             726.1\n",
      "Df Model:                           1                                         \n",
      "Covariance Type:            nonrobust                                         \n",
      "================================================================================\n",
      "                   coef    std err          t      P>|t|      [0.025      0.975]\n",
      "--------------------------------------------------------------------------------\n",
      "Intercept     2105.3159     29.848     70.534      0.000    2045.364    2165.268\n",
      "price         2740.9463     10.951    250.283      0.000    2718.950    2762.943\n",
      "summer_dummy -2522.3436     75.986    -33.195      0.000   -2674.966   -2369.721\n",
      "==============================================================================\n",
      "Omnibus:                        1.154   Durbin-Watson:                   2.369\n",
      "Prob(Omnibus):                  0.562   Jarque-Bera (JB):                0.467\n",
      "Skew:                           0.114   Prob(JB):                        0.792\n",
      "Kurtosis:                       3.404   Cond. No.                     1.33e+16\n",
      "==============================================================================\n",
      "\n",
      "Notes:\n",
      "[1] Standard Errors assume that the covariance matrix of the errors is correctly specified.\n",
      "[2] The smallest eigenvalue is 2.61e-30. This might indicate that there are\n",
      "strong multicollinearity problems or that the design matrix is singular.\n"
     ]
    }
   ],
   "source": [
    "# vendor 2 regression with summer control \n",
    "vendor2_summer_reg = smf.ols(formula=\"sales ~ price + summer_dummy\", data = demand_data[demand_data[\"vendor_id\"]==2])\n",
    "result = vendor2_summer_reg.fit()\n",
    "print(result.summary())"
   ]
  },
  {
   "attachments": {},
   "cell_type": "markdown",
   "id": "european-greeting",
   "metadata": {},
   "source": [
    "Price only takes on two values, one during summer and one outside of summer. Hence the summer dummy and price are perfectly correlated and cannot be estimated separately."
   ]
  },
  {
   "cell_type": "code",
   "execution_count": 41,
   "id": "valuable-committee",
   "metadata": {},
   "outputs": [
    {
     "data": {
      "image/png": "[encoded data removed]",
      "text/plain": [
       "<Figure size 432x288 with 1 Axes>"
      ]
     },
     "metadata": {
      "needs_background": "light"
     },
     "output_type": "display_data"
    }
   ],
   "source": [
    "x = demand_data[demand_data[\"vendor_id\"]==2]['summer_dummy']\n",
    "y = demand_data[demand_data[\"vendor_id\"]==2]['price']\n",
    "plt.plot(x, y, 'o',mfc = 'none') #scatter plot\n",
    "plt.xlabel(\"Rides Requested\")\n",
    "plt.ylabel(\"Rides Accepted\")\n",
    "plt.show()"
   ]
  },
  {
   "cell_type": "code",
   "execution_count": 42,
   "id": "abstract-chinese",
   "metadata": {},
   "outputs": [
    {
     "data": {
      "text/plain": [
       "array([[1., 1.],\n",
       "       [1., 1.]])"
      ]
     },
     "execution_count": 42,
     "metadata": {},
     "output_type": "execute_result"
    }
   ],
   "source": [
    "# We can also compute the correlations\n",
    "np.corrcoef(x, y)"
   ]
  },
  {
   "attachments": {},
   "cell_type": "markdown",
   "id": "supposed-folder",
   "metadata": {},
   "source": [
    "### Question 3 Answer \n",
    "Omitted variable bias does not occur because price is uncorrelated with the summer dummy. Including the summer dummy control is still helpful to improve the precision of the estimate."
   ]
  }
 ],
 "metadata": {
  "kernelspec": {
   "display_name": "Python 3",
   "language": "python",
   "name": "python3"
  },
  "language_info": {
   "codemirror_mode": {
    "name": "ipython",
    "version": 3
   },
   "file_extension": ".py",
   "mimetype": "text/x-python",
   "name": "python",
   "nbconvert_exporter": "python",
   "pygments_lexer": "ipython3",
   "version": "3.7.3"
  }
 },
 "nbformat": 4,
 "nbformat_minor": 5
}
