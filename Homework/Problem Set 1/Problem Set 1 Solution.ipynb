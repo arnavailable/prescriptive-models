{
 "cells": [
  {
   "cell_type": "code",
   "execution_count": 5,
   "id": "transsexual-combination",
   "metadata": {
    "scrolled": false
   },
   "outputs": [],
   "source": [
    "import pandas as pd\n",
    "import matplotlib.pyplot as plt\n",
    "import numpy as np\n",
    "import statsmodels.api as sm\n",
    "import statsmodels.formula.api as smf"
   ]
  },
  {
   "cell_type": "code",
   "execution_count": 7,
   "id": "affected-lender",
   "metadata": {
    "scrolled": true
   },
   "outputs": [
    {
     "data": {
      "text/html": [
       "<div>\n",
       "<style scoped>\n",
       "    .dataframe tbody tr th:only-of-type {\n",
       "        vertical-align: middle;\n",
       "    }\n",
       "\n",
       "    .dataframe tbody tr th {\n",
       "        vertical-align: top;\n",
       "    }\n",
       "\n",
       "    .dataframe thead th {\n",
       "        text-align: right;\n",
       "    }\n",
       "</style>\n",
       "<table border=\"1\" class=\"dataframe\">\n",
       "  <thead>\n",
       "    <tr style=\"text-align: right;\">\n",
       "      <th></th>\n",
       "      <th>donation_amount</th>\n",
       "      <th>donation_dummy</th>\n",
       "      <th>control</th>\n",
       "      <th>treatment</th>\n",
       "      <th>match_ratio</th>\n",
       "      <th>ratio1</th>\n",
       "      <th>ratio2</th>\n",
       "      <th>ratio3</th>\n",
       "      <th>red_state_dummy</th>\n",
       "      <th>months_since_last_donation</th>\n",
       "      <th>highest_previous_donation</th>\n",
       "      <th>prior_donations_num</th>\n",
       "    </tr>\n",
       "  </thead>\n",
       "  <tbody>\n",
       "    <tr>\n",
       "      <th>0</th>\n",
       "      <td>0.0</td>\n",
       "      <td>0.0</td>\n",
       "      <td>0.0</td>\n",
       "      <td>1.0</td>\n",
       "      <td>1.0</td>\n",
       "      <td>1</td>\n",
       "      <td>0.0</td>\n",
       "      <td>0.0</td>\n",
       "      <td>1.0</td>\n",
       "      <td>19.0</td>\n",
       "      <td>500.0</td>\n",
       "      <td>32.0</td>\n",
       "    </tr>\n",
       "    <tr>\n",
       "      <th>1</th>\n",
       "      <td>0.0</td>\n",
       "      <td>0.0</td>\n",
       "      <td>1.0</td>\n",
       "      <td>0.0</td>\n",
       "      <td>0.0</td>\n",
       "      <td>0</td>\n",
       "      <td>0.0</td>\n",
       "      <td>0.0</td>\n",
       "      <td>1.0</td>\n",
       "      <td>29.0</td>\n",
       "      <td>300.0</td>\n",
       "      <td>22.0</td>\n",
       "    </tr>\n",
       "    <tr>\n",
       "      <th>2</th>\n",
       "      <td>0.0</td>\n",
       "      <td>0.0</td>\n",
       "      <td>1.0</td>\n",
       "      <td>0.0</td>\n",
       "      <td>0.0</td>\n",
       "      <td>0</td>\n",
       "      <td>0.0</td>\n",
       "      <td>0.0</td>\n",
       "      <td>1.0</td>\n",
       "      <td>3.0</td>\n",
       "      <td>500.0</td>\n",
       "      <td>22.0</td>\n",
       "    </tr>\n",
       "    <tr>\n",
       "      <th>3</th>\n",
       "      <td>0.0</td>\n",
       "      <td>0.0</td>\n",
       "      <td>0.0</td>\n",
       "      <td>1.0</td>\n",
       "      <td>3.0</td>\n",
       "      <td>0</td>\n",
       "      <td>0.0</td>\n",
       "      <td>1.0</td>\n",
       "      <td>0.0</td>\n",
       "      <td>4.0</td>\n",
       "      <td>250.0</td>\n",
       "      <td>29.0</td>\n",
       "    </tr>\n",
       "    <tr>\n",
       "      <th>4</th>\n",
       "      <td>0.0</td>\n",
       "      <td>0.0</td>\n",
       "      <td>0.0</td>\n",
       "      <td>1.0</td>\n",
       "      <td>2.0</td>\n",
       "      <td>0</td>\n",
       "      <td>1.0</td>\n",
       "      <td>0.0</td>\n",
       "      <td>0.0</td>\n",
       "      <td>8.0</td>\n",
       "      <td>50.0</td>\n",
       "      <td>17.0</td>\n",
       "    </tr>\n",
       "  </tbody>\n",
       "</table>\n",
       "</div>"
      ],
      "text/plain": [
       "   donation_amount  donation_dummy  control  treatment  match_ratio  ratio1  \\\n",
       "0              0.0             0.0      0.0        1.0          1.0       1   \n",
       "1              0.0             0.0      1.0        0.0          0.0       0   \n",
       "2              0.0             0.0      1.0        0.0          0.0       0   \n",
       "3              0.0             0.0      0.0        1.0          3.0       0   \n",
       "4              0.0             0.0      0.0        1.0          2.0       0   \n",
       "\n",
       "   ratio2  ratio3  red_state_dummy  months_since_last_donation  \\\n",
       "0     0.0     0.0              1.0                        19.0   \n",
       "1     0.0     0.0              1.0                        29.0   \n",
       "2     0.0     0.0              1.0                         3.0   \n",
       "3     0.0     1.0              0.0                         4.0   \n",
       "4     1.0     0.0              0.0                         8.0   \n",
       "\n",
       "   highest_previous_donation  prior_donations_num  \n",
       "0                      500.0                 32.0  \n",
       "1                      300.0                 22.0  \n",
       "2                      500.0                 22.0  \n",
       "3                      250.0                 29.0  \n",
       "4                       50.0                 17.0  "
      ]
     },
     "execution_count": 7,
     "metadata": {},
     "output_type": "execute_result"
    }
   ],
   "source": [
    "AB = pd.read_csv('charitable_giving.csv')\n",
    "AB.head()"
   ]
  },
  {
   "cell_type": "markdown",
   "id": "great-queens",
   "metadata": {},
   "source": [
    "# Part 1: Understanding Table 1"
   ]
  },
  {
   "cell_type": "markdown",
   "id": "comic-investment",
   "metadata": {},
   "source": [
    "### Question 1 Answer \n",
    "We can run a regression of the form: \n",
    "$$Y_i = \\beta_0 +\\beta_1 X_i + \\varepsilon_i,$$\n",
    "where $Y_i$ are the moths since last donation and $X_i$ is one if there is treatment and zero otherwise. Under this specification, the coefficient $\\beta_0$ indicates the average moths since last donation in the control group; while $\\beta_1$ is the difference in average moths since last donation between treatment and control. "
   ]
  },
  {
   "cell_type": "code",
   "execution_count": 8,
   "id": "czech-billion",
   "metadata": {},
   "outputs": [
    {
     "name": "stdout",
     "output_type": "stream",
     "text": [
      "                                OLS Regression Results                                \n",
      "======================================================================================\n",
      "Dep. Variable:     months_since_last_donation   R-squared:                       0.000\n",
      "Model:                                    OLS   Adj. R-squared:                 -0.000\n",
      "Method:                         Least Squares   F-statistic:                   0.01428\n",
      "Date:                        Tue, 18 Jan 2022   Prob (F-statistic):              0.905\n",
      "Time:                                23:22:37   Log-Likelihood:            -1.9585e+05\n",
      "No. Observations:                       50082   AIC:                         3.917e+05\n",
      "Df Residuals:                           50080   BIC:                         3.917e+05\n",
      "Df Model:                                   1                                         \n",
      "Covariance Type:                    nonrobust                                         \n",
      "==============================================================================\n",
      "                 coef    std err          t      P>|t|      [0.025      0.975]\n",
      "------------------------------------------------------------------------------\n",
      "Intercept     12.9981      0.094    138.979      0.000      12.815      13.181\n",
      "treatment      0.0137      0.115      0.119      0.905      -0.211       0.238\n",
      "==============================================================================\n",
      "Omnibus:                     8031.352   Durbin-Watson:                   1.714\n",
      "Prob(Omnibus):                  0.000   Jarque-Bera (JB):            12471.135\n",
      "Skew:                           1.163   Prob(JB):                         0.00\n",
      "Kurtosis:                       3.751   Cond. No.                         3.23\n",
      "==============================================================================\n",
      "\n",
      "Notes:\n",
      "[1] Standard Errors assume that the covariance matrix of the errors is correctly specified.\n"
     ]
    }
   ],
   "source": [
    "AB_month_reg  = smf.ols(formula = 'months_since_last_donation ~ treatment',data=AB) \n",
    "#AB_month_reg_result = AB_month_reg.fit(cov_type='hc0')\n",
    "AB_month_reg_result = AB_month_reg .fit()\n",
    "print(AB_month_reg_result.summary())"
   ]
  },
  {
   "cell_type": "markdown",
   "id": "personal-resolution",
   "metadata": {
    "variables": {
     "AB_month_reg_result.params[0]": "12.998142266434943",
     "AB_month_reg_result.params[1]": "0.013685851546782406"
    }
   },
   "source": [
    "The intercept ({{AB_month_reg_result.params[0]}}) represents the average value for the control group. The treatment coefficient ({{AB_month_reg_result.params[1]}}) represents the difference between treatment and control group. Table 1 of the paper reports the averages for each group rather than the difference. \n"
   ]
  },
  {
   "cell_type": "markdown",
   "id": "distinguished-decrease",
   "metadata": {},
   "source": [
    "### Question 2 Answer \n",
    "\n",
    "The difference is not statistically significantly different because the p-value is greater than 0.05. This is as expected because treatment was randomly assigned."
   ]
  },
  {
   "cell_type": "markdown",
   "id": "modified-activation",
   "metadata": {},
   "source": [
    "### Question 3 Answer \n",
    "\n",
    "Table 1 represents a randomization check. It shows that variables listed in the table do not differ significantly between the treatment and control groups."
   ]
  },
  {
   "cell_type": "markdown",
   "id": "miniature-blocking",
   "metadata": {},
   "source": [
    "# Part 2: Response Rate Regressions"
   ]
  },
  {
   "cell_type": "markdown",
   "id": "empty-belief",
   "metadata": {},
   "source": [
    "### Question 1 Answer \n",
    "\n",
    "We run the following regression \n",
    "$$\n",
    "\\text{donation_dummy}_i = \\beta_0 +\\beta_1\\text{treatment_dummy}_i +\\varepsilon_i\n",
    "$$"
   ]
  },
  {
   "cell_type": "code",
   "execution_count": 42,
   "id": "suburban-gnome",
   "metadata": {},
   "outputs": [
    {
     "name": "stdout",
     "output_type": "stream",
     "text": [
      "                            OLS Regression Results                            \n",
      "==============================================================================\n",
      "Dep. Variable:         donation_dummy   R-squared:                       0.000\n",
      "Model:                            OLS   Adj. R-squared:                  0.000\n",
      "Method:                 Least Squares   F-statistic:                     9.618\n",
      "Date:                Tue, 11 Jan 2022   Prob (F-statistic):            0.00193\n",
      "Time:                        15:05:37   Log-Likelihood:                 26630.\n",
      "No. Observations:               50083   AIC:                        -5.326e+04\n",
      "Df Residuals:                   50081   BIC:                        -5.324e+04\n",
      "Df Model:                           1                                         \n",
      "Covariance Type:            nonrobust                                         \n",
      "==============================================================================\n",
      "                 coef    std err          t      P>|t|      [0.025      0.975]\n",
      "------------------------------------------------------------------------------\n",
      "Intercept      0.0179      0.001     16.225      0.000       0.016       0.020\n",
      "treatment      0.0042      0.001      3.101      0.002       0.002       0.007\n",
      "==============================================================================\n",
      "Omnibus:                    59814.280   Durbin-Watson:                   1.997\n",
      "Prob(Omnibus):                  0.000   Jarque-Bera (JB):          4317152.727\n",
      "Skew:                           6.740   Prob(JB):                         0.00\n",
      "Kurtosis:                      46.440   Cond. No.                         3.23\n",
      "==============================================================================\n",
      "\n",
      "Notes:\n",
      "[1] Standard Errors assume that the covariance matrix of the errors is correctly specified.\n"
     ]
    }
   ],
   "source": [
    "AB_dd_reg  = smf.ols(formula = 'donation_dummy ~ treatment',data = AB) \n",
    "#AB_dd_reg_result = AB_dd_reg.fit(cov_type='hc0')\n",
    "AB_dd_reg_result = AB_dd_reg.fit()\n",
    "print(AB_dd_reg_result.summary())"
   ]
  },
  {
   "cell_type": "markdown",
   "id": "hispanic-russia",
   "metadata": {
    "variables": {
     "AB_dd_reg_result.params[0]": "0.017858212980164177",
     "AB_dd_reg_result.params[1]": "0.004180354512948747"
    }
   },
   "source": [
    "Intercept ({{AB_dd_reg_result.params[0]}}) represents the average response rate in the control group. Treatment coefficient ({{AB_dd_reg_result.params[1]}}) captures the percentage point difference in the response rate in treatment versus control. The first two columns of Table 2a report the average response rates in the treatment and control groups."
   ]
  },
  {
   "cell_type": "markdown",
   "id": "destroyed-intelligence",
   "metadata": {},
   "source": [
    "### Question 2 Answer \n",
    "\n",
    "We run the following regression \n",
    "$$\n",
    "\\text{donation_dummy}_i = \\beta_0 +\\beta_1\\text{ratio1}_i + \\beta_2\\text{ratio2}_i +\\beta_3\\text{ratio3}_i +\\varepsilon_i\n",
    "$$"
   ]
  },
  {
   "cell_type": "code",
   "execution_count": 43,
   "id": "violent-measure",
   "metadata": {},
   "outputs": [
    {
     "name": "stdout",
     "output_type": "stream",
     "text": [
      "                            OLS Regression Results                            \n",
      "==============================================================================\n",
      "Dep. Variable:         donation_dummy   R-squared:                       0.000\n",
      "Model:                            OLS   Adj. R-squared:                  0.000\n",
      "Method:                 Least Squares   F-statistic:                     3.665\n",
      "Date:                Tue, 11 Jan 2022   Prob (F-statistic):             0.0118\n",
      "Time:                        15:05:37   Log-Likelihood:                 26630.\n",
      "No. Observations:               50083   AIC:                        -5.325e+04\n",
      "Df Residuals:                   50079   BIC:                        -5.322e+04\n",
      "Df Model:                           3                                         \n",
      "Covariance Type:            nonrobust                                         \n",
      "==============================================================================\n",
      "                 coef    std err          t      P>|t|      [0.025      0.975]\n",
      "------------------------------------------------------------------------------\n",
      "Intercept      0.0179      0.001     16.225      0.000       0.016       0.020\n",
      "ratio1         0.0029      0.002      1.661      0.097      -0.001       0.006\n",
      "ratio2         0.0048      0.002      2.744      0.006       0.001       0.008\n",
      "ratio3         0.0049      0.002      2.802      0.005       0.001       0.008\n",
      "==============================================================================\n",
      "Omnibus:                    59812.754   Durbin-Watson:                   1.997\n",
      "Prob(Omnibus):                  0.000   Jarque-Bera (JB):          4316693.217\n",
      "Skew:                           6.740   Prob(JB):                         0.00\n",
      "Kurtosis:                      46.438   Cond. No.                         4.26\n",
      "==============================================================================\n",
      "\n",
      "Notes:\n",
      "[1] Standard Errors assume that the covariance matrix of the errors is correctly specified.\n"
     ]
    }
   ],
   "source": [
    "AB_mratio_reg    = smf.ols(formula = 'donation_dummy ~ ratio1 + ratio2 +  ratio3',data = AB) \n",
    "#AB_mratio_reg_result = AB_mratio_reg.fit(cov_type='hc0')\n",
    "AB_mratio_reg_result = AB_mratio_reg.fit()\n",
    "print(AB_mratio_reg_result.summary())"
   ]
  },
  {
   "cell_type": "markdown",
   "id": "quiet-technology",
   "metadata": {},
   "source": [
    "Intercept represents average response rate in the control group. The match ratio dummies represent difference in response rate for each match ratio group relative to the control group."
   ]
  },
  {
   "cell_type": "markdown",
   "id": "every-marker",
   "metadata": {
    "variables": {
     "AB_mratio_reg_result.params[2]-AB_mratio_reg_result.params[1]": "0.0018842510217150213"
    }
   },
   "source": [
    "### Question 3 Answer \n",
    "\n",
    "The response rate difference between the 1:1 and 2:1 match ratio groups is {{AB_mratio_reg_result.params[2]-AB_mratio_reg_result.params[1]}}. Simply take the difference between the 1:1 and 2:1 coefficients from the previous regression."
   ]
  },
  {
   "cell_type": "markdown",
   "id": "organized-cherry",
   "metadata": {},
   "source": [
    "### Question 4 Answer \n",
    "\n",
    "Matching leads to more donations, but increasing the match ratio beyond 1:1 has relatively little impact (there is a smaller effect when increasing from 1:1 to 2:1 and almost no further effect when increasing from 2:1 to 3:1)."
   ]
  },
  {
   "cell_type": "markdown",
   "id": "verbal-catalyst",
   "metadata": {},
   "source": [
    "# Part 3: Response Rates in Red/Blue States"
   ]
  },
  {
   "cell_type": "markdown",
   "id": "raised-temperature",
   "metadata": {},
   "source": [
    "### Question 1 Answer "
   ]
  },
  {
   "cell_type": "code",
   "execution_count": 44,
   "id": "accredited-stamp",
   "metadata": {},
   "outputs": [
    {
     "name": "stdout",
     "output_type": "stream",
     "text": [
      "                            OLS Regression Results                            \n",
      "==============================================================================\n",
      "Dep. Variable:         donation_dummy   R-squared:                       0.000\n",
      "Model:                            OLS   Adj. R-squared:                 -0.000\n",
      "Method:                 Least Squares   F-statistic:                    0.3567\n",
      "Date:                Tue, 11 Jan 2022   Prob (F-statistic):              0.550\n",
      "Time:                        15:05:39   Log-Likelihood:                 15783.\n",
      "No. Observations:               29806   AIC:                        -3.156e+04\n",
      "Df Residuals:                   29804   BIC:                        -3.155e+04\n",
      "Df Model:                           1                                         \n",
      "Covariance Type:            nonrobust                                         \n",
      "==============================================================================\n",
      "                 coef    std err          t      P>|t|      [0.025      0.975]\n",
      "------------------------------------------------------------------------------\n",
      "Intercept      0.0200      0.001     14.085      0.000       0.017       0.023\n",
      "treatment      0.0010      0.002      0.597      0.550      -0.002       0.004\n",
      "==============================================================================\n",
      "Omnibus:                    35568.600   Durbin-Watson:                   1.996\n",
      "Prob(Omnibus):                  0.000   Jarque-Bera (JB):          2547856.644\n",
      "Skew:                           6.727   Prob(JB):                         0.00\n",
      "Kurtosis:                      46.250   Cond. No.                         3.21\n",
      "==============================================================================\n",
      "\n",
      "Notes:\n",
      "[1] Standard Errors assume that the covariance matrix of the errors is correctly specified.\n"
     ]
    }
   ],
   "source": [
    "AB_dd_blue_reg = smf.ols(formula=\"donation_dummy ~ treatment\", data=AB[AB[\"red_state_dummy\"]==0])\n",
    "AB_dd_blue_reg_result = AB_dd_blue_reg.fit()\n",
    "print(AB_dd_blue_reg_result.summary())"
   ]
  },
  {
   "cell_type": "code",
   "execution_count": 45,
   "id": "covered-protest",
   "metadata": {},
   "outputs": [
    {
     "name": "stdout",
     "output_type": "stream",
     "text": [
      "                            OLS Regression Results                            \n",
      "==============================================================================\n",
      "Dep. Variable:         donation_dummy   R-squared:                       0.001\n",
      "Model:                            OLS   Adj. R-squared:                  0.001\n",
      "Method:                 Least Squares   F-statistic:                     17.24\n",
      "Date:                Tue, 11 Jan 2022   Prob (F-statistic):           3.31e-05\n",
      "Time:                        15:05:39   Log-Likelihood:                 10839.\n",
      "No. Observations:               20242   AIC:                        -2.167e+04\n",
      "Df Residuals:                   20240   BIC:                        -2.166e+04\n",
      "Df Model:                           1                                         \n",
      "Covariance Type:            nonrobust                                         \n",
      "==============================================================================\n",
      "                 coef    std err          t      P>|t|      [0.025      0.975]\n",
      "------------------------------------------------------------------------------\n",
      "Intercept      0.0146      0.002      8.398      0.000       0.011       0.018\n",
      "treatment      0.0088      0.002      4.152      0.000       0.005       0.013\n",
      "==============================================================================\n",
      "Omnibus:                    24251.343   Durbin-Watson:                   2.002\n",
      "Prob(Omnibus):                  0.000   Jarque-Bera (JB):          1766349.071\n",
      "Skew:                           6.759   Prob(JB):                         0.00\n",
      "Kurtosis:                      46.721   Cond. No.                         3.25\n",
      "==============================================================================\n",
      "\n",
      "Notes:\n",
      "[1] Standard Errors assume that the covariance matrix of the errors is correctly specified.\n"
     ]
    }
   ],
   "source": [
    "AB_dd_red_reg = smf.ols(formula=\"donation_dummy ~ treatment\", data=AB[AB[\"red_state_dummy\"]==1])\n",
    "AB_dd_red_reg_result = AB_dd_red_reg.fit()\n",
    "print(AB_dd_red_reg_result.summary())"
   ]
  },
  {
   "cell_type": "markdown",
   "id": "anonymous-dancing",
   "metadata": {
    "variables": {
     "AB_dd_blue_reg_result.params[0]": "0.02004187855219863",
     "AB_dd_red_reg_result.params[1]": "0.008801818845894871"
    }
   },
   "source": [
    "Treatment is more effective in red states because the treatment coefficient is larger for red states ({{AB_dd_red_reg_result.params[1]}}) than for blue states ({{AB_dd_blue_reg_result.params[0]}})."
   ]
  },
  {
   "cell_type": "markdown",
   "id": "intellectual-absorption",
   "metadata": {},
   "source": [
    "### Question 2 Answer \n",
    "\n"
   ]
  },
  {
   "cell_type": "markdown",
   "id": "statewide-homework",
   "metadata": {},
   "source": [
    "Yes, sub-sample treatment coefficients do have a causal interpretation because treatment is still random in each sub-sample. However, the difference in treatment effects cannot be causally attributed to the political leaning of states because political orientation is not randomly assigned."
   ]
  },
  {
   "cell_type": "markdown",
   "id": "considerable-world",
   "metadata": {},
   "source": [
    "# Part 4: Response Rates and Donation Amount"
   ]
  },
  {
   "cell_type": "markdown",
   "id": "paperback-distance",
   "metadata": {},
   "source": [
    "### Question 1 Answer \n",
    "\n",
    "We run the following regression \n",
    "$$\n",
    "\\text{donation_amount}_i = \\beta_0 +\\beta_1\\text{treatment_dummy}_i +\\varepsilon_i\n",
    "$$"
   ]
  },
  {
   "cell_type": "code",
   "execution_count": 46,
   "id": "least-universal",
   "metadata": {},
   "outputs": [
    {
     "name": "stdout",
     "output_type": "stream",
     "text": [
      "                            OLS Regression Results                            \n",
      "==============================================================================\n",
      "Dep. Variable:        donation_amount   R-squared:                       0.000\n",
      "Model:                            OLS   Adj. R-squared:                  0.000\n",
      "Method:                 Least Squares   F-statistic:                     3.461\n",
      "Date:                Tue, 11 Jan 2022   Prob (F-statistic):             0.0628\n",
      "Time:                        15:05:41   Log-Likelihood:            -1.7946e+05\n",
      "No. Observations:               50083   AIC:                         3.589e+05\n",
      "Df Residuals:                   50081   BIC:                         3.589e+05\n",
      "Df Model:                           1                                         \n",
      "Covariance Type:            nonrobust                                         \n",
      "==============================================================================\n",
      "                 coef    std err          t      P>|t|      [0.025      0.975]\n",
      "------------------------------------------------------------------------------\n",
      "Intercept      0.8133      0.067     12.063      0.000       0.681       0.945\n",
      "treatment      0.1536      0.083      1.861      0.063      -0.008       0.315\n",
      "==============================================================================\n",
      "Omnibus:                    96861.113   Durbin-Watson:                   1.987\n",
      "Prob(Omnibus):                  0.000   Jarque-Bera (JB):        240735713.630\n",
      "Skew:                          15.297   Prob(JB):                         0.00\n",
      "Kurtosis:                     341.269   Cond. No.                         3.23\n",
      "==============================================================================\n",
      "\n",
      "Notes:\n",
      "[1] Standard Errors assume that the covariance matrix of the errors is correctly specified.\n"
     ]
    }
   ],
   "source": [
    "AB_amount_reg  = smf.ols(formula=\"donation_amount ~ treatment\", data=AB)\n",
    "AB_amount_reg_result = AB_amount_reg.fit()\n",
    "print(AB_amount_reg_result.summary())"
   ]
  },
  {
   "cell_type": "markdown",
   "id": "standard-medicaid",
   "metadata": {},
   "source": [
    "Treated donors, on average, donate $\\$0.15$ dollars more than control-group donors, who give $\\$0.81$ on average. This difference has a causal interpretation because the regression is based on the full sample where treatment is randomly assigned."
   ]
  },
  {
   "cell_type": "markdown",
   "id": "welsh-humor",
   "metadata": {},
   "source": [
    "### Question 2 Answer \n",
    "\n"
   ]
  },
  {
   "cell_type": "code",
   "execution_count": 47,
   "id": "increased-baker",
   "metadata": {},
   "outputs": [
    {
     "name": "stdout",
     "output_type": "stream",
     "text": [
      "                            OLS Regression Results                            \n",
      "==============================================================================\n",
      "Dep. Variable:        donation_amount   R-squared:                       0.000\n",
      "Model:                            OLS   Adj. R-squared:                 -0.001\n",
      "Method:                 Least Squares   F-statistic:                    0.3374\n",
      "Date:                Tue, 11 Jan 2022   Prob (F-statistic):              0.561\n",
      "Time:                        15:05:42   Log-Likelihood:                -5326.8\n",
      "No. Observations:                1034   AIC:                         1.066e+04\n",
      "Df Residuals:                    1032   BIC:                         1.067e+04\n",
      "Df Model:                           1                                         \n",
      "Covariance Type:            nonrobust                                         \n",
      "==============================================================================\n",
      "                 coef    std err          t      P>|t|      [0.025      0.975]\n",
      "------------------------------------------------------------------------------\n",
      "Intercept     45.5403      2.423     18.792      0.000      40.785      50.296\n",
      "treatment     -1.6684      2.872     -0.581      0.561      -7.305       3.968\n",
      "==============================================================================\n",
      "Omnibus:                      587.258   Durbin-Watson:                   1.838\n",
      "Prob(Omnibus):                  0.000   Jarque-Bera (JB):             5623.279\n",
      "Skew:                           2.464   Prob(JB):                         0.00\n",
      "Kurtosis:                      13.307   Cond. No.                         3.49\n",
      "==============================================================================\n",
      "\n",
      "Notes:\n",
      "[1] Standard Errors assume that the covariance matrix of the errors is correctly specified.\n"
     ]
    }
   ],
   "source": [
    "AB_conditional_amount_reg   = smf.ols(formula=\"donation_amount ~ treatment\", data=AB[AB[\"donation_dummy\"]==1])\n",
    "AB_conditional_amount_reg_result = AB_conditional_amount_reg.fit()\n",
    "print(AB_conditional_amount_reg_result.summary())"
   ]
  },
  {
   "cell_type": "markdown",
   "id": "streaming-experiment",
   "metadata": {},
   "source": [
    "Untreated donors give $\\$45.54$ on average. Treated donors give $\\$1.67$ less than that. Treatment does not have a causal interpretation because the respondents select whether to donate or not. Therefore, treatment is not randomly assigned within this sub-sample."
   ]
  },
  {
   "cell_type": "code",
   "execution_count": null,
   "id": "favorite-module",
   "metadata": {},
   "outputs": [],
   "source": []
  }
 ],
 "metadata": {
  "kernelspec": {
   "display_name": "Python 3",
   "language": "python",
   "name": "python3"
  },
  "language_info": {
   "codemirror_mode": {
    "name": "ipython",
    "version": 3
   },
   "file_extension": ".py",
   "mimetype": "text/x-python",
   "name": "python",
   "nbconvert_exporter": "python",
   "pygments_lexer": "ipython3",
   "version": "3.7.3"
  }
 },
 "nbformat": 4,
 "nbformat_minor": 5
}
