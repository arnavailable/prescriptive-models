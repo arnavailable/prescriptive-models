{
 "cells": [
  {
   "cell_type": "markdown",
   "id": "light-affair",
   "metadata": {},
   "source": [
    "# Class #1"
   ]
  },
  {
   "cell_type": "markdown",
   "id": "protected-milwaukee",
   "metadata": {},
   "source": [
    "We first import the necessary python modules: we use the data analysis library pandas and statsmodels"
   ]
  },
  {
   "cell_type": "code",
   "execution_count": null,
   "id": "average-transmission",
   "metadata": {},
   "outputs": [],
   "source": [
    "import pandas as pd\n",
    "import matplotlib.pyplot as plt\n",
    "import numpy as np\n",
    "import statsmodels.api as sm\n",
    "import statsmodels.formula.api as smf"
   ]
  },
  {
   "cell_type": "markdown",
   "id": "knowing-means",
   "metadata": {},
   "source": [
    "We read the data set as a data frame and print its head"
   ]
  },
  {
   "cell_type": "code",
   "execution_count": null,
   "id": "saved-suffering",
   "metadata": {},
   "outputs": [],
   "source": []
  },
  {
   "cell_type": "markdown",
   "id": "phantom-morris",
   "metadata": {},
   "source": [
    "We run a simple regression"
   ]
  },
  {
   "cell_type": "code",
   "execution_count": null,
   "id": "infinite-saturn",
   "metadata": {
    "scrolled": true
   },
   "outputs": [],
   "source": []
  },
  {
   "cell_type": "markdown",
   "id": "persistent-regression",
   "metadata": {},
   "source": [
    "We construct a scatter plot and add the regression line"
   ]
  },
  {
   "cell_type": "code",
   "execution_count": null,
   "id": "moved-basis",
   "metadata": {
    "scrolled": true
   },
   "outputs": [],
   "source": []
  },
  {
   "cell_type": "markdown",
   "id": "competent-power",
   "metadata": {},
   "source": [
    "**Q:** Run a regression of cardiac risk on smoking (packs per day). Interpret the intercept and the coefficient estimate on smoking\n"
   ]
  },
  {
   "cell_type": "code",
   "execution_count": null,
   "id": "regular-clear",
   "metadata": {},
   "outputs": [],
   "source": []
  },
  {
   "cell_type": "markdown",
   "id": "flexible-husband",
   "metadata": {},
   "source": [
    "We run a regression with meat and meat^2"
   ]
  },
  {
   "cell_type": "code",
   "execution_count": null,
   "id": "adjustable-switzerland",
   "metadata": {
    "scrolled": true
   },
   "outputs": [],
   "source": []
  },
  {
   "cell_type": "markdown",
   "id": "choice-evolution",
   "metadata": {},
   "source": [
    "**Binary X: Dummy varible**\n",
    "\n",
    "Run a regression of cardiac risk on the female_dummy (variable=1 if respondent is female, 0 otherwise) OR on the male_dummy (not both, because of multicollinearity)\n",
    "\n"
   ]
  },
  {
   "cell_type": "code",
   "execution_count": null,
   "id": "annual-newark",
   "metadata": {},
   "outputs": [],
   "source": []
  }
 ],
 "metadata": {
  "kernelspec": {
   "display_name": "Python 3",
   "language": "python",
   "name": "python3"
  },
  "language_info": {
   "codemirror_mode": {
    "name": "ipython",
    "version": 3
   },
   "file_extension": ".py",
   "mimetype": "text/x-python",
   "name": "python",
   "nbconvert_exporter": "python",
   "pygments_lexer": "ipython3",
   "version": "3.7.3"
  }
 },
 "nbformat": 4,
 "nbformat_minor": 5
}
