{
 "cells": [
  {
   "cell_type": "markdown",
   "id": "processed-million",
   "metadata": {},
   "source": [
    "<center> <h1>Workshop: precision of univariate slope coefficient</h1> </center> "
   ]
  },
  {
   "cell_type": "code",
   "execution_count": 2,
   "id": "sitting-wrong",
   "metadata": {},
   "outputs": [],
   "source": [
    "import pandas as pd\n",
    "import matplotlib.pyplot as plt\n",
    "import numpy as np\n",
    "import statsmodels.api as sm\n",
    "import statsmodels.formula.api as smf\n",
    "import random"
   ]
  },
  {
   "cell_type": "markdown",
   "id": "traditional-airplane",
   "metadata": {},
   "source": [
    "## 1. The true slope coefficient\n",
    "For this exercise we pretend that we actually have access to the population from which a specific sample is drawn. This allows us to study the behavior of different samples drawn from the same population, a key aspect when thinking about the precision of regression estimates. We first load the population data and estimate the regression on the whole population. This regression allows us to obtain the “true” regression relationship which we are hoping to approximate with estimates from a sample."
   ]
  },
  {
   "cell_type": "code",
   "execution_count": 3,
   "id": "original-bowling",
   "metadata": {},
   "outputs": [
    {
     "data": {
      "text/html": [
       "<div>\n",
       "<style scoped>\n",
       "    .dataframe tbody tr th:only-of-type {\n",
       "        vertical-align: middle;\n",
       "    }\n",
       "\n",
       "    .dataframe tbody tr th {\n",
       "        vertical-align: top;\n",
       "    }\n",
       "\n",
       "    .dataframe thead th {\n",
       "        text-align: right;\n",
       "    }\n",
       "</style>\n",
       "<table border=\"1\" class=\"dataframe\">\n",
       "  <thead>\n",
       "    <tr style=\"text-align: right;\">\n",
       "      <th></th>\n",
       "      <th>user_id</th>\n",
       "      <th>red_meat</th>\n",
       "      <th>cardiac_risk</th>\n",
       "    </tr>\n",
       "  </thead>\n",
       "  <tbody>\n",
       "    <tr>\n",
       "      <th>0</th>\n",
       "      <td>1</td>\n",
       "      <td>5</td>\n",
       "      <td>5.551477</td>\n",
       "    </tr>\n",
       "    <tr>\n",
       "      <th>1</th>\n",
       "      <td>2</td>\n",
       "      <td>5</td>\n",
       "      <td>5.494118</td>\n",
       "    </tr>\n",
       "    <tr>\n",
       "      <th>2</th>\n",
       "      <td>3</td>\n",
       "      <td>5</td>\n",
       "      <td>4.230111</td>\n",
       "    </tr>\n",
       "    <tr>\n",
       "      <th>3</th>\n",
       "      <td>4</td>\n",
       "      <td>3</td>\n",
       "      <td>6.883890</td>\n",
       "    </tr>\n",
       "    <tr>\n",
       "      <th>4</th>\n",
       "      <td>5</td>\n",
       "      <td>1</td>\n",
       "      <td>4.078691</td>\n",
       "    </tr>\n",
       "  </tbody>\n",
       "</table>\n",
       "</div>"
      ],
      "text/plain": [
       "   user_id  red_meat  cardiac_risk\n",
       "0        1         5      5.551477\n",
       "1        2         5      5.494118\n",
       "2        3         5      4.230111\n",
       "3        4         3      6.883890\n",
       "4        5         1      4.078691"
      ]
     },
     "execution_count": 3,
     "metadata": {},
     "output_type": "execute_result"
    }
   ],
   "source": [
    "df = pd.read_csv('red_meat_population.csv')\n",
    "df.head()"
   ]
  },
  {
   "cell_type": "markdown",
   "id": "psychological-humanitarian",
   "metadata": {},
   "source": [
    "**Q:** What is the true slope coefficient (the effect of red meat on cardiac risk in the population regression)?"
   ]
  },
  {
   "cell_type": "code",
   "execution_count": 4,
   "id": "offensive-lying",
   "metadata": {},
   "outputs": [
    {
     "name": "stdout",
     "output_type": "stream",
     "text": [
      "                            OLS Regression Results                            \n",
      "==============================================================================\n",
      "Dep. Variable:           cardiac_risk   R-squared:                       0.053\n",
      "Model:                            OLS   Adj. R-squared:                  0.053\n",
      "Method:                 Least Squares   F-statistic:                     5645.\n",
      "Date:                Sat, 06 Jan 2024   Prob (F-statistic):               0.00\n",
      "Time:                        17:56:12   Log-Likelihood:            -1.4617e+05\n",
      "No. Observations:              100000   AIC:                         2.923e+05\n",
      "Df Residuals:                   99998   BIC:                         2.924e+05\n",
      "Df Model:                           1                                         \n",
      "Covariance Type:            nonrobust                                         \n",
      "==============================================================================\n",
      "                 coef    std err          t      P>|t|      [0.025      0.975]\n",
      "------------------------------------------------------------------------------\n",
      "Intercept      3.9969      0.006    616.228      0.000       3.984       4.010\n",
      "red_meat       0.1202      0.002     75.133      0.000       0.117       0.123\n",
      "==============================================================================\n",
      "Omnibus:                        1.435   Durbin-Watson:                   2.003\n",
      "Prob(Omnibus):                  0.488   Jarque-Bera (JB):                1.426\n",
      "Skew:                          -0.009   Prob(JB):                        0.490\n",
      "Kurtosis:                       3.007   Cond. No.                         8.33\n",
      "==============================================================================\n",
      "\n",
      "Notes:\n",
      "[1] Standard Errors assume that the covariance matrix of the errors is correctly specified.\n"
     ]
    }
   ],
   "source": [
    "model = smf.ols(formula = 'cardiac_risk ~ red_meat', data = df)\n",
    "result = model.fit()\n",
    "print(result.summary())"
   ]
  },
  {
   "cell_type": "markdown",
   "id": "western-institute",
   "metadata": {
    "variables": {
     "result.params[1]": "0.12020923283429225"
    }
   },
   "source": [
    "**Answer:** The true slope coefficient is : {result.params[1]}"
   ]
  },
  {
   "cell_type": "markdown",
   "id": "continuing-error",
   "metadata": {},
   "source": [
    "## 2. Finite sample unbiasedness and distribution of the slope estimator\n",
    "\n",
    "Now we show the finite sample properties of the slope estimator by randomly drawing many different samples (each sample of size 100) from the population. We want to show the property of unbiasedness (that, on average across these draws, the estimator is close to the true coefficient). We also want to see if the distribution of the estimator across the draws is well approximated by a normal.\n",
    "\n",
    "Here is code to draw 20 different samples of size 100 from the population and obtain 20 different regression coefficients (seeding makes sure you get the same number each time, but the estimates might still differ across different computers due to version differences). Report the distribution of the slope estimator (histogram) and the mean of the estimator across the 20 samples."
   ]
  },
  {
   "cell_type": "code",
   "execution_count": 6,
   "id": "found-landing",
   "metadata": {},
   "outputs": [],
   "source": [
    "coeff_vec = [0]*20\n",
    "random.seed(123)\n",
    "randomlist = random.sample(range(df.shape[0]), 20)\n",
    "for i in range(20):\n",
    "    df_random = df.sample(n = 100,random_state = randomlist[i])\n",
    "    result_20 = smf.ols(formula = 'cardiac_risk ~ red_meat', data = df_random).fit()\n",
    "    coeff_vec[i] = result_20.params[1]"
   ]
  },
  {
   "cell_type": "code",
   "execution_count": 7,
   "id": "normal-deficit",
   "metadata": {
    "scrolled": false
   },
   "outputs": [
    {
     "data": {
      "image/png": "[encoded data removed]",
      "text/plain": [
       "<Figure size 432x288 with 1 Axes>"
      ]
     },
     "metadata": {
      "needs_background": "light"
     },
     "output_type": "display_data"
    }
   ],
   "source": [
    "plt.hist(coeff_vec,edgecolor='black')\n",
    "plt.title('Histogram of coeff_vec') \n",
    "plt.xlabel('coeff_vec') \n",
    "plt.ylabel('Frequency')\n",
    "plt.show()"
   ]
  },
  {
   "cell_type": "markdown",
   "id": "spatial-procedure",
   "metadata": {
    "variables": {
     "np.mean(coeff_vec)": "0.14422882813216115"
    }
   },
   "source": [
    "**Answer:** The mean of the estimator accross the 20 samples is {{np.mean(coeff_vec)}}"
   ]
  },
  {
   "cell_type": "code",
   "execution_count": 8,
   "id": "e34df532",
   "metadata": {},
   "outputs": [
    {
     "data": {
      "text/plain": [
       "0.14422882813216115"
      ]
     },
     "execution_count": 8,
     "metadata": {},
     "output_type": "execute_result"
    }
   ],
   "source": [
    "np.mean(coeff_vec)"
   ]
  },
  {
   "cell_type": "markdown",
   "id": "outside-beatles",
   "metadata": {},
   "source": [
    "Compare the mean coefficient across these 20 samples to the true coefficient and the shape of the distribution to a normal distribution. Then modify the code in order to generate 1000 instead of 20 samples and answer the question again."
   ]
  },
  {
   "cell_type": "code",
   "execution_count": 9,
   "id": "awful-caribbean",
   "metadata": {},
   "outputs": [],
   "source": [
    "samples = 1000\n",
    "coeff_vec_1000 = [0]*samples\n",
    "random.seed(123)\n",
    "randomlist = random.sample(range(df.shape[0]), samples)\n",
    "for i in range(samples):\n",
    "    df_random = df.sample(n = 100,random_state = randomlist[i])\n",
    "    result_1000 = smf.ols(formula = 'cardiac_risk ~ red_meat', data = df_random).fit()\n",
    "    coeff_vec_1000[i] = result_1000.params[1]"
   ]
  },
  {
   "cell_type": "code",
   "execution_count": 10,
   "id": "empty-contribution",
   "metadata": {},
   "outputs": [
    {
     "name": "stdout",
     "output_type": "stream",
     "text": [
      "100000\n"
     ]
    }
   ],
   "source": [
    "print(df.shape[0])"
   ]
  },
  {
   "cell_type": "code",
   "execution_count": 11,
   "id": "retained-gossip",
   "metadata": {
    "scrolled": true
   },
   "outputs": [
    {
     "data": {
      "image/png": "[encoded data removed]",
      "text/plain": [
       "<Figure size 432x288 with 1 Axes>"
      ]
     },
     "metadata": {
      "needs_background": "light"
     },
     "output_type": "display_data"
    }
   ],
   "source": [
    "plt.hist(coeff_vec_1000, bins=15, edgecolor='black')\n",
    "plt.title('Histogram of coeff_vec_1000') \n",
    "plt.xlabel('coeff_vec_1000') \n",
    "plt.ylabel('Frequency')\n",
    "plt.show()"
   ]
  },
  {
   "cell_type": "markdown",
   "id": "sound-grade",
   "metadata": {
    "variables": {
     "np.mean(coeff_vec_1000)": "0.1209759209971235",
     "samples": "1000"
    }
   },
   "source": [
    "**Answer:** The mean of the estimator accross the {{samples}} samples is {{np.mean(coeff_vec_1000)}}"
   ]
  },
  {
   "cell_type": "code",
   "execution_count": 12,
   "id": "9d3fb2fa",
   "metadata": {},
   "outputs": [
    {
     "data": {
      "text/plain": [
       "0.1209759209971235"
      ]
     },
     "execution_count": 12,
     "metadata": {},
     "output_type": "execute_result"
    }
   ],
   "source": [
    "np.mean(coeff_vec_1000)"
   ]
  },
  {
   "cell_type": "markdown",
   "id": "chicken-pepper",
   "metadata": {},
   "source": [
    "**Answer:** Here are the results for 1000 samples, which show that the histogram is closer to a normal distribution than the histogram for 20 samples. This shows why we use the normal distribution to approximate the distribution of regression estimators. The results also show unbiasedness, that is, that the mean of the estimator is close to the true coefficient when computed over a larger number of samples."
   ]
  }
 ],
 "metadata": {
  "kernelspec": {
   "display_name": "Python 3 (ipykernel)",
   "language": "python",
   "name": "python3"
  },
  "language_info": {
   "codemirror_mode": {
    "name": "ipython",
    "version": 3
   },
   "file_extension": ".py",
   "mimetype": "text/x-python",
   "name": "python",
   "nbconvert_exporter": "python",
   "pygments_lexer": "ipython3",
   "version": "3.10.6"
  }
 },
 "nbformat": 4,
 "nbformat_minor": 5
}
