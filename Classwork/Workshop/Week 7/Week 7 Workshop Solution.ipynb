{
 "cells": [
  {
   "cell_type": "markdown",
   "id": "genetic-status",
   "metadata": {},
   "source": [
    "<center> <h1>Workshop: IV</h1> </center> \n",
    "<center> <h2>Application: IV estimation of demand function</h2> </center> "
   ]
  },
  {
   "cell_type": "code",
   "execution_count": 1,
   "id": "intellectual-james",
   "metadata": {},
   "outputs": [],
   "source": [
    "import pandas as pd\n",
    "import matplotlib.pyplot as plt\n",
    "import numpy as np\n",
    "import statsmodels.api as sm\n",
    "import statsmodels.formula.api as smf\n",
    "from scipy import stats\n",
    "from statsmodels.api import add_constant"
   ]
  },
  {
   "cell_type": "code",
   "execution_count": 2,
   "id": "great-dealer",
   "metadata": {},
   "outputs": [],
   "source": [
    "from linearmodels.iv import IV2SLS"
   ]
  },
  {
   "cell_type": "markdown",
   "id": "understood-hacker",
   "metadata": {},
   "source": [
    "### 0. Setup\n",
    "This is an example of demand estimation from Stock and Watson’s textbook. We want to estimate the demand for cigarettes using a dataset containing sales, prices and a number of other variables measured in different U.S. states. \n",
    "You can download the dataset from Canvas.\n",
    "If you are using R, the dataset is contained in the AER package so you don’t need to download it separately.\n",
    "\n",
    "\n",
    "**Description** A data frame containing 48 observations on 7 variables for 2 periods.\n",
    "\n",
    "**state:**\n",
    "Factor indicating state.\n",
    "\n",
    "**year:**\n",
    "Factor indicating year.\n",
    "\n",
    "**cpi:**\n",
    "Consumer price index.\n",
    "\n",
    "**population:**\n",
    "State population.\n",
    "\n",
    "**packs:**\n",
    "Number of packs per capita.\n",
    "\n",
    "**income:**\n",
    "State personal income (total, nominal).\n",
    "\n",
    "**tax:**\n",
    "Average state, federal and average local excise taxes for fiscal year.\n",
    "\n",
    "**price:**\n",
    "Average price during fiscal year, including sales tax.\n",
    "\n",
    "**taxs:**\n",
    "Average excise taxes for fiscal year, including sales tax.\n",
    "\n",
    "\n"
   ]
  },
  {
   "cell_type": "code",
   "execution_count": 3,
   "id": "rental-letter",
   "metadata": {},
   "outputs": [
    {
     "data": {
      "text/html": [
       "<div>\n",
       "<style scoped>\n",
       "    .dataframe tbody tr th:only-of-type {\n",
       "        vertical-align: middle;\n",
       "    }\n",
       "\n",
       "    .dataframe tbody tr th {\n",
       "        vertical-align: top;\n",
       "    }\n",
       "\n",
       "    .dataframe thead th {\n",
       "        text-align: right;\n",
       "    }\n",
       "</style>\n",
       "<table border=\"1\" class=\"dataframe\">\n",
       "  <thead>\n",
       "    <tr style=\"text-align: right;\">\n",
       "      <th></th>\n",
       "      <th>state</th>\n",
       "      <th>year</th>\n",
       "      <th>cpi</th>\n",
       "      <th>population</th>\n",
       "      <th>packs</th>\n",
       "      <th>income</th>\n",
       "      <th>tax</th>\n",
       "      <th>price</th>\n",
       "      <th>taxs</th>\n",
       "    </tr>\n",
       "  </thead>\n",
       "  <tbody>\n",
       "    <tr>\n",
       "      <th>0</th>\n",
       "      <td>AL</td>\n",
       "      <td>1985</td>\n",
       "      <td>1.076</td>\n",
       "      <td>3973000.0</td>\n",
       "      <td>116.486282</td>\n",
       "      <td>46014968</td>\n",
       "      <td>32.500004</td>\n",
       "      <td>102.181671</td>\n",
       "      <td>33.348335</td>\n",
       "    </tr>\n",
       "    <tr>\n",
       "      <th>1</th>\n",
       "      <td>AR</td>\n",
       "      <td>1985</td>\n",
       "      <td>1.076</td>\n",
       "      <td>2327000.0</td>\n",
       "      <td>128.534592</td>\n",
       "      <td>26210736</td>\n",
       "      <td>37.000000</td>\n",
       "      <td>101.474998</td>\n",
       "      <td>37.000000</td>\n",
       "    </tr>\n",
       "    <tr>\n",
       "      <th>2</th>\n",
       "      <td>AZ</td>\n",
       "      <td>1985</td>\n",
       "      <td>1.076</td>\n",
       "      <td>3184000.0</td>\n",
       "      <td>104.522614</td>\n",
       "      <td>43956936</td>\n",
       "      <td>31.000000</td>\n",
       "      <td>108.578751</td>\n",
       "      <td>36.170418</td>\n",
       "    </tr>\n",
       "    <tr>\n",
       "      <th>3</th>\n",
       "      <td>CA</td>\n",
       "      <td>1985</td>\n",
       "      <td>1.076</td>\n",
       "      <td>26444000.0</td>\n",
       "      <td>100.363037</td>\n",
       "      <td>447102816</td>\n",
       "      <td>26.000000</td>\n",
       "      <td>107.837341</td>\n",
       "      <td>32.104000</td>\n",
       "    </tr>\n",
       "    <tr>\n",
       "      <th>4</th>\n",
       "      <td>CO</td>\n",
       "      <td>1985</td>\n",
       "      <td>1.076</td>\n",
       "      <td>3209000.0</td>\n",
       "      <td>112.963539</td>\n",
       "      <td>49466672</td>\n",
       "      <td>31.000000</td>\n",
       "      <td>94.266663</td>\n",
       "      <td>31.000000</td>\n",
       "    </tr>\n",
       "  </tbody>\n",
       "</table>\n",
       "</div>"
      ],
      "text/plain": [
       "  state  year    cpi  population       packs     income        tax  \\\n",
       "0    AL  1985  1.076   3973000.0  116.486282   46014968  32.500004   \n",
       "1    AR  1985  1.076   2327000.0  128.534592   26210736  37.000000   \n",
       "2    AZ  1985  1.076   3184000.0  104.522614   43956936  31.000000   \n",
       "3    CA  1985  1.076  26444000.0  100.363037  447102816  26.000000   \n",
       "4    CO  1985  1.076   3209000.0  112.963539   49466672  31.000000   \n",
       "\n",
       "        price       taxs  \n",
       "0  102.181671  33.348335  \n",
       "1  101.474998  37.000000  \n",
       "2  108.578751  36.170418  \n",
       "3  107.837341  32.104000  \n",
       "4   94.266663  31.000000  "
      ]
     },
     "execution_count": 3,
     "metadata": {},
     "output_type": "execute_result"
    }
   ],
   "source": [
    "cigs_all = pd.read_csv('cigarette.csv')\n",
    "cigs_all.head()"
   ]
  },
  {
   "cell_type": "code",
   "execution_count": 4,
   "id": "acute-collins",
   "metadata": {},
   "outputs": [],
   "source": [
    "# Following S&W, we use just 1995 data \n",
    "cigs = cigs_all[cigs_all.year==1995].copy()\n",
    "\n",
    "### Create new variables\n",
    "\n",
    "# deflate prices and income by CPI to get real values\n",
    "\n",
    "cigs[\"rprice\"] = cigs.price / cigs.cpi\n",
    "cigs[\"rincome\"] = (cigs.income/cigs.population)/cigs.cpi \n",
    "\n",
    "# log values are used in the regressions (note that you could create these on the fly within the regression commands)\n",
    "\n",
    "cigs[\"lprice\"]= np.log(cigs.rprice)\n",
    "cigs[\"lquant\"] = np.log(cigs.packs)\n",
    "cigs[\"lincome\"] = np.log(cigs.rincome)\n",
    "\n",
    "# tdiff = the real tax on cigarettes arising just from general sales tax, which we will use as an instrument \n",
    "cigs[\"tdiff\"]= (cigs.taxs - cigs.tax)/cigs.cpi\n"
   ]
  },
  {
   "cell_type": "code",
   "execution_count": 5,
   "id": "stretch-profit",
   "metadata": {},
   "outputs": [
    {
     "data": {
      "text/html": [
       "<div>\n",
       "<style scoped>\n",
       "    .dataframe tbody tr th:only-of-type {\n",
       "        vertical-align: middle;\n",
       "    }\n",
       "\n",
       "    .dataframe tbody tr th {\n",
       "        vertical-align: top;\n",
       "    }\n",
       "\n",
       "    .dataframe thead th {\n",
       "        text-align: right;\n",
       "    }\n",
       "</style>\n",
       "<table border=\"1\" class=\"dataframe\">\n",
       "  <thead>\n",
       "    <tr style=\"text-align: right;\">\n",
       "      <th></th>\n",
       "      <th>state</th>\n",
       "      <th>year</th>\n",
       "      <th>cpi</th>\n",
       "      <th>population</th>\n",
       "      <th>packs</th>\n",
       "      <th>income</th>\n",
       "      <th>tax</th>\n",
       "      <th>price</th>\n",
       "      <th>taxs</th>\n",
       "      <th>rprice</th>\n",
       "      <th>rincome</th>\n",
       "      <th>lprice</th>\n",
       "      <th>lquant</th>\n",
       "      <th>lincome</th>\n",
       "      <th>tdiff</th>\n",
       "    </tr>\n",
       "  </thead>\n",
       "  <tbody>\n",
       "    <tr>\n",
       "      <th>48</th>\n",
       "      <td>AL</td>\n",
       "      <td>1995</td>\n",
       "      <td>1.524</td>\n",
       "      <td>4262731.0</td>\n",
       "      <td>101.085434</td>\n",
       "      <td>83903280</td>\n",
       "      <td>40.500004</td>\n",
       "      <td>158.371338</td>\n",
       "      <td>41.904671</td>\n",
       "      <td>103.918206</td>\n",
       "      <td>12.915347</td>\n",
       "      <td>4.643604</td>\n",
       "      <td>4.615966</td>\n",
       "      <td>2.558416</td>\n",
       "      <td>0.921697</td>\n",
       "    </tr>\n",
       "    <tr>\n",
       "      <th>49</th>\n",
       "      <td>AR</td>\n",
       "      <td>1995</td>\n",
       "      <td>1.524</td>\n",
       "      <td>2480121.0</td>\n",
       "      <td>111.042969</td>\n",
       "      <td>45995496</td>\n",
       "      <td>55.500000</td>\n",
       "      <td>175.542511</td>\n",
       "      <td>63.859169</td>\n",
       "      <td>115.185380</td>\n",
       "      <td>12.169073</td>\n",
       "      <td>4.746543</td>\n",
       "      <td>4.709917</td>\n",
       "      <td>2.498898</td>\n",
       "      <td>5.485019</td>\n",
       "    </tr>\n",
       "    <tr>\n",
       "      <th>50</th>\n",
       "      <td>AZ</td>\n",
       "      <td>1995</td>\n",
       "      <td>1.524</td>\n",
       "      <td>4306908.0</td>\n",
       "      <td>71.954170</td>\n",
       "      <td>88870496</td>\n",
       "      <td>65.333328</td>\n",
       "      <td>198.607498</td>\n",
       "      <td>74.790825</td>\n",
       "      <td>130.319887</td>\n",
       "      <td>13.539638</td>\n",
       "      <td>4.869992</td>\n",
       "      <td>4.276029</td>\n",
       "      <td>2.605622</td>\n",
       "      <td>6.205707</td>\n",
       "    </tr>\n",
       "    <tr>\n",
       "      <th>51</th>\n",
       "      <td>CA</td>\n",
       "      <td>1995</td>\n",
       "      <td>1.524</td>\n",
       "      <td>31493524.0</td>\n",
       "      <td>56.859306</td>\n",
       "      <td>771470144</td>\n",
       "      <td>61.000000</td>\n",
       "      <td>210.504669</td>\n",
       "      <td>74.771332</td>\n",
       "      <td>138.126430</td>\n",
       "      <td>16.073591</td>\n",
       "      <td>4.928169</td>\n",
       "      <td>4.040580</td>\n",
       "      <td>2.777178</td>\n",
       "      <td>9.036307</td>\n",
       "    </tr>\n",
       "    <tr>\n",
       "      <th>52</th>\n",
       "      <td>CO</td>\n",
       "      <td>1995</td>\n",
       "      <td>1.524</td>\n",
       "      <td>3738061.0</td>\n",
       "      <td>82.582924</td>\n",
       "      <td>92946544</td>\n",
       "      <td>44.000000</td>\n",
       "      <td>167.350006</td>\n",
       "      <td>44.000000</td>\n",
       "      <td>109.809720</td>\n",
       "      <td>16.315557</td>\n",
       "      <td>4.698749</td>\n",
       "      <td>4.413803</td>\n",
       "      <td>2.792119</td>\n",
       "      <td>0.000000</td>\n",
       "    </tr>\n",
       "  </tbody>\n",
       "</table>\n",
       "</div>"
      ],
      "text/plain": [
       "   state  year    cpi  population       packs     income        tax  \\\n",
       "48    AL  1995  1.524   4262731.0  101.085434   83903280  40.500004   \n",
       "49    AR  1995  1.524   2480121.0  111.042969   45995496  55.500000   \n",
       "50    AZ  1995  1.524   4306908.0   71.954170   88870496  65.333328   \n",
       "51    CA  1995  1.524  31493524.0   56.859306  771470144  61.000000   \n",
       "52    CO  1995  1.524   3738061.0   82.582924   92946544  44.000000   \n",
       "\n",
       "         price       taxs      rprice    rincome    lprice    lquant  \\\n",
       "48  158.371338  41.904671  103.918206  12.915347  4.643604  4.615966   \n",
       "49  175.542511  63.859169  115.185380  12.169073  4.746543  4.709917   \n",
       "50  198.607498  74.790825  130.319887  13.539638  4.869992  4.276029   \n",
       "51  210.504669  74.771332  138.126430  16.073591  4.928169  4.040580   \n",
       "52  167.350006  44.000000  109.809720  16.315557  4.698749  4.413803   \n",
       "\n",
       "     lincome     tdiff  \n",
       "48  2.558416  0.921697  \n",
       "49  2.498898  5.485019  \n",
       "50  2.605622  6.205707  \n",
       "51  2.777178  9.036307  \n",
       "52  2.792119  0.000000  "
      ]
     },
     "execution_count": 5,
     "metadata": {},
     "output_type": "execute_result"
    }
   ],
   "source": [
    "cigs.head()"
   ]
  },
  {
   "cell_type": "markdown",
   "id": "severe-story",
   "metadata": {},
   "source": [
    "### 1. Naive Regression"
   ]
  },
  {
   "cell_type": "markdown",
   "id": "designed-commonwealth",
   "metadata": {},
   "source": [
    "**Q:** First run a regression of (log) packs of cigarettes on (log) price and comment on the estimate of the price elasticity you obtained."
   ]
  },
  {
   "cell_type": "code",
   "execution_count": 6,
   "id": "chubby-engine",
   "metadata": {},
   "outputs": [
    {
     "name": "stdout",
     "output_type": "stream",
     "text": [
      "                            OLS Regression Results                            \n",
      "==============================================================================\n",
      "Dep. Variable:                 lquant   R-squared:                       0.406\n",
      "Model:                            OLS   Adj. R-squared:                  0.393\n",
      "Method:                 Least Squares   F-statistic:                     31.41\n",
      "Date:                Thu, 21 Mar 2024   Prob (F-statistic):           1.13e-06\n",
      "Time:                        01:47:24   Log-Likelihood:                 12.724\n",
      "No. Observations:                  48   AIC:                            -21.45\n",
      "Df Residuals:                      46   BIC:                            -17.71\n",
      "Df Model:                           1                                         \n",
      "Covariance Type:            nonrobust                                         \n",
      "==============================================================================\n",
      "                 coef    std err          t      P>|t|      [0.025      0.975]\n",
      "------------------------------------------------------------------------------\n",
      "Intercept     10.3389      1.035      9.986      0.000       8.255      12.423\n",
      "lprice        -1.2131      0.216     -5.604      0.000      -1.649      -0.777\n",
      "==============================================================================\n",
      "Omnibus:                       11.094   Durbin-Watson:                   1.985\n",
      "Prob(Omnibus):                  0.004   Jarque-Bera (JB):               12.802\n",
      "Skew:                          -0.823   Prob(JB):                      0.00166\n",
      "Kurtosis:                       4.921   Cond. No.                         189.\n",
      "==============================================================================\n",
      "\n",
      "Notes:\n",
      "[1] Standard Errors assume that the covariance matrix of the errors is correctly specified.\n"
     ]
    }
   ],
   "source": [
    "naive_reg = smf.ols(formula = 'lquant ~ lprice', data = cigs).fit()\n",
    "print(naive_reg.summary())"
   ]
  },
  {
   "cell_type": "markdown",
   "id": "broken-grammar",
   "metadata": {},
   "source": [
    "**A:** The estimated price elasticity is -1.21 (a 1% increase in price results in a 1.21% decrease in packs of cigarettes demanded). This is a biased estimate due to the fact that prices and quantity are determined in equilibrium."
   ]
  },
  {
   "cell_type": "markdown",
   "id": "robust-contribution",
   "metadata": {},
   "source": [
    "### 2. First- and second-stage regressions for IV estimation"
   ]
  },
  {
   "cell_type": "markdown",
   "id": "7f6f5a49",
   "metadata": {},
   "source": [
    "**Q:** Explain why sales tax (tdiff) could be a valid instrument."
   ]
  },
  {
   "cell_type": "markdown",
   "id": "eed9fd8e",
   "metadata": {},
   "source": [
    "**A:** \n",
    "\n",
    "- Relevance: high sales taxes increase the after-tax sales price, so these variables will be correlated. \n",
    "- Exogeneity: We need the sales tax to be uncorrelated with the error in the demand equation. Note that general sales tax rates vary from state to state mainly due to different state choices in terms of how the finance themselves. States choose different mixes of sales, income, property and other taxes as a source of revenue. These choices are driven by political choices rather than by the demand of cigarretes. (We will revisit this later when we think harder about the exogeneity assumption!)\n"
   ]
  },
  {
   "cell_type": "markdown",
   "id": "pending-pontiac",
   "metadata": {},
   "source": [
    "**Q:** Using the sales tax (tdiff) as an instrument, start by running the first-stage regression for IV estimation. Comment on the results. Also generate the predicted values that you need for the second stage regression."
   ]
  },
  {
   "cell_type": "code",
   "execution_count": 170,
   "id": "swiss-screw",
   "metadata": {},
   "outputs": [
    {
     "name": "stdout",
     "output_type": "stream",
     "text": [
      "                            OLS Regression Results                            \n",
      "==============================================================================\n",
      "Dep. Variable:                 lprice   R-squared:                       0.471\n",
      "Model:                            OLS   Adj. R-squared:                  0.459\n",
      "Method:                 Least Squares   F-statistic:                     40.96\n",
      "Date:                Wed, 16 Feb 2022   Prob (F-statistic):           7.27e-08\n",
      "Time:                        11:57:09   Log-Likelihood:                 46.435\n",
      "No. Observations:                  48   AIC:                            -88.87\n",
      "Df Residuals:                      46   BIC:                            -85.13\n",
      "Df Model:                           1                                         \n",
      "Covariance Type:            nonrobust                                         \n",
      "==============================================================================\n",
      "                 coef    std err          t      P>|t|      [0.025      0.975]\n",
      "------------------------------------------------------------------------------\n",
      "Intercept      4.6165      0.029    158.601      0.000       4.558       4.675\n",
      "tdiff          0.0307      0.005      6.400      0.000       0.021       0.040\n",
      "==============================================================================\n",
      "Omnibus:                        0.212   Durbin-Watson:                   2.008\n",
      "Prob(Omnibus):                  0.900   Jarque-Bera (JB):                0.012\n",
      "Skew:                          -0.038   Prob(JB):                        0.994\n",
      "Kurtosis:                       3.010   Cond. No.                         13.3\n",
      "==============================================================================\n",
      "\n",
      "Notes:\n",
      "[1] Standard Errors assume that the covariance matrix of the errors is correctly specified.\n"
     ]
    }
   ],
   "source": [
    "stage1 = smf.ols(formula = \"lprice ~ tdiff\", data = cigs).fit()\n",
    "print(stage1.summary())"
   ]
  },
  {
   "cell_type": "code",
   "execution_count": 171,
   "id": "verified-composite",
   "metadata": {},
   "outputs": [],
   "source": [
    "cigs[\"stage1_prediction\"] = stage1.predict()"
   ]
  },
  {
   "cell_type": "markdown",
   "id": "supposed-dakota",
   "metadata": {},
   "source": [
    "**A:** The first-stage regression shows that the instrument is strong (F-statistic = 40.96 > 10). Note that in this case the F-statistic equals the t-statistic squared."
   ]
  },
  {
   "cell_type": "markdown",
   "id": "plastic-verification",
   "metadata": {},
   "source": [
    "**Q:** Now run the second-stage regression for IV estimation. Compare your estimate of the demand elasticity to the one you obtained from the naive regression in part 1."
   ]
  },
  {
   "cell_type": "code",
   "execution_count": 172,
   "id": "entire-distinction",
   "metadata": {},
   "outputs": [
    {
     "name": "stdout",
     "output_type": "stream",
     "text": [
      "                            OLS Regression Results                            \n",
      "==============================================================================\n",
      "Dep. Variable:                 lquant   R-squared:                       0.152\n",
      "Model:                            OLS   Adj. R-squared:                  0.134\n",
      "Method:                 Least Squares   F-statistic:                     8.277\n",
      "Date:                Wed, 16 Feb 2022   Prob (F-statistic):            0.00607\n",
      "Time:                        11:57:10   Log-Likelihood:                 4.2040\n",
      "No. Observations:                  48   AIC:                            -4.408\n",
      "Df Residuals:                      46   BIC:                           -0.6656\n",
      "Df Model:                           1                                         \n",
      "Covariance Type:            nonrobust                                         \n",
      "=====================================================================================\n",
      "                        coef    std err          t      P>|t|      [0.025      0.975]\n",
      "-------------------------------------------------------------------------------------\n",
      "Intercept             9.7199      1.801      5.396      0.000       6.094      13.345\n",
      "stage1_prediction    -1.0836      0.377     -2.877      0.006      -1.842      -0.325\n",
      "==============================================================================\n",
      "Omnibus:                        1.817   Durbin-Watson:                   2.099\n",
      "Prob(Omnibus):                  0.403   Jarque-Bera (JB):                0.984\n",
      "Skew:                          -0.077   Prob(JB):                        0.612\n",
      "Kurtosis:                       3.684   Cond. No.                         275.\n",
      "==============================================================================\n",
      "\n",
      "Notes:\n",
      "[1] Standard Errors assume that the covariance matrix of the errors is correctly specified.\n"
     ]
    }
   ],
   "source": [
    "stage2 = smf.ols(formula = \"lquant ~ stage1_prediction\", data = cigs).fit()\n",
    "print(stage2.summary())"
   ]
  },
  {
   "cell_type": "markdown",
   "id": "beginning-transport",
   "metadata": {},
   "source": [
    "**A:** The elasticity estimate becomes -1.08: a 1% increase in price results in a 1.08% decrease in packs of cigarettes demanded."
   ]
  },
  {
   "cell_type": "markdown",
   "id": "remarkable-cincinnati",
   "metadata": {},
   "source": [
    "### 3. TSLS estimation"
   ]
  },
  {
   "cell_type": "markdown",
   "id": "marked-cylinder",
   "metadata": {},
   "source": [
    "#### 3.1 Simple TSLS\n",
    "**Q:** Now run the TSLS estimation using the IV2SLS command from \"linearmodels\" and compare with the results in part 2."
   ]
  },
  {
   "cell_type": "code",
   "execution_count": 173,
   "id": "negative-national",
   "metadata": {},
   "outputs": [],
   "source": [
    "from linearmodels.iv import IV2SLS\n",
    "cigs = add_constant(cigs, has_constant=\"add\")"
   ]
  },
  {
   "cell_type": "code",
   "execution_count": 174,
   "id": "running-wildlife",
   "metadata": {},
   "outputs": [
    {
     "name": "stdout",
     "output_type": "stream",
     "text": [
      "                          IV-2SLS Estimation Summary                          \n",
      "==============================================================================\n",
      "Dep. Variable:                 lquant   R-squared:                      0.4011\n",
      "Estimator:                    IV-2SLS   Adj. R-squared:                 0.3881\n",
      "No. Observations:                  48   F-statistic:                    12.046\n",
      "Date:                Wed, Feb 16 2022   P-value (F-stat)                0.0005\n",
      "Time:                        11:57:12   Distribution:                  chi2(1)\n",
      "Cov. Estimator:                robust                                         \n",
      "                                                                              \n",
      "                             Parameter Estimates                              \n",
      "==============================================================================\n",
      "            Parameter  Std. Err.     T-stat    P-value    Lower CI    Upper CI\n",
      "------------------------------------------------------------------------------\n",
      "const          9.7199     1.4961     6.4966     0.0000      6.7875      12.652\n",
      "lprice        -1.0836     0.3122    -3.4708     0.0005     -1.6955     -0.4717\n",
      "==============================================================================\n",
      "\n",
      "Endogenous: lprice\n",
      "Instruments: tdiff\n",
      "Robust Covariance (Heteroskedastic)\n",
      "Debiased: False\n"
     ]
    }
   ],
   "source": [
    "iv = IV2SLS(cigs[\"lquant\"], cigs[[\"const\"]],  cigs[\"lprice\"], cigs[\"tdiff\"]).fit()\n",
    "print(iv)"
   ]
  },
  {
   "cell_type": "markdown",
   "id": "satisfactory-working",
   "metadata": {},
   "source": [
    "**A:** We obtain the same estimate of elasticity. Note that the standard error from IV2SLS is different from the one you computed manually (the one from the IV2SLS command is the right one, as it takes into account the fact that in the second stage regression the X-variable depends on estimated parameters from the first-stage regression - i.e., it is a “generated regressor”)."
   ]
  },
  {
   "cell_type": "markdown",
   "id": "expanded-conducting",
   "metadata": {},
   "source": [
    "#### 3.2 More Sources of Bias"
   ]
  },
  {
   "cell_type": "markdown",
   "id": "5a9b25e4",
   "metadata": {},
   "source": [
    "**Q:**  Let's revisit the exogeneity assumption. Do you think income (\"lincome\") is an omitted variable that could be affecting the validity of our instrument? Why? "
   ]
  },
  {
   "cell_type": "markdown",
   "id": "41d38f99",
   "metadata": {},
   "source": [
    "**A:** Notes that stats with higher incomes may depend less on sales taxes and more on income taxes. That is, sales taxes can be correlated with state income. At the same time, the demand for cigarretes may depend on income. "
   ]
  },
  {
   "cell_type": "markdown",
   "id": "ebfec9f2",
   "metadata": {},
   "source": [
    "**Q:** Now include log income (the variable lincome you generated in the beginning) in the regression as a control variable. Comment on the results."
   ]
  },
  {
   "cell_type": "code",
   "execution_count": 175,
   "id": "auburn-roulette",
   "metadata": {
    "scrolled": true
   },
   "outputs": [
    {
     "name": "stdout",
     "output_type": "stream",
     "text": [
      "                          IV-2SLS Estimation Summary                          \n",
      "==============================================================================\n",
      "Dep. Variable:                 lquant   R-squared:                      0.4189\n",
      "Estimator:                    IV-2SLS   Adj. R-squared:                 0.3931\n",
      "No. Observations:                  48   F-statistic:                    17.474\n",
      "Date:                Wed, Feb 16 2022   P-value (F-stat)                0.0002\n",
      "Time:                        11:57:12   Distribution:                  chi2(2)\n",
      "Cov. Estimator:                robust                                         \n",
      "                                                                              \n",
      "                             Parameter Estimates                              \n",
      "==============================================================================\n",
      "            Parameter  Std. Err.     T-stat    P-value    Lower CI    Upper CI\n",
      "------------------------------------------------------------------------------\n",
      "const          9.4307     1.2194     7.7338     0.0000      7.0407      11.821\n",
      "lincome        0.2145     0.3018     0.7107     0.4773     -0.3771      0.8061\n",
      "lprice        -1.1434     0.3605    -3.1718     0.0015     -1.8499     -0.4368\n",
      "==============================================================================\n",
      "\n",
      "Endogenous: lprice\n",
      "Instruments: tdiff\n",
      "Robust Covariance (Heteroskedastic)\n",
      "Debiased: False\n"
     ]
    }
   ],
   "source": [
    "iv2 = IV2SLS(cigs[\"lquant\"], cigs[[\"const\",\"lincome\"]],  cigs[\"lprice\"], cigs[\"tdiff\"]).fit()\n",
    "print(iv2)"
   ]
  },
  {
   "cell_type": "code",
   "execution_count": 176,
   "id": "comparative-ballet",
   "metadata": {},
   "outputs": [
    {
     "name": "stdout",
     "output_type": "stream",
     "text": [
      "    First Stage Estimation Results    \n",
      "======================================\n",
      "                                lprice\n",
      "--------------------------------------\n",
      "R-squared                       0.6389\n",
      "Partial R-squared               0.5009\n",
      "Shea's R-squared                0.5009\n",
      "Partial F-statistic             47.713\n",
      "P-value (Partial F-stat)     4.935e-12\n",
      "Partial F-stat Distn           chi2(1)\n",
      "========================== ===========\n",
      "const                           3.5908\n",
      "                              (21.471)\n",
      "lincome                         0.3893\n",
      "                              (6.1484)\n",
      "tdiff                           0.0274\n",
      "                              (6.9074)\n",
      "--------------------------------------\n",
      "\n",
      "T-stats reported in parentheses\n",
      "T-stats use same covariance type as original model\n"
     ]
    }
   ],
   "source": [
    "print(iv2.first_stage)"
   ]
  },
  {
   "cell_type": "code",
   "execution_count": 177,
   "id": "round-laptop",
   "metadata": {},
   "outputs": [],
   "source": [
    "from linearmodels.iv import compare"
   ]
  },
  {
   "cell_type": "code",
   "execution_count": 178,
   "id": "floppy-scientist",
   "metadata": {},
   "outputs": [
    {
     "name": "stdout",
     "output_type": "stream",
     "text": [
      "                      Model Comparison                     \n",
      "===========================================================\n",
      "                                IV IV controling for income\n",
      "-----------------------------------------------------------\n",
      "Dep. Variable               lquant                   lquant\n",
      "Estimator                  IV-2SLS                  IV-2SLS\n",
      "No. Observations                48                       48\n",
      "Cov. Est.                   robust                   robust\n",
      "R-squared                   0.4011                   0.4189\n",
      "Adj. R-squared              0.3881                   0.3931\n",
      "F-statistic                 12.046                   17.474\n",
      "P-value (F-stat)            0.0005                   0.0002\n",
      "==================     ===========              ===========\n",
      "const                       9.7199                   9.4307\n",
      "                          (6.4966)                 (7.7338)\n",
      "lprice                     -1.0836                  -1.1434\n",
      "                         (-3.4708)                (-3.1718)\n",
      "lincome                                              0.2145\n",
      "                                                   (0.7107)\n",
      "==================== =============            =============\n",
      "Instruments                  tdiff                    tdiff\n",
      "-----------------------------------------------------------\n",
      "\n",
      "T-stats reported in parentheses\n"
     ]
    }
   ],
   "source": [
    "print(compare({\"IV\": iv, \"IV controling for income\": iv2}))"
   ]
  },
  {
   "cell_type": "markdown",
   "id": "spoken-operator",
   "metadata": {},
   "source": [
    "**A:** The estimate of the elasticity goes down. This is expected as state income was an omitted variable, which is positively correlated with quantity of cigarettes (as we see from its coefficient in the regression), and also plausibly positively correlated with cigarette price. This means we were overestimating the elasticity in the regression without income."
   ]
  },
  {
   "cell_type": "markdown",
   "id": "polar-symposium",
   "metadata": {},
   "source": [
    "#### 3.3 More Instruments\n",
    "\n",
    "**Q:** Re-run the model in 3.2, also considering another instrument in addition to tdiff, obtained as the real tax on cigarette: tax/cpi. Comment on the estimates of both the price elasticity and the income elasticity of cigarette demand."
   ]
  },
  {
   "cell_type": "code",
   "execution_count": 179,
   "id": "hydraulic-lucas",
   "metadata": {},
   "outputs": [],
   "source": [
    "cigs[\"rtax\"]= cigs.tax/cigs.cpi"
   ]
  },
  {
   "cell_type": "code",
   "execution_count": 180,
   "id": "verbal-navigator",
   "metadata": {},
   "outputs": [
    {
     "name": "stdout",
     "output_type": "stream",
     "text": [
      "                          IV-2SLS Estimation Summary                          \n",
      "==============================================================================\n",
      "Dep. Variable:                 lquant   R-squared:                      0.4294\n",
      "Estimator:                    IV-2SLS   Adj. R-squared:                 0.4041\n",
      "No. Observations:                  48   F-statistic:                    34.506\n",
      "Date:                Wed, Feb 16 2022   P-value (F-stat)                0.0000\n",
      "Time:                        11:57:14   Distribution:                  chi2(2)\n",
      "Cov. Estimator:                robust                                         \n",
      "                                                                              \n",
      "                             Parameter Estimates                              \n",
      "==============================================================================\n",
      "            Parameter  Std. Err.     T-stat    P-value    Lower CI    Upper CI\n",
      "------------------------------------------------------------------------------\n",
      "const          9.8950     0.9288     10.654     0.0000      8.0746      11.715\n",
      "lincome        0.2804     0.2458     1.1407     0.2540     -0.2014      0.7622\n",
      "lprice        -1.2774     0.2417    -5.2855     0.0000     -1.7511     -0.8037\n",
      "==============================================================================\n",
      "\n",
      "Endogenous: lprice\n",
      "Instruments: tdiff, rtax\n",
      "Robust Covariance (Heteroskedastic)\n",
      "Debiased: False\n"
     ]
    }
   ],
   "source": [
    "iv3 = IV2SLS(cigs[\"lquant\"], cigs[[\"const\",\"lincome\"]],  cigs[\"lprice\"], cigs[[\"tdiff\",\"rtax\"]]).fit()\n",
    "print(iv3)"
   ]
  },
  {
   "cell_type": "code",
   "execution_count": 181,
   "id": "korean-rainbow",
   "metadata": {},
   "outputs": [
    {
     "name": "stdout",
     "output_type": "stream",
     "text": [
      "                                       Model Comparison                                      \n",
      "=============================================================================================\n",
      "                                IV IV controling for income IV income + additional instrument\n",
      "---------------------------------------------------------------------------------------------\n",
      "Dep. Variable               lquant                   lquant                            lquant\n",
      "Estimator                  IV-2SLS                  IV-2SLS                           IV-2SLS\n",
      "No. Observations                48                       48                                48\n",
      "Cov. Est.                   robust                   robust                            robust\n",
      "R-squared                   0.4011                   0.4189                            0.4294\n",
      "Adj. R-squared              0.3881                   0.3931                            0.4041\n",
      "F-statistic                 12.046                   17.474                            34.506\n",
      "P-value (F-stat)            0.0005                   0.0002                         3.214e-08\n",
      "==================     ===========              ===========                       ===========\n",
      "const                       9.7199                   9.4307                            9.8950\n",
      "                          (6.4966)                 (7.7338)                          (10.654)\n",
      "lprice                     -1.0836                  -1.1434                           -1.2774\n",
      "                         (-3.4708)                (-3.1718)                         (-5.2855)\n",
      "lincome                                              0.2145                            0.2804\n",
      "                                                   (0.7107)                          (1.1407)\n",
      "==================== =============            =============                     =============\n",
      "Instruments                  tdiff                    tdiff                             tdiff\n",
      "                                                                                         rtax\n",
      "---------------------------------------------------------------------------------------------\n",
      "\n",
      "T-stats reported in parentheses\n"
     ]
    }
   ],
   "source": [
    "print(compare({\"IV\": iv, \"IV controling for income\": iv2,\"IV income + additional instrument\": iv3}))"
   ]
  },
  {
   "cell_type": "markdown",
   "id": "veterinary-arrest",
   "metadata": {},
   "source": [
    "**A:** The elasticity estimate goes down even further and it is significant. Provided the instruments are valid, we have a more precise estimate of the demand function (we have more “as if random” variation with two valid instruments than with one instrument). We can test the validity of the two instruments below. We conclude that there is high elasticity of cigarette demand to price, but not to income, whose elasticity estimate is not significant."
   ]
  },
  {
   "cell_type": "markdown",
   "id": "former-induction",
   "metadata": {},
   "source": [
    "#### 3.4 Instrument Validity\n",
    "**Q:** Assess the validity of the instruments. Using:\n",
    "\n",
    "- iv3.first_stage\n",
    "- iv3.sargan\n",
    "\n",
    "\n",
    "(In R adding the diagnostics=TRUE to the summary command in the regression in part 3.3.)"
   ]
  },
  {
   "cell_type": "code",
   "execution_count": 182,
   "id": "synthetic-chrome",
   "metadata": {},
   "outputs": [
    {
     "name": "stdout",
     "output_type": "stream",
     "text": [
      "    First Stage Estimation Results   \n",
      "=====================================\n",
      "                               lprice\n",
      "-------------------------------------\n",
      "R-squared                      0.9403\n",
      "Partial R-squared              0.9175\n",
      "Shea's R-squared               0.9175\n",
      "Partial F-statistic            457.48\n",
      "P-value (Partial F-stat)       0.0000\n",
      "Partial F-stat Distn          chi2(2)\n",
      "========================== ==========\n",
      "const                          4.1030\n",
      "                             (48.489)\n",
      "lincome                        0.1083\n",
      "                             (2.8539)\n",
      "tdiff                          0.0109\n",
      "                             (5.3235)\n",
      "rtax                           0.0094\n",
      "                             (11.230)\n",
      "-------------------------------------\n",
      "\n",
      "T-stats reported in parentheses\n",
      "T-stats use same covariance type as original model\n"
     ]
    }
   ],
   "source": [
    "print(iv3.first_stage)"
   ]
  },
  {
   "cell_type": "code",
   "execution_count": 183,
   "id": "international-version",
   "metadata": {
    "scrolled": true
   },
   "outputs": [
    {
     "name": "stdout",
     "output_type": "stream",
     "text": [
      "Sargan's test of overidentification\n",
      "H0: The model is not overidentified.\n",
      "Statistic: 0.3326\n",
      "P-value: 0.5641\n",
      "Distributed: chi2(1)\n"
     ]
    }
   ],
   "source": [
    "#testing for Exogeneity\n",
    "print(iv3.sargan)"
   ]
  },
  {
   "cell_type": "markdown",
   "id": "falling-diagram",
   "metadata": {},
   "source": [
    "**A:** We reject weak instruments (good) and fail to reject exogeneity (good)."
   ]
  },
  {
   "cell_type": "markdown",
   "id": "e85e33fc",
   "metadata": {},
   "source": [
    "**Bonus Question:** You are thinking about using the \"distance of the state from cigarrete manufacturing plants\" as an instrument. Do you think this would be a weak or strong instrument? Why?"
   ]
  },
  {
   "cell_type": "markdown",
   "id": "e492d154",
   "metadata": {},
   "source": [
    "**A:** More distance implies increased shipping costs which means increased cigarrete prices. However, shipping costs are likely to be a small portion of the price of cigarrete (cigarretes are lightweight). In turn, shipping costs (a proxy for distance) would explain a very small fraction of the price variation and thus could be a weak instrument. "
   ]
  }
 ],
 "metadata": {
  "kernelspec": {
   "display_name": "Python 3 (ipykernel)",
   "language": "python",
   "name": "python3"
  },
  "language_info": {
   "codemirror_mode": {
    "name": "ipython",
    "version": 3
   },
   "file_extension": ".py",
   "mimetype": "text/x-python",
   "name": "python",
   "nbconvert_exporter": "python",
   "pygments_lexer": "ipython3",
   "version": "3.11.5"
  }
 },
 "nbformat": 4,
 "nbformat_minor": 5
}
