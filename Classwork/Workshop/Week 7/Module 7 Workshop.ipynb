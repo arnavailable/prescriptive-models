{
 "cells": [
  {
   "cell_type": "markdown",
   "id": "genetic-status",
   "metadata": {},
   "source": [
    "<center> <h1>Workshop: IV</h1> </center> \n",
    "<center> <h2>Application: IV estimation of demand function</h2> </center> "
   ]
  },
  {
   "cell_type": "code",
   "execution_count": 8,
   "id": "intellectual-james",
   "metadata": {},
   "outputs": [],
   "source": [
    "import pandas as pd\n",
    "import matplotlib.pyplot as plt\n",
    "import numpy as np\n",
    "import statsmodels.api as sm\n",
    "import statsmodels.formula.api as smf\n",
    "from scipy import stats\n",
    "from statsmodels.api import add_constant\n",
    "#import iv2sls from linear models\n",
    "from linearmodels.iv import IV2SLS\n"
   ]
  },
  {
   "cell_type": "markdown",
   "id": "understood-hacker",
   "metadata": {},
   "source": [
    "### 0. Setup\n",
    "This is an example of demand estimation from Stock and Watson’s textbook. We want to estimate the demand for cigarettes using a dataset containing sales, prices and a number of other variables measured in different U.S. states. \n",
    "You can download the dataset from Canvas.\n",
    "If you are using R, the dataset is contained in the AER package so you don’t need to download it separately.\n",
    "\n",
    "\n",
    "**Description** A data frame containing 48 observations on 7 variables for 2 periods.\n",
    "\n",
    "**state:**\n",
    "Factor indicating state.\n",
    "\n",
    "**year:**\n",
    "Factor indicating year.\n",
    "\n",
    "**cpi:**\n",
    "Consumer price index.\n",
    "\n",
    "**population:**\n",
    "State population.\n",
    "\n",
    "**packs:**\n",
    "Number of packs per capita.\n",
    "\n",
    "**income:**\n",
    "State personal income (total, nominal).\n",
    "\n",
    "**tax:**\n",
    "Average state, federal and average local excise taxes for fiscal year.\n",
    "\n",
    "**price:**\n",
    "Average price during fiscal year, including sales tax.\n",
    "\n",
    "**taxs:**\n",
    "Average excise taxes for fiscal year, including sales tax.\n",
    "\n",
    "\n"
   ]
  },
  {
   "cell_type": "code",
   "execution_count": 2,
   "id": "flush-draft",
   "metadata": {},
   "outputs": [
    {
     "data": {
      "text/html": [
       "<div>\n",
       "<style scoped>\n",
       "    .dataframe tbody tr th:only-of-type {\n",
       "        vertical-align: middle;\n",
       "    }\n",
       "\n",
       "    .dataframe tbody tr th {\n",
       "        vertical-align: top;\n",
       "    }\n",
       "\n",
       "    .dataframe thead th {\n",
       "        text-align: right;\n",
       "    }\n",
       "</style>\n",
       "<table border=\"1\" class=\"dataframe\">\n",
       "  <thead>\n",
       "    <tr style=\"text-align: right;\">\n",
       "      <th></th>\n",
       "      <th>state</th>\n",
       "      <th>year</th>\n",
       "      <th>cpi</th>\n",
       "      <th>population</th>\n",
       "      <th>packs</th>\n",
       "      <th>income</th>\n",
       "      <th>tax</th>\n",
       "      <th>price</th>\n",
       "      <th>taxs</th>\n",
       "    </tr>\n",
       "  </thead>\n",
       "  <tbody>\n",
       "    <tr>\n",
       "      <th>0</th>\n",
       "      <td>AL</td>\n",
       "      <td>1985</td>\n",
       "      <td>1.076</td>\n",
       "      <td>3973000.0</td>\n",
       "      <td>116.486282</td>\n",
       "      <td>46014968</td>\n",
       "      <td>32.500004</td>\n",
       "      <td>102.181671</td>\n",
       "      <td>33.348335</td>\n",
       "    </tr>\n",
       "    <tr>\n",
       "      <th>1</th>\n",
       "      <td>AR</td>\n",
       "      <td>1985</td>\n",
       "      <td>1.076</td>\n",
       "      <td>2327000.0</td>\n",
       "      <td>128.534592</td>\n",
       "      <td>26210736</td>\n",
       "      <td>37.000000</td>\n",
       "      <td>101.474998</td>\n",
       "      <td>37.000000</td>\n",
       "    </tr>\n",
       "    <tr>\n",
       "      <th>2</th>\n",
       "      <td>AZ</td>\n",
       "      <td>1985</td>\n",
       "      <td>1.076</td>\n",
       "      <td>3184000.0</td>\n",
       "      <td>104.522614</td>\n",
       "      <td>43956936</td>\n",
       "      <td>31.000000</td>\n",
       "      <td>108.578751</td>\n",
       "      <td>36.170418</td>\n",
       "    </tr>\n",
       "    <tr>\n",
       "      <th>3</th>\n",
       "      <td>CA</td>\n",
       "      <td>1985</td>\n",
       "      <td>1.076</td>\n",
       "      <td>26444000.0</td>\n",
       "      <td>100.363037</td>\n",
       "      <td>447102816</td>\n",
       "      <td>26.000000</td>\n",
       "      <td>107.837341</td>\n",
       "      <td>32.104000</td>\n",
       "    </tr>\n",
       "    <tr>\n",
       "      <th>4</th>\n",
       "      <td>CO</td>\n",
       "      <td>1985</td>\n",
       "      <td>1.076</td>\n",
       "      <td>3209000.0</td>\n",
       "      <td>112.963539</td>\n",
       "      <td>49466672</td>\n",
       "      <td>31.000000</td>\n",
       "      <td>94.266663</td>\n",
       "      <td>31.000000</td>\n",
       "    </tr>\n",
       "  </tbody>\n",
       "</table>\n",
       "</div>"
      ],
      "text/plain": [
       "  state  year    cpi  population       packs     income        tax  \\\n",
       "0    AL  1985  1.076   3973000.0  116.486282   46014968  32.500004   \n",
       "1    AR  1985  1.076   2327000.0  128.534592   26210736  37.000000   \n",
       "2    AZ  1985  1.076   3184000.0  104.522614   43956936  31.000000   \n",
       "3    CA  1985  1.076  26444000.0  100.363037  447102816  26.000000   \n",
       "4    CO  1985  1.076   3209000.0  112.963539   49466672  31.000000   \n",
       "\n",
       "        price       taxs  \n",
       "0  102.181671  33.348335  \n",
       "1  101.474998  37.000000  \n",
       "2  108.578751  36.170418  \n",
       "3  107.837341  32.104000  \n",
       "4   94.266663  31.000000  "
      ]
     },
     "execution_count": 2,
     "metadata": {},
     "output_type": "execute_result"
    }
   ],
   "source": [
    "cigs_all = pd.read_csv('cigarette.csv')\n",
    "cigs_all.head()"
   ]
  },
  {
   "cell_type": "code",
   "execution_count": 3,
   "id": "hollow-activity",
   "metadata": {},
   "outputs": [],
   "source": [
    "# Following S&W, we use just 1995 data \n",
    "cigs = cigs_all[cigs_all.year==1995].copy()\n",
    "\n",
    "### Create new variables\n",
    "\n",
    "# deflate prices and income by CPI to get real values\n",
    "\n",
    "cigs[\"rprice\"] = cigs.price / cigs.cpi\n",
    "cigs[\"rincome\"] = (cigs.income/cigs.population)/cigs.cpi \n",
    "\n",
    "# log values are used in the regressions (note that you could create these on the fly within the regression commands)\n",
    "\n",
    "cigs[\"lprice\"]= np.log(cigs.rprice)\n",
    "cigs[\"lquant\"] = np.log(cigs.packs)\n",
    "cigs[\"lincome\"] = np.log(cigs.rincome)\n",
    "\n",
    "# tdiff = the real tax on cigarettes arising just from general sales tax, which we will use as an instrument \n",
    "cigs[\"tdiff\"]= (cigs.taxs - cigs.tax)/cigs.cpi\n"
   ]
  },
  {
   "cell_type": "code",
   "execution_count": 4,
   "id": "senior-disease",
   "metadata": {},
   "outputs": [
    {
     "data": {
      "text/html": [
       "<div>\n",
       "<style scoped>\n",
       "    .dataframe tbody tr th:only-of-type {\n",
       "        vertical-align: middle;\n",
       "    }\n",
       "\n",
       "    .dataframe tbody tr th {\n",
       "        vertical-align: top;\n",
       "    }\n",
       "\n",
       "    .dataframe thead th {\n",
       "        text-align: right;\n",
       "    }\n",
       "</style>\n",
       "<table border=\"1\" class=\"dataframe\">\n",
       "  <thead>\n",
       "    <tr style=\"text-align: right;\">\n",
       "      <th></th>\n",
       "      <th>state</th>\n",
       "      <th>year</th>\n",
       "      <th>cpi</th>\n",
       "      <th>population</th>\n",
       "      <th>packs</th>\n",
       "      <th>income</th>\n",
       "      <th>tax</th>\n",
       "      <th>price</th>\n",
       "      <th>taxs</th>\n",
       "      <th>rprice</th>\n",
       "      <th>rincome</th>\n",
       "      <th>lprice</th>\n",
       "      <th>lquant</th>\n",
       "      <th>lincome</th>\n",
       "      <th>tdiff</th>\n",
       "    </tr>\n",
       "  </thead>\n",
       "  <tbody>\n",
       "    <tr>\n",
       "      <th>48</th>\n",
       "      <td>AL</td>\n",
       "      <td>1995</td>\n",
       "      <td>1.524</td>\n",
       "      <td>4262731.0</td>\n",
       "      <td>101.085434</td>\n",
       "      <td>83903280</td>\n",
       "      <td>40.500004</td>\n",
       "      <td>158.371338</td>\n",
       "      <td>41.904671</td>\n",
       "      <td>103.918206</td>\n",
       "      <td>12.915347</td>\n",
       "      <td>4.643604</td>\n",
       "      <td>4.615966</td>\n",
       "      <td>2.558416</td>\n",
       "      <td>0.921697</td>\n",
       "    </tr>\n",
       "    <tr>\n",
       "      <th>49</th>\n",
       "      <td>AR</td>\n",
       "      <td>1995</td>\n",
       "      <td>1.524</td>\n",
       "      <td>2480121.0</td>\n",
       "      <td>111.042969</td>\n",
       "      <td>45995496</td>\n",
       "      <td>55.500000</td>\n",
       "      <td>175.542511</td>\n",
       "      <td>63.859169</td>\n",
       "      <td>115.185380</td>\n",
       "      <td>12.169073</td>\n",
       "      <td>4.746543</td>\n",
       "      <td>4.709917</td>\n",
       "      <td>2.498898</td>\n",
       "      <td>5.485019</td>\n",
       "    </tr>\n",
       "    <tr>\n",
       "      <th>50</th>\n",
       "      <td>AZ</td>\n",
       "      <td>1995</td>\n",
       "      <td>1.524</td>\n",
       "      <td>4306908.0</td>\n",
       "      <td>71.954170</td>\n",
       "      <td>88870496</td>\n",
       "      <td>65.333328</td>\n",
       "      <td>198.607498</td>\n",
       "      <td>74.790825</td>\n",
       "      <td>130.319887</td>\n",
       "      <td>13.539638</td>\n",
       "      <td>4.869992</td>\n",
       "      <td>4.276029</td>\n",
       "      <td>2.605622</td>\n",
       "      <td>6.205707</td>\n",
       "    </tr>\n",
       "    <tr>\n",
       "      <th>51</th>\n",
       "      <td>CA</td>\n",
       "      <td>1995</td>\n",
       "      <td>1.524</td>\n",
       "      <td>31493524.0</td>\n",
       "      <td>56.859306</td>\n",
       "      <td>771470144</td>\n",
       "      <td>61.000000</td>\n",
       "      <td>210.504669</td>\n",
       "      <td>74.771332</td>\n",
       "      <td>138.126430</td>\n",
       "      <td>16.073591</td>\n",
       "      <td>4.928169</td>\n",
       "      <td>4.040580</td>\n",
       "      <td>2.777178</td>\n",
       "      <td>9.036307</td>\n",
       "    </tr>\n",
       "    <tr>\n",
       "      <th>52</th>\n",
       "      <td>CO</td>\n",
       "      <td>1995</td>\n",
       "      <td>1.524</td>\n",
       "      <td>3738061.0</td>\n",
       "      <td>82.582924</td>\n",
       "      <td>92946544</td>\n",
       "      <td>44.000000</td>\n",
       "      <td>167.350006</td>\n",
       "      <td>44.000000</td>\n",
       "      <td>109.809720</td>\n",
       "      <td>16.315557</td>\n",
       "      <td>4.698749</td>\n",
       "      <td>4.413803</td>\n",
       "      <td>2.792119</td>\n",
       "      <td>0.000000</td>\n",
       "    </tr>\n",
       "  </tbody>\n",
       "</table>\n",
       "</div>"
      ],
      "text/plain": [
       "   state  year    cpi  population       packs     income        tax  \\\n",
       "48    AL  1995  1.524   4262731.0  101.085434   83903280  40.500004   \n",
       "49    AR  1995  1.524   2480121.0  111.042969   45995496  55.500000   \n",
       "50    AZ  1995  1.524   4306908.0   71.954170   88870496  65.333328   \n",
       "51    CA  1995  1.524  31493524.0   56.859306  771470144  61.000000   \n",
       "52    CO  1995  1.524   3738061.0   82.582924   92946544  44.000000   \n",
       "\n",
       "         price       taxs      rprice    rincome    lprice    lquant  \\\n",
       "48  158.371338  41.904671  103.918206  12.915347  4.643604  4.615966   \n",
       "49  175.542511  63.859169  115.185380  12.169073  4.746543  4.709917   \n",
       "50  198.607498  74.790825  130.319887  13.539638  4.869992  4.276029   \n",
       "51  210.504669  74.771332  138.126430  16.073591  4.928169  4.040580   \n",
       "52  167.350006  44.000000  109.809720  16.315557  4.698749  4.413803   \n",
       "\n",
       "     lincome     tdiff  \n",
       "48  2.558416  0.921697  \n",
       "49  2.498898  5.485019  \n",
       "50  2.605622  6.205707  \n",
       "51  2.777178  9.036307  \n",
       "52  2.792119  0.000000  "
      ]
     },
     "execution_count": 4,
     "metadata": {},
     "output_type": "execute_result"
    }
   ],
   "source": [
    "cigs.head()"
   ]
  },
  {
   "cell_type": "markdown",
   "id": "severe-story",
   "metadata": {},
   "source": [
    "### 1. Naive Regression"
   ]
  },
  {
   "cell_type": "markdown",
   "id": "designed-commonwealth",
   "metadata": {},
   "source": [
    "**Q:** First run a regression of (log) packs of cigarettes on (log) price and comment on the estimate of the price elasticity you obtained."
   ]
  },
  {
   "cell_type": "code",
   "execution_count": 9,
   "id": "honey-campbell",
   "metadata": {},
   "outputs": [
    {
     "name": "stdout",
     "output_type": "stream",
     "text": [
      "                            OLS Regression Results                            \n",
      "==============================================================================\n",
      "Dep. Variable:                 lquant   R-squared:                       0.406\n",
      "Model:                            OLS   Adj. R-squared:                  0.393\n",
      "Method:                 Least Squares   F-statistic:                     31.41\n",
      "Date:                Fri, 23 Feb 2024   Prob (F-statistic):           1.13e-06\n",
      "Time:                        11:16:01   Log-Likelihood:                 12.724\n",
      "No. Observations:                  48   AIC:                            -21.45\n",
      "Df Residuals:                      46   BIC:                            -17.71\n",
      "Df Model:                           1                                         \n",
      "Covariance Type:            nonrobust                                         \n",
      "==============================================================================\n",
      "                 coef    std err          t      P>|t|      [0.025      0.975]\n",
      "------------------------------------------------------------------------------\n",
      "Intercept     10.3389      1.035      9.986      0.000       8.255      12.423\n",
      "lprice        -1.2131      0.216     -5.604      0.000      -1.649      -0.777\n",
      "==============================================================================\n",
      "Omnibus:                       11.094   Durbin-Watson:                   1.985\n",
      "Prob(Omnibus):                  0.004   Jarque-Bera (JB):               12.802\n",
      "Skew:                          -0.823   Prob(JB):                      0.00166\n",
      "Kurtosis:                       4.921   Cond. No.                         189.\n",
      "==============================================================================\n",
      "\n",
      "Notes:\n",
      "[1] Standard Errors assume that the covariance matrix of the errors is correctly specified.\n"
     ]
    }
   ],
   "source": [
    "# OLS regression\n",
    "model = smf.ols('lquant ~ lprice', data=cigs).fit()\n",
    "print(model.summary())\n"
   ]
  },
  {
   "cell_type": "markdown",
   "id": "narrative-yugoslavia",
   "metadata": {},
   "source": [
    "**A:** I obtained a price elasticity of -1.2 for cigarettes."
   ]
  },
  {
   "cell_type": "markdown",
   "id": "incorrect-effects",
   "metadata": {},
   "source": [
    "### 2. First- and second-stage regressions for IV estimation"
   ]
  },
  {
   "cell_type": "markdown",
   "id": "adb13a8f",
   "metadata": {},
   "source": [
    "**Q:** Explain why sales tax (tdiff) could be a valid instrument."
   ]
  },
  {
   "cell_type": "markdown",
   "id": "b9e095e2",
   "metadata": {},
   "source": [
    "**A:**"
   ]
  },
  {
   "cell_type": "markdown",
   "id": "restricted-orange",
   "metadata": {},
   "source": [
    "**Q:** Using the sales tax (tdiff) as an instrument, start by running the first-stage regression for IV estimation. Comment on the results. Also generate the predicted values that you need for the second stage regression."
   ]
  },
  {
   "cell_type": "code",
   "execution_count": 10,
   "id": "vocal-retreat",
   "metadata": {},
   "outputs": [
    {
     "name": "stdout",
     "output_type": "stream",
     "text": [
      "                            OLS Regression Results                            \n",
      "==============================================================================\n",
      "Dep. Variable:                 lprice   R-squared:                       0.471\n",
      "Model:                            OLS   Adj. R-squared:                  0.459\n",
      "Method:                 Least Squares   F-statistic:                     40.96\n",
      "Date:                Fri, 23 Feb 2024   Prob (F-statistic):           7.27e-08\n",
      "Time:                        11:16:23   Log-Likelihood:                 46.435\n",
      "No. Observations:                  48   AIC:                            -88.87\n",
      "Df Residuals:                      46   BIC:                            -85.13\n",
      "Df Model:                           1                                         \n",
      "Covariance Type:            nonrobust                                         \n",
      "==============================================================================\n",
      "                 coef    std err          t      P>|t|      [0.025      0.975]\n",
      "------------------------------------------------------------------------------\n",
      "Intercept      4.6165      0.029    158.601      0.000       4.558       4.675\n",
      "tdiff          0.0307      0.005      6.400      0.000       0.021       0.040\n",
      "==============================================================================\n",
      "Omnibus:                        0.212   Durbin-Watson:                   2.008\n",
      "Prob(Omnibus):                  0.900   Jarque-Bera (JB):                0.012\n",
      "Skew:                          -0.038   Prob(JB):                        0.994\n",
      "Kurtosis:                       3.010   Cond. No.                         13.3\n",
      "==============================================================================\n",
      "\n",
      "Notes:\n",
      "[1] Standard Errors assume that the covariance matrix of the errors is correctly specified.\n"
     ]
    }
   ],
   "source": [
    "# Using the sales tax (tdiff) as an instrument, start by running the first-stage regression for IV estimation. Comment on the results. Also generate the predicted values that you need for the second stage regression.\n",
    "\n",
    "\n",
    "# IV estimation\n",
    "iv = smf.ols('lprice ~ tdiff', data=cigs).fit()\n",
    "print(iv.summary())"
   ]
  },
  {
   "cell_type": "markdown",
   "id": "respected-amount",
   "metadata": {},
   "source": [
    "**A:** "
   ]
  },
  {
   "cell_type": "markdown",
   "id": "fossil-tribune",
   "metadata": {},
   "source": [
    "**Q:** Now run the second-stage regression for IV estimation. Compare your estimate of the demand elasticity to the one you obtained from the naive regression in part 1."
   ]
  },
  {
   "cell_type": "code",
   "execution_count": 15,
   "id": "median-billy",
   "metadata": {},
   "outputs": [
    {
     "ename": "ValueError",
     "evalue": "DataFrame contains duplicate column names. All column names must be distinct",
     "output_type": "error",
     "traceback": [
      "\u001b[0;31m---------------------------------------------------------------------------\u001b[0m",
      "\u001b[0;31mValueError\u001b[0m                                Traceback (most recent call last)",
      "Cell \u001b[0;32mIn[15], line 4\u001b[0m\n\u001b[1;32m      1\u001b[0m cigs \u001b[38;5;241m=\u001b[39m add_constant(cigs, has_constant\u001b[38;5;241m=\u001b[39m\u001b[38;5;124m\"\u001b[39m\u001b[38;5;124madd\u001b[39m\u001b[38;5;124m\"\u001b[39m)\n\u001b[1;32m      3\u001b[0m \u001b[38;5;66;03m#iv = IV2SLS(dependent=cigs.lquant, con ,exog=cigs.lprice, endog=cigs.tdiff, instruments=cigs.tdiff).fit(cov_type='unadjusted')\u001b[39;00m\n\u001b[0;32m----> 4\u001b[0m iv \u001b[38;5;241m=\u001b[39m IV2SLS(cigs\u001b[38;5;241m.\u001b[39mlquant, cigs[[\u001b[38;5;124m'\u001b[39m\u001b[38;5;124mconst\u001b[39m\u001b[38;5;124m'\u001b[39m, \u001b[38;5;124m'\u001b[39m\u001b[38;5;124mlincome\u001b[39m\u001b[38;5;124m'\u001b[39m]], cigs\u001b[38;5;241m.\u001b[39mlprice, cigs\u001b[38;5;241m.\u001b[39mtdiff)\u001b[38;5;241m.\u001b[39mfit()\n\u001b[1;32m      5\u001b[0m \u001b[38;5;28mprint\u001b[39m(iv)\n",
      "File \u001b[0;32m~/anaconda3/lib/python3.11/site-packages/linearmodels/iv/model.py:885\u001b[0m, in \u001b[0;36mIV2SLS.__init__\u001b[0;34m(self, dependent, exog, endog, instruments, weights)\u001b[0m\n\u001b[1;32m    875\u001b[0m \u001b[38;5;28;01mdef\u001b[39;00m \u001b[38;5;21m__init__\u001b[39m(\n\u001b[1;32m    876\u001b[0m     \u001b[38;5;28mself\u001b[39m,\n\u001b[1;32m    877\u001b[0m     dependent: IVDataLike,\n\u001b[0;32m   (...)\u001b[0m\n\u001b[1;32m    882\u001b[0m     weights: IVDataLike \u001b[38;5;241m|\u001b[39m \u001b[38;5;28;01mNone\u001b[39;00m \u001b[38;5;241m=\u001b[39m \u001b[38;5;28;01mNone\u001b[39;00m,\n\u001b[1;32m    883\u001b[0m ):\n\u001b[1;32m    884\u001b[0m     \u001b[38;5;28mself\u001b[39m\u001b[38;5;241m.\u001b[39m_method \u001b[38;5;241m=\u001b[39m \u001b[38;5;124m\"\u001b[39m\u001b[38;5;124mIV-2SLS\u001b[39m\u001b[38;5;124m\"\u001b[39m\n\u001b[0;32m--> 885\u001b[0m     \u001b[38;5;28msuper\u001b[39m()\u001b[38;5;241m.\u001b[39m\u001b[38;5;21m__init__\u001b[39m(\n\u001b[1;32m    886\u001b[0m         dependent, exog, endog, instruments, weights\u001b[38;5;241m=\u001b[39mweights, fuller\u001b[38;5;241m=\u001b[39m\u001b[38;5;241m0\u001b[39m, kappa\u001b[38;5;241m=\u001b[39m\u001b[38;5;241m1\u001b[39m\n\u001b[1;32m    887\u001b[0m     )\n",
      "File \u001b[0;32m~/anaconda3/lib/python3.11/site-packages/linearmodels/iv/model.py:549\u001b[0m, in \u001b[0;36m_IVLSModelBase.__init__\u001b[0;34m(self, dependent, exog, endog, instruments, weights, fuller, kappa)\u001b[0m\n\u001b[1;32m    538\u001b[0m \u001b[38;5;28;01mdef\u001b[39;00m \u001b[38;5;21m__init__\u001b[39m(\n\u001b[1;32m    539\u001b[0m     \u001b[38;5;28mself\u001b[39m,\n\u001b[1;32m    540\u001b[0m     dependent: IVDataLike,\n\u001b[0;32m   (...)\u001b[0m\n\u001b[1;32m    547\u001b[0m     kappa: OptionalNumeric \u001b[38;5;241m=\u001b[39m \u001b[38;5;28;01mNone\u001b[39;00m,\n\u001b[1;32m    548\u001b[0m ):\n\u001b[0;32m--> 549\u001b[0m     \u001b[38;5;28msuper\u001b[39m()\u001b[38;5;241m.\u001b[39m\u001b[38;5;21m__init__\u001b[39m(\n\u001b[1;32m    550\u001b[0m         dependent,\n\u001b[1;32m    551\u001b[0m         exog,\n\u001b[1;32m    552\u001b[0m         endog,\n\u001b[1;32m    553\u001b[0m         instruments,\n\u001b[1;32m    554\u001b[0m         weights\u001b[38;5;241m=\u001b[39mweights,\n\u001b[1;32m    555\u001b[0m         fuller\u001b[38;5;241m=\u001b[39mfuller,\n\u001b[1;32m    556\u001b[0m         kappa\u001b[38;5;241m=\u001b[39mkappa,\n\u001b[1;32m    557\u001b[0m     )\n",
      "File \u001b[0;32m~/anaconda3/lib/python3.11/site-packages/linearmodels/iv/model.py:178\u001b[0m, in \u001b[0;36m_IVModelBase.__init__\u001b[0;34m(self, dependent, exog, endog, instruments, weights, fuller, kappa)\u001b[0m\n\u001b[1;32m    176\u001b[0m \u001b[38;5;28mself\u001b[39m\u001b[38;5;241m.\u001b[39mdependent \u001b[38;5;241m=\u001b[39m IVData(dependent, var_name\u001b[38;5;241m=\u001b[39m\u001b[38;5;124m\"\u001b[39m\u001b[38;5;124mdependent\u001b[39m\u001b[38;5;124m\"\u001b[39m)\n\u001b[1;32m    177\u001b[0m nobs: \u001b[38;5;28mint\u001b[39m \u001b[38;5;241m=\u001b[39m \u001b[38;5;28mself\u001b[39m\u001b[38;5;241m.\u001b[39mdependent\u001b[38;5;241m.\u001b[39mshape[\u001b[38;5;241m0\u001b[39m]\n\u001b[0;32m--> 178\u001b[0m \u001b[38;5;28mself\u001b[39m\u001b[38;5;241m.\u001b[39mexog \u001b[38;5;241m=\u001b[39m IVData(exog, var_name\u001b[38;5;241m=\u001b[39m\u001b[38;5;124m\"\u001b[39m\u001b[38;5;124mexog\u001b[39m\u001b[38;5;124m\"\u001b[39m, nobs\u001b[38;5;241m=\u001b[39mnobs)\n\u001b[1;32m    179\u001b[0m \u001b[38;5;28mself\u001b[39m\u001b[38;5;241m.\u001b[39mendog \u001b[38;5;241m=\u001b[39m IVData(endog, var_name\u001b[38;5;241m=\u001b[39m\u001b[38;5;124m\"\u001b[39m\u001b[38;5;124mendog\u001b[39m\u001b[38;5;124m\"\u001b[39m, nobs\u001b[38;5;241m=\u001b[39mnobs)\n\u001b[1;32m    180\u001b[0m \u001b[38;5;28mself\u001b[39m\u001b[38;5;241m.\u001b[39minstruments \u001b[38;5;241m=\u001b[39m IVData(instruments, var_name\u001b[38;5;241m=\u001b[39m\u001b[38;5;124m\"\u001b[39m\u001b[38;5;124minstruments\u001b[39m\u001b[38;5;124m\"\u001b[39m, nobs\u001b[38;5;241m=\u001b[39mnobs)\n",
      "File \u001b[0;32m~/anaconda3/lib/python3.11/site-packages/linearmodels/iv/data.py:103\u001b[0m, in \u001b[0;36mIVData.__init__\u001b[0;34m(self, x, var_name, nobs, convert_dummies, drop_first)\u001b[0m\n\u001b[1;32m    101\u001b[0m columns \u001b[38;5;241m=\u001b[39m \u001b[38;5;28mlist\u001b[39m(x\u001b[38;5;241m.\u001b[39mcolumns)\n\u001b[1;32m    102\u001b[0m \u001b[38;5;28;01mif\u001b[39;00m \u001b[38;5;28mlen\u001b[39m(\u001b[38;5;28mset\u001b[39m(columns)) \u001b[38;5;241m!=\u001b[39m \u001b[38;5;28mlen\u001b[39m(columns):\n\u001b[0;32m--> 103\u001b[0m     \u001b[38;5;28;01mraise\u001b[39;00m \u001b[38;5;167;01mValueError\u001b[39;00m(\n\u001b[1;32m    104\u001b[0m         \u001b[38;5;124m\"\u001b[39m\u001b[38;5;124mDataFrame contains duplicate column names. \u001b[39m\u001b[38;5;124m\"\u001b[39m\n\u001b[1;32m    105\u001b[0m         \u001b[38;5;124m\"\u001b[39m\u001b[38;5;124mAll column names must be distinct\u001b[39m\u001b[38;5;124m\"\u001b[39m\n\u001b[1;32m    106\u001b[0m     )\n\u001b[1;32m    107\u001b[0m all_numeric \u001b[38;5;241m=\u001b[39m \u001b[38;5;28;01mTrue\u001b[39;00m\n\u001b[1;32m    108\u001b[0m \u001b[38;5;28;01mfor\u001b[39;00m col \u001b[38;5;129;01min\u001b[39;00m x:\n",
      "\u001b[0;31mValueError\u001b[0m: DataFrame contains duplicate column names. All column names must be distinct"
     ]
    }
   ],
   "source": [
    "cigs = add_constant(cigs, has_constant=\"add\")\n",
    "\n",
    "#iv = IV2SLS(dependent=cigs.lquant, con ,exog=cigs.lprice, endog=cigs.tdiff, instruments=cigs.tdiff).fit(cov_type='unadjusted')\n",
    "iv = IV2SLS(cigs.lquant, cigs[['const', 'lincome']], cigs.lprice, cigs.tdiff).fit()\n",
    "print(iv)"
   ]
  },
  {
   "cell_type": "markdown",
   "id": "hourly-drain",
   "metadata": {},
   "source": [
    "**A:** "
   ]
  },
  {
   "cell_type": "markdown",
   "id": "intense-agency",
   "metadata": {},
   "source": [
    "### 3. TSLS estimation"
   ]
  },
  {
   "cell_type": "markdown",
   "id": "077268a6",
   "metadata": {},
   "source": [
    "#### 3.1 Simple TSLS\n",
    "**Q:** Now run the TSLS estimation using the IV2SLS command from \"linearmodels\" and compare with the results in part 2."
   ]
  },
  {
   "cell_type": "code",
   "execution_count": null,
   "id": "incoming-celtic",
   "metadata": {},
   "outputs": [],
   "source": []
  },
  {
   "cell_type": "markdown",
   "id": "unable-initial",
   "metadata": {},
   "source": [
    "**A:** "
   ]
  },
  {
   "cell_type": "markdown",
   "id": "compatible-handbook",
   "metadata": {},
   "source": [
    "#### 3.2  More Sources of Bias"
   ]
  },
  {
   "cell_type": "markdown",
   "id": "54680c21",
   "metadata": {},
   "source": [
    "**Q:**  Let's revisit the exogeneity assumption. Do you think income (\"lincome\") is an omitted variable that could be affecting the validity of our instrument? Why? "
   ]
  },
  {
   "cell_type": "markdown",
   "id": "126a5987",
   "metadata": {},
   "source": [
    "**A:**"
   ]
  },
  {
   "cell_type": "markdown",
   "id": "1a6b8a47",
   "metadata": {},
   "source": [
    "**Q:** Now include log income (the variable lincome you generated in the beginning) in the regression as a control variable. Comment on the results."
   ]
  },
  {
   "cell_type": "code",
   "execution_count": null,
   "id": "wired-stockholm",
   "metadata": {
    "scrolled": true
   },
   "outputs": [],
   "source": []
  },
  {
   "cell_type": "markdown",
   "id": "perceived-species",
   "metadata": {},
   "source": [
    "**A:** "
   ]
  },
  {
   "cell_type": "markdown",
   "id": "widespread-infrastructure",
   "metadata": {},
   "source": [
    "#### 3.3 More Instruments\n",
    "\n",
    "**Q:** Re-run the model in 3.2, also considering another instrument in addition to tdiff, obtained as the real tax on cigarette: tax/cpi. Comment on the estimates of both the price elasticity and the income elasticity of cigarette demand."
   ]
  },
  {
   "cell_type": "code",
   "execution_count": null,
   "id": "romantic-title",
   "metadata": {},
   "outputs": [],
   "source": []
  },
  {
   "cell_type": "markdown",
   "id": "outside-nerve",
   "metadata": {},
   "source": [
    "**A:** "
   ]
  },
  {
   "cell_type": "markdown",
   "id": "interracial-darwin",
   "metadata": {},
   "source": [
    "#### 3.4 Instrument Validity\n",
    "**Q:** Assess the validity of the instruments. Using:\n",
    "\n",
    "- iv3.first_stage\n",
    "- iv3.sargan\n",
    "\n",
    "\n",
    "(In R adding the diagnostics=TRUE to the summary command in the regression in part 3.3.)"
   ]
  },
  {
   "cell_type": "code",
   "execution_count": null,
   "id": "cultural-joseph",
   "metadata": {},
   "outputs": [],
   "source": []
  },
  {
   "cell_type": "markdown",
   "id": "sound-click",
   "metadata": {},
   "source": [
    "**A:**"
   ]
  },
  {
   "cell_type": "markdown",
   "id": "c070acce",
   "metadata": {},
   "source": [
    "**Bonus Question:** You are thinking about using the \"distance of the state from cigarrete manufacturing plants\" as an instrument. Do you think this would be a weak or strong instrument? Why?"
   ]
  },
  {
   "cell_type": "markdown",
   "id": "520f63df",
   "metadata": {},
   "source": [
    "**A:**"
   ]
  }
 ],
 "metadata": {
  "kernelspec": {
   "display_name": "Python 3",
   "language": "python",
   "name": "python3"
  },
  "language_info": {
   "codemirror_mode": {
    "name": "ipython",
    "version": 3
   },
   "file_extension": ".py",
   "mimetype": "text/x-python",
   "name": "python",
   "nbconvert_exporter": "python",
   "pygments_lexer": "ipython3",
   "version": "3.11.5"
  }
 },
 "nbformat": 4,
 "nbformat_minor": 5
}
