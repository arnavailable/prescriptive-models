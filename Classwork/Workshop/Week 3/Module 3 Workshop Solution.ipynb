{
 "cells": [
  {
   "cell_type": "markdown",
   "id": "genetic-status",
   "metadata": {},
   "source": [
    "<center> <h1>Workshop: A/B Testing</h1> </center> "
   ]
  },
  {
   "cell_type": "code",
   "execution_count": 1,
   "id": "intellectual-james",
   "metadata": {},
   "outputs": [],
   "source": [
    "import pandas as pd\n",
    "import matplotlib.pyplot as plt\n",
    "import numpy as np\n",
    "import statsmodels.api as sm\n",
    "import statsmodels.formula.api as smf"
   ]
  },
  {
   "cell_type": "markdown",
   "id": "understood-hacker",
   "metadata": {},
   "source": [
    "### 1. Setup\n",
    "\n",
    "In this file, we will analyze data from an A/B test designed to study advertising effectiveness.\n",
    "\n",
    "#### Download data/script files and launch Jupyter Notebook\n",
    "1.\tCreate a new file folder on your computer\n",
    "2.\tDownload the file “AB_test_advertising.csv” from Canvas to your folder\n",
    "3.\tMake sure the current notebook is in the same folder\n"
   ]
  },
  {
   "cell_type": "markdown",
   "id": "interim-packet",
   "metadata": {},
   "source": [
    "### 2. Descriptive Analysis\n",
    "\n",
    "\n",
    "#### 2.1 First look at the data\n",
    "Load the data (use the pd.read_csv command) and use AB_test as the name for the data frame. Eyeball the variables in the data frame by using the data_frame.head() command."
   ]
  },
  {
   "cell_type": "code",
   "execution_count": 2,
   "id": "greenhouse-level",
   "metadata": {
    "scrolled": true
   },
   "outputs": [
    {
     "data": {
      "text/html": [
       "<div>\n",
       "<style scoped>\n",
       "    .dataframe tbody tr th:only-of-type {\n",
       "        vertical-align: middle;\n",
       "    }\n",
       "\n",
       "    .dataframe tbody tr th {\n",
       "        vertical-align: top;\n",
       "    }\n",
       "\n",
       "    .dataframe thead th {\n",
       "        text-align: right;\n",
       "    }\n",
       "</style>\n",
       "<table border=\"1\" class=\"dataframe\">\n",
       "  <thead>\n",
       "    <tr style=\"text-align: right;\">\n",
       "      <th></th>\n",
       "      <th>user_id</th>\n",
       "      <th>treatment</th>\n",
       "      <th>revenue</th>\n",
       "      <th>gender</th>\n",
       "      <th>stateID</th>\n",
       "      <th>age</th>\n",
       "      <th>browser</th>\n",
       "      <th>facebook_login</th>\n",
       "      <th>revenuePrevYear</th>\n",
       "    </tr>\n",
       "  </thead>\n",
       "  <tbody>\n",
       "    <tr>\n",
       "      <th>0</th>\n",
       "      <td>1</td>\n",
       "      <td>1</td>\n",
       "      <td>0.0</td>\n",
       "      <td>Male</td>\n",
       "      <td>3</td>\n",
       "      <td>22</td>\n",
       "      <td>Other</td>\n",
       "      <td>0</td>\n",
       "      <td>4636.9302</td>\n",
       "    </tr>\n",
       "    <tr>\n",
       "      <th>1</th>\n",
       "      <td>2</td>\n",
       "      <td>0</td>\n",
       "      <td>0.0</td>\n",
       "      <td>Male</td>\n",
       "      <td>38</td>\n",
       "      <td>22</td>\n",
       "      <td>Explorer</td>\n",
       "      <td>0</td>\n",
       "      <td>6504.2603</td>\n",
       "    </tr>\n",
       "    <tr>\n",
       "      <th>2</th>\n",
       "      <td>3</td>\n",
       "      <td>0</td>\n",
       "      <td>0.0</td>\n",
       "      <td>Male</td>\n",
       "      <td>21</td>\n",
       "      <td>22</td>\n",
       "      <td>Chrome</td>\n",
       "      <td>0</td>\n",
       "      <td>5164.5303</td>\n",
       "    </tr>\n",
       "    <tr>\n",
       "      <th>3</th>\n",
       "      <td>4</td>\n",
       "      <td>0</td>\n",
       "      <td>0.0</td>\n",
       "      <td>Male</td>\n",
       "      <td>3</td>\n",
       "      <td>23</td>\n",
       "      <td>Other</td>\n",
       "      <td>0</td>\n",
       "      <td>5366.8101</td>\n",
       "    </tr>\n",
       "    <tr>\n",
       "      <th>4</th>\n",
       "      <td>5</td>\n",
       "      <td>1</td>\n",
       "      <td>0.0</td>\n",
       "      <td>Male</td>\n",
       "      <td>24</td>\n",
       "      <td>23</td>\n",
       "      <td>Chrome</td>\n",
       "      <td>0</td>\n",
       "      <td>5795.8301</td>\n",
       "    </tr>\n",
       "  </tbody>\n",
       "</table>\n",
       "</div>"
      ],
      "text/plain": [
       "   user_id  treatment  revenue gender  stateID  age   browser  facebook_login  \\\n",
       "0        1          1      0.0   Male        3   22     Other               0   \n",
       "1        2          0      0.0   Male       38   22  Explorer               0   \n",
       "2        3          0      0.0   Male       21   22    Chrome               0   \n",
       "3        4          0      0.0   Male        3   23     Other               0   \n",
       "4        5          1      0.0   Male       24   23    Chrome               0   \n",
       "\n",
       "   revenuePrevYear  \n",
       "0        4636.9302  \n",
       "1        6504.2603  \n",
       "2        5164.5303  \n",
       "3        5366.8101  \n",
       "4        5795.8301  "
      ]
     },
     "execution_count": 2,
     "metadata": {},
     "output_type": "execute_result"
    }
   ],
   "source": [
    "AB_test = pd.read_csv('AB_test_advertising.csv')\n",
    "AB_test.head()"
   ]
  },
  {
   "cell_type": "markdown",
   "id": "interior-converter",
   "metadata": {},
   "source": [
    "**Q:** Add code to the chunk below to summarize the data frame using the command frame_name.describe(). Make sure you understand what the different variables refer to and which values they take on. How many observations are there? What is the unit of observation?"
   ]
  },
  {
   "cell_type": "code",
   "execution_count": 3,
   "id": "junior-output",
   "metadata": {},
   "outputs": [
    {
     "data": {
      "text/html": [
       "<div>\n",
       "<style scoped>\n",
       "    .dataframe tbody tr th:only-of-type {\n",
       "        vertical-align: middle;\n",
       "    }\n",
       "\n",
       "    .dataframe tbody tr th {\n",
       "        vertical-align: top;\n",
       "    }\n",
       "\n",
       "    .dataframe thead th {\n",
       "        text-align: right;\n",
       "    }\n",
       "</style>\n",
       "<table border=\"1\" class=\"dataframe\">\n",
       "  <thead>\n",
       "    <tr style=\"text-align: right;\">\n",
       "      <th></th>\n",
       "      <th>user_id</th>\n",
       "      <th>treatment</th>\n",
       "      <th>revenue</th>\n",
       "      <th>stateID</th>\n",
       "      <th>age</th>\n",
       "      <th>facebook_login</th>\n",
       "      <th>revenuePrevYear</th>\n",
       "    </tr>\n",
       "  </thead>\n",
       "  <tbody>\n",
       "    <tr>\n",
       "      <th>count</th>\n",
       "      <td>1000000.000000</td>\n",
       "      <td>1000000.00000</td>\n",
       "      <td>1000000.000000</td>\n",
       "      <td>1000000.000000</td>\n",
       "      <td>1000000.000000</td>\n",
       "      <td>1000000.000000</td>\n",
       "      <td>1.000000e+06</td>\n",
       "    </tr>\n",
       "    <tr>\n",
       "      <th>mean</th>\n",
       "      <td>500000.500000</td>\n",
       "      <td>0.50022</td>\n",
       "      <td>10.169842</td>\n",
       "      <td>25.512115</td>\n",
       "      <td>22.011306</td>\n",
       "      <td>0.240081</td>\n",
       "      <td>5.413937e+03</td>\n",
       "    </tr>\n",
       "    <tr>\n",
       "      <th>std</th>\n",
       "      <td>288675.278933</td>\n",
       "      <td>0.50000</td>\n",
       "      <td>276.990538</td>\n",
       "      <td>14.433331</td>\n",
       "      <td>0.725652</td>\n",
       "      <td>0.427133</td>\n",
       "      <td>3.472124e+03</td>\n",
       "    </tr>\n",
       "    <tr>\n",
       "      <th>min</th>\n",
       "      <td>1.000000</td>\n",
       "      <td>0.00000</td>\n",
       "      <td>0.000000</td>\n",
       "      <td>1.000000</td>\n",
       "      <td>21.000000</td>\n",
       "      <td>0.000000</td>\n",
       "      <td>0.000000e+00</td>\n",
       "    </tr>\n",
       "    <tr>\n",
       "      <th>25%</th>\n",
       "      <td>250000.750000</td>\n",
       "      <td>0.00000</td>\n",
       "      <td>0.000000</td>\n",
       "      <td>13.000000</td>\n",
       "      <td>22.000000</td>\n",
       "      <td>0.000000</td>\n",
       "      <td>4.636470e+03</td>\n",
       "    </tr>\n",
       "    <tr>\n",
       "      <th>50%</th>\n",
       "      <td>500000.500000</td>\n",
       "      <td>1.00000</td>\n",
       "      <td>0.000000</td>\n",
       "      <td>25.000000</td>\n",
       "      <td>22.000000</td>\n",
       "      <td>0.000000</td>\n",
       "      <td>5.319760e+03</td>\n",
       "    </tr>\n",
       "    <tr>\n",
       "      <th>75%</th>\n",
       "      <td>750000.250000</td>\n",
       "      <td>1.00000</td>\n",
       "      <td>0.000000</td>\n",
       "      <td>38.000000</td>\n",
       "      <td>23.000000</td>\n",
       "      <td>0.000000</td>\n",
       "      <td>6.008300e+03</td>\n",
       "    </tr>\n",
       "    <tr>\n",
       "      <th>max</th>\n",
       "      <td>1000000.000000</td>\n",
       "      <td>1.00000</td>\n",
       "      <td>140464.830000</td>\n",
       "      <td>50.000000</td>\n",
       "      <td>81.000000</td>\n",
       "      <td>1.000000</td>\n",
       "      <td>1.692130e+06</td>\n",
       "    </tr>\n",
       "  </tbody>\n",
       "</table>\n",
       "</div>"
      ],
      "text/plain": [
       "              user_id      treatment         revenue         stateID  \\\n",
       "count  1000000.000000  1000000.00000  1000000.000000  1000000.000000   \n",
       "mean    500000.500000        0.50022       10.169842       25.512115   \n",
       "std     288675.278933        0.50000      276.990538       14.433331   \n",
       "min          1.000000        0.00000        0.000000        1.000000   \n",
       "25%     250000.750000        0.00000        0.000000       13.000000   \n",
       "50%     500000.500000        1.00000        0.000000       25.000000   \n",
       "75%     750000.250000        1.00000        0.000000       38.000000   \n",
       "max    1000000.000000        1.00000   140464.830000       50.000000   \n",
       "\n",
       "                  age  facebook_login  revenuePrevYear  \n",
       "count  1000000.000000  1000000.000000     1.000000e+06  \n",
       "mean        22.011306        0.240081     5.413937e+03  \n",
       "std          0.725652        0.427133     3.472124e+03  \n",
       "min         21.000000        0.000000     0.000000e+00  \n",
       "25%         22.000000        0.000000     4.636470e+03  \n",
       "50%         22.000000        0.000000     5.319760e+03  \n",
       "75%         23.000000        0.000000     6.008300e+03  \n",
       "max         81.000000        1.000000     1.692130e+06  "
      ]
     },
     "execution_count": 3,
     "metadata": {},
     "output_type": "execute_result"
    }
   ],
   "source": [
    "AB_test.describe()"
   ]
  },
  {
   "cell_type": "markdown",
   "id": "informational-gauge",
   "metadata": {},
   "source": [
    "**Answer:** We have 1,000,000 observations. The unit of observation is an individual user."
   ]
  },
  {
   "cell_type": "markdown",
   "id": "collaborative-keyboard",
   "metadata": {},
   "source": [
    "#### 2.2 A closer look at the revenue variable\n",
    "\n",
    "The summary command includes descriptive statistics for the revenue variable. Explore the variation in this variable further using a histogram."
   ]
  },
  {
   "cell_type": "code",
   "execution_count": 18,
   "id": "victorian-harvest",
   "metadata": {},
   "outputs": [
    {
     "data": {
      "image/png": "[encoded data removed]",
      "text/plain": [
       "<Figure size 640x480 with 1 Axes>"
      ]
     },
     "metadata": {},
     "output_type": "display_data"
    }
   ],
   "source": [
    "AB_test.hist(column='revenue',bins=100)\n",
    "plt.title('Histogram of AB_test[revenue]') \n",
    "plt.xlabel('AB_test[revenue]') \n",
    "plt.ylabel('Frequency')\n",
    "plt.xlim(0,5000)\n",
    "plt.ylim(0,2000000)\n",
    "plt.show()\n",
    "\n",
    "#set x axis length 0-100 range\n"
   ]
  },
  {
   "cell_type": "markdown",
   "id": "sporting-experience",
   "metadata": {},
   "source": [
    "This histogram is hard to read because the distribution of revenue is very skewed. We thus focus on values of revenue above 0 and below 100. We can do this by filtering the data frame by using conditional statements."
   ]
  },
  {
   "cell_type": "code",
   "execution_count": 6,
   "id": "written-munich",
   "metadata": {},
   "outputs": [
    {
     "data": {
      "image/png": "[encoded data removed]",
      "text/plain": [
       "<Figure size 432x288 with 1 Axes>"
      ]
     },
     "metadata": {
      "needs_background": "light"
     },
     "output_type": "display_data"
    }
   ],
   "source": [
    "AB_test[(AB_test['revenue'] > 0) & (AB_test['revenue'] < 100)].hist(column='revenue',bins=100)\n",
    "plt.title('Histogram of AB_test[revenue]>0 and AB_test[revenue]<100') \n",
    "plt.xlabel('AB_test[revenue]') \n",
    "plt.ylabel('Frequency')\n",
    "plt.show()"
   ]
  },
  {
   "cell_type": "markdown",
   "id": "careful-teach",
   "metadata": {},
   "source": [
    "Next, generate a variable that is equal to one if revenue is positive and zero when no purchase occurred. "
   ]
  },
  {
   "cell_type": "markdown",
   "id": "chinese-employee",
   "metadata": {},
   "source": [
    "**Q:** Add code to the chunk below to compute the proportion of consumers that made a purchase. What is this proportion?"
   ]
  },
  {
   "cell_type": "code",
   "execution_count": 20,
   "id": "valid-festival",
   "metadata": {},
   "outputs": [
    {
     "data": {
      "text/plain": [
       "0.051486"
      ]
     },
     "execution_count": 20,
     "metadata": {},
     "output_type": "execute_result"
    }
   ],
   "source": [
    "AB_test['purchase_dummy'] = np.where(AB_test['revenue']>0, 1, 0)\n",
    "mean = np.mean(AB_test['purchase_dummy'])\n",
    "mean"
   ]
  },
  {
   "cell_type": "markdown",
   "id": "dried-primary",
   "metadata": {
    "variables": {
     "100*mean": "5.1486"
    }
   },
   "source": [
    "**Answer:** {{100*mean}}% of the individuals made a purchase."
   ]
  },
  {
   "cell_type": "markdown",
   "id": "veterinary-sally",
   "metadata": {},
   "source": [
    "### 3. Checking randomization\n",
    "You want to verify that the A/B test was actually implemented correctly. You know that if randomization is done correctly, the treatment variable should be uncorrelated with consumer demographics. Implement a regression that tests whether gender, age, and facebook_login are correlated with treatment."
   ]
  },
  {
   "cell_type": "markdown",
   "id": "developing-florida",
   "metadata": {},
   "source": [
    "**Q:** Can you reject the null hypothesis that these three variables do not predict treatment (try to test for the correlation / influence of all three variables in one single regression)?"
   ]
  },
  {
   "cell_type": "code",
   "execution_count": 21,
   "id": "looking-antigua",
   "metadata": {
    "scrolled": true
   },
   "outputs": [
    {
     "name": "stdout",
     "output_type": "stream",
     "text": [
      "                            OLS Regression Results                            \n",
      "==============================================================================\n",
      "Dep. Variable:              treatment   R-squared:                       0.000\n",
      "Model:                            OLS   Adj. R-squared:                 -0.000\n",
      "Method:                 Least Squares   F-statistic:                    0.4931\n",
      "Date:                Thu, 21 Mar 2024   Prob (F-statistic):              0.687\n",
      "Time:                        00:06:17   Log-Likelihood:            -7.2579e+05\n",
      "No. Observations:             1000000   AIC:                         1.452e+06\n",
      "Df Residuals:                  999996   BIC:                         1.452e+06\n",
      "Df Model:                           3                                         \n",
      "Covariance Type:            nonrobust                                         \n",
      "==================================================================================\n",
      "                     coef    std err          t      P>|t|      [0.025      0.975]\n",
      "----------------------------------------------------------------------------------\n",
      "Intercept          0.5040      0.015     32.821      0.000       0.474       0.534\n",
      "gender[T.Male]     0.0006      0.002      0.278      0.781      -0.004       0.005\n",
      "age               -0.0002      0.001     -0.265      0.791      -0.002       0.001\n",
      "facebook_login    -0.0014      0.001     -1.153      0.249      -0.004       0.001\n",
      "==============================================================================\n",
      "Omnibus:                  3405191.823   Durbin-Watson:                   2.002\n",
      "Prob(Omnibus):                  0.000   Jarque-Bera (JB):           166665.680\n",
      "Skew:                          -0.001   Prob(JB):                         0.00\n",
      "Kurtosis:                       1.000   Cond. No.                         679.\n",
      "==============================================================================\n",
      "\n",
      "Notes:\n",
      "[1] Standard Errors assume that the covariance matrix of the errors is correctly specified.\n"
     ]
    }
   ],
   "source": [
    "random_check_reg = smf.ols(formula = 'treatment ~ gender + age + facebook_login', data = AB_test)\n",
    "result = random_check_reg.fit()\n",
    "print(result.summary())"
   ]
  },
  {
   "cell_type": "markdown",
   "id": "religious-fourth",
   "metadata": {},
   "source": [
    "**Answer:** We cannot reject the null hypothesis that these control variables do not predict treatment (this is the F-statistic, with a p-value of 0.687, which implies no rejection). The demographic variables are all insignificant. This should be the case if random assignment was done correctly."
   ]
  },
  {
   "cell_type": "markdown",
   "id": "global-peace",
   "metadata": {},
   "source": [
    "### 4. Simple A/B test\n",
    "\n",
    "#### 4.1 Revenue regression\n",
    "\n",
    "**Q:** Fill in the chunk below with code that regresses revenue on treatment in order to test whether treatment (showing an ad) has a significant effect on revenue generated. Interpret the intercept and the treatment coefficients. Is the difference in revenue between treatment and control group statistically significant?\n"
   ]
  },
  {
   "cell_type": "code",
   "execution_count": 22,
   "id": "domestic-specialist",
   "metadata": {},
   "outputs": [
    {
     "name": "stdout",
     "output_type": "stream",
     "text": [
      "                            OLS Regression Results                            \n",
      "==============================================================================\n",
      "Dep. Variable:                revenue   R-squared:                       0.000\n",
      "Model:                            OLS   Adj. R-squared:                  0.000\n",
      "Method:                 Least Squares   F-statistic:                     2.349\n",
      "Date:                Thu, 21 Mar 2024   Prob (F-statistic):              0.125\n",
      "Time:                        00:08:18   Log-Likelihood:            -7.0429e+06\n",
      "No. Observations:             1000000   AIC:                         1.409e+07\n",
      "Df Residuals:                  999998   BIC:                         1.409e+07\n",
      "Df Model:                           1                                         \n",
      "Covariance Type:            nonrobust                                         \n",
      "==============================================================================\n",
      "                 coef    std err          t      P>|t|      [0.025      0.975]\n",
      "------------------------------------------------------------------------------\n",
      "Intercept      9.7451      0.392     24.872      0.000       8.977      10.513\n",
      "treatment      0.8491      0.554      1.533      0.125      -0.237       1.935\n",
      "===============================================================================\n",
      "Omnibus:                  4893753.346   Durbin-Watson:                    2.001\n",
      "Prob(Omnibus):                  0.000   Jarque-Bera (JB):   239077922492101.781\n",
      "Skew:                         199.709   Prob(JB):                          0.00\n",
      "Kurtosis:                   75750.677   Cond. No.                          2.62\n",
      "===============================================================================\n",
      "\n",
      "Notes:\n",
      "[1] Standard Errors assume that the covariance matrix of the errors is correctly specified.\n"
     ]
    }
   ],
   "source": [
    "AB_simple_revenue_reg  = smf.ols(formula = 'revenue ~ treatment', data = AB_test)\n",
    "result = AB_simple_revenue_reg.fit()\n",
    "print(result.summary())"
   ]
  },
  {
   "cell_type": "markdown",
   "id": "academic-alberta",
   "metadata": {},
   "source": [
    "**Answer:** The intercept represents the average revenue value for the control group, which is 9.74 dollars. The treatment coefficient represents the difference between treatment and control group. The difference is 0.84 dollars but it is not statistically significant."
   ]
  },
  {
   "cell_type": "markdown",
   "id": "fossil-principal",
   "metadata": {},
   "source": [
    "#### 4.2 Purchase dummy regression\n",
    "\n",
    "**Q:** Fill in the chunk below with code that, instead of revenue, uses the purchase_dummy as the outcome variable and regresses it on treatment. Interpret the intercept value and the treatment coefficient in this regression. Is the difference in purchase probabilities between treatment and control group statistically significant? Compare the results from this regression to the previous regression. Why does the level of precision differ?"
   ]
  },
  {
   "cell_type": "code",
   "execution_count": 23,
   "id": "controlling-palestinian",
   "metadata": {},
   "outputs": [
    {
     "name": "stdout",
     "output_type": "stream",
     "text": [
      "                            OLS Regression Results                            \n",
      "==============================================================================\n",
      "Dep. Variable:         purchase_dummy   R-squared:                       0.000\n",
      "Model:                            OLS   Adj. R-squared:                  0.000\n",
      "Method:                 Least Squares   F-statistic:                     41.60\n",
      "Date:                Thu, 21 Mar 2024   Prob (F-statistic):           1.12e-10\n",
      "Time:                        00:09:02   Log-Likelihood:                 90734.\n",
      "No. Observations:             1000000   AIC:                        -1.815e+05\n",
      "Df Residuals:                  999998   BIC:                        -1.814e+05\n",
      "Df Model:                           1                                         \n",
      "Covariance Type:            nonrobust                                         \n",
      "==============================================================================\n",
      "                 coef    std err          t      P>|t|      [0.025      0.975]\n",
      "------------------------------------------------------------------------------\n",
      "Intercept      0.0501      0.000    160.148      0.000       0.049       0.051\n",
      "treatment      0.0029      0.000      6.450      0.000       0.002       0.004\n",
      "==============================================================================\n",
      "Omnibus:                   801431.720   Durbin-Watson:                   1.999\n",
      "Prob(Omnibus):                  0.000   Jarque-Bera (JB):         11477067.656\n",
      "Skew:                           4.059   Prob(JB):                         0.00\n",
      "Kurtosis:                      17.476   Cond. No.                         2.62\n",
      "==============================================================================\n",
      "\n",
      "Notes:\n",
      "[1] Standard Errors assume that the covariance matrix of the errors is correctly specified.\n"
     ]
    }
   ],
   "source": [
    "AB_simple_revenue_reg  = smf.ols(formula = 'purchase_dummy ~ treatment', data = AB_test)\n",
    "result = AB_simple_revenue_reg.fit()\n",
    "print(result.summary())"
   ]
  },
  {
   "cell_type": "markdown",
   "id": "romance-antibody",
   "metadata": {},
   "source": [
    "**Answer:** We find a positive and highly significant effect in this regression. This is a linear probability model (0-1 Y-variable), therefore the intercept represents the purchase probability in the control group, which is 5%. The treatment coefficient represents the increase in purchase probability in the treatment group relative to the control group, which is 0.2% and is statistically significant. The regression residual is smaller in this regression (N and Var(X) are the same) and this leads to higher precision:\n",
    "\n",
    "$$\n",
    "Var(\\hat{\\beta}_1) = \\frac{1}{N}\\frac{Var(e)}{Var(X)}.\n",
    "$$\n",
    "\n",
    "This occurs because the purchase dummy only takes on two values (0 and 1), whereas revenue is highly variable as we say earlier."
   ]
  },
  {
   "cell_type": "markdown",
   "id": "annoying-jewel",
   "metadata": {},
   "source": [
    "### 5. A/B test with control variables\n",
    "\n",
    "We now regress revenue on treatment as well as ALL demographic variables."
   ]
  },
  {
   "cell_type": "code",
   "execution_count": 24,
   "id": "intimate-major",
   "metadata": {
    "scrolled": true
   },
   "outputs": [
    {
     "name": "stdout",
     "output_type": "stream",
     "text": [
      "                            OLS Regression Results                            \n",
      "==============================================================================\n",
      "Dep. Variable:                revenue   R-squared:                       0.917\n",
      "Model:                            OLS   Adj. R-squared:                  0.917\n",
      "Method:                 Least Squares   F-statistic:                 1.984e+05\n",
      "Date:                Thu, 21 Mar 2024   Prob (F-statistic):               0.00\n",
      "Time:                        00:11:36   Log-Likelihood:            -5.7958e+06\n",
      "No. Observations:             1000000   AIC:                         1.159e+07\n",
      "Df Residuals:                  999943   BIC:                         1.159e+07\n",
      "Df Model:                          56                                         \n",
      "Covariance Type:            nonrobust                                         \n",
      "=======================================================================================\n",
      "                          coef    std err          t      P>|t|      [0.025      0.975]\n",
      "---------------------------------------------------------------------------------------\n",
      "Intercept            -490.1183      2.515   -194.887      0.000    -495.047    -485.189\n",
      "gender[T.Male]        -17.3993      0.369    -47.116      0.000     -18.123     -16.675\n",
      "stateID[T.2]           -0.1869      0.799     -0.234      0.815      -1.752       1.378\n",
      "stateID[T.3]            0.4803      0.798      0.602      0.547      -1.083       2.043\n",
      "stateID[T.4]           -0.6118      0.798     -0.766      0.443      -2.177       0.953\n",
      "stateID[T.5]           -1.0007      0.796     -1.258      0.208      -2.560       0.559\n",
      "stateID[T.6]           -0.2558      0.799     -0.320      0.749      -1.823       1.311\n",
      "stateID[T.7]            0.0024      0.794      0.003      0.998      -1.555       1.560\n",
      "stateID[T.8]           -0.0938      0.799     -0.117      0.907      -1.660       1.473\n",
      "stateID[T.9]            0.1888      0.798      0.236      0.813      -1.376       1.753\n",
      "stateID[T.10]          -0.5777      0.801     -0.721      0.471      -2.148       0.993\n",
      "stateID[T.11]          -0.3924      0.797     -0.492      0.623      -1.955       1.170\n",
      "stateID[T.12]          -0.5556      0.800     -0.695      0.487      -2.123       1.012\n",
      "stateID[T.13]          -0.6390      0.798     -0.801      0.423      -2.203       0.925\n",
      "stateID[T.14]          -0.5565      0.797     -0.698      0.485      -2.119       1.006\n",
      "stateID[T.15]           0.0221      0.796      0.028      0.978      -1.539       1.583\n",
      "stateID[T.16]          -1.1487      0.796     -1.443      0.149      -2.709       0.412\n",
      "stateID[T.17]          -0.8371      0.797     -1.050      0.294      -2.399       0.725\n",
      "stateID[T.18]          -0.6512      0.798     -0.816      0.414      -2.215       0.912\n",
      "stateID[T.19]           0.2684      0.798      0.336      0.737      -1.296       1.833\n",
      "stateID[T.20]           0.5405      0.798      0.677      0.498      -1.024       2.105\n",
      "stateID[T.21]           0.0745      0.797      0.093      0.926      -1.488       1.637\n",
      "stateID[T.22]          -1.1087      0.797     -1.391      0.164      -2.671       0.454\n",
      "stateID[T.23]           0.0610      0.798      0.077      0.939      -1.502       1.624\n",
      "stateID[T.24]           0.0961      0.797      0.121      0.904      -1.465       1.657\n",
      "stateID[T.25]          -0.3854      0.799     -0.482      0.630      -1.952       1.181\n",
      "stateID[T.26]           0.3055      0.797      0.384      0.701      -1.256       1.867\n",
      "stateID[T.27]           0.3069      0.799      0.384      0.701      -1.260       1.874\n",
      "stateID[T.28]          -0.0419      0.798     -0.053      0.958      -1.607       1.523\n",
      "stateID[T.29]          -0.9196      0.800     -1.149      0.250      -2.488       0.648\n",
      "stateID[T.30]          -0.1866      0.799     -0.234      0.815      -1.752       1.379\n",
      "stateID[T.31]          -0.5841      0.798     -0.732      0.464      -2.149       0.980\n",
      "stateID[T.32]           0.8477      0.799      1.061      0.288      -0.718       2.413\n",
      "stateID[T.33]          -0.5439      0.801     -0.679      0.497      -2.114       1.026\n",
      "stateID[T.34]           0.1577      0.798      0.198      0.843      -1.406       1.721\n",
      "stateID[T.35]          -0.0538      0.795     -0.068      0.946      -1.612       1.505\n",
      "stateID[T.36]          -1.1560      0.800     -1.445      0.148      -2.724       0.412\n",
      "stateID[T.37]          -0.1987      0.796     -0.249      0.803      -1.760       1.362\n",
      "stateID[T.38]           0.0945      0.798      0.118      0.906      -1.469       1.658\n",
      "stateID[T.39]          -0.1350      0.797     -0.169      0.866      -1.697       1.427\n",
      "stateID[T.40]          -0.3910      0.796     -0.491      0.624      -1.952       1.170\n",
      "stateID[T.41]          -0.5267      0.798     -0.660      0.509      -2.090       1.037\n",
      "stateID[T.42]          -0.3390      0.795     -0.426      0.670      -1.898       1.220\n",
      "stateID[T.43]           0.3284      0.797      0.412      0.680      -1.234       1.891\n",
      "stateID[T.44]           0.7789      0.799      0.975      0.330      -0.787       2.345\n",
      "stateID[T.45]           0.2365      0.798      0.296      0.767      -1.327       1.800\n",
      "stateID[T.46]          -0.4926      0.799     -0.616      0.538      -2.059       1.074\n",
      "stateID[T.47]          -0.1775      0.800     -0.222      0.824      -1.746       1.391\n",
      "stateID[T.48]          -1.1220      0.796     -1.410      0.159      -2.682       0.438\n",
      "stateID[T.49]           0.2578      0.796      0.324      0.746      -1.303       1.819\n",
      "stateID[T.50]           0.5979      0.796      0.751      0.453      -0.963       2.159\n",
      "browser[T.Explorer]     0.1624      0.195      0.833      0.405      -0.220       0.545\n",
      "browser[T.Other]        0.2155      0.195      1.105      0.269      -0.167       0.598\n",
      "treatment               0.8764      0.159      5.506      0.000       0.564       1.188\n",
      "age                     4.7482      0.111     42.876      0.000       4.531       4.965\n",
      "facebook_login         -0.0820      0.186     -0.440      0.660      -0.447       0.283\n",
      "revenuePrevYear         0.0761   2.34e-05   3251.796      0.000       0.076       0.076\n",
      "==============================================================================\n",
      "Omnibus:                  1200462.591   Durbin-Watson:                   1.999\n",
      "Prob(Omnibus):                  0.000   Jarque-Bera (JB):      12816953132.542\n",
      "Skew:                           4.993   Prob(JB):                         0.00\n",
      "Kurtosis:                     557.533   Cond. No.                     3.28e+05\n",
      "==============================================================================\n",
      "\n",
      "Notes:\n",
      "[1] Standard Errors assume that the covariance matrix of the errors is correctly specified.\n",
      "[2] The condition number is large, 3.28e+05. This might indicate that there are\n",
      "strong multicollinearity or other numerical problems.\n"
     ]
    }
   ],
   "source": [
    "#'revenue ~ treatment+ gender + stateID + age + browser + facebook_login + revenuePrevYear'\n",
    "AB_test.stateID = AB_test.stateID.astype(\"category\")\n",
    "AB_controls_reg = smf.ols(formula = 'revenue ~ treatment + gender + stateID + age + browser + facebook_login + revenuePrevYear', data=AB_test)\n",
    "result = AB_controls_reg.fit()\n",
    "print(result.summary())"
   ]
  },
  {
   "cell_type": "markdown",
   "id": "timely-oxygen",
   "metadata": {},
   "source": [
    "**Q:** Compare the coefficient on treatment from this regression with the treatment coefficient from the simple A/B-test regression without controls. Did you expect this difference / lack of difference in the coefficients?"
   ]
  },
  {
   "cell_type": "markdown",
   "id": "listed-month",
   "metadata": {},
   "source": [
    "**Answer:** The treatment coefficient is similar to the regression without controls (0.87 dollars here). This is what we would expect if treatment is randomly assigned. Because treatment is not correlated with any of the controls (as we checked earlier), including control does not alter the treatment coefficient."
   ]
  },
  {
   "cell_type": "markdown",
   "id": "assumed-willow",
   "metadata": {},
   "source": [
    "### 6. Optimal sample size calculation\n",
    "\n",
    "For this question, assume that an ad effect of at least 0.5 dollars is profitable. Taking the estimate of the ad effect from the univariate regression in section 4.1 as a benchmark, how large would the sample size have to be so that 0.5 is outside the 97.5 percent one-sided confidence interval for the true ad effect? For the value of $s^2$ that you need to pick in this computation, consider both:\n",
    "\n",
    "1. the variance of Y;\n",
    "2. the variance of the residual from a regression of Y on all control variables (except the treatment).\n",
    "\n",
    "**Q:** Add code in the chunk below that computes the variance of the revenue variable."
   ]
  },
  {
   "cell_type": "code",
   "execution_count": 29,
   "id": "placed-evidence",
   "metadata": {},
   "outputs": [
    {
     "data": {
      "text/plain": [
       "76723.68126163518"
      ]
     },
     "execution_count": 29,
     "metadata": {},
     "output_type": "execute_result"
    }
   ],
   "source": [
    "var_revenue = np.var(AB_test.revenue)\n",
    "var_revenue"
   ]
  },
  {
   "cell_type": "markdown",
   "id": "acceptable-length",
   "metadata": {
    "variables": {
     "var_revenue": "76723.68126088491"
    }
   },
   "source": [
    "The variance of the revenue is {{var_revenue}}."
   ]
  },
  {
   "cell_type": "markdown",
   "id": "awful-hudson",
   "metadata": {},
   "source": [
    "Compute the variance of the residual from a regression of $Y$ on all controls."
   ]
  },
  {
   "cell_type": "code",
   "execution_count": 28,
   "id": "stuck-hypothesis",
   "metadata": {
    "scrolled": true
   },
   "outputs": [
    {
     "data": {
      "text/plain": [
       "6333.80281752344"
      ]
     },
     "execution_count": 28,
     "metadata": {},
     "output_type": "execute_result"
    }
   ],
   "source": [
    "AB_controls_reg2 = smf.ols(formula = 'revenue ~ gender + stateID + age + browser + facebook_login + revenuePrevYear', data=AB_test)\n",
    "result = AB_controls_reg2.fit()\n",
    "AB_test['AB_controls_residual2'] = result.resid\n",
    "var_residuals = np.var(AB_test.AB_controls_residual2 )\n",
    "var_residuals"
   ]
  },
  {
   "cell_type": "markdown",
   "id": "mechanical-newfoundland",
   "metadata": {
    "variables": {
     "var_residuals": "6333.802817523469"
    }
   },
   "source": [
    "**Q:** What is the variance of the residuals? Compare the two estimates of $s^2$ and explain why one is larger than the other.\n",
    "\n",
    "**Answer:** The new estimate is {{var_residuals}}, which is much smaller than the variance of revenue. Note that in every regression $V(Y)\\ge V(e)=s^2$."
   ]
  },
  {
   "cell_type": "markdown",
   "id": "amino-single",
   "metadata": {},
   "source": [
    "**Q:** Now compute the optimal sample sizes for both estimates of $s^2$. \n",
    "\n",
    "**Answer:** The estimated effect of the ad on profits was 0.85 dollars. We can get rejection by choosing a standard error of (0.85 - 0.5)/2 = 0.175. Determining sample size using the variance of Y for $s^2$ (which you can think of as an upper bound for $s^2$, because in every regression $V(Y)\\ge V(e)=s^2$) gives:\n",
    "\n",
    "$$N>\\frac{s^2}{p(1-p)}\\cdot \\frac{1}{SE^2}= \\frac{76723}{0.25}\\cdot \\frac{1}{0.175^2} =10,020,963$$\n",
    "\n",
    "Using the variance of the residuals from the regression of Y on controls for $s^2$, the optimal sample size becomes\n",
    "\n",
    "$$N>\\frac{s^2}{p(1-p)}\\cdot \\frac{1}{SE^2}= \\frac{6333}{0.25}\\cdot \\frac{1}{0.175^2} = 827,167$$\n",
    "\n",
    "\n",
    "This is much smaller because of the smaller value of $s^2$ we obtained from the multivariate regression."
   ]
  }
 ],
 "metadata": {
  "kernelspec": {
   "display_name": "Python 3",
   "language": "python",
   "name": "python3"
  },
  "language_info": {
   "codemirror_mode": {
    "name": "ipython",
    "version": 3
   },
   "file_extension": ".py",
   "mimetype": "text/x-python",
   "name": "python",
   "nbconvert_exporter": "python",
   "pygments_lexer": "ipython3",
   "version": "3.11.5"
  }
 },
 "nbformat": 4,
 "nbformat_minor": 5
}
