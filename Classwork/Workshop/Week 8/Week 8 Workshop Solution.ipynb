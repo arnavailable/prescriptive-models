{
 "cells": [
  {
   "cell_type": "markdown",
   "id": "genetic-status",
   "metadata": {},
   "source": [
    "<center> <h1>Workshop: Regression Discontinuity Design</h1> </center> \n",
    "<center> <h2>Application: minimum legal drinking age</h2> </center> "
   ]
  },
  {
   "cell_type": "code",
   "execution_count": 1,
   "id": "intellectual-james",
   "metadata": {},
   "outputs": [],
   "source": [
    "import pandas as pd\n",
    "import matplotlib.pyplot as plt\n",
    "import numpy as np\n",
    "import statsmodels.api as sm\n",
    "import statsmodels.formula.api as smf\n",
    "from scipy import stats\n",
    "from statsmodels.api import add_constant"
   ]
  },
  {
   "cell_type": "markdown",
   "id": "understood-hacker",
   "metadata": {},
   "source": [
    "### 0. Setup\n",
    "This is an example of Regression Discontinuity design from \"Mastering Metrics\". In this example, we want to study the effect of having legal access to alcohol on mortality rates. In the U.S, people have legal access to alcohol after they turn 21 years old. Anecdotal data shows that there is a spike in the number of deaths per day on and right after a 21st birthday. Indeed, it has been observed that more than 100 people die on or right after their 21st birthday compared to those who died on or right after their 20th or 22nd birthday.\n",
    "\n",
    "**The question is: Can the age-21 effect be attributed to the minimum legal dinking age (MLDA)?**\n",
    "\n",
    "\n",
    "You can download the dataset from Canvas.\n",
    "\n",
    "\n",
    "**Description** A data frame containing 48 observations on 7 covariates. Each observation corresponds to a 30 day interval. Observations are centered around the 21st birthday.\n",
    "\n",
    "**agecell:**\n",
    "Month of age (defined as a 30-day interval).\n",
    "\n",
    "**all:**\n",
    "All death rates per 100,000 persons per year.\n",
    "\n",
    "**C = internal,external,alcohol (poisoning),homicide,suicide,mva (motor vehicle accidents):**\n",
    "death rates per 100,000 persons per year due to C \n",
    "\n",
    "\n",
    "\n"
   ]
  },
  {
   "cell_type": "code",
   "execution_count": 2,
   "id": "rental-letter",
   "metadata": {
    "scrolled": true
   },
   "outputs": [
    {
     "data": {
      "text/html": [
       "<div>\n",
       "<style scoped>\n",
       "    .dataframe tbody tr th:only-of-type {\n",
       "        vertical-align: middle;\n",
       "    }\n",
       "\n",
       "    .dataframe tbody tr th {\n",
       "        vertical-align: top;\n",
       "    }\n",
       "\n",
       "    .dataframe thead th {\n",
       "        text-align: right;\n",
       "    }\n",
       "</style>\n",
       "<table border=\"1\" class=\"dataframe\">\n",
       "  <thead>\n",
       "    <tr style=\"text-align: right;\">\n",
       "      <th></th>\n",
       "      <th>agecell</th>\n",
       "      <th>all</th>\n",
       "      <th>internal</th>\n",
       "      <th>external</th>\n",
       "      <th>alcohol</th>\n",
       "      <th>homicide</th>\n",
       "      <th>suicide</th>\n",
       "      <th>mva</th>\n",
       "    </tr>\n",
       "  </thead>\n",
       "  <tbody>\n",
       "    <tr>\n",
       "      <th>0</th>\n",
       "      <td>19.068493</td>\n",
       "      <td>92.825401</td>\n",
       "      <td>16.617590</td>\n",
       "      <td>76.207817</td>\n",
       "      <td>0.639138</td>\n",
       "      <td>16.316818</td>\n",
       "      <td>11.203714</td>\n",
       "      <td>35.829327</td>\n",
       "    </tr>\n",
       "    <tr>\n",
       "      <th>1</th>\n",
       "      <td>19.150684</td>\n",
       "      <td>95.100739</td>\n",
       "      <td>18.327684</td>\n",
       "      <td>76.773056</td>\n",
       "      <td>0.677409</td>\n",
       "      <td>16.859964</td>\n",
       "      <td>12.193368</td>\n",
       "      <td>35.639256</td>\n",
       "    </tr>\n",
       "    <tr>\n",
       "      <th>2</th>\n",
       "      <td>19.232876</td>\n",
       "      <td>92.144295</td>\n",
       "      <td>18.911053</td>\n",
       "      <td>73.233238</td>\n",
       "      <td>0.866443</td>\n",
       "      <td>15.219254</td>\n",
       "      <td>11.715812</td>\n",
       "      <td>34.205650</td>\n",
       "    </tr>\n",
       "    <tr>\n",
       "      <th>3</th>\n",
       "      <td>19.315069</td>\n",
       "      <td>88.427757</td>\n",
       "      <td>16.101770</td>\n",
       "      <td>72.325981</td>\n",
       "      <td>0.867308</td>\n",
       "      <td>16.742825</td>\n",
       "      <td>11.275010</td>\n",
       "      <td>32.278957</td>\n",
       "    </tr>\n",
       "    <tr>\n",
       "      <th>4</th>\n",
       "      <td>19.397261</td>\n",
       "      <td>88.704941</td>\n",
       "      <td>17.363520</td>\n",
       "      <td>71.341415</td>\n",
       "      <td>1.019163</td>\n",
       "      <td>14.947726</td>\n",
       "      <td>10.984314</td>\n",
       "      <td>32.650967</td>\n",
       "    </tr>\n",
       "  </tbody>\n",
       "</table>\n",
       "</div>"
      ],
      "text/plain": [
       "     agecell        all   internal   external   alcohol   homicide    suicide  \\\n",
       "0  19.068493  92.825401  16.617590  76.207817  0.639138  16.316818  11.203714   \n",
       "1  19.150684  95.100739  18.327684  76.773056  0.677409  16.859964  12.193368   \n",
       "2  19.232876  92.144295  18.911053  73.233238  0.866443  15.219254  11.715812   \n",
       "3  19.315069  88.427757  16.101770  72.325981  0.867308  16.742825  11.275010   \n",
       "4  19.397261  88.704941  17.363520  71.341415  1.019163  14.947726  10.984314   \n",
       "\n",
       "         mva  \n",
       "0  35.829327  \n",
       "1  35.639256  \n",
       "2  34.205650  \n",
       "3  32.278957  \n",
       "4  32.650967  "
      ]
     },
     "execution_count": 2,
     "metadata": {},
     "output_type": "execute_result"
    }
   ],
   "source": [
    "mlda = pd.read_csv('mlda.csv')\n",
    "mlda.head()"
   ]
  },
  {
   "cell_type": "markdown",
   "id": "37588f02",
   "metadata": {},
   "source": [
    "**Do:**\n",
    "1. Add to the dataset the columns \"over21\" and \"age\". The first is a dummy that takes the value 1 if \"agecell\" is greater or equal than 21. The second is: agelcell-21.\n",
    "2. Add a column called \"externalother\" which equals \"external\" minus \"suicide\", \"homicide\", and \"mva\""
   ]
  },
  {
   "cell_type": "code",
   "execution_count": 3,
   "id": "04839c50",
   "metadata": {},
   "outputs": [],
   "source": [
    "mlda[\"over21\"] = (mlda[\"agecell\"]>=21)\n",
    "mlda[\"over21\"] = mlda[\"over21\"].astype(int)"
   ]
  },
  {
   "cell_type": "code",
   "execution_count": 4,
   "id": "01d4f4b8",
   "metadata": {},
   "outputs": [],
   "source": [
    "mlda[\"age\"] = mlda[\"agecell\"]-21"
   ]
  },
  {
   "cell_type": "code",
   "execution_count": 5,
   "id": "ff20d594",
   "metadata": {},
   "outputs": [],
   "source": [
    "mlda[\"externalother\"] = mlda[\"external\"] - mlda[\"homicide\"]- mlda[\"suicide\"]- mlda[\"mva\"]"
   ]
  },
  {
   "cell_type": "code",
   "execution_count": 6,
   "id": "320ed718",
   "metadata": {},
   "outputs": [
    {
     "data": {
      "text/html": [
       "<div>\n",
       "<style scoped>\n",
       "    .dataframe tbody tr th:only-of-type {\n",
       "        vertical-align: middle;\n",
       "    }\n",
       "\n",
       "    .dataframe tbody tr th {\n",
       "        vertical-align: top;\n",
       "    }\n",
       "\n",
       "    .dataframe thead th {\n",
       "        text-align: right;\n",
       "    }\n",
       "</style>\n",
       "<table border=\"1\" class=\"dataframe\">\n",
       "  <thead>\n",
       "    <tr style=\"text-align: right;\">\n",
       "      <th></th>\n",
       "      <th>agecell</th>\n",
       "      <th>all</th>\n",
       "      <th>internal</th>\n",
       "      <th>external</th>\n",
       "      <th>alcohol</th>\n",
       "      <th>homicide</th>\n",
       "      <th>suicide</th>\n",
       "      <th>mva</th>\n",
       "      <th>over21</th>\n",
       "      <th>age</th>\n",
       "      <th>externalother</th>\n",
       "    </tr>\n",
       "  </thead>\n",
       "  <tbody>\n",
       "    <tr>\n",
       "      <th>0</th>\n",
       "      <td>19.068493</td>\n",
       "      <td>92.825401</td>\n",
       "      <td>16.617590</td>\n",
       "      <td>76.207817</td>\n",
       "      <td>0.639138</td>\n",
       "      <td>16.316818</td>\n",
       "      <td>11.203714</td>\n",
       "      <td>35.829327</td>\n",
       "      <td>0</td>\n",
       "      <td>-1.931507</td>\n",
       "      <td>12.857958</td>\n",
       "    </tr>\n",
       "    <tr>\n",
       "      <th>1</th>\n",
       "      <td>19.150684</td>\n",
       "      <td>95.100739</td>\n",
       "      <td>18.327684</td>\n",
       "      <td>76.773056</td>\n",
       "      <td>0.677409</td>\n",
       "      <td>16.859964</td>\n",
       "      <td>12.193368</td>\n",
       "      <td>35.639256</td>\n",
       "      <td>0</td>\n",
       "      <td>-1.849316</td>\n",
       "      <td>12.080468</td>\n",
       "    </tr>\n",
       "    <tr>\n",
       "      <th>2</th>\n",
       "      <td>19.232876</td>\n",
       "      <td>92.144295</td>\n",
       "      <td>18.911053</td>\n",
       "      <td>73.233238</td>\n",
       "      <td>0.866443</td>\n",
       "      <td>15.219254</td>\n",
       "      <td>11.715812</td>\n",
       "      <td>34.205650</td>\n",
       "      <td>0</td>\n",
       "      <td>-1.767124</td>\n",
       "      <td>12.092523</td>\n",
       "    </tr>\n",
       "    <tr>\n",
       "      <th>3</th>\n",
       "      <td>19.315069</td>\n",
       "      <td>88.427757</td>\n",
       "      <td>16.101770</td>\n",
       "      <td>72.325981</td>\n",
       "      <td>0.867308</td>\n",
       "      <td>16.742825</td>\n",
       "      <td>11.275010</td>\n",
       "      <td>32.278957</td>\n",
       "      <td>0</td>\n",
       "      <td>-1.684931</td>\n",
       "      <td>12.029189</td>\n",
       "    </tr>\n",
       "    <tr>\n",
       "      <th>4</th>\n",
       "      <td>19.397261</td>\n",
       "      <td>88.704941</td>\n",
       "      <td>17.363520</td>\n",
       "      <td>71.341415</td>\n",
       "      <td>1.019163</td>\n",
       "      <td>14.947726</td>\n",
       "      <td>10.984314</td>\n",
       "      <td>32.650967</td>\n",
       "      <td>0</td>\n",
       "      <td>-1.602739</td>\n",
       "      <td>12.758409</td>\n",
       "    </tr>\n",
       "  </tbody>\n",
       "</table>\n",
       "</div>"
      ],
      "text/plain": [
       "     agecell        all   internal   external   alcohol   homicide    suicide  \\\n",
       "0  19.068493  92.825401  16.617590  76.207817  0.639138  16.316818  11.203714   \n",
       "1  19.150684  95.100739  18.327684  76.773056  0.677409  16.859964  12.193368   \n",
       "2  19.232876  92.144295  18.911053  73.233238  0.866443  15.219254  11.715812   \n",
       "3  19.315069  88.427757  16.101770  72.325981  0.867308  16.742825  11.275010   \n",
       "4  19.397261  88.704941  17.363520  71.341415  1.019163  14.947726  10.984314   \n",
       "\n",
       "         mva  over21       age  externalother  \n",
       "0  35.829327       0 -1.931507      12.857958  \n",
       "1  35.639256       0 -1.849316      12.080468  \n",
       "2  34.205650       0 -1.767124      12.092523  \n",
       "3  32.278957       0 -1.684931      12.029189  \n",
       "4  32.650967       0 -1.602739      12.758409  "
      ]
     },
     "execution_count": 6,
     "metadata": {},
     "output_type": "execute_result"
    }
   ],
   "source": [
    "mlda.head()"
   ]
  },
  {
   "cell_type": "markdown",
   "id": "cec2b70d",
   "metadata": {},
   "source": [
    "### 1. Exploration\n",
    "\n",
    "**Q:** Create a scatter plot of \"all\" vs \"age\". Consider a death rate equal to 95. What do you observe for this death rate? "
   ]
  },
  {
   "cell_type": "code",
   "execution_count": 7,
   "id": "f5684660",
   "metadata": {
    "scrolled": true
   },
   "outputs": [
    {
     "data": {
      "image/png": "[encoded data removed]",
      "text/plain": [
       "<Figure size 640x480 with 1 Axes>"
      ]
     },
     "metadata": {},
     "output_type": "display_data"
    }
   ],
   "source": [
    "x = mlda['agecell']\n",
    "y = mlda['all']\n",
    "plt.plot(x, y, 'o',mfc = 'none') #scatter plot\n",
    "plt.ylim([80, 115])\n",
    "plt.xlabel(\"Age\")\n",
    "plt.ylabel(\"Death rate from all causes (per 100,000)\")\n",
    "plt.show()"
   ]
  },
  {
   "cell_type": "markdown",
   "id": "c56af906",
   "metadata": {},
   "source": [
    "**A:** Only a few death rates to the left of 21 are above 95. Right after 21, death rates go up, and only a few death rates to the right of 21 are below 95."
   ]
  },
  {
   "cell_type": "markdown",
   "id": "c9f950d0",
   "metadata": {},
   "source": [
    "### 2. Setting up a Sharp RD\n",
    "\n",
    "In this part, we will perform a simple RD design with linear trends.\n",
    "\n"
   ]
  },
  {
   "cell_type": "markdown",
   "id": "c2dfc719",
   "metadata": {},
   "source": [
    "**Q:** Regress all on a treatment dummy. Do you expect these results to be bias? If so, what is the direction of the bias?"
   ]
  },
  {
   "cell_type": "code",
   "execution_count": 8,
   "id": "1ba2f6b9",
   "metadata": {},
   "outputs": [
    {
     "name": "stdout",
     "output_type": "stream",
     "text": [
      "                            OLS Regression Results                            \n",
      "==============================================================================\n",
      "Dep. Variable:                    all   R-squared:                       0.573\n",
      "Model:                            OLS   Adj. R-squared:                  0.564\n",
      "Method:                 Least Squares   F-statistic:                     61.77\n",
      "Date:                Thu, 21 Mar 2024   Prob (F-statistic):           4.77e-10\n",
      "Time:                        02:17:45   Log-Likelihood:                -111.64\n",
      "No. Observations:                  48   AIC:                             227.3\n",
      "Df Residuals:                      46   BIC:                             231.0\n",
      "Df Model:                           1                                         \n",
      "Covariance Type:            nonrobust                                         \n",
      "==============================================================================\n",
      "                 coef    std err          t      P>|t|      [0.025      0.975]\n",
      "------------------------------------------------------------------------------\n",
      "Intercept     92.8027      0.516    179.698      0.000      91.763      93.842\n",
      "over21         5.7400      0.730      7.859      0.000       4.270       7.210\n",
      "==============================================================================\n",
      "Omnibus:                        1.991   Durbin-Watson:                   1.593\n",
      "Prob(Omnibus):                  0.370   Jarque-Bera (JB):                1.576\n",
      "Skew:                           0.444   Prob(JB):                        0.455\n",
      "Kurtosis:                       2.965   Cond. No.                         2.62\n",
      "==============================================================================\n",
      "\n",
      "Notes:\n",
      "[1] Standard Errors assume that the covariance matrix of the errors is correctly specified.\n"
     ]
    }
   ],
   "source": [
    "simple_reg = smf.ols(formula = \"all ~ over21 \", data = mlda).fit()\n",
    "print(simple_reg.summary())"
   ]
  },
  {
   "cell_type": "markdown",
   "id": "c91b2727",
   "metadata": {},
   "source": [
    "**A:** These result do not control for age. It is reasonable to expect that older people (in this age range) will be less likely to die (e.g., they become more mature). At the same time age is positively correlated with the treatment. From the OVB formula, the bias is negative and, therefore, we are potentially underestimatng the treatment effect."
   ]
  },
  {
   "cell_type": "markdown",
   "id": "a48678bc",
   "metadata": {},
   "source": [
    "**Q:** Why is this context suitable for RD? Define the elements of your RD design, and the regression you want to run. Run your regression and add the regression result to the scatter plot from the previous part."
   ]
  },
  {
   "cell_type": "markdown",
   "id": "3a179ebf",
   "metadata": {},
   "source": [
    "**A:** Note that here there is a mechanical rule that determines the assignment of treatment: age above or below 21. \n",
    "\n",
    "$Y=$ All death rates per 100,000 persons per year.\n",
    "\n",
    "$X=$ Age (this is the running variable).\n",
    "\n",
    "$c = $ 21, the cutoff.\n",
    "\n",
    "$D=$ legal drinking age. It is 1 if $X\\ge c$, and 0 otherwise.\n",
    "\n",
    "We run the following regression:\n",
    "\n",
    "$$\n",
    "Y = \\alpha + \\tau D + \\beta X + e\n",
    "$$\n",
    "\n"
   ]
  },
  {
   "cell_type": "code",
   "execution_count": 9,
   "id": "4e794b3d",
   "metadata": {},
   "outputs": [
    {
     "name": "stdout",
     "output_type": "stream",
     "text": [
      "                            OLS Regression Results                            \n",
      "==============================================================================\n",
      "Dep. Variable:                    all   R-squared:                       0.595\n",
      "Model:                            OLS   Adj. R-squared:                  0.577\n",
      "Method:                 Least Squares   F-statistic:                     32.99\n",
      "Date:                Thu, 21 Mar 2024   Prob (F-statistic):           1.51e-09\n",
      "Time:                        02:21:31   Log-Likelihood:                -110.41\n",
      "No. Observations:                  48   AIC:                             226.8\n",
      "Df Residuals:                      45   BIC:                             232.4\n",
      "Df Model:                           2                                         \n",
      "Covariance Type:            nonrobust                                         \n",
      "==============================================================================\n",
      "                 coef    std err          t      P>|t|      [0.025      0.975]\n",
      "------------------------------------------------------------------------------\n",
      "Intercept    112.3097     12.668      8.866      0.000      86.795     137.825\n",
      "over21         7.6627      1.440      5.320      0.000       4.762      10.564\n",
      "agecell       -0.9747      0.632     -1.541      0.130      -2.249       0.299\n",
      "==============================================================================\n",
      "Omnibus:                        0.189   Durbin-Watson:                   1.617\n",
      "Prob(Omnibus):                  0.910   Jarque-Bera (JB):                0.194\n",
      "Skew:                           0.131   Prob(JB):                        0.907\n",
      "Kurtosis:                       2.831   Cond. No.                         746.\n",
      "==============================================================================\n",
      "\n",
      "Notes:\n",
      "[1] Standard Errors assume that the covariance matrix of the errors is correctly specified.\n"
     ]
    }
   ],
   "source": [
    "simple_RD = smf.ols(formula = \"all ~ over21 + agecell\", data = mlda).fit()\n",
    "print(simple_RD.summary())"
   ]
  },
  {
   "cell_type": "code",
   "execution_count": 10,
   "id": "f2425ddb",
   "metadata": {},
   "outputs": [
    {
     "data": {
      "image/png": "[encoded data removed]",
      "text/plain": [
       "<Figure size 640x480 with 1 Axes>"
      ]
     },
     "metadata": {},
     "output_type": "display_data"
    }
   ],
   "source": [
    "x = mlda['agecell']\n",
    "y = mlda['all']\n",
    "plt.plot(x, y, 'o',mfc = 'none') #scatter plot\n",
    "intercept = simple_RD.params[0]\n",
    "tau_coef = simple_RD.params[1]\n",
    "age_coef = simple_RD.params[2]\n",
    "#plt.plot(x, intercept + age_coef*x + tau_coef*(x>=21)) #regression line\n",
    "x1 = x[x<21]\n",
    "x2 = x[x>=21]\n",
    "plt.plot(x1, intercept + age_coef*x1,'r')\n",
    "plt.plot(x2, intercept + age_coef*x2 + tau_coef,'r')\n",
    "plt.ylim([80, 115])\n",
    "plt.xlabel(\"Age\")\n",
    "plt.ylabel(\"Death rate from all causes (per 100,000)\")\n",
    "plt.show()"
   ]
  },
  {
   "cell_type": "markdown",
   "id": "f353c20d",
   "metadata": {},
   "source": [
    "**Q:** What is the resulting estimate of the treatment effect? How do you interpret it? Does OVB affect your results?"
   ]
  },
  {
   "cell_type": "markdown",
   "id": "6601c701",
   "metadata": {},
   "source": [
    "**A:** Our estimate is $\\tau$ and it is equal to 7.7 which captures the jump in death rates at age 21. Assuming that the effect of age on death rate is captured by a linear function, there is no OVB to worry about because $D$ only depends on X which we are already controlling for. "
   ]
  },
  {
   "cell_type": "markdown",
   "id": "02ba195e",
   "metadata": {},
   "source": [
    "### 3. Nonlinear modeling"
   ]
  },
  {
   "cell_type": "markdown",
   "id": "3eb54b38",
   "metadata": {},
   "source": [
    "**Q 3.a:** Do you think the trend relationship between age and death rates changes at the cutoff? Why? Run a regression that allows for different slopes on both sides of the cutoff. Plot your results."
   ]
  },
  {
   "cell_type": "markdown",
   "id": "4b4c7e9a",
   "metadata": {},
   "source": [
    "**A:** \n",
    "Two potential (hypothetical) theories:\n",
    "\n",
    "(1) We might expect a decline on death rates as young people (to the left of the cutoff) mature and take fewer risks. After age 21, unrestricted access to alcohol may change this by (maybe) slowing down the declining rate.  \n",
    "\n",
    "(2) It is possible that responsible legal drinking accelerates the development of mature behavior. \n",
    "\n",
    "Other theories are possible too."
   ]
  },
  {
   "cell_type": "code",
   "execution_count": 11,
   "id": "305e8e85",
   "metadata": {},
   "outputs": [
    {
     "name": "stdout",
     "output_type": "stream",
     "text": [
      "                            OLS Regression Results                            \n",
      "==============================================================================\n",
      "Dep. Variable:                    all   R-squared:                       0.668\n",
      "Model:                            OLS   Adj. R-squared:                  0.645\n",
      "Method:                 Least Squares   F-statistic:                     29.47\n",
      "Date:                Thu, 21 Mar 2024   Prob (F-statistic):           1.33e-10\n",
      "Time:                        02:23:30   Log-Likelihood:                -105.64\n",
      "No. Observations:                  48   AIC:                             219.3\n",
      "Df Residuals:                      44   BIC:                             226.8\n",
      "Df Model:                           3                                         \n",
      "Covariance Type:            nonrobust                                         \n",
      "==============================================================================\n",
      "                 coef    std err          t      P>|t|      [0.025      0.975]\n",
      "------------------------------------------------------------------------------\n",
      "Intercept     93.6184      0.932    100.399      0.000      91.739      95.498\n",
      "over21         7.6627      1.319      5.811      0.000       5.005      10.320\n",
      "age            0.8270      0.819      1.010      0.318      -0.823       2.477\n",
      "age:over21    -3.6034      1.158     -3.111      0.003      -5.937      -1.269\n",
      "==============================================================================\n",
      "Omnibus:                        0.294   Durbin-Watson:                   1.965\n",
      "Prob(Omnibus):                  0.863   Jarque-Bera (JB):                0.411\n",
      "Skew:                           0.167   Prob(JB):                        0.814\n",
      "Kurtosis:                       2.693   Cond. No.                         7.75\n",
      "==============================================================================\n",
      "\n",
      "Notes:\n",
      "[1] Standard Errors assume that the covariance matrix of the errors is correctly specified.\n"
     ]
    }
   ],
   "source": [
    "interacted_RD_1 = smf.ols(formula = \"all ~ over21 + age + age:over21\", data = mlda).fit()\n",
    "print(interacted_RD_1.summary())"
   ]
  },
  {
   "cell_type": "code",
   "execution_count": 14,
   "id": "72a38cc6",
   "metadata": {
    "scrolled": true
   },
   "outputs": [
    {
     "data": {
      "image/png": "[encoded data removed]",
      "text/plain": [
       "<Figure size 640x480 with 1 Axes>"
      ]
     },
     "metadata": {},
     "output_type": "display_data"
    }
   ],
   "source": [
    "x = mlda['age']\n",
    "y = mlda['all']\n",
    "plt.plot(x, y, 'o',mfc = 'none') #scatter plot\n",
    "intercept = interacted_RD_1.params[0]\n",
    "tau_coef = interacted_RD_1.params[1]\n",
    "age_coef = interacted_RD_1.params[2]\n",
    "inter_coef = interacted_RD_1.params[3]\n",
    "x1 = x[x<0]\n",
    "x2 = x[x>=0]\n",
    "#explain this code\n",
    "plt.plot(x1, intercept + age_coef*x1,'r')\n",
    "\n",
    "plt.plot(x2, intercept + age_coef*x2 + tau_coef + inter_coef*x2,'r')\n",
    "plt.ylim([80, 115])\n",
    "plt.xlabel(\"Age diff\")\n",
    "plt.ylabel(\"Death rate from all causes (per 100,000)\")\n",
    "plt.show()"
   ]
  },
  {
   "cell_type": "markdown",
   "id": "a7f9a296",
   "metadata": {},
   "source": [
    "**Q 3.b:** Build a model that allows for different linear and quadratic terms on both sides of the cutoff. Plot your result. How does the estimate you obtain compare to your previous estimates?"
   ]
  },
  {
   "cell_type": "markdown",
   "id": "bacfc0f2",
   "metadata": {},
   "source": [
    "**A:**"
   ]
  },
  {
   "cell_type": "code",
   "execution_count": 15,
   "id": "d70c4aa5",
   "metadata": {},
   "outputs": [
    {
     "name": "stdout",
     "output_type": "stream",
     "text": [
      "                            OLS Regression Results                            \n",
      "==============================================================================\n",
      "Dep. Variable:                    all   R-squared:                       0.682\n",
      "Model:                            OLS   Adj. R-squared:                  0.644\n",
      "Method:                 Least Squares   F-statistic:                     18.02\n",
      "Date:                Thu, 21 Mar 2024   Prob (F-statistic):           1.62e-09\n",
      "Time:                        02:25:05   Log-Likelihood:                -104.57\n",
      "No. Observations:                  48   AIC:                             221.1\n",
      "Df Residuals:                      42   BIC:                             232.4\n",
      "Df Model:                           5                                         \n",
      "Covariance Type:            nonrobust                                         \n",
      "===========================================================================================\n",
      "                              coef    std err          t      P>|t|      [0.025      0.975]\n",
      "-------------------------------------------------------------------------------------------\n",
      "Intercept                  93.0729      1.404     66.301      0.000      90.240      95.906\n",
      "over21                      9.5478      1.985      4.809      0.000       5.541      13.554\n",
      "age                        -0.8306      3.290     -0.252      0.802      -7.470       5.809\n",
      "age:over21                 -6.0170      4.653     -1.293      0.203     -15.407       3.373\n",
      "np.power(age, 2)           -0.8403      1.615     -0.520      0.606      -4.100       2.419\n",
      "np.power(age, 2):over21     2.9042      2.284      1.271      0.211      -1.706       7.514\n",
      "==============================================================================\n",
      "Omnibus:                        0.040   Durbin-Watson:                   2.004\n",
      "Prob(Omnibus):                  0.980   Jarque-Bera (JB):                0.203\n",
      "Skew:                           0.049   Prob(JB):                        0.903\n",
      "Kurtosis:                       2.697   Cond. No.                         40.1\n",
      "==============================================================================\n",
      "\n",
      "Notes:\n",
      "[1] Standard Errors assume that the covariance matrix of the errors is correctly specified.\n"
     ]
    }
   ],
   "source": [
    "interacted_RD_2 = smf.ols(formula = \"all ~ over21 + age + age:over21 + np.power(age,2) + np.power(age,2):over21\", data = mlda).fit()\n",
    "print(interacted_RD_2.summary())"
   ]
  },
  {
   "cell_type": "code",
   "execution_count": 16,
   "id": "be1c1378",
   "metadata": {},
   "outputs": [
    {
     "data": {
      "image/png": "[encoded data removed]",
      "text/plain": [
       "<Figure size 640x480 with 1 Axes>"
      ]
     },
     "metadata": {},
     "output_type": "display_data"
    }
   ],
   "source": [
    "x = mlda['age']\n",
    "y = mlda['all']\n",
    "plt.plot(x, y, 'o',mfc = 'none') #scatter plot\n",
    "m_intercept = interacted_RD_2.params[0]\n",
    "m_tau_coef = interacted_RD_2.params[1]\n",
    "m_age_coef_1 = interacted_RD_2.params[2]\n",
    "m_inter_coef_1 = interacted_RD_2.params[3]\n",
    "m_age_coef_2 = interacted_RD_2.params[4]\n",
    "m_inter_coef_2 = interacted_RD_2.params[5]\n",
    "x1 = x[x<0]\n",
    "x2 = x[x>=0]\n",
    "plt.plot(x1, m_intercept + m_age_coef_1*x1 + m_age_coef_2*x1*x1,'r')\n",
    "plt.plot(x2, m_intercept + m_age_coef_1*x2 + m_tau_coef + m_inter_coef_1*x2 + m_age_coef_2*x2*x2 + m_inter_coef_2*x2*x2 ,'r')\n",
    "plt.plot(x1, intercept + age_coef*x1,'b--')\n",
    "plt.plot(x2, intercept + age_coef*x2 + tau_coef + inter_coef*x2,'b--')\n",
    "plt.ylim([80, 115])\n",
    "plt.xlabel(\"Age diff\")\n",
    "plt.ylabel(\"Death rate from all causes (per 100,000)\")\n",
    "plt.show()"
   ]
  },
  {
   "cell_type": "markdown",
   "id": "112619d3",
   "metadata": {},
   "source": [
    "We obtain a larger estimate of the MLDA effect of 9.5 death per 100,000 compared to the linear model. We seem to obtain a better fit than the simple model. The quadractic model is able to capture the sharp jump right after 21 and the speedy recovery that comes after."
   ]
  },
  {
   "cell_type": "markdown",
   "id": "7ae0dafa",
   "metadata": {},
   "source": [
    "**Q:** Which model would you prefer?"
   ]
  },
  {
   "cell_type": "markdown",
   "id": "6c89e726",
   "metadata": {},
   "source": [
    "**A:** The key point is that the results are not highly sensitive to the details of our modeling choices. The simple RD model seems flexible enough to capture effects at the threshold. The more complex model captures the sharp increase in death rates after the cutoff, and also the subsequent partial recovery."
   ]
  },
  {
   "cell_type": "markdown",
   "id": "3057c0a6",
   "metadata": {},
   "source": [
    "### 4. Checking the validity of our results\n",
    "\n",
    "In this part, our goal is to exhaustively check our result so far. For this, we will run the specifications in **Q 3.a** and **Q 3.b** for all the different death rates. Compute all the treatment effect estimates and report the standard errors. Comment on your results."
   ]
  },
  {
   "cell_type": "markdown",
   "id": "9b23916e",
   "metadata": {},
   "source": [
    "**A:** In the code below I compute the estimates of both specifications and report the standard errors. I do it one by one for clarity but, in practice, you should try to make this in a more automated manner. "
   ]
  },
  {
   "cell_type": "code",
   "execution_count": 17,
   "id": "6404d54d",
   "metadata": {},
   "outputs": [],
   "source": [
    "#ALL\n",
    "interacted_RD_1 = smf.ols(formula = \"all ~ over21 + age + age:over21\", data = mlda).fit()\n",
    "interacted_RD_2 = smf.ols(formula = \"all ~ over21 + age + age:over21 + np.power(age,2) + np.power(age,2):over21\", data = mlda).fit()\n",
    "tau_1 = interacted_RD_1.params[1]\n",
    "stde_1 = interacted_RD_1.bse[1]\n",
    "tau_2 = interacted_RD_2.params[1]\n",
    "stde_2 = interacted_RD_2.bse[1]\n",
    "data = [['all', tau_1,tau_2], ['stde', stde_1,stde_2]]\n"
   ]
  },
  {
   "cell_type": "code",
   "execution_count": 18,
   "id": "25aea603",
   "metadata": {},
   "outputs": [],
   "source": [
    "#MVA\n",
    "interacted_RD_1 = smf.ols(formula = \"mva ~ over21 + age + age:over21\", data = mlda).fit()\n",
    "interacted_RD_2 = smf.ols(formula = \"mva ~ over21 + age + age:over21 + np.power(age,2) + np.power(age,2):over21\", data = mlda).fit()\n",
    "tau_1 = interacted_RD_1.params[1]\n",
    "stde_1 = interacted_RD_1.bse[1]\n",
    "tau_2 = interacted_RD_2.params[1]\n",
    "stde_2 = interacted_RD_2.bse[1]\n",
    "data.append(['mva', tau_1,tau_2])\n",
    "data.append(['stde', stde_1,stde_2])"
   ]
  },
  {
   "cell_type": "code",
   "execution_count": 19,
   "id": "40fccf01",
   "metadata": {},
   "outputs": [],
   "source": [
    "#suicide\n",
    "interacted_RD_1 = smf.ols(formula = \"suicide ~ over21 + age + age:over21\", data = mlda).fit()\n",
    "interacted_RD_2 = smf.ols(formula = \"suicide ~ over21 + age + age:over21 + np.power(age,2) + np.power(age,2):over21\", data = mlda).fit()\n",
    "tau_1 = interacted_RD_1.params[1]\n",
    "stde_1 = interacted_RD_1.bse[1]\n",
    "tau_2 = interacted_RD_2.params[1]\n",
    "stde_2 = interacted_RD_2.bse[1]\n",
    "data.append(['suicide', tau_1,tau_2])\n",
    "data.append(['stde', stde_1,stde_2])"
   ]
  },
  {
   "cell_type": "code",
   "execution_count": 20,
   "id": "2c6510cf",
   "metadata": {},
   "outputs": [],
   "source": [
    "#homicide\n",
    "interacted_RD_1 = smf.ols(formula = \"homicide ~ over21 + age + age:over21\", data = mlda).fit()\n",
    "interacted_RD_2 = smf.ols(formula = \"homicide ~ over21 + age + age:over21 + np.power(age,2) + np.power(age,2):over21\", data = mlda).fit()\n",
    "tau_1 = interacted_RD_1.params[1]\n",
    "stde_1 = interacted_RD_1.bse[1]\n",
    "tau_2 = interacted_RD_2.params[1]\n",
    "stde_2 = interacted_RD_2.bse[1]\n",
    "data.append(['homicide', tau_1,tau_2])\n",
    "data.append(['stde', stde_1,stde_2])"
   ]
  },
  {
   "cell_type": "code",
   "execution_count": 21,
   "id": "5fff8757",
   "metadata": {},
   "outputs": [],
   "source": [
    "#externalother\n",
    "interacted_RD_1 = smf.ols(formula = \"externalother ~ over21 + age + age:over21\", data = mlda).fit()\n",
    "interacted_RD_2 = smf.ols(formula = \"externalother ~ over21 + age + age:over21 + np.power(age,2) + np.power(age,2):over21\", data = mlda).fit()\n",
    "tau_1 = interacted_RD_1.params[1]\n",
    "stde_1 = interacted_RD_1.bse[1]\n",
    "tau_2 = interacted_RD_2.params[1]\n",
    "stde_2 = interacted_RD_2.bse[1]\n",
    "data.append(['externalother', tau_1,tau_2])\n",
    "data.append(['stde', stde_1,stde_2])"
   ]
  },
  {
   "cell_type": "code",
   "execution_count": 22,
   "id": "c27c5246",
   "metadata": {},
   "outputs": [],
   "source": [
    "#internal\n",
    "interacted_RD_1 = smf.ols(formula = \"internal ~ over21 + age + age:over21\", data = mlda).fit()\n",
    "interacted_RD_2 = smf.ols(formula = \"internal ~ over21 + age + age:over21 + np.power(age,2) + np.power(age,2):over21\", data = mlda).fit()\n",
    "tau_1 = interacted_RD_1.params[1]\n",
    "stde_1 = interacted_RD_1.bse[1]\n",
    "tau_2 = interacted_RD_2.params[1]\n",
    "stde_2 = interacted_RD_2.bse[1]\n",
    "data.append(['internal', tau_1,tau_2])\n",
    "data.append(['stde', stde_1,stde_2])"
   ]
  },
  {
   "cell_type": "code",
   "execution_count": 23,
   "id": "3352d190",
   "metadata": {},
   "outputs": [],
   "source": [
    "#alcohol\n",
    "interacted_RD_1 = smf.ols(formula = \"alcohol ~ over21 + age + age:over21\", data = mlda).fit()\n",
    "interacted_RD_2 = smf.ols(formula = \"alcohol ~ over21 + age + age:over21 + np.power(age,2) + np.power(age,2):over21\", data = mlda).fit()\n",
    "tau_1 = interacted_RD_1.params[1]\n",
    "stde_1 = interacted_RD_1.bse[1]\n",
    "tau_2 = interacted_RD_2.params[1]\n",
    "stde_2 = interacted_RD_2.bse[1]\n",
    "data.append(['alcohol', tau_1,tau_2])\n",
    "data.append(['stde', stde_1,stde_2])"
   ]
  },
  {
   "cell_type": "code",
   "execution_count": 24,
   "id": "273990e8",
   "metadata": {},
   "outputs": [
    {
     "data": {
      "text/html": [
       "<div>\n",
       "<style scoped>\n",
       "    .dataframe tbody tr th:only-of-type {\n",
       "        vertical-align: middle;\n",
       "    }\n",
       "\n",
       "    .dataframe tbody tr th {\n",
       "        vertical-align: top;\n",
       "    }\n",
       "\n",
       "    .dataframe thead th {\n",
       "        text-align: right;\n",
       "    }\n",
       "</style>\n",
       "<table border=\"1\" class=\"dataframe\">\n",
       "  <thead>\n",
       "    <tr style=\"text-align: right;\">\n",
       "      <th></th>\n",
       "      <th>Dependent Variable</th>\n",
       "      <th>Specification (1)</th>\n",
       "      <th>Specification (2)</th>\n",
       "    </tr>\n",
       "  </thead>\n",
       "  <tbody>\n",
       "    <tr>\n",
       "      <th>0</th>\n",
       "      <td>all</td>\n",
       "      <td>7.662709</td>\n",
       "      <td>9.547789</td>\n",
       "    </tr>\n",
       "    <tr>\n",
       "      <th>1</th>\n",
       "      <td>stde</td>\n",
       "      <td>1.318704</td>\n",
       "      <td>1.985277</td>\n",
       "    </tr>\n",
       "    <tr>\n",
       "      <th>2</th>\n",
       "      <td>mva</td>\n",
       "      <td>4.534033</td>\n",
       "      <td>4.662858</td>\n",
       "    </tr>\n",
       "    <tr>\n",
       "      <th>3</th>\n",
       "      <td>stde</td>\n",
       "      <td>0.750604</td>\n",
       "      <td>1.154799</td>\n",
       "    </tr>\n",
       "    <tr>\n",
       "      <th>4</th>\n",
       "      <td>suicide</td>\n",
       "      <td>1.794289</td>\n",
       "      <td>1.814332</td>\n",
       "    </tr>\n",
       "    <tr>\n",
       "      <th>5</th>\n",
       "      <td>stde</td>\n",
       "      <td>0.454215</td>\n",
       "      <td>0.698861</td>\n",
       "    </tr>\n",
       "    <tr>\n",
       "      <th>6</th>\n",
       "      <td>homicide</td>\n",
       "      <td>0.104358</td>\n",
       "      <td>0.200221</td>\n",
       "    </tr>\n",
       "    <tr>\n",
       "      <th>7</th>\n",
       "      <td>stde</td>\n",
       "      <td>0.344630</td>\n",
       "      <td>0.522131</td>\n",
       "    </tr>\n",
       "    <tr>\n",
       "      <th>8</th>\n",
       "      <td>externalother</td>\n",
       "      <td>0.838112</td>\n",
       "      <td>1.797180</td>\n",
       "    </tr>\n",
       "    <tr>\n",
       "      <th>9</th>\n",
       "      <td>stde</td>\n",
       "      <td>0.488739</td>\n",
       "      <td>0.724117</td>\n",
       "    </tr>\n",
       "    <tr>\n",
       "      <th>10</th>\n",
       "      <td>internal</td>\n",
       "      <td>0.391919</td>\n",
       "      <td>1.073201</td>\n",
       "    </tr>\n",
       "    <tr>\n",
       "      <th>11</th>\n",
       "      <td>stde</td>\n",
       "      <td>0.602798</td>\n",
       "      <td>0.908586</td>\n",
       "    </tr>\n",
       "    <tr>\n",
       "      <th>12</th>\n",
       "      <td>alcohol</td>\n",
       "      <td>0.442357</td>\n",
       "      <td>0.799228</td>\n",
       "    </tr>\n",
       "    <tr>\n",
       "      <th>13</th>\n",
       "      <td>stde</td>\n",
       "      <td>0.151781</td>\n",
       "      <td>0.221665</td>\n",
       "    </tr>\n",
       "  </tbody>\n",
       "</table>\n",
       "</div>"
      ],
      "text/plain": [
       "   Dependent Variable  Specification (1)  Specification (2)\n",
       "0                 all           7.662709           9.547789\n",
       "1                stde           1.318704           1.985277\n",
       "2                 mva           4.534033           4.662858\n",
       "3                stde           0.750604           1.154799\n",
       "4             suicide           1.794289           1.814332\n",
       "5                stde           0.454215           0.698861\n",
       "6            homicide           0.104358           0.200221\n",
       "7                stde           0.344630           0.522131\n",
       "8       externalother           0.838112           1.797180\n",
       "9                stde           0.488739           0.724117\n",
       "10           internal           0.391919           1.073201\n",
       "11               stde           0.602798           0.908586\n",
       "12            alcohol           0.442357           0.799228\n",
       "13               stde           0.151781           0.221665"
      ]
     },
     "execution_count": 24,
     "metadata": {},
     "output_type": "execute_result"
    }
   ],
   "source": [
    "# Create a pandas DataFrame\n",
    "summary_of_results = pd.DataFrame(data, columns=['Dependent Variable', 'Specification (1)','Specification (2)'])\n",
    "# print dataframe.\n",
    "summary_of_results"
   ]
  },
  {
   "cell_type": "markdown",
   "id": "d1208417",
   "metadata": {},
   "source": [
    "**comments:**\n",
    "\n",
    "1. There are strong effects of legal drinking on death by mva. This makes sense as alcohol is tied to motor vehicle accidents on young people. These effecs are large enough to account for most of the excess deaths related to the MLDA. Estimates are insensitive to the model we use.\n",
    "\n",
    "2. Suicide and other external causes (including accidents other than car crashes) may also be affected by drinking. Our estimates for these effects are small but statistically significant. \n",
    "\n",
    "3. The estimates for internal causes are small and not significantly different from 0. \n",
    "\n",
    "4. Estimates for the effects from alcohol poisoning are small and similar to those for internal causes but significantly different from 0.\n",
    "\n",
    "All in all these results show strong effect for causes atributable to alcohol and weak effects for causes that are not such as internal causes. "
   ]
  },
  {
   "cell_type": "markdown",
   "id": "eeda1e8b",
   "metadata": {},
   "source": [
    "**Q:** To conclude, plot the death rates for mva and for internal causes. Add the correspoding fit from the specification in **Q 3.b** What do you observe?"
   ]
  },
  {
   "cell_type": "markdown",
   "id": "c595d3fc",
   "metadata": {},
   "source": [
    "**A:**"
   ]
  },
  {
   "cell_type": "code",
   "execution_count": 25,
   "id": "9b36cc54",
   "metadata": {},
   "outputs": [],
   "source": [
    "interacted_RD_2_mva = smf.ols(formula = \"mva ~ over21 + age + age:over21 + np.power(age,2) + np.power(age,2):over21\", data = mlda).fit()\n",
    "interacted_RD_2_internal = smf.ols(formula = \"internal ~ over21 + age + age:over21 + np.power(age,2) + np.power(age,2):over21\", data = mlda).fit()"
   ]
  },
  {
   "cell_type": "code",
   "execution_count": 26,
   "id": "62b417e5",
   "metadata": {},
   "outputs": [
    {
     "data": {
      "image/png": "[encoded data removed]",
      "text/plain": [
       "<Figure size 640x480 with 1 Axes>"
      ]
     },
     "metadata": {},
     "output_type": "display_data"
    }
   ],
   "source": [
    "x = mlda['age']\n",
    "#mva\n",
    "y1 = mlda['mva']\n",
    "plt.plot(x, y1, 'o',mfc = 'none') #scatter plot\n",
    "m_intercept = interacted_RD_2_mva.params[0]\n",
    "m_tau_coef = interacted_RD_2_mva.params[1]\n",
    "m_age_coef_1 = interacted_RD_2_mva.params[2]\n",
    "m_inter_coef_1 = interacted_RD_2_mva.params[3]\n",
    "m_age_coef_2 = interacted_RD_2_mva.params[4]\n",
    "m_inter_coef_2 = interacted_RD_2_mva.params[5]\n",
    "x1 = x[x<0]\n",
    "x2 = x[x>=0]\n",
    "plt.plot(x1, m_intercept + m_age_coef_1*x1 + m_age_coef_2*x1*x1,'r')\n",
    "plt.plot(x2, m_intercept + m_age_coef_1*x2 + m_tau_coef + m_inter_coef_1*x2 + m_age_coef_2*x2*x2 + m_inter_coef_2*x2*x2 ,'r')\n",
    "\n",
    "#internal\n",
    "y2 = mlda['internal']\n",
    "plt.plot(x, y2, 'o',mfc = 'none') #scatter plot\n",
    "intercept = interacted_RD_2_internal.params[0]\n",
    "tau_coef = interacted_RD_2_internal.params[1]\n",
    "age_coef_1 = interacted_RD_2_internal.params[2]\n",
    "inter_coef_1 = interacted_RD_2_internal.params[3]\n",
    "age_coef_2 = interacted_RD_2_internal.params[4]\n",
    "inter_coef_2 = interacted_RD_2_internal.params[5]\n",
    "\n",
    "plt.plot(x1, intercept + age_coef_1*x1 + age_coef_2*x1*x1,'b')\n",
    "plt.plot(x2, intercept + age_coef_1*x2 + tau_coef + inter_coef_1*x2 + age_coef_2*x2*x2 + inter_coef_2*x2*x2 ,'b')\n",
    "\n",
    "plt.ylim([10, 40])\n",
    "plt.xlabel(\"Age diff\")\n",
    "plt.ylabel(\"Death rate from all causes (per 100,000)\")\n",
    "plt.show()"
   ]
  },
  {
   "cell_type": "markdown",
   "id": "d17b72b8",
   "metadata": {},
   "source": [
    "There is clear break at age 21 for MVA, and there is no evidence that we may be missing a nonlinear trend. We don't observe a significant jump for internal causes. The results from the previous question suggest that this jump may be due to random chance. "
   ]
  },
  {
   "cell_type": "markdown",
   "id": "6da8e5e4",
   "metadata": {},
   "source": [
    "### 5. Nonparamtric Approach\n",
    "\n",
    "Considering ages between 20-21, compute all the treatment effect estimates using models **Q 3.a** and **Q3.b** and report the standard errors. Comment on your results. Do you think that RD design is giving the real causal effect for this data?"
   ]
  },
  {
   "cell_type": "markdown",
   "id": "494cec98",
   "metadata": {},
   "source": [
    "**A:**"
   ]
  },
  {
   "cell_type": "code",
   "execution_count": 27,
   "id": "a7eed1a9",
   "metadata": {},
   "outputs": [],
   "source": [
    "new_mlda = mlda[(mlda.agecell >= 20) & (mlda.agecell <= 22)]"
   ]
  },
  {
   "cell_type": "code",
   "execution_count": 28,
   "id": "dc7d7f30",
   "metadata": {},
   "outputs": [
    {
     "data": {
      "text/html": [
       "<div>\n",
       "<style scoped>\n",
       "    .dataframe tbody tr th:only-of-type {\n",
       "        vertical-align: middle;\n",
       "    }\n",
       "\n",
       "    .dataframe tbody tr th {\n",
       "        vertical-align: top;\n",
       "    }\n",
       "\n",
       "    .dataframe thead th {\n",
       "        text-align: right;\n",
       "    }\n",
       "</style>\n",
       "<table border=\"1\" class=\"dataframe\">\n",
       "  <thead>\n",
       "    <tr style=\"text-align: right;\">\n",
       "      <th></th>\n",
       "      <th>agecell</th>\n",
       "      <th>all</th>\n",
       "      <th>internal</th>\n",
       "      <th>external</th>\n",
       "      <th>alcohol</th>\n",
       "      <th>homicide</th>\n",
       "      <th>suicide</th>\n",
       "      <th>mva</th>\n",
       "      <th>over21</th>\n",
       "      <th>age</th>\n",
       "      <th>externalother</th>\n",
       "    </tr>\n",
       "  </thead>\n",
       "  <tbody>\n",
       "    <tr>\n",
       "      <th>12</th>\n",
       "      <td>20.054794</td>\n",
       "      <td>92.464600</td>\n",
       "      <td>19.634459</td>\n",
       "      <td>72.830139</td>\n",
       "      <td>1.027384</td>\n",
       "      <td>17.199177</td>\n",
       "      <td>11.263178</td>\n",
       "      <td>31.772816</td>\n",
       "      <td>0</td>\n",
       "      <td>-0.945206</td>\n",
       "      <td>12.594969</td>\n",
       "    </tr>\n",
       "    <tr>\n",
       "      <th>13</th>\n",
       "      <td>20.136986</td>\n",
       "      <td>98.245598</td>\n",
       "      <td>20.883860</td>\n",
       "      <td>77.361740</td>\n",
       "      <td>0.952731</td>\n",
       "      <td>17.034826</td>\n",
       "      <td>11.928189</td>\n",
       "      <td>34.298309</td>\n",
       "      <td>0</td>\n",
       "      <td>-0.863014</td>\n",
       "      <td>14.100415</td>\n",
       "    </tr>\n",
       "    <tr>\n",
       "      <th>14</th>\n",
       "      <td>20.219177</td>\n",
       "      <td>94.960403</td>\n",
       "      <td>18.473003</td>\n",
       "      <td>76.487396</td>\n",
       "      <td>1.374025</td>\n",
       "      <td>16.297464</td>\n",
       "      <td>11.870050</td>\n",
       "      <td>33.320110</td>\n",
       "      <td>0</td>\n",
       "      <td>-0.780823</td>\n",
       "      <td>14.999771</td>\n",
       "    </tr>\n",
       "    <tr>\n",
       "      <th>15</th>\n",
       "      <td>20.301371</td>\n",
       "      <td>93.385323</td>\n",
       "      <td>18.883484</td>\n",
       "      <td>74.501839</td>\n",
       "      <td>0.993868</td>\n",
       "      <td>15.940106</td>\n",
       "      <td>12.461570</td>\n",
       "      <td>32.759403</td>\n",
       "      <td>0</td>\n",
       "      <td>-0.698629</td>\n",
       "      <td>13.340759</td>\n",
       "    </tr>\n",
       "    <tr>\n",
       "      <th>16</th>\n",
       "      <td>20.383562</td>\n",
       "      <td>90.120918</td>\n",
       "      <td>18.567820</td>\n",
       "      <td>71.553101</td>\n",
       "      <td>1.225093</td>\n",
       "      <td>16.883316</td>\n",
       "      <td>11.102407</td>\n",
       "      <td>30.589046</td>\n",
       "      <td>0</td>\n",
       "      <td>-0.616438</td>\n",
       "      <td>12.978331</td>\n",
       "    </tr>\n",
       "  </tbody>\n",
       "</table>\n",
       "</div>"
      ],
      "text/plain": [
       "      agecell        all   internal   external   alcohol   homicide  \\\n",
       "12  20.054794  92.464600  19.634459  72.830139  1.027384  17.199177   \n",
       "13  20.136986  98.245598  20.883860  77.361740  0.952731  17.034826   \n",
       "14  20.219177  94.960403  18.473003  76.487396  1.374025  16.297464   \n",
       "15  20.301371  93.385323  18.883484  74.501839  0.993868  15.940106   \n",
       "16  20.383562  90.120918  18.567820  71.553101  1.225093  16.883316   \n",
       "\n",
       "      suicide        mva  over21       age  externalother  \n",
       "12  11.263178  31.772816       0 -0.945206      12.594969  \n",
       "13  11.928189  34.298309       0 -0.863014      14.100415  \n",
       "14  11.870050  33.320110       0 -0.780823      14.999771  \n",
       "15  12.461570  32.759403       0 -0.698629      13.340759  \n",
       "16  11.102407  30.589046       0 -0.616438      12.978331  "
      ]
     },
     "execution_count": 28,
     "metadata": {},
     "output_type": "execute_result"
    }
   ],
   "source": [
    "new_mlda.head()"
   ]
  },
  {
   "cell_type": "code",
   "execution_count": 29,
   "id": "5b434c76",
   "metadata": {},
   "outputs": [],
   "source": [
    "#ALL\n",
    "interacted_RD_1 = smf.ols(formula = \"all ~ over21 + age + age:over21\", data = new_mlda).fit()\n",
    "interacted_RD_2 = smf.ols(formula = \"all ~ over21 + age + age:over21 + np.power(age,2) + np.power(age,2):over21\", data = new_mlda).fit()\n",
    "tau_1 = interacted_RD_1.params[1]\n",
    "stde_1 = interacted_RD_1.bse[1]\n",
    "tau_2 = interacted_RD_2.params[1]\n",
    "stde_2 = interacted_RD_2.bse[1]\n",
    "new_data = [['all', tau_1,tau_2], ['stde', stde_1,stde_2]]\n",
    "\n",
    "#MVA\n",
    "interacted_RD_1 = smf.ols(formula = \"mva ~ over21 + age + age:over21\", data = new_mlda).fit()\n",
    "interacted_RD_2 = smf.ols(formula = \"mva ~ over21 + age + age:over21 + np.power(age,2) + np.power(age,2):over21\", data = new_mlda).fit()\n",
    "tau_1 = interacted_RD_1.params[1]\n",
    "stde_1 = interacted_RD_1.bse[1]\n",
    "tau_2 = interacted_RD_2.params[1]\n",
    "stde_2 = interacted_RD_2.bse[1]\n",
    "new_data.append(['mva', tau_1,tau_2])\n",
    "new_data.append(['stde', stde_1,stde_2])\n",
    "#suicide\n",
    "interacted_RD_1 = smf.ols(formula = \"suicide ~ over21 + age + age:over21\", data = new_mlda).fit()\n",
    "interacted_RD_2 = smf.ols(formula = \"suicide ~ over21 + age + age:over21 + np.power(age,2) + np.power(age,2):over21\", data = new_mlda).fit()\n",
    "tau_1 = interacted_RD_1.params[1]\n",
    "stde_1 = interacted_RD_1.bse[1]\n",
    "tau_2 = interacted_RD_2.params[1]\n",
    "stde_2 = interacted_RD_2.bse[1]\n",
    "new_data.append(['suicide', tau_1,tau_2])\n",
    "new_data.append(['stde', stde_1,stde_2])\n",
    "#suicide\n",
    "interacted_RD_1 = smf.ols(formula = \"suicide ~ over21 + age + age:over21\", data = new_mlda).fit()\n",
    "interacted_RD_2 = smf.ols(formula = \"suicide ~ over21 + age + age:over21 + np.power(age,2) + np.power(age,2):over21\", data = new_mlda).fit()\n",
    "tau_1 = interacted_RD_1.params[1]\n",
    "stde_1 = interacted_RD_1.bse[1]\n",
    "tau_2 = interacted_RD_2.params[1]\n",
    "stde_2 = interacted_RD_2.bse[1]\n",
    "new_data.append(['suicide', tau_1,tau_2])\n",
    "new_data.append(['stde', stde_1,stde_2])\n",
    "#homicide\n",
    "interacted_RD_1 = smf.ols(formula = \"homicide ~ over21 + age + age:over21\", data = new_mlda).fit()\n",
    "interacted_RD_2 = smf.ols(formula = \"homicide ~ over21 + age + age:over21 + np.power(age,2) + np.power(age,2):over21\", data = new_mlda).fit()\n",
    "tau_1 = interacted_RD_1.params[1]\n",
    "stde_1 = interacted_RD_1.bse[1]\n",
    "tau_2 = interacted_RD_2.params[1]\n",
    "stde_2 = interacted_RD_2.bse[1]\n",
    "new_data.append(['homicide', tau_1,tau_2])\n",
    "new_data.append(['stde', stde_1,stde_2])\n",
    "#homicide\n",
    "interacted_RD_1 = smf.ols(formula = \"homicide ~ over21 + age + age:over21\", data = new_mlda).fit()\n",
    "interacted_RD_2 = smf.ols(formula = \"homicide ~ over21 + age + age:over21 + np.power(age,2) + np.power(age,2):over21\", data = new_mlda).fit()\n",
    "tau_1 = interacted_RD_1.params[1]\n",
    "stde_1 = interacted_RD_1.bse[1]\n",
    "tau_2 = interacted_RD_2.params[1]\n",
    "stde_2 = interacted_RD_2.bse[1]\n",
    "new_data.append(['homicide', tau_1,tau_2])\n",
    "new_data.append(['stde', stde_1,stde_2])\n",
    "#externalother\n",
    "interacted_RD_1 = smf.ols(formula = \"externalother ~ over21 + age + age:over21\", data = new_mlda).fit()\n",
    "interacted_RD_2 = smf.ols(formula = \"externalother ~ over21 + age + age:over21 + np.power(age,2) + np.power(age,2):over21\", data = new_mlda).fit()\n",
    "tau_1 = interacted_RD_1.params[1]\n",
    "stde_1 = interacted_RD_1.bse[1]\n",
    "tau_2 = interacted_RD_2.params[1]\n",
    "stde_2 = interacted_RD_2.bse[1]\n",
    "new_data.append(['externalother', tau_1,tau_2])\n",
    "new_data.append(['stde', stde_1,stde_2])\n",
    "#internal\n",
    "interacted_RD_1 = smf.ols(formula = \"internal ~ over21 + age + age:over21\", data = new_mlda).fit()\n",
    "interacted_RD_2 = smf.ols(formula = \"internal ~ over21 + age + age:over21 + np.power(age,2) + np.power(age,2):over21\", data = new_mlda).fit()\n",
    "tau_1 = interacted_RD_1.params[1]\n",
    "stde_1 = interacted_RD_1.bse[1]\n",
    "tau_2 = interacted_RD_2.params[1]\n",
    "stde_2 = interacted_RD_2.bse[1]\n",
    "new_data.append(['internal', tau_1,tau_2])\n",
    "new_data.append(['stde', stde_1,stde_2])\n",
    "#alcohol\n",
    "interacted_RD_1 = smf.ols(formula = \"alcohol ~ over21 + age + age:over21\", data = new_mlda).fit()\n",
    "interacted_RD_2 = smf.ols(formula = \"alcohol ~ over21 + age + age:over21 + np.power(age,2) + np.power(age,2):over21\", data = new_mlda).fit()\n",
    "tau_1 = interacted_RD_1.params[1]\n",
    "stde_1 = interacted_RD_1.bse[1]\n",
    "tau_2 = interacted_RD_2.params[1]\n",
    "stde_2 = interacted_RD_2.bse[1]\n",
    "new_data.append(['alcohol', tau_1,tau_2])\n",
    "new_data.append(['stde', stde_1,stde_2])\n"
   ]
  },
  {
   "cell_type": "code",
   "execution_count": 30,
   "id": "f79f7f75",
   "metadata": {},
   "outputs": [
    {
     "data": {
      "text/html": [
       "<div>\n",
       "<style scoped>\n",
       "    .dataframe tbody tr th:only-of-type {\n",
       "        vertical-align: middle;\n",
       "    }\n",
       "\n",
       "    .dataframe tbody tr th {\n",
       "        vertical-align: top;\n",
       "    }\n",
       "\n",
       "    .dataframe thead th {\n",
       "        text-align: right;\n",
       "    }\n",
       "</style>\n",
       "<table border=\"1\" class=\"dataframe\">\n",
       "  <thead>\n",
       "    <tr style=\"text-align: right;\">\n",
       "      <th></th>\n",
       "      <th>Dependent Variable</th>\n",
       "      <th>Specification (1)</th>\n",
       "      <th>Specification (2)</th>\n",
       "    </tr>\n",
       "  </thead>\n",
       "  <tbody>\n",
       "    <tr>\n",
       "      <th>0</th>\n",
       "      <td>all</td>\n",
       "      <td>9.753311</td>\n",
       "      <td>9.611077</td>\n",
       "    </tr>\n",
       "    <tr>\n",
       "      <th>1</th>\n",
       "      <td>stde</td>\n",
       "      <td>1.937052</td>\n",
       "      <td>2.894032</td>\n",
       "    </tr>\n",
       "    <tr>\n",
       "      <th>2</th>\n",
       "      <td>mva</td>\n",
       "      <td>4.759284</td>\n",
       "      <td>5.892489</td>\n",
       "    </tr>\n",
       "    <tr>\n",
       "      <th>3</th>\n",
       "      <td>stde</td>\n",
       "      <td>1.123447</td>\n",
       "      <td>1.561275</td>\n",
       "    </tr>\n",
       "    <tr>\n",
       "      <th>4</th>\n",
       "      <td>suicide</td>\n",
       "      <td>1.724426</td>\n",
       "      <td>1.296599</td>\n",
       "    </tr>\n",
       "    <tr>\n",
       "      <th>5</th>\n",
       "      <td>stde</td>\n",
       "      <td>0.709664</td>\n",
       "      <td>1.125703</td>\n",
       "    </tr>\n",
       "    <tr>\n",
       "      <th>6</th>\n",
       "      <td>suicide</td>\n",
       "      <td>1.724426</td>\n",
       "      <td>1.296599</td>\n",
       "    </tr>\n",
       "    <tr>\n",
       "      <th>7</th>\n",
       "      <td>stde</td>\n",
       "      <td>0.709664</td>\n",
       "      <td>1.125703</td>\n",
       "    </tr>\n",
       "    <tr>\n",
       "      <th>8</th>\n",
       "      <td>homicide</td>\n",
       "      <td>0.163819</td>\n",
       "      <td>-0.452693</td>\n",
       "    </tr>\n",
       "    <tr>\n",
       "      <th>9</th>\n",
       "      <td>stde</td>\n",
       "      <td>0.517226</td>\n",
       "      <td>0.787663</td>\n",
       "    </tr>\n",
       "    <tr>\n",
       "      <th>10</th>\n",
       "      <td>homicide</td>\n",
       "      <td>0.163819</td>\n",
       "      <td>-0.452693</td>\n",
       "    </tr>\n",
       "    <tr>\n",
       "      <th>11</th>\n",
       "      <td>stde</td>\n",
       "      <td>0.517226</td>\n",
       "      <td>0.787663</td>\n",
       "    </tr>\n",
       "    <tr>\n",
       "      <th>12</th>\n",
       "      <td>externalother</td>\n",
       "      <td>1.413522</td>\n",
       "      <td>1.625276</td>\n",
       "    </tr>\n",
       "    <tr>\n",
       "      <th>13</th>\n",
       "      <td>stde</td>\n",
       "      <td>0.635584</td>\n",
       "      <td>1.013126</td>\n",
       "    </tr>\n",
       "    <tr>\n",
       "      <th>14</th>\n",
       "      <td>internal</td>\n",
       "      <td>1.692263</td>\n",
       "      <td>1.249410</td>\n",
       "    </tr>\n",
       "    <tr>\n",
       "      <th>15</th>\n",
       "      <td>stde</td>\n",
       "      <td>0.762683</td>\n",
       "      <td>1.203634</td>\n",
       "    </tr>\n",
       "    <tr>\n",
       "      <th>16</th>\n",
       "      <td>alcohol</td>\n",
       "      <td>0.740450</td>\n",
       "      <td>1.027679</td>\n",
       "    </tr>\n",
       "    <tr>\n",
       "      <th>17</th>\n",
       "      <td>stde</td>\n",
       "      <td>0.226662</td>\n",
       "      <td>0.327569</td>\n",
       "    </tr>\n",
       "  </tbody>\n",
       "</table>\n",
       "</div>"
      ],
      "text/plain": [
       "   Dependent Variable  Specification (1)  Specification (2)\n",
       "0                 all           9.753311           9.611077\n",
       "1                stde           1.937052           2.894032\n",
       "2                 mva           4.759284           5.892489\n",
       "3                stde           1.123447           1.561275\n",
       "4             suicide           1.724426           1.296599\n",
       "5                stde           0.709664           1.125703\n",
       "6             suicide           1.724426           1.296599\n",
       "7                stde           0.709664           1.125703\n",
       "8            homicide           0.163819          -0.452693\n",
       "9                stde           0.517226           0.787663\n",
       "10           homicide           0.163819          -0.452693\n",
       "11               stde           0.517226           0.787663\n",
       "12      externalother           1.413522           1.625276\n",
       "13               stde           0.635584           1.013126\n",
       "14           internal           1.692263           1.249410\n",
       "15               stde           0.762683           1.203634\n",
       "16            alcohol           0.740450           1.027679\n",
       "17               stde           0.226662           0.327569"
      ]
     },
     "execution_count": 30,
     "metadata": {},
     "output_type": "execute_result"
    }
   ],
   "source": [
    "# Create a pandas DataFrame\n",
    "new_summary_of_results = pd.DataFrame(new_data, columns=['Dependent Variable', 'Specification (1)','Specification (2)'])\n",
    "# print dataframe.\n",
    "new_summary_of_results"
   ]
  },
  {
   "cell_type": "markdown",
   "id": "6941f4ad",
   "metadata": {},
   "source": [
    "Overall, nonparametric and parametric estimates are similar. Our paramtric estimates are for the most part insensitive to the choice of bandwidth. The robustness of these result suggests that we are estimating the real causal effect."
   ]
  }
 ],
 "metadata": {
  "kernelspec": {
   "display_name": "Python 3 (ipykernel)",
   "language": "python",
   "name": "python3"
  },
  "language_info": {
   "codemirror_mode": {
    "name": "ipython",
    "version": 3
   },
   "file_extension": ".py",
   "mimetype": "text/x-python",
   "name": "python",
   "nbconvert_exporter": "python",
   "pygments_lexer": "ipython3",
   "version": "3.11.5"
  }
 },
 "nbformat": 4,
 "nbformat_minor": 5
}
