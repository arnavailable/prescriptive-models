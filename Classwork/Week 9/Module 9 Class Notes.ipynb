{
 "cells": [
  {
   "cell_type": "code",
   "execution_count": 1,
   "id": "legitimate-fellow",
   "metadata": {},
   "outputs": [],
   "source": [
    "import pandas as pd\n",
    "import matplotlib.pyplot as plt\n",
    "import numpy as np\n",
    "import statsmodels.api as sm\n",
    "import statsmodels.formula.api as smf"
   ]
  },
  {
   "cell_type": "code",
   "execution_count": 2,
   "id": "grand-general",
   "metadata": {},
   "outputs": [
    {
     "data": {
      "text/html": [
       "<div>\n",
       "<style scoped>\n",
       "    .dataframe tbody tr th:only-of-type {\n",
       "        vertical-align: middle;\n",
       "    }\n",
       "\n",
       "    .dataframe tbody tr th {\n",
       "        vertical-align: top;\n",
       "    }\n",
       "\n",
       "    .dataframe thead th {\n",
       "        text-align: right;\n",
       "    }\n",
       "</style>\n",
       "<table border=\"1\" class=\"dataframe\">\n",
       "  <thead>\n",
       "    <tr style=\"text-align: right;\">\n",
       "      <th></th>\n",
       "      <th>consumer_id</th>\n",
       "      <th>income</th>\n",
       "      <th>age</th>\n",
       "      <th>house_price</th>\n",
       "      <th>unemployment_rate</th>\n",
       "      <th>urban_dummy</th>\n",
       "      <th>revenue</th>\n",
       "    </tr>\n",
       "  </thead>\n",
       "  <tbody>\n",
       "    <tr>\n",
       "      <th>0</th>\n",
       "      <td>1</td>\n",
       "      <td>5.000000</td>\n",
       "      <td>46.314644</td>\n",
       "      <td>50.097088</td>\n",
       "      <td>0.993050</td>\n",
       "      <td>1</td>\n",
       "      <td>348.98877</td>\n",
       "    </tr>\n",
       "    <tr>\n",
       "      <th>1</th>\n",
       "      <td>2</td>\n",
       "      <td>5.000000</td>\n",
       "      <td>48.982868</td>\n",
       "      <td>54.616592</td>\n",
       "      <td>0.993946</td>\n",
       "      <td>0</td>\n",
       "      <td>407.64410</td>\n",
       "    </tr>\n",
       "    <tr>\n",
       "      <th>2</th>\n",
       "      <td>3</td>\n",
       "      <td>5.000000</td>\n",
       "      <td>38.100559</td>\n",
       "      <td>58.686802</td>\n",
       "      <td>0.997256</td>\n",
       "      <td>1</td>\n",
       "      <td>549.99579</td>\n",
       "    </tr>\n",
       "    <tr>\n",
       "      <th>3</th>\n",
       "      <td>4</td>\n",
       "      <td>7.695054</td>\n",
       "      <td>43.880440</td>\n",
       "      <td>79.085518</td>\n",
       "      <td>0.981674</td>\n",
       "      <td>0</td>\n",
       "      <td>553.59064</td>\n",
       "    </tr>\n",
       "    <tr>\n",
       "      <th>4</th>\n",
       "      <td>5</td>\n",
       "      <td>66.245323</td>\n",
       "      <td>40.641262</td>\n",
       "      <td>662.831670</td>\n",
       "      <td>0.773164</td>\n",
       "      <td>1</td>\n",
       "      <td>644.58698</td>\n",
       "    </tr>\n",
       "  </tbody>\n",
       "</table>\n",
       "</div>"
      ],
      "text/plain": [
       "   consumer_id     income        age  house_price  unemployment_rate  \\\n",
       "0            1   5.000000  46.314644    50.097088           0.993050   \n",
       "1            2   5.000000  48.982868    54.616592           0.993946   \n",
       "2            3   5.000000  38.100559    58.686802           0.997256   \n",
       "3            4   7.695054  43.880440    79.085518           0.981674   \n",
       "4            5  66.245323  40.641262   662.831670           0.773164   \n",
       "\n",
       "   urban_dummy    revenue  \n",
       "0            1  348.98877  \n",
       "1            0  407.64410  \n",
       "2            1  549.99579  \n",
       "3            0  553.59064  \n",
       "4            1  644.58698  "
      ]
     },
     "execution_count": 2,
     "metadata": {},
     "output_type": "execute_result"
    }
   ],
   "source": [
    "geo_targeting = pd.read_csv('geo_targeting.csv')\n",
    "geo_targeting.head()"
   ]
  },
  {
   "cell_type": "markdown",
   "id": "prescribed-catholic",
   "metadata": {},
   "source": [
    "# Regularization & Lasso regression"
   ]
  },
  {
   "cell_type": "code",
   "execution_count": 21,
   "id": "adapted-pride",
   "metadata": {},
   "outputs": [],
   "source": [
    "from scipy import sparse\n",
    "from sklearn import linear_model\n",
    "from sklearn.preprocessing import scale \n",
    "from sklearn.model_selection import train_test_split\n",
    "from sklearn.linear_model import LassoCV\n",
    "from sklearn.preprocessing import StandardScaler"
   ]
  },
  {
   "cell_type": "code",
   "execution_count": 22,
   "id": "burning-windsor",
   "metadata": {},
   "outputs": [],
   "source": [
    "# X variables to try for LASSO\n",
    "#stores the dataset in a sparse matrix(no zero entries)\n",
    "X = sparse.csc_matrix(geo_targeting[['income','age','house_price','urban_dummy','unemployment_rate']])\n",
    "\n",
    "# Standarize features\n",
    "scaler = StandardScaler(with_mean=False)\n",
    "X_std = scaler.fit_transform(X)\n",
    "\n",
    "# Y variable for LASSO\n",
    "Y = geo_targeting['revenue']"
   ]
  },
  {
   "cell_type": "code",
   "execution_count": 1,
   "id": "widespread-prisoner",
   "metadata": {},
   "outputs": [],
   "source": [
    "#simple run of lasso\n",
    "\n"
   ]
  },
  {
   "cell_type": "code",
   "execution_count": 2,
   "id": "empty-miami",
   "metadata": {},
   "outputs": [],
   "source": [
    "#print coefficient\n"
   ]
  },
  {
   "cell_type": "code",
   "execution_count": null,
   "id": "sized-expense",
   "metadata": {},
   "outputs": [],
   "source": [
    "# Compute paths\n",
    "n_alpha = 250\n",
    "alphas = np.logspace(-1, 3, n_alpha) #(start,stop, number of alphas)\n",
    "coefs = []"
   ]
  },
  {
   "cell_type": "code",
   "execution_count": null,
   "id": "skilled-thesaurus",
   "metadata": {
    "scrolled": false
   },
   "outputs": [],
   "source": [
    "# Display results\n",
    "ax = plt.gca()\n",
    "ax.plot(alphas, coefs)\n",
    "ax.set_xscale(\"log\")\n",
    "plt.xlabel(\"$\\log(\\lambda)$\")\n",
    "plt.ylabel(\"weights\")\n",
    "plt.title(\"Lasso coefficients as a function of the regularization\") \n",
    "plt.axis(\"tight\")\n",
    "plt.show()"
   ]
  },
  {
   "cell_type": "markdown",
   "id": "impressive-stanford",
   "metadata": {},
   "source": [
    "### Cross Validation"
   ]
  },
  {
   "cell_type": "code",
   "execution_count": 33,
   "id": "ultimate-thumb",
   "metadata": {},
   "outputs": [
    {
     "data": {
      "text/plain": [
       "LassoCV(cv=10, max_iter=10000)"
      ]
     },
     "execution_count": 33,
     "metadata": {},
     "output_type": "execute_result"
    }
   ],
   "source": [
    "# X variables to try for LASSO\n",
    "X = sparse.csc_matrix(geo_targeting[['income','age','house_price','urban_dummy','unemployment_rate']])\n",
    "\n",
    "# Standarize features\n",
    "scaler = StandardScaler(with_mean=False)\n",
    "X_std = scaler.fit_transform(X)\n",
    "\n",
    "# Y variable for LASSO\n",
    "Y = geo_targeting['revenue']\n",
    "\n",
    "# We run CV Lasso\n"
   ]
  },
  {
   "cell_type": "code",
   "execution_count": 11,
   "id": "spoken-swift",
   "metadata": {},
   "outputs": [],
   "source": [
    "#1se rule \n"
   ]
  },
  {
   "cell_type": "code",
   "execution_count": null,
   "id": "infrared-japan",
   "metadata": {
    "scrolled": false
   },
   "outputs": [],
   "source": [
    "# simplest plot\n",
    "plt.semilogx(lassocv.alphas_, np.mean(lassocv.mse_path_, axis=1))\n",
    "\n",
    "# More elborate plot\n",
    "# plot error lines showing +/- std. errors of the mse\n",
    "mean = np.mean(lassocv.mse_path_, axis=1)\n",
    "std_error = np.std(lassocv.mse_path_, axis=1)/np.sqrt(nfolds)\n",
    "\n",
    "plt.semilogx(lassocv.alphas_, mean + std_error, \"b--\")\n",
    "plt.semilogx(lassocv.alphas_, mean - std_error, \"b--\")\n",
    "plt.fill_between(lassocv.alphas_, mean + std_error, mean - std_error, alpha=0.2)\n",
    "plt.axvline(lassocv.alpha_, linestyle=\"--\", color=\"black\", label=\"$\\lambda_{min}$\")\n",
    "plt.axvline(alpha_1se, linestyle=\"--\", color=\"red\", label=\"$\\lambda_{1se}$\")\n",
    "plt.legend()\n",
    "plt.xlabel(\"$\\log(\\lambda)$\")\n",
    "plt.ylabel(\"Mean Squared Error\")\n",
    "plt.show()"
   ]
  },
  {
   "cell_type": "code",
   "execution_count": null,
   "id": "fancy-programming",
   "metadata": {},
   "outputs": [],
   "source": [
    "# getting the coefficients and picking those that are not zero\n"
   ]
  }
 ],
 "metadata": {
  "kernelspec": {
   "display_name": "Python 3 (ipykernel)",
   "language": "python",
   "name": "python3"
  },
  "language_info": {
   "codemirror_mode": {
    "name": "ipython",
    "version": 3
   },
   "file_extension": ".py",
   "mimetype": "text/x-python",
   "name": "python",
   "nbconvert_exporter": "python",
   "pygments_lexer": "ipython3",
   "version": "3.12.2"
  }
 },
 "nbformat": 4,
 "nbformat_minor": 5
}
