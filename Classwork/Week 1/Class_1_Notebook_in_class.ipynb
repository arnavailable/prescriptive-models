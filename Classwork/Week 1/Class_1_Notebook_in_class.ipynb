{
 "cells": [
  {
   "cell_type": "markdown",
   "id": "light-affair",
   "metadata": {},
   "source": [
    "# Class #1"
   ]
  },
  {
   "cell_type": "markdown",
   "id": "protected-milwaukee",
   "metadata": {},
   "source": [
    "We first import the necessary python modules: we use the data analysis library pandas and statsmodels"
   ]
  },
  {
   "cell_type": "code",
   "execution_count": 1,
   "id": "average-transmission",
   "metadata": {
    "tags": []
   },
   "outputs": [],
   "source": [
    "import pandas as pd\n",
    "import matplotlib.pyplot as plt\n",
    "import numpy as np\n",
    "import statsmodels.api as sm\n",
    "import statsmodels.formula.api as smf"
   ]
  },
  {
   "cell_type": "markdown",
   "id": "knowing-means",
   "metadata": {},
   "source": [
    "We read the data set as a data frame and print its head"
   ]
  },
  {
   "cell_type": "code",
   "execution_count": 3,
   "id": "saved-suffering",
   "metadata": {
    "tags": []
   },
   "outputs": [
    {
     "data": {
      "text/html": [
       "<div>\n",
       "<style scoped>\n",
       "    .dataframe tbody tr th:only-of-type {\n",
       "        vertical-align: middle;\n",
       "    }\n",
       "\n",
       "    .dataframe tbody tr th {\n",
       "        vertical-align: top;\n",
       "    }\n",
       "\n",
       "    .dataframe thead th {\n",
       "        text-align: right;\n",
       "    }\n",
       "</style>\n",
       "<table border=\"1\" class=\"dataframe\">\n",
       "  <thead>\n",
       "    <tr style=\"text-align: right;\">\n",
       "      <th></th>\n",
       "      <th>id</th>\n",
       "      <th>red_meat</th>\n",
       "      <th>cardiac_risk</th>\n",
       "      <th>male_dummy</th>\n",
       "      <th>female_dummy</th>\n",
       "      <th>smoking</th>\n",
       "    </tr>\n",
       "  </thead>\n",
       "  <tbody>\n",
       "    <tr>\n",
       "      <th>0</th>\n",
       "      <td>1</td>\n",
       "      <td>4.615426</td>\n",
       "      <td>6.287400</td>\n",
       "      <td>0</td>\n",
       "      <td>1</td>\n",
       "      <td>1.384628</td>\n",
       "    </tr>\n",
       "    <tr>\n",
       "      <th>1</th>\n",
       "      <td>2</td>\n",
       "      <td>3.179725</td>\n",
       "      <td>4.813164</td>\n",
       "      <td>1</td>\n",
       "      <td>0</td>\n",
       "      <td>0.953918</td>\n",
       "    </tr>\n",
       "    <tr>\n",
       "      <th>2</th>\n",
       "      <td>3</td>\n",
       "      <td>3.433238</td>\n",
       "      <td>4.592836</td>\n",
       "      <td>1</td>\n",
       "      <td>0</td>\n",
       "      <td>1.029972</td>\n",
       "    </tr>\n",
       "    <tr>\n",
       "      <th>3</th>\n",
       "      <td>4</td>\n",
       "      <td>4.110157</td>\n",
       "      <td>2.084957</td>\n",
       "      <td>0</td>\n",
       "      <td>1</td>\n",
       "      <td>0.000000</td>\n",
       "    </tr>\n",
       "    <tr>\n",
       "      <th>4</th>\n",
       "      <td>5</td>\n",
       "      <td>3.418863</td>\n",
       "      <td>5.317896</td>\n",
       "      <td>1</td>\n",
       "      <td>0</td>\n",
       "      <td>0.000000</td>\n",
       "    </tr>\n",
       "  </tbody>\n",
       "</table>\n",
       "</div>"
      ],
      "text/plain": [
       "   id  red_meat  cardiac_risk  male_dummy  female_dummy   smoking\n",
       "0   1  4.615426      6.287400           0             1  1.384628\n",
       "1   2  3.179725      4.813164           1             0  0.953918\n",
       "2   3  3.433238      4.592836           1             0  1.029972\n",
       "3   4  4.110157      2.084957           0             1  0.000000\n",
       "4   5  3.418863      5.317896           1             0  0.000000"
      ]
     },
     "execution_count": 3,
     "metadata": {},
     "output_type": "execute_result"
    }
   ],
   "source": [
    "meat = pd.read_csv('red_meat.csv')\n",
    "meat.head()"
   ]
  },
  {
   "cell_type": "markdown",
   "id": "phantom-morris",
   "metadata": {},
   "source": [
    "We run a simple regression"
   ]
  },
  {
   "cell_type": "code",
   "execution_count": null,
   "id": "infinite-saturn",
   "metadata": {
    "scrolled": true
   },
   "outputs": [],
   "source": []
  },
  {
   "cell_type": "markdown",
   "id": "persistent-regression",
   "metadata": {},
   "source": [
    "We construct a scatter plot and add the regression line"
   ]
  },
  {
   "cell_type": "code",
   "execution_count": null,
   "id": "moved-basis",
   "metadata": {
    "scrolled": true
   },
   "outputs": [],
   "source": []
  },
  {
   "cell_type": "markdown",
   "id": "competent-power",
   "metadata": {},
   "source": [
    "**Q:** Run a regression of cardiac risk on smoking (packs per day). Interpret the intercept and the coefficient estimate on smoking\n"
   ]
  },
  {
   "cell_type": "code",
   "execution_count": null,
   "id": "regular-clear",
   "metadata": {},
   "outputs": [],
   "source": []
  },
  {
   "cell_type": "markdown",
   "id": "flexible-husband",
   "metadata": {},
   "source": [
    "We run a regression with meat and meat^2"
   ]
  },
  {
   "cell_type": "code",
   "execution_count": null,
   "id": "adjustable-switzerland",
   "metadata": {
    "scrolled": true
   },
   "outputs": [],
   "source": []
  },
  {
   "cell_type": "markdown",
   "id": "choice-evolution",
   "metadata": {},
   "source": [
    "**Binary X: Dummy varible**\n",
    "\n",
    "Run a regression of cardiac risk on the female_dummy (variable=1 if respondent is female, 0 otherwise) OR on the male_dummy (not both, because of multicollinearity)\n",
    "\n"
   ]
  },
  {
   "cell_type": "code",
   "execution_count": null,
   "id": "annual-newark",
   "metadata": {},
   "outputs": [],
   "source": []
  }
 ],
 "metadata": {
  "kernelspec": {
   "display_name": "Python 3 (ipykernel)",
   "language": "python",
   "name": "python3"
  },
  "language_info": {
   "codemirror_mode": {
    "name": "ipython",
    "version": 3
   },
   "file_extension": ".py",
   "mimetype": "text/x-python",
   "name": "python",
   "nbconvert_exporter": "python",
   "pygments_lexer": "ipython3",
   "version": "3.11.5"
  }
 },
 "nbformat": 4,
 "nbformat_minor": 5
}
