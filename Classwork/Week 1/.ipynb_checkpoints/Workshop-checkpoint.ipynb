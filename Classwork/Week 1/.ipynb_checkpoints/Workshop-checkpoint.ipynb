{
 "cells": [
  {
   "cell_type": "markdown",
   "id": "processed-million",
   "metadata": {},
   "source": [
    "<center> <h1>Workshop: precision of univariate slope coefficient</h1> </center> "
   ]
  },
  {
   "cell_type": "code",
   "execution_count": 2,
   "id": "sitting-wrong",
   "metadata": {
    "tags": []
   },
   "outputs": [],
   "source": [
    "import pandas as pd\n",
    "import matplotlib.pyplot as plt\n",
    "import numpy as np\n",
    "import statsmodels.api as sm\n",
    "import statsmodels.formula.api as smf\n",
    "import random"
   ]
  },
  {
   "cell_type": "markdown",
   "id": "traditional-airplane",
   "metadata": {},
   "source": [
    "## 1. The true slope coefficient\n",
    "For this exercise we pretend that we actually have access to the population from which a specific sample is drawn. This allows us to study the behavior of different samples drawn from the same population, a key aspect when thinking about the precision of regression estimates. We first load the population data and estimate the regression on the whole population. This regression allows us to obtain the “true” regression relationship which we are hoping to approximate with estimates from a sample."
   ]
  },
  {
   "cell_type": "code",
   "execution_count": 3,
   "id": "tight-thomas",
   "metadata": {
    "tags": []
   },
   "outputs": [
    {
     "data": {
      "text/html": [
       "<div>\n",
       "<style scoped>\n",
       "    .dataframe tbody tr th:only-of-type {\n",
       "        vertical-align: middle;\n",
       "    }\n",
       "\n",
       "    .dataframe tbody tr th {\n",
       "        vertical-align: top;\n",
       "    }\n",
       "\n",
       "    .dataframe thead th {\n",
       "        text-align: right;\n",
       "    }\n",
       "</style>\n",
       "<table border=\"1\" class=\"dataframe\">\n",
       "  <thead>\n",
       "    <tr style=\"text-align: right;\">\n",
       "      <th></th>\n",
       "      <th>user_id</th>\n",
       "      <th>red_meat</th>\n",
       "      <th>cardiac_risk</th>\n",
       "    </tr>\n",
       "  </thead>\n",
       "  <tbody>\n",
       "    <tr>\n",
       "      <th>0</th>\n",
       "      <td>1</td>\n",
       "      <td>5</td>\n",
       "      <td>5.551477</td>\n",
       "    </tr>\n",
       "    <tr>\n",
       "      <th>1</th>\n",
       "      <td>2</td>\n",
       "      <td>5</td>\n",
       "      <td>5.494118</td>\n",
       "    </tr>\n",
       "    <tr>\n",
       "      <th>2</th>\n",
       "      <td>3</td>\n",
       "      <td>5</td>\n",
       "      <td>4.230111</td>\n",
       "    </tr>\n",
       "    <tr>\n",
       "      <th>3</th>\n",
       "      <td>4</td>\n",
       "      <td>3</td>\n",
       "      <td>6.883890</td>\n",
       "    </tr>\n",
       "    <tr>\n",
       "      <th>4</th>\n",
       "      <td>5</td>\n",
       "      <td>1</td>\n",
       "      <td>4.078691</td>\n",
       "    </tr>\n",
       "  </tbody>\n",
       "</table>\n",
       "</div>"
      ],
      "text/plain": [
       "   user_id  red_meat  cardiac_risk\n",
       "0        1         5      5.551477\n",
       "1        2         5      5.494118\n",
       "2        3         5      4.230111\n",
       "3        4         3      6.883890\n",
       "4        5         1      4.078691"
      ]
     },
     "execution_count": 3,
     "metadata": {},
     "output_type": "execute_result"
    }
   ],
   "source": [
    "pop = pd.read_csv('red_meat_population.csv')\n",
    "pop.head()"
   ]
  },
  {
   "cell_type": "markdown",
   "id": "psychological-humanitarian",
   "metadata": {},
   "source": [
    "**Q:** What is the true slope coefficient (the effect of red meat on cardiac risk in the population regression)?"
   ]
  },
  {
   "cell_type": "code",
   "execution_count": 4,
   "id": "parallel-provision",
   "metadata": {
    "tags": []
   },
   "outputs": [
    {
     "name": "stdout",
     "output_type": "stream",
     "text": [
      "                            OLS Regression Results                            \n",
      "==============================================================================\n",
      "Dep. Variable:           cardiac_risk   R-squared:                       0.053\n",
      "Model:                            OLS   Adj. R-squared:                  0.053\n",
      "Method:                 Least Squares   F-statistic:                     5645.\n",
      "Date:                Mon, 08 Jan 2024   Prob (F-statistic):               0.00\n",
      "Time:                        11:15:01   Log-Likelihood:            -1.4617e+05\n",
      "No. Observations:              100000   AIC:                         2.923e+05\n",
      "Df Residuals:                   99998   BIC:                         2.924e+05\n",
      "Df Model:                           1                                         \n",
      "Covariance Type:            nonrobust                                         \n",
      "==============================================================================\n",
      "                 coef    std err          t      P>|t|      [0.025      0.975]\n",
      "------------------------------------------------------------------------------\n",
      "Intercept      3.9969      0.006    616.228      0.000       3.984       4.010\n",
      "red_meat       0.1202      0.002     75.133      0.000       0.117       0.123\n",
      "==============================================================================\n",
      "Omnibus:                        1.435   Durbin-Watson:                   2.003\n",
      "Prob(Omnibus):                  0.488   Jarque-Bera (JB):                1.426\n",
      "Skew:                          -0.009   Prob(JB):                        0.490\n",
      "Kurtosis:                       3.007   Cond. No.                         8.33\n",
      "==============================================================================\n",
      "\n",
      "Notes:\n",
      "[1] Standard Errors assume that the covariance matrix of the errors is correctly specified.\n"
     ]
    }
   ],
   "source": [
    "model = smf.ols(formula = 'cardiac_risk ~ red_meat', data = pop)\n",
    "result = model.fit()\n",
    "print(result.summary())"
   ]
  },
  {
   "cell_type": "code",
   "execution_count": 5,
   "id": "9f976549-80eb-49f3-9aa0-f2d5680a5ea2",
   "metadata": {
    "tags": []
   },
   "outputs": [
    {
     "data": {
      "text/plain": [
       "0.12020923283422694"
      ]
     },
     "execution_count": 5,
     "metadata": {},
     "output_type": "execute_result"
    }
   ],
   "source": [
    "result.params[1]"
   ]
  },
  {
   "cell_type": "markdown",
   "id": "continuing-error",
   "metadata": {},
   "source": [
    "## 2. Finite sample unbiasedness and distribution of the slope estimator\n",
    "\n",
    "Now we show the finite sample properties of the slope estimator by randomly drawing many different samples (each sample of size 100) from the population. We want to show the property of unbiasedness (that, on average across these draws, the estimator is close to the true coefficient). We also want to see if the distribution of the estimator across the draws is well approximated by a normal.\n",
    "\n",
    "Write code to draw 20 different samples of size 100 from the population and obtain 20 different regression coefficients (seeding makes sure you get the same number each time, but the estimates might still differ across different computers due to version differences). Report the distribution of the slope estimator (histogram) and the mean of the estimator across the 20 samples."
   ]
  },
  {
   "cell_type": "code",
   "execution_count": 50,
   "id": "defensive-provider",
   "metadata": {
    "tags": []
   },
   "outputs": [],
   "source": [
    "random.seed(123)    # We set a seed\n",
    "\n",
    "coeffs = []\n",
    "\n",
    "for i in range(20):\n",
    "    temp = pop.sample(100)\n",
    "    temp_model = smf.ols(formula = 'cardiac_risk ~ red_meat', data = temp)\n",
    "    temp_result = temp_model.fit()\n",
    "    coeff = temp_result.params[1]\n",
    "    coeffs.append(coeff)\n"
   ]
  },
  {
   "cell_type": "code",
   "execution_count": 51,
   "id": "8ce80431-2c31-4b5b-97ac-ef8d8d6975ce",
   "metadata": {
    "tags": []
   },
   "outputs": [
    {
     "data": {
      "text/plain": [
       "0.13069962592386922"
      ]
     },
     "execution_count": 51,
     "metadata": {},
     "output_type": "execute_result"
    }
   ],
   "source": [
    "np.mean(coeffs)"
   ]
  },
  {
   "cell_type": "code",
   "execution_count": 6,
   "id": "medical-shepherd",
   "metadata": {
    "tags": []
   },
   "outputs": [
    {
     "ename": "NameError",
     "evalue": "name 'coeffs' is not defined",
     "output_type": "error",
     "traceback": [
      "\u001b[0;31m---------------------------------------------------------------------------\u001b[0m",
      "\u001b[0;31mNameError\u001b[0m                                 Traceback (most recent call last)",
      "Cell \u001b[0;32mIn[6], line 1\u001b[0m\n\u001b[0;32m----> 1\u001b[0m plt\u001b[38;5;241m.\u001b[39mhist(coeffs)\n\u001b[1;32m      2\u001b[0m plt\u001b[38;5;241m.\u001b[39mtitle(\u001b[38;5;124m\"\u001b[39m\u001b[38;5;124mHistogram\u001b[39m\u001b[38;5;124m\"\u001b[39m)\n\u001b[1;32m      3\u001b[0m plt\u001b[38;5;241m.\u001b[39mxlabel(\u001b[38;5;124m\"\u001b[39m\u001b[38;5;124mcoeff_20\u001b[39m\u001b[38;5;124m\"\u001b[39m)\n",
      "\u001b[0;31mNameError\u001b[0m: name 'coeffs' is not defined"
     ]
    }
   ],
   "source": [
    "plt.hist(coeffs)\n",
    "plt.title(\"Histogram\")\n",
    "plt.xlabel(\"coeff_20\")\n",
    "plt.ylabel(\"Frequency\")"
   ]
  },
  {
   "cell_type": "markdown",
   "id": "outside-beatles",
   "metadata": {},
   "source": [
    "Compare the mean coefficient across these 20 samples to the true coefficient and the shape of the distribution to a normal distribution. Then modify the code in order to generate 1000 instead of 20 samples and answer the question again."
   ]
  },
  {
   "cell_type": "code",
   "execution_count": 53,
   "id": "single-index",
   "metadata": {
    "tags": []
   },
   "outputs": [],
   "source": [
    "random.seed(123)    # We set a seed\n",
    "\n",
    "coeffs = []\n",
    "\n",
    "for i in range(1000):\n",
    "    temp = pop.sample(100)\n",
    "    temp_model = smf.ols(formula = 'cardiac_risk ~ red_meat', data = temp)\n",
    "    temp_result = temp_model.fit()\n",
    "    coeff = temp_result.params[1]\n",
    "    coeffs.append(coeff)\n"
   ]
  },
  {
   "cell_type": "code",
   "execution_count": 54,
   "id": "976723ba-6d8a-4cb4-9a83-e7fb6752e0ba",
   "metadata": {
    "tags": []
   },
   "outputs": [
    {
     "data": {
      "text/plain": [
       "0.11802906328099391"
      ]
     },
     "execution_count": 54,
     "metadata": {},
     "output_type": "execute_result"
    }
   ],
   "source": [
    "np.mean(coeffs)"
   ]
  },
  {
   "cell_type": "code",
   "execution_count": 55,
   "id": "33b0e738-d72d-4330-b5c4-5805b89d484b",
   "metadata": {
    "tags": []
   },
   "outputs": [
    {
     "data": {
      "text/plain": [
       "(array([  2.,  11.,  44., 140., 217., 241., 203.,  99.,  36.,   7.]),\n",
       " array([-0.05768312, -0.02485079,  0.00798154,  0.04081387,  0.0736462 ,\n",
       "         0.10647853,  0.13931086,  0.17214319,  0.20497552,  0.23780785,\n",
       "         0.27064018]),\n",
       " <BarContainer object of 10 artists>)"
      ]
     },
     "execution_count": 55,
     "metadata": {},
     "output_type": "execute_result"
    },
    {
     "data": {
      "image/png": "[encoded data removed]",
      "text/plain": [
       "<Figure size 640x480 with 1 Axes>"
      ]
     },
     "metadata": {},
     "output_type": "display_data"
    }
   ],
   "source": [
    "plt.hist(coeffs)"
   ]
  }
 ],
 "metadata": {
  "kernelspec": {
   "display_name": "Python 3 (ipykernel)",
   "language": "python",
   "name": "python3"
  },
  "language_info": {
   "codemirror_mode": {
    "name": "ipython",
    "version": 3
   },
   "file_extension": ".py",
   "mimetype": "text/x-python",
   "name": "python",
   "nbconvert_exporter": "python",
   "pygments_lexer": "ipython3",
   "version": "3.11.5"
  }
 },
 "nbformat": 4,
 "nbformat_minor": 5
}
