{
 "cells": [
  {
   "cell_type": "markdown",
   "id": "genetic-status",
   "metadata": {},
   "source": [
    "<center> <h1>Workshop: A/B Testing</h1> </center> "
   ]
  },
  {
   "cell_type": "code",
   "execution_count": 2,
   "id": "intellectual-james",
   "metadata": {},
   "outputs": [],
   "source": [
    "import pandas as pd\n",
    "import matplotlib.pyplot as plt\n",
    "import numpy as np\n",
    "import statsmodels.api as sm\n",
    "import statsmodels.formula.api as smf"
   ]
  },
  {
   "cell_type": "markdown",
   "id": "understood-hacker",
   "metadata": {},
   "source": [
    "### 1. Setup\n",
    "\n",
    "In this file, we will analyze data from an A/B test designed to study advertising effectiveness.\n",
    "\n",
    "#### Download data/script files and launch Jupyter Notebook\n",
    "1.\tCreate a new file folder on your computer\n",
    "2.\tDownload the file “AB_test_advertising.csv” from Canvas to your folder\n",
    "3.\tMake sure the current notebook is in the same folder\n"
   ]
  },
  {
   "cell_type": "markdown",
   "id": "interim-packet",
   "metadata": {},
   "source": [
    "### 2. Descriptive Analysis\n",
    "\n",
    "\n",
    "#### 2.1 First look at the data\n",
    "Load the data and use AB_test as the name for the data frame. Eyeball the variables in the data frame by using the data_frame.head() command."
   ]
  },
  {
   "cell_type": "code",
   "execution_count": 5,
   "id": "greenhouse-level",
   "metadata": {
    "scrolled": true
   },
   "outputs": [
    {
     "data": {
      "text/html": [
       "<div>\n",
       "<style scoped>\n",
       "    .dataframe tbody tr th:only-of-type {\n",
       "        vertical-align: middle;\n",
       "    }\n",
       "\n",
       "    .dataframe tbody tr th {\n",
       "        vertical-align: top;\n",
       "    }\n",
       "\n",
       "    .dataframe thead th {\n",
       "        text-align: right;\n",
       "    }\n",
       "</style>\n",
       "<table border=\"1\" class=\"dataframe\">\n",
       "  <thead>\n",
       "    <tr style=\"text-align: right;\">\n",
       "      <th></th>\n",
       "      <th>user_id</th>\n",
       "      <th>treatment</th>\n",
       "      <th>revenue</th>\n",
       "      <th>gender</th>\n",
       "      <th>stateID</th>\n",
       "      <th>age</th>\n",
       "      <th>browser</th>\n",
       "      <th>facebook_login</th>\n",
       "      <th>revenuePrevYear</th>\n",
       "    </tr>\n",
       "  </thead>\n",
       "  <tbody>\n",
       "    <tr>\n",
       "      <th>0</th>\n",
       "      <td>1</td>\n",
       "      <td>1</td>\n",
       "      <td>0.0</td>\n",
       "      <td>Male</td>\n",
       "      <td>3</td>\n",
       "      <td>22</td>\n",
       "      <td>Other</td>\n",
       "      <td>0</td>\n",
       "      <td>4636.9302</td>\n",
       "    </tr>\n",
       "    <tr>\n",
       "      <th>1</th>\n",
       "      <td>2</td>\n",
       "      <td>0</td>\n",
       "      <td>0.0</td>\n",
       "      <td>Male</td>\n",
       "      <td>38</td>\n",
       "      <td>22</td>\n",
       "      <td>Explorer</td>\n",
       "      <td>0</td>\n",
       "      <td>6504.2603</td>\n",
       "    </tr>\n",
       "    <tr>\n",
       "      <th>2</th>\n",
       "      <td>3</td>\n",
       "      <td>0</td>\n",
       "      <td>0.0</td>\n",
       "      <td>Male</td>\n",
       "      <td>21</td>\n",
       "      <td>22</td>\n",
       "      <td>Chrome</td>\n",
       "      <td>0</td>\n",
       "      <td>5164.5303</td>\n",
       "    </tr>\n",
       "    <tr>\n",
       "      <th>3</th>\n",
       "      <td>4</td>\n",
       "      <td>0</td>\n",
       "      <td>0.0</td>\n",
       "      <td>Male</td>\n",
       "      <td>3</td>\n",
       "      <td>23</td>\n",
       "      <td>Other</td>\n",
       "      <td>0</td>\n",
       "      <td>5366.8101</td>\n",
       "    </tr>\n",
       "    <tr>\n",
       "      <th>4</th>\n",
       "      <td>5</td>\n",
       "      <td>1</td>\n",
       "      <td>0.0</td>\n",
       "      <td>Male</td>\n",
       "      <td>24</td>\n",
       "      <td>23</td>\n",
       "      <td>Chrome</td>\n",
       "      <td>0</td>\n",
       "      <td>5795.8301</td>\n",
       "    </tr>\n",
       "  </tbody>\n",
       "</table>\n",
       "</div>"
      ],
      "text/plain": [
       "   user_id  treatment  revenue gender  stateID  age   browser  facebook_login  \\\n",
       "0        1          1      0.0   Male        3   22     Other               0   \n",
       "1        2          0      0.0   Male       38   22  Explorer               0   \n",
       "2        3          0      0.0   Male       21   22    Chrome               0   \n",
       "3        4          0      0.0   Male        3   23     Other               0   \n",
       "4        5          1      0.0   Male       24   23    Chrome               0   \n",
       "\n",
       "   revenuePrevYear  \n",
       "0        4636.9302  \n",
       "1        6504.2603  \n",
       "2        5164.5303  \n",
       "3        5366.8101  \n",
       "4        5795.8301  "
      ]
     },
     "execution_count": 5,
     "metadata": {},
     "output_type": "execute_result"
    }
   ],
   "source": [
    "#load the dataframe and use ab_test as the name for the dataframe\n",
    "ab_test = pd.read_csv('AB_test_advertising.csv')\n",
    "\n",
    "#check the first 5 rows of the dataframe\n",
    "ab_test.head()"
   ]
  },
  {
   "cell_type": "markdown",
   "id": "interior-converter",
   "metadata": {},
   "source": [
    "**Q:** Add code to the chunk below to summarize the data frame using the command frame_name.describe(). Make sure you understand what the different variables refer to and which values they take on. How many observations are there? What is the unit of observation?"
   ]
  },
  {
   "cell_type": "code",
   "execution_count": 9,
   "id": "junior-output",
   "metadata": {},
   "outputs": [
    {
     "name": "stdout",
     "output_type": "stream",
     "text": [
      "              user_id      treatment         revenue         stateID  \\\n",
      "count  1000000.000000  1000000.00000  1000000.000000  1000000.000000   \n",
      "mean    500000.500000        0.50022       10.169842       25.512115   \n",
      "std     288675.278933        0.50000      276.990538       14.433331   \n",
      "min          1.000000        0.00000        0.000000        1.000000   \n",
      "25%     250000.750000        0.00000        0.000000       13.000000   \n",
      "50%     500000.500000        1.00000        0.000000       25.000000   \n",
      "75%     750000.250000        1.00000        0.000000       38.000000   \n",
      "max    1000000.000000        1.00000   140464.830000       50.000000   \n",
      "\n",
      "                  age  facebook_login  revenuePrevYear  \n",
      "count  1000000.000000  1000000.000000     1.000000e+06  \n",
      "mean        22.011306        0.240081     5.413937e+03  \n",
      "std          0.725652        0.427133     3.472124e+03  \n",
      "min         21.000000        0.000000     0.000000e+00  \n",
      "25%         22.000000        0.000000     4.636470e+03  \n",
      "50%         22.000000        0.000000     5.319760e+03  \n",
      "75%         23.000000        0.000000     6.008300e+03  \n",
      "max         81.000000        1.000000     1.692130e+06  \n",
      "<class 'pandas.core.frame.DataFrame'>\n",
      "RangeIndex: 1000000 entries, 0 to 999999\n",
      "Data columns (total 9 columns):\n",
      " #   Column           Non-Null Count    Dtype  \n",
      "---  ------           --------------    -----  \n",
      " 0   user_id          1000000 non-null  int64  \n",
      " 1   treatment        1000000 non-null  int64  \n",
      " 2   revenue          1000000 non-null  float64\n",
      " 3   gender           1000000 non-null  object \n",
      " 4   stateID          1000000 non-null  int64  \n",
      " 5   age              1000000 non-null  int64  \n",
      " 6   browser          1000000 non-null  object \n",
      " 7   facebook_login   1000000 non-null  int64  \n",
      " 8   revenuePrevYear  1000000 non-null  float64\n",
      "dtypes: float64(2), int64(5), object(2)\n",
      "memory usage: 68.7+ MB\n",
      "None\n",
      "(1000000, 9)\n"
     ]
    }
   ],
   "source": [
    "#describe the dataframe\n",
    "print(ab_test.describe())\n",
    "\n",
    "#check the info of the dataframe\n",
    "print(ab_test.info())\n",
    "\n",
    "#shape of the dataframe\n",
    "print(ab_test.shape)"
   ]
  },
  {
   "cell_type": "markdown",
   "id": "collaborative-keyboard",
   "metadata": {},
   "source": [
    "#### 2.2 A closer look at the revenue variable\n",
    "\n",
    "The summary command includes descriptive statistics for the revenue variable. Explore the variation in this variable further using a histogram with 100 bins."
   ]
  },
  {
   "cell_type": "code",
   "execution_count": 16,
   "id": "minor-scale",
   "metadata": {},
   "outputs": [
    {
     "name": "stdout",
     "output_type": "stream",
     "text": [
      "count    1000000.000000\n",
      "mean          10.169842\n",
      "std          276.990538\n",
      "min            0.000000\n",
      "25%            0.000000\n",
      "50%            0.000000\n",
      "75%            0.000000\n",
      "max       140464.830000\n",
      "Name: revenue, dtype: float64\n"
     ]
    },
    {
     "data": {
      "text/plain": [
       "(array([9.98747e+05, 7.53000e+02, 2.31000e+02, 9.70000e+01, 5.20000e+01,\n",
       "        2.70000e+01, 1.50000e+01, 1.80000e+01, 9.00000e+00, 6.00000e+00,\n",
       "        2.00000e+00, 3.00000e+00, 5.00000e+00, 6.00000e+00, 2.00000e+00,\n",
       "        3.00000e+00, 1.00000e+00, 1.00000e+00, 2.00000e+00, 2.00000e+00,\n",
       "        2.00000e+00, 2.00000e+00, 0.00000e+00, 0.00000e+00, 4.00000e+00,\n",
       "        1.00000e+00, 0.00000e+00, 1.00000e+00, 0.00000e+00, 2.00000e+00,\n",
       "        2.00000e+00, 0.00000e+00, 1.00000e+00, 1.00000e+00, 0.00000e+00,\n",
       "        0.00000e+00, 0.00000e+00, 0.00000e+00, 0.00000e+00, 0.00000e+00,\n",
       "        0.00000e+00, 0.00000e+00, 0.00000e+00, 0.00000e+00, 0.00000e+00,\n",
       "        1.00000e+00, 0.00000e+00, 0.00000e+00, 0.00000e+00, 0.00000e+00,\n",
       "        0.00000e+00, 0.00000e+00, 0.00000e+00, 0.00000e+00, 0.00000e+00,\n",
       "        0.00000e+00, 0.00000e+00, 0.00000e+00, 0.00000e+00, 0.00000e+00,\n",
       "        0.00000e+00, 0.00000e+00, 0.00000e+00, 0.00000e+00, 0.00000e+00,\n",
       "        0.00000e+00, 0.00000e+00, 0.00000e+00, 0.00000e+00, 0.00000e+00,\n",
       "        0.00000e+00, 0.00000e+00, 0.00000e+00, 0.00000e+00, 0.00000e+00,\n",
       "        0.00000e+00, 0.00000e+00, 0.00000e+00, 0.00000e+00, 0.00000e+00,\n",
       "        0.00000e+00, 0.00000e+00, 0.00000e+00, 0.00000e+00, 0.00000e+00,\n",
       "        0.00000e+00, 0.00000e+00, 0.00000e+00, 0.00000e+00, 0.00000e+00,\n",
       "        0.00000e+00, 0.00000e+00, 0.00000e+00, 0.00000e+00, 0.00000e+00,\n",
       "        0.00000e+00, 0.00000e+00, 0.00000e+00, 0.00000e+00, 1.00000e+00]),\n",
       " array([     0.    ,   1404.6483,   2809.2966,   4213.9449,   5618.5932,\n",
       "          7023.2415,   8427.8898,   9832.5381,  11237.1864,  12641.8347,\n",
       "         14046.483 ,  15451.1313,  16855.7796,  18260.4279,  19665.0762,\n",
       "         21069.7245,  22474.3728,  23879.0211,  25283.6694,  26688.3177,\n",
       "         28092.966 ,  29497.6143,  30902.2626,  32306.9109,  33711.5592,\n",
       "         35116.2075,  36520.8558,  37925.5041,  39330.1524,  40734.8007,\n",
       "         42139.449 ,  43544.0973,  44948.7456,  46353.3939,  47758.0422,\n",
       "         49162.6905,  50567.3388,  51971.9871,  53376.6354,  54781.2837,\n",
       "         56185.932 ,  57590.5803,  58995.2286,  60399.8769,  61804.5252,\n",
       "         63209.1735,  64613.8218,  66018.4701,  67423.1184,  68827.7667,\n",
       "         70232.415 ,  71637.0633,  73041.7116,  74446.3599,  75851.0082,\n",
       "         77255.6565,  78660.3048,  80064.9531,  81469.6014,  82874.2497,\n",
       "         84278.898 ,  85683.5463,  87088.1946,  88492.8429,  89897.4912,\n",
       "         91302.1395,  92706.7878,  94111.4361,  95516.0844,  96920.7327,\n",
       "         98325.381 ,  99730.0293, 101134.6776, 102539.3259, 103943.9742,\n",
       "        105348.6225, 106753.2708, 108157.9191, 109562.5674, 110967.2157,\n",
       "        112371.864 , 113776.5123, 115181.1606, 116585.8089, 117990.4572,\n",
       "        119395.1055, 120799.7538, 122204.4021, 123609.0504, 125013.6987,\n",
       "        126418.347 , 127822.9953, 129227.6436, 130632.2919, 132036.9402,\n",
       "        133441.5885, 134846.2368, 136250.8851, 137655.5334, 139060.1817,\n",
       "        140464.83  ]),\n",
       " <BarContainer object of 100 artists>)"
      ]
     },
     "execution_count": 16,
     "metadata": {},
     "output_type": "execute_result"
    },
    {
     "data": {
      "image/png": "[encoded data removed]",
      "text/plain": [
       "<Figure size 640x480 with 1 Axes>"
      ]
     },
     "metadata": {},
     "output_type": "display_data"
    }
   ],
   "source": [
    "#The summary command includes descriptive statistics for the revenue variable. \n",
    "print(ab_test.revenue.describe())\n",
    "\n",
    "#Explore the variation in this variable further using a histogram with 100 bins.\n",
    "plt.hist(ab_test.revenue, bins=100)\n"
   ]
  },
  {
   "cell_type": "markdown",
   "id": "sporting-experience",
   "metadata": {},
   "source": [
    "This histogram is hard to read because the distribution of revenue is very skewed. We thus focus on values of revenue above 0 and below 100. We can do this by filtering the data frame by using conditional statements."
   ]
  },
  {
   "cell_type": "code",
   "execution_count": 35,
   "id": "written-munich",
   "metadata": {},
   "outputs": [
    {
     "data": {
      "text/plain": [
       "(array([2537., 2331., 2013., 1746., 1495., 1355., 1242., 1096., 1020.,\n",
       "         966.,  864.,  825.,  814.,  714.,  708.,  660.,  611.,  601.,\n",
       "         534.,  521.,  496.,  469.,  408.,  431.,  445.,  416.,  421.,\n",
       "         377.,  384.,  378.,  328.,  318.,  288.,  278.,  304.,  304.,\n",
       "         250.,  264.,  251.,  255.,  254.,  249.,  245.,  230.,  219.,\n",
       "         226.,  208.,  211.,  200.,  195.,  203.,  198.,  169.,  170.,\n",
       "         167.,  165.,  144.,  168.,  177.,  145.,  138.,  145.,  158.,\n",
       "         149.,  128.,  148.,  127.,  136.,  141.,  133.,  122.,  122.,\n",
       "         135.,  125.,  126.,  112.,  127.,  110.,  105.,  111.,   96.,\n",
       "         106.,  111.,   97.,  109.,  104.,  107.,  104.,   91.,   88.,\n",
       "         108.,   93.,   72.,   95.,   73.,   81.,   71.,   84.,   95.,\n",
       "          88.]),\n",
       " array([9.99999980e-03, 1.00979998e+00, 2.00959996e+00, 3.00939994e+00,\n",
       "        4.00919992e+00, 5.00899990e+00, 6.00879988e+00, 7.00859986e+00,\n",
       "        8.00839984e+00, 9.00819982e+00, 1.00079998e+01, 1.10077998e+01,\n",
       "        1.20075998e+01, 1.30073997e+01, 1.40071997e+01, 1.50069997e+01,\n",
       "        1.60067997e+01, 1.70065997e+01, 1.80063996e+01, 1.90061996e+01,\n",
       "        2.00059996e+01, 2.10057996e+01, 2.20055996e+01, 2.30053995e+01,\n",
       "        2.40051995e+01, 2.50049995e+01, 2.60047995e+01, 2.70045995e+01,\n",
       "        2.80043994e+01, 2.90041994e+01, 3.00039994e+01, 3.10037994e+01,\n",
       "        3.20035994e+01, 3.30033993e+01, 3.40031993e+01, 3.50029993e+01,\n",
       "        3.60027993e+01, 3.70025993e+01, 3.80023992e+01, 3.90021992e+01,\n",
       "        4.00019992e+01, 4.10017992e+01, 4.20015992e+01, 4.30013991e+01,\n",
       "        4.40011991e+01, 4.50009991e+01, 4.60007991e+01, 4.70005991e+01,\n",
       "        4.80003990e+01, 4.90001990e+01, 4.99999990e+01, 5.09997990e+01,\n",
       "        5.19995990e+01, 5.29993989e+01, 5.39991989e+01, 5.49989989e+01,\n",
       "        5.59987989e+01, 5.69985989e+01, 5.79983988e+01, 5.89981988e+01,\n",
       "        5.99979988e+01, 6.09977988e+01, 6.19975988e+01, 6.29973987e+01,\n",
       "        6.39971987e+01, 6.49969987e+01, 6.59967987e+01, 6.69965987e+01,\n",
       "        6.79963986e+01, 6.89961986e+01, 6.99959986e+01, 7.09957986e+01,\n",
       "        7.19955986e+01, 7.29953985e+01, 7.39951985e+01, 7.49949985e+01,\n",
       "        7.59947985e+01, 7.69945985e+01, 7.79943984e+01, 7.89941984e+01,\n",
       "        7.99939984e+01, 8.09937984e+01, 8.19935984e+01, 8.29933983e+01,\n",
       "        8.39931983e+01, 8.49929983e+01, 8.59927983e+01, 8.69925983e+01,\n",
       "        8.79923982e+01, 8.89921982e+01, 8.99919982e+01, 9.09917982e+01,\n",
       "        9.19915982e+01, 9.29913981e+01, 9.39911981e+01, 9.49909981e+01,\n",
       "        9.59907981e+01, 9.69905981e+01, 9.79903980e+01, 9.89901980e+01,\n",
       "        9.99899980e+01]),\n",
       " <BarContainer object of 100 artists>)"
      ]
     },
     "execution_count": 35,
     "metadata": {},
     "output_type": "execute_result"
    },
    {
     "data": {
      "image/png": "[encoded data removed]",
      "text/plain": [
       "<Figure size 640x480 with 1 Axes>"
      ]
     },
     "metadata": {},
     "output_type": "display_data"
    }
   ],
   "source": [
    "#Filter the values of revenue above 0 and below 100.\n",
    "ab_test_filter = ab_test.loc[(ab_test.revenue > 0) & (ab_test.revenue < 100)]\n",
    "plt.hist(ab_test_filter.revenue, bins=100)"
   ]
  },
  {
   "cell_type": "markdown",
   "id": "careful-teach",
   "metadata": {},
   "source": [
    "Next, generate a variable that is equal to one if revenue is positive and zero when no purchase occurred."
   ]
  },
  {
   "cell_type": "markdown",
   "id": "chinese-employee",
   "metadata": {},
   "source": [
    "**Q:** Add code to the chunk below to compute the proportion of consumers that made a purchase. What is this proportion?"
   ]
  },
  {
   "cell_type": "code",
   "execution_count": 40,
   "id": "valid-festival",
   "metadata": {},
   "outputs": [
    {
     "name": "stdout",
     "output_type": "stream",
     "text": [
      "0.051486\n"
     ]
    }
   ],
   "source": [
    "# Generate a variable that is equal to one if revenue is positive and zero when no purchase occurred.\n",
    "ab_test['purchase_dummy'] = 0\n",
    "ab_test.loc[ab_test.revenue > 0, 'purchase_dummy'] = 1\n",
    "\n",
    "# Compute the proportion of consumers that made a purchase. What is this proportion?\n",
    "print(len(ab_test.loc[ab_test.purchase_dummy == 1])/len(ab_test))"
   ]
  },
  {
   "cell_type": "markdown",
   "id": "veterinary-sally",
   "metadata": {},
   "source": [
    "### 3. Checking randomization\n",
    "You want to verify that the A/B test was actually implemented correctly. You know that if randomization is done correctly, the treatment variable should be uncorrelated with consumer demographics. Implement a regression that tests whether gender, age, and facebook_login are correlated with treatment."
   ]
  },
  {
   "cell_type": "markdown",
   "id": "developing-florida",
   "metadata": {},
   "source": [
    "**Q:** Can you reject the null hypothesis that these three variables do not predict treatment (try to test for the correlation / influence of all three variables in one single regression)?"
   ]
  },
  {
   "cell_type": "code",
   "execution_count": 38,
   "id": "looking-antigua",
   "metadata": {
    "scrolled": true
   },
   "outputs": [
    {
     "name": "stdout",
     "output_type": "stream",
     "text": [
      "                            OLS Regression Results                            \n",
      "==============================================================================\n",
      "Dep. Variable:              treatment   R-squared:                       0.000\n",
      "Model:                            OLS   Adj. R-squared:                 -0.000\n",
      "Method:                 Least Squares   F-statistic:                    0.4931\n",
      "Date:                Mon, 22 Jan 2024   Prob (F-statistic):              0.687\n",
      "Time:                        15:10:43   Log-Likelihood:            -7.2579e+05\n",
      "No. Observations:             1000000   AIC:                         1.452e+06\n",
      "Df Residuals:                  999996   BIC:                         1.452e+06\n",
      "Df Model:                           3                                         \n",
      "Covariance Type:            nonrobust                                         \n",
      "==================================================================================\n",
      "                     coef    std err          t      P>|t|      [0.025      0.975]\n",
      "----------------------------------------------------------------------------------\n",
      "Intercept          0.5040      0.015     32.821      0.000       0.474       0.534\n",
      "gender[T.Male]     0.0006      0.002      0.278      0.781      -0.004       0.005\n",
      "age               -0.0002      0.001     -0.265      0.791      -0.002       0.001\n",
      "facebook_login    -0.0014      0.001     -1.153      0.249      -0.004       0.001\n",
      "==============================================================================\n",
      "Omnibus:                  3405191.823   Durbin-Watson:                   2.002\n",
      "Prob(Omnibus):                  0.000   Jarque-Bera (JB):           166665.680\n",
      "Skew:                          -0.001   Prob(JB):                         0.00\n",
      "Kurtosis:                       1.000   Cond. No.                         679.\n",
      "==============================================================================\n",
      "\n",
      "Notes:\n",
      "[1] Standard Errors assume that the covariance matrix of the errors is correctly specified.\n"
     ]
    }
   ],
   "source": [
    "# Implement a regression that tests whether gender, age, and facebook_login are correlated with treatment.\n",
    "\n",
    "# Define the regression formula\n",
    "formula = \"treatment ~ gender + age + facebook_login\"\n",
    "\n",
    "# Fit the regression model\n",
    "model = smf.ols(formula=formula, data=ab_test).fit()\n",
    "\n",
    "# Print the regression summary\n",
    "print(model.summary())"
   ]
  },
  {
   "cell_type": "markdown",
   "id": "global-peace",
   "metadata": {},
   "source": [
    "### 4. Simple A/B test\n",
    "\n",
    "#### 4.1 Revenue regression\n",
    "\n",
    "**Q:** Fill in the chunk below with code that regresses revenue on treatment in order to test whether treatment (showing an ad) has a significant effect on revenue generated. Interpret the intercept and the treatment coefficients. Is the difference in revenue between treatment and control group statistically significant?\n"
   ]
  },
  {
   "cell_type": "code",
   "execution_count": 39,
   "id": "domestic-specialist",
   "metadata": {},
   "outputs": [
    {
     "name": "stdout",
     "output_type": "stream",
     "text": [
      "                            OLS Regression Results                            \n",
      "==============================================================================\n",
      "Dep. Variable:                revenue   R-squared:                       0.000\n",
      "Model:                            OLS   Adj. R-squared:                  0.000\n",
      "Method:                 Least Squares   F-statistic:                     2.349\n",
      "Date:                Mon, 22 Jan 2024   Prob (F-statistic):              0.125\n",
      "Time:                        15:16:52   Log-Likelihood:            -7.0429e+06\n",
      "No. Observations:             1000000   AIC:                         1.409e+07\n",
      "Df Residuals:                  999998   BIC:                         1.409e+07\n",
      "Df Model:                           1                                         \n",
      "Covariance Type:            nonrobust                                         \n",
      "==============================================================================\n",
      "                 coef    std err          t      P>|t|      [0.025      0.975]\n",
      "------------------------------------------------------------------------------\n",
      "Intercept      9.7451      0.392     24.872      0.000       8.977      10.513\n",
      "treatment      0.8491      0.554      1.533      0.125      -0.237       1.935\n",
      "===============================================================================\n",
      "Omnibus:                  4893753.346   Durbin-Watson:                    2.001\n",
      "Prob(Omnibus):                  0.000   Jarque-Bera (JB):   239077922492101.781\n",
      "Skew:                         199.709   Prob(JB):                          0.00\n",
      "Kurtosis:                   75750.677   Cond. No.                          2.62\n",
      "===============================================================================\n",
      "\n",
      "Notes:\n",
      "[1] Standard Errors assume that the covariance matrix of the errors is correctly specified.\n"
     ]
    }
   ],
   "source": [
    "# Define the regression formula\n",
    "formula = \"revenue ~ treatment\"\n",
    "\n",
    "# Fit the regression model\n",
    "model = smf.ols(formula=formula, data=ab_test).fit()\n",
    "\n",
    "# Print the regression summary\n",
    "print(model.summary())"
   ]
  },
  {
   "cell_type": "markdown",
   "id": "fossil-principal",
   "metadata": {},
   "source": [
    "#### 4.2 Purchase dummy regression\n",
    "\n",
    "**Q:** Fill in the chunk below with code that, instead of revenue, uses the purchase_dummy as the outcome variable and regresses it on treatment. Interpret the intercept value and the treatment coefficient in this regression. Is the difference in purchase probabilities between treatment and control group statistically significant? Compare the results from this regression to the previous regression. Why does the level of precision differ?"
   ]
  },
  {
   "cell_type": "code",
   "execution_count": 41,
   "id": "controlling-palestinian",
   "metadata": {
    "scrolled": true
   },
   "outputs": [
    {
     "name": "stdout",
     "output_type": "stream",
     "text": [
      "                            OLS Regression Results                            \n",
      "==============================================================================\n",
      "Dep. Variable:         purchase_dummy   R-squared:                       0.000\n",
      "Model:                            OLS   Adj. R-squared:                  0.000\n",
      "Method:                 Least Squares   F-statistic:                     41.60\n",
      "Date:                Mon, 22 Jan 2024   Prob (F-statistic):           1.12e-10\n",
      "Time:                        15:18:13   Log-Likelihood:                 90734.\n",
      "No. Observations:             1000000   AIC:                        -1.815e+05\n",
      "Df Residuals:                  999998   BIC:                        -1.814e+05\n",
      "Df Model:                           1                                         \n",
      "Covariance Type:            nonrobust                                         \n",
      "==============================================================================\n",
      "                 coef    std err          t      P>|t|      [0.025      0.975]\n",
      "------------------------------------------------------------------------------\n",
      "Intercept      0.0501      0.000    160.148      0.000       0.049       0.051\n",
      "treatment      0.0029      0.000      6.450      0.000       0.002       0.004\n",
      "==============================================================================\n",
      "Omnibus:                   801431.720   Durbin-Watson:                   1.999\n",
      "Prob(Omnibus):                  0.000   Jarque-Bera (JB):         11477067.656\n",
      "Skew:                           4.059   Prob(JB):                         0.00\n",
      "Kurtosis:                      17.476   Cond. No.                         2.62\n",
      "==============================================================================\n",
      "\n",
      "Notes:\n",
      "[1] Standard Errors assume that the covariance matrix of the errors is correctly specified.\n"
     ]
    }
   ],
   "source": [
    "# Define the regression formula\n",
    "formula = \"purchase_dummy ~ treatment\"\n",
    "\n",
    "# Fit the regression model\n",
    "model = smf.ols(formula=formula, data=ab_test).fit()\n",
    "\n",
    "# Print the regression summary\n",
    "print(model.summary())"
   ]
  },
  {
   "cell_type": "markdown",
   "id": "annoying-jewel",
   "metadata": {},
   "source": [
    "### 5. A/B test with control variables\n",
    "\n",
    "We now regress revenue on treatment as well as ALL demographic variables."
   ]
  },
  {
   "cell_type": "code",
   "execution_count": 42,
   "id": "intimate-major",
   "metadata": {
    "scrolled": true
   },
   "outputs": [
    {
     "name": "stdout",
     "output_type": "stream",
     "text": [
      "                            OLS Regression Results                            \n",
      "==============================================================================\n",
      "Dep. Variable:                revenue   R-squared:                       0.044\n",
      "Model:                            OLS   Adj. R-squared:                  0.044\n",
      "Method:                 Least Squares   F-statistic:                 1.163e+04\n",
      "Date:                Mon, 22 Jan 2024   Prob (F-statistic):               0.00\n",
      "Time:                        15:20:37   Log-Likelihood:            -7.0202e+06\n",
      "No. Observations:             1000000   AIC:                         1.404e+07\n",
      "Df Residuals:                  999995   BIC:                         1.404e+07\n",
      "Df Model:                           4                                         \n",
      "Covariance Type:            nonrobust                                         \n",
      "==================================================================================\n",
      "                     coef    std err          t      P>|t|      [0.025      0.975]\n",
      "----------------------------------------------------------------------------------\n",
      "Intercept      -1002.6944      8.320   -120.522      0.000   -1019.001    -986.388\n",
      "gender[T.Male]  -195.5879      1.242   -157.424      0.000    -198.023    -193.153\n",
      "treatment          0.8962      0.542      1.655      0.098      -0.165       1.958\n",
      "age               54.4146      0.373    145.824      0.000      53.683      55.146\n",
      "facebook_login     2.0294      0.634      3.201      0.001       0.787       3.272\n",
      "===============================================================================\n",
      "Omnibus:                  4880207.016   Durbin-Watson:                    2.001\n",
      "Prob(Omnibus):                  0.000   Jarque-Bera (JB):   235173072098596.156\n",
      "Skew:                         197.765   Prob(JB):                          0.00\n",
      "Kurtosis:                   75129.542   Cond. No.                          679.\n",
      "===============================================================================\n",
      "\n",
      "Notes:\n",
      "[1] Standard Errors assume that the covariance matrix of the errors is correctly specified.\n"
     ]
    }
   ],
   "source": [
    "# Define the regression formula\n",
    "formula = \"revenue ~ treatment + gender + age + facebook_login\"\n",
    "\n",
    "# Fit the regression model\n",
    "model = smf.ols(formula=formula, data=ab_test).fit()\n",
    "\n",
    "# Print the regression summary\n",
    "print(model.summary())"
   ]
  },
  {
   "cell_type": "markdown",
   "id": "timely-oxygen",
   "metadata": {},
   "source": [
    "**Q:** Compare the coefficient on treatment from this regression with the treatment coefficient from the simple A/B-test regression without controls. Did you expect this difference / lack of difference in the coefficients?"
   ]
  },
  {
   "cell_type": "markdown",
   "id": "d14b5ddb",
   "metadata": {},
   "source": [
    "Yes there is a difference."
   ]
  },
  {
   "cell_type": "markdown",
   "id": "assumed-willow",
   "metadata": {},
   "source": [
    "### 6. Optimal sample size calculation\n",
    "\n",
    "For this question, assume that an ad effect of at least 0.5 dollars is profitable. Taking the estimate of the ad effect from the univariate regression in section 4.1 as a benchmark, how large would the sample size have to be so that 0.5 is outside the 97.5 percent one-sided confidence interval for the true ad effect? For the value of $s^2$ that you need to pick in this computation, consider both:\n",
    "\n",
    "1. the variance of Y;\n",
    "2. the variance of the residual from a regression of Y on all control variables (except the treatment).\n",
    "\n",
    "**Q:** Add code in the chunk below that computes the variance of the revenue variable."
   ]
  },
  {
   "cell_type": "code",
   "execution_count": 48,
   "id": "placed-evidence",
   "metadata": {},
   "outputs": [],
   "source": [
    "# Compute the variance of the revenue variable\n",
    "s2_y = ab_test.revenue.var()"
   ]
  },
  {
   "cell_type": "markdown",
   "id": "identical-harassment",
   "metadata": {},
   "source": [
    "Compute the variance of the residual from a regression of $Y$ on all controls."
   ]
  },
  {
   "cell_type": "code",
   "execution_count": 49,
   "id": "stuck-hypothesis",
   "metadata": {
    "scrolled": true
   },
   "outputs": [
    {
     "name": "stdout",
     "output_type": "stream",
     "text": [
      "                            OLS Regression Results                            \n",
      "==============================================================================\n",
      "Dep. Variable:                revenue   R-squared:                       0.044\n",
      "Model:                            OLS   Adj. R-squared:                  0.044\n",
      "Method:                 Least Squares   F-statistic:                 1.550e+04\n",
      "Date:                Mon, 22 Jan 2024   Prob (F-statistic):               0.00\n",
      "Time:                        15:45:10   Log-Likelihood:            -7.0202e+06\n",
      "No. Observations:             1000000   AIC:                         1.404e+07\n",
      "Df Residuals:                  999996   BIC:                         1.404e+07\n",
      "Df Model:                           3                                         \n",
      "Covariance Type:            nonrobust                                         \n",
      "==================================================================================\n",
      "                     coef    std err          t      P>|t|      [0.025      0.975]\n",
      "----------------------------------------------------------------------------------\n",
      "Intercept      -1002.2428      8.315   -120.532      0.000   -1018.540    -985.945\n",
      "gender[T.Male]  -195.5873      1.242   -157.423      0.000    -198.022    -193.152\n",
      "age               54.4145      0.373    145.824      0.000      53.683      55.146\n",
      "facebook_login     2.0282      0.634      3.199      0.001       0.786       3.271\n",
      "===============================================================================\n",
      "Omnibus:                  4880196.624   Durbin-Watson:                    2.001\n",
      "Prob(Omnibus):                  0.000   Jarque-Bera (JB):   235165613679938.844\n",
      "Skew:                         197.764   Prob(JB):                          0.00\n",
      "Kurtosis:                   75128.350   Cond. No.                          679.\n",
      "===============================================================================\n",
      "\n",
      "Notes:\n",
      "[1] Standard Errors assume that the covariance matrix of the errors is correctly specified.\n"
     ]
    }
   ],
   "source": [
    "# Regression of revenue on all control variables (except the treatment)\n",
    "# Define the regression formula\n",
    "formula = \"revenue ~ gender + age + facebook_login\"\n",
    "\n",
    "# Fit the regression model\n",
    "model = smf.ols(formula=formula, data=ab_test).fit()\n",
    "\n",
    "# Print the regression summary\n",
    "print(model.summary())\n",
    "\n",
    "# Compute the variance of the residual from a regression of revenue on all controls\n",
    "s2_resid = model.resid.var()"
   ]
  },
  {
   "cell_type": "markdown",
   "id": "mechanical-newfoundland",
   "metadata": {
    "variables": {
     "var_residuals": "6333.610794394574"
    }
   },
   "source": [
    "**Q:** What is the variance of the residuals? Compare the two estimates of $s^2$ and explain why one is larger than the other.\n"
   ]
  },
  {
   "cell_type": "markdown",
   "id": "amino-single",
   "metadata": {},
   "source": [
    "**Q:** Now compute the optimal sample sizes for both estimates of $s^2$. "
   ]
  },
  {
   "cell_type": "code",
   "execution_count": 51,
   "id": "artistic-sector",
   "metadata": {},
   "outputs": [
    {
     "data": {
      "text/plain": [
       "(61379006.38831452, 58650997.47829154)"
      ]
     },
     "execution_count": 51,
     "metadata": {},
     "output_type": "execute_result"
    }
   ],
   "source": [
    "# Compute the optimal sample sizes for both estimates of s^2\n",
    "\n",
    "effect_size = 0.05\n",
    "\n",
    "sample_size_y = 2 * s2_y / effect_size**2\n",
    "sample_size_resid = 2 * s2_resid / effect_size**2\n",
    "\n",
    "sample_size_y, sample_size_resid\n",
    "\n"
   ]
  }
 ],
 "metadata": {
  "kernelspec": {
   "display_name": "Python 3 (ipykernel)",
   "language": "python",
   "name": "python3"
  },
  "language_info": {
   "codemirror_mode": {
    "name": "ipython",
    "version": 3
   },
   "file_extension": ".py",
   "mimetype": "text/x-python",
   "name": "python",
   "nbconvert_exporter": "python",
   "pygments_lexer": "ipython3",
   "version": "3.11.5"
  }
 },
 "nbformat": 4,
 "nbformat_minor": 5
}
