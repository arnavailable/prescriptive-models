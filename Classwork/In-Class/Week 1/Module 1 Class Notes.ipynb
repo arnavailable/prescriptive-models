{
 "cells": [
  {
   "cell_type": "markdown",
   "id": "light-affair",
   "metadata": {},
   "source": [
    "# Class #1"
   ]
  },
  {
   "cell_type": "markdown",
   "id": "protected-milwaukee",
   "metadata": {},
   "source": [
    "We first import the necessary python modules: we use the data analysis library \"pandas\" and statsmodels"
   ]
  },
  {
   "cell_type": "code",
   "execution_count": 2,
   "id": "average-transmission",
   "metadata": {},
   "outputs": [
    {
     "name": "stderr",
     "output_type": "stream",
     "text": [
      "/Users/fcastro/.pyenv/versions/3.7.3/lib/python3.7/site-packages/pandas/compat/__init__.py:97: UserWarning: Could not import the lzma module. Your installed Python is incomplete. Attempting to use lzma compression will result in a RuntimeError.\n",
      "  warnings.warn(msg)\n"
     ]
    }
   ],
   "source": [
    "import pandas as pd\n",
    "import matplotlib.pyplot as plt\n",
    "import numpy as np\n",
    "import statsmodels.api as sm\n",
    "import statsmodels.formula.api as smf"
   ]
  },
  {
   "cell_type": "markdown",
   "id": "knowing-means",
   "metadata": {},
   "source": [
    "We read the data set as a data frame and print its head"
   ]
  },
  {
   "cell_type": "code",
   "execution_count": 3,
   "id": "saved-suffering",
   "metadata": {},
   "outputs": [
    {
     "data": {
      "text/html": [
       "<div>\n",
       "<style scoped>\n",
       "    .dataframe tbody tr th:only-of-type {\n",
       "        vertical-align: middle;\n",
       "    }\n",
       "\n",
       "    .dataframe tbody tr th {\n",
       "        vertical-align: top;\n",
       "    }\n",
       "\n",
       "    .dataframe thead th {\n",
       "        text-align: right;\n",
       "    }\n",
       "</style>\n",
       "<table border=\"1\" class=\"dataframe\">\n",
       "  <thead>\n",
       "    <tr style=\"text-align: right;\">\n",
       "      <th></th>\n",
       "      <th>id</th>\n",
       "      <th>red_meat</th>\n",
       "      <th>cardiac_risk</th>\n",
       "      <th>male_dummy</th>\n",
       "      <th>female_dummy</th>\n",
       "      <th>smoking</th>\n",
       "    </tr>\n",
       "  </thead>\n",
       "  <tbody>\n",
       "    <tr>\n",
       "      <th>0</th>\n",
       "      <td>1</td>\n",
       "      <td>4.615426</td>\n",
       "      <td>6.287400</td>\n",
       "      <td>0</td>\n",
       "      <td>1</td>\n",
       "      <td>1.384628</td>\n",
       "    </tr>\n",
       "    <tr>\n",
       "      <th>1</th>\n",
       "      <td>2</td>\n",
       "      <td>3.179725</td>\n",
       "      <td>4.813164</td>\n",
       "      <td>1</td>\n",
       "      <td>0</td>\n",
       "      <td>0.953918</td>\n",
       "    </tr>\n",
       "    <tr>\n",
       "      <th>2</th>\n",
       "      <td>3</td>\n",
       "      <td>3.433238</td>\n",
       "      <td>4.592836</td>\n",
       "      <td>1</td>\n",
       "      <td>0</td>\n",
       "      <td>1.029972</td>\n",
       "    </tr>\n",
       "    <tr>\n",
       "      <th>3</th>\n",
       "      <td>4</td>\n",
       "      <td>4.110157</td>\n",
       "      <td>2.084957</td>\n",
       "      <td>0</td>\n",
       "      <td>1</td>\n",
       "      <td>0.000000</td>\n",
       "    </tr>\n",
       "    <tr>\n",
       "      <th>4</th>\n",
       "      <td>5</td>\n",
       "      <td>3.418863</td>\n",
       "      <td>5.317896</td>\n",
       "      <td>1</td>\n",
       "      <td>0</td>\n",
       "      <td>0.000000</td>\n",
       "    </tr>\n",
       "  </tbody>\n",
       "</table>\n",
       "</div>"
      ],
      "text/plain": [
       "   id  red_meat  cardiac_risk  male_dummy  female_dummy   smoking\n",
       "0   1  4.615426      6.287400           0             1  1.384628\n",
       "1   2  3.179725      4.813164           1             0  0.953918\n",
       "2   3  3.433238      4.592836           1             0  1.029972\n",
       "3   4  4.110157      2.084957           0             1  0.000000\n",
       "4   5  3.418863      5.317896           1             0  0.000000"
      ]
     },
     "execution_count": 3,
     "metadata": {},
     "output_type": "execute_result"
    }
   ],
   "source": [
    "df = pd.read_csv('red_meat.csv')\n",
    "df.head()"
   ]
  },
  {
   "cell_type": "markdown",
   "id": "phantom-morris",
   "metadata": {},
   "source": [
    "We run a simple regression"
   ]
  },
  {
   "cell_type": "code",
   "execution_count": 11,
   "id": "infinite-saturn",
   "metadata": {
    "scrolled": true
   },
   "outputs": [
    {
     "name": "stdout",
     "output_type": "stream",
     "text": [
      "                            OLS Regression Results                            \n",
      "==============================================================================\n",
      "Dep. Variable:           cardiac_risk   R-squared:                       0.210\n",
      "Model:                            OLS   Adj. R-squared:                  0.209\n",
      "Method:                 Least Squares   F-statistic:                     264.5\n",
      "Date:                Wed, 05 Jan 2022   Prob (F-statistic):           6.12e-53\n",
      "Time:                        16:13:22   Log-Likelihood:                -1658.2\n",
      "No. Observations:                1000   AIC:                             3320.\n",
      "Df Residuals:                     998   BIC:                             3330.\n",
      "Df Model:                           1                                         \n",
      "Covariance Type:            nonrobust                                         \n",
      "==============================================================================\n",
      "                 coef    std err          t      P>|t|      [0.025      0.975]\n",
      "------------------------------------------------------------------------------\n",
      "Intercept      3.3791      0.080     41.994      0.000       3.221       3.537\n",
      "red_meat       0.3187      0.020     16.264      0.000       0.280       0.357\n",
      "==============================================================================\n",
      "Omnibus:                       47.468   Durbin-Watson:                   1.997\n",
      "Prob(Omnibus):                  0.000   Jarque-Bera (JB):               89.026\n",
      "Skew:                           0.331   Prob(JB):                     4.66e-20\n",
      "Kurtosis:                       4.303   Cond. No.                         8.59\n",
      "==============================================================================\n",
      "\n",
      "Notes:\n",
      "[1] Standard Errors assume that the covariance matrix of the errors is correctly specified.\n"
     ]
    }
   ],
   "source": [
    "model  = smf.ols(formula = 'cardiac_risk ~ red_meat',data=df) \n",
    "result = model.fit()\n",
    "print(result.summary())"
   ]
  },
  {
   "cell_type": "markdown",
   "id": "nutritional-glucose",
   "metadata": {},
   "source": [
    "We can also obtain the coefficients and SE using the following"
   ]
  },
  {
   "cell_type": "code",
   "execution_count": 16,
   "id": "prescribed-latter",
   "metadata": {},
   "outputs": [
    {
     "name": "stdout",
     "output_type": "stream",
     "text": [
      "Intercept    3.379053\n",
      "red_meat     0.318688\n",
      "dtype: float64\n",
      "Intercept    0.080465\n",
      "red_meat     0.019594\n",
      "dtype: float64\n"
     ]
    }
   ],
   "source": [
    "#coefficients\n",
    "print(result.params)\n",
    "#SE\n",
    "print(result.bse)"
   ]
  },
  {
   "cell_type": "markdown",
   "id": "persistent-regression",
   "metadata": {},
   "source": [
    "We construct a scatter plot and add the regression line"
   ]
  },
  {
   "cell_type": "code",
   "execution_count": 7,
   "id": "moved-basis",
   "metadata": {
    "scrolled": true
   },
   "outputs": [
    {
     "data": {
      "image/png": "[encoded data removed]",
      "text/plain": [
       "<Figure size 432x288 with 1 Axes>"
      ]
     },
     "metadata": {
      "needs_background": "light"
     },
     "output_type": "display_data"
    }
   ],
   "source": [
    "x = df['red_meat']\n",
    "y = df['cardiac_risk']\n",
    "plt.plot(x, y, 'o',mfc = 'none') #scatter plot\n",
    "intercept = result.params[0]\n",
    "red_meat_coef = result.params[1]\n",
    "plt.plot(x, intercept + red_meat_coef*x) #regression line\n",
    "plt.xlabel(\"red meat servings\")\n",
    "plt.ylabel(\"cardiac risk\")\n",
    "plt.show()"
   ]
  },
  {
   "cell_type": "markdown",
   "id": "competent-power",
   "metadata": {},
   "source": [
    "**Q:** Run a regression of cardiac risk on smoking (packs per day). Interpret the intercept and the coefficient estimate on smoking\n"
   ]
  },
  {
   "cell_type": "code",
   "execution_count": 8,
   "id": "regular-clear",
   "metadata": {},
   "outputs": [
    {
     "name": "stdout",
     "output_type": "stream",
     "text": [
      "                            OLS Regression Results                            \n",
      "==============================================================================\n",
      "Dep. Variable:           cardiac_risk   R-squared:                       0.250\n",
      "Model:                            OLS   Adj. R-squared:                  0.249\n",
      "Method:                 Least Squares   F-statistic:                     332.6\n",
      "Date:                Wed, 05 Jan 2022   Prob (F-statistic):           2.34e-64\n",
      "Time:                        13:12:13   Log-Likelihood:                -1631.9\n",
      "No. Observations:                1000   AIC:                             3268.\n",
      "Df Residuals:                     998   BIC:                             3278.\n",
      "Df Model:                           1                                         \n",
      "Covariance Type:            nonrobust                                         \n",
      "==============================================================================\n",
      "                 coef    std err          t      P>|t|      [0.025      0.975]\n",
      "------------------------------------------------------------------------------\n",
      "Intercept      3.5650      0.065     54.787      0.000       3.437       3.693\n",
      "smoking        1.0179      0.056     18.237      0.000       0.908       1.127\n",
      "==============================================================================\n",
      "Omnibus:                       39.851   Durbin-Watson:                   1.960\n",
      "Prob(Omnibus):                  0.000   Jarque-Bera (JB):               64.652\n",
      "Skew:                           0.325   Prob(JB):                     9.14e-15\n",
      "Kurtosis:                       4.062   Cond. No.                         3.03\n",
      "==============================================================================\n",
      "\n",
      "Notes:\n",
      "[1] Standard Errors assume that the covariance matrix of the errors is correctly specified.\n"
     ]
    }
   ],
   "source": [
    "model_smoking  = smf.ols(formula = 'cardiac_risk ~ smoking',data=df) \n",
    "result_smoking = model_smoking.fit()\n",
    "print(result_smoking.summary())"
   ]
  },
  {
   "cell_type": "markdown",
   "id": "flexible-husband",
   "metadata": {},
   "source": [
    "We run a regression with meat and meat^2"
   ]
  },
  {
   "cell_type": "code",
   "execution_count": null,
   "id": "adjustable-switzerland",
   "metadata": {
    "scrolled": true
   },
   "outputs": [],
   "source": [
    "model_squared = smf.ols(formula = 'cardiac_risk ~  red_meat + np.power(red_meat,2) ',data = df) \n",
    "res_squared   = model_squared.fit()\n",
    "print(res_squared.summary())"
   ]
  },
  {
   "cell_type": "markdown",
   "id": "choice-evolution",
   "metadata": {},
   "source": [
    "**Binary X: Dummy varible**\n",
    "\n",
    "Run a regression of cardiac risk on the female_dummy (variable=1 if respondent is female, 0 otherwise) OR on the male_dummy (not both, because of multicollinearity)\n",
    "\n"
   ]
  },
  {
   "cell_type": "code",
   "execution_count": 9,
   "id": "annual-newark",
   "metadata": {},
   "outputs": [
    {
     "name": "stdout",
     "output_type": "stream",
     "text": [
      "                            OLS Regression Results                            \n",
      "==============================================================================\n",
      "Dep. Variable:           cardiac_risk   R-squared:                       0.009\n",
      "Model:                            OLS   Adj. R-squared:                  0.008\n",
      "Method:                 Least Squares   F-statistic:                     9.055\n",
      "Date:                Wed, 05 Jan 2022   Prob (F-statistic):            0.00269\n",
      "Time:                        13:19:36   Log-Likelihood:                -1771.2\n",
      "No. Observations:                1000   AIC:                             3546.\n",
      "Df Residuals:                     998   BIC:                             3556.\n",
      "Df Model:                           1                                         \n",
      "Covariance Type:            nonrobust                                         \n",
      "================================================================================\n",
      "                   coef    std err          t      P>|t|      [0.025      0.975]\n",
      "--------------------------------------------------------------------------------\n",
      "Intercept        4.4048      0.058     76.538      0.000       4.292       4.518\n",
      "female_dummy     0.2780      0.092      3.009      0.003       0.097       0.459\n",
      "==============================================================================\n",
      "Omnibus:                        7.696   Durbin-Watson:                   1.958\n",
      "Prob(Omnibus):                  0.021   Jarque-Bera (JB):                9.000\n",
      "Skew:                           0.120   Prob(JB):                       0.0111\n",
      "Kurtosis:                       3.398   Cond. No.                         2.44\n",
      "==============================================================================\n",
      "\n",
      "Notes:\n",
      "[1] Standard Errors assume that the covariance matrix of the errors is correctly specified.\n"
     ]
    }
   ],
   "source": [
    "model_female = smf.ols(formula = 'cardiac_risk ~ female_dummy',data = df)\n",
    "res_female   = model_female.fit()\n",
    "print(res_female.summary())"
   ]
  },
  {
   "cell_type": "code",
   "execution_count": 10,
   "id": "transparent-witness",
   "metadata": {},
   "outputs": [
    {
     "name": "stdout",
     "output_type": "stream",
     "text": [
      "                            OLS Regression Results                            \n",
      "==============================================================================\n",
      "Dep. Variable:           cardiac_risk   R-squared:                       0.009\n",
      "Model:                            OLS   Adj. R-squared:                  0.008\n",
      "Method:                 Least Squares   F-statistic:                     9.055\n",
      "Date:                Wed, 05 Jan 2022   Prob (F-statistic):            0.00269\n",
      "Time:                        13:19:38   Log-Likelihood:                -1771.2\n",
      "No. Observations:                1000   AIC:                             3546.\n",
      "Df Residuals:                     998   BIC:                             3556.\n",
      "Df Model:                           1                                         \n",
      "Covariance Type:            nonrobust                                         \n",
      "==============================================================================\n",
      "                 coef    std err          t      P>|t|      [0.025      0.975]\n",
      "------------------------------------------------------------------------------\n",
      "Intercept      4.6828      0.072     64.788      0.000       4.541       4.825\n",
      "male_dummy    -0.2780      0.092     -3.009      0.003      -0.459      -0.097\n",
      "==============================================================================\n",
      "Omnibus:                        7.696   Durbin-Watson:                   1.958\n",
      "Prob(Omnibus):                  0.021   Jarque-Bera (JB):                9.000\n",
      "Skew:                           0.120   Prob(JB):                       0.0111\n",
      "Kurtosis:                       3.398   Cond. No.                         2.97\n",
      "==============================================================================\n",
      "\n",
      "Notes:\n",
      "[1] Standard Errors assume that the covariance matrix of the errors is correctly specified.\n"
     ]
    }
   ],
   "source": [
    "model_male = smf.ols(formula = 'cardiac_risk ~ male_dummy',data = df)\n",
    "res_male   = model_male.fit()\n",
    "print(res_male.summary())"
   ]
  },
  {
   "cell_type": "code",
   "execution_count": null,
   "id": "functional-country",
   "metadata": {},
   "outputs": [],
   "source": []
  },
  {
   "cell_type": "code",
   "execution_count": null,
   "id": "disturbed-logistics",
   "metadata": {},
   "outputs": [],
   "source": []
  }
 ],
 "metadata": {
  "kernelspec": {
   "display_name": "Python 3",
   "language": "python",
   "name": "python3"
  },
  "language_info": {
   "codemirror_mode": {
    "name": "ipython",
    "version": 3
   },
   "file_extension": ".py",
   "mimetype": "text/x-python",
   "name": "python",
   "nbconvert_exporter": "python",
   "pygments_lexer": "ipython3",
   "version": "3.7.3"
  }
 },
 "nbformat": 4,
 "nbformat_minor": 5
}
