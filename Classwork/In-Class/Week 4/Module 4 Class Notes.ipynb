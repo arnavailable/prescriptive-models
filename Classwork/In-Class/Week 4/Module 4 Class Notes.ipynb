{
 "cells": [
  {
   "cell_type": "code",
   "execution_count": 1,
   "id": "legitimate-fellow",
   "metadata": {},
   "outputs": [],
   "source": [
    "import pandas as pd\n",
    "import matplotlib.pyplot as plt\n",
    "import numpy as np\n",
    "import statsmodels.api as sm\n",
    "import statsmodels.formula.api as smf"
   ]
  },
  {
   "cell_type": "code",
   "execution_count": 2,
   "id": "elementary-organic",
   "metadata": {},
   "outputs": [
    {
     "data": {
      "text/html": [
       "<div>\n",
       "<style scoped>\n",
       "    .dataframe tbody tr th:only-of-type {\n",
       "        vertical-align: middle;\n",
       "    }\n",
       "\n",
       "    .dataframe tbody tr th {\n",
       "        vertical-align: top;\n",
       "    }\n",
       "\n",
       "    .dataframe thead th {\n",
       "        text-align: right;\n",
       "    }\n",
       "</style>\n",
       "<table border=\"1\" class=\"dataframe\">\n",
       "  <thead>\n",
       "    <tr style=\"text-align: right;\">\n",
       "      <th></th>\n",
       "      <th>user_id</th>\n",
       "      <th>age_below25</th>\n",
       "      <th>age_25to40</th>\n",
       "      <th>age_above40</th>\n",
       "      <th>treatment</th>\n",
       "      <th>past_rev</th>\n",
       "      <th>revenue</th>\n",
       "    </tr>\n",
       "  </thead>\n",
       "  <tbody>\n",
       "    <tr>\n",
       "      <th>0</th>\n",
       "      <td>1</td>\n",
       "      <td>0</td>\n",
       "      <td>1</td>\n",
       "      <td>0</td>\n",
       "      <td>0</td>\n",
       "      <td>9.326800</td>\n",
       "      <td>8.701338</td>\n",
       "    </tr>\n",
       "    <tr>\n",
       "      <th>1</th>\n",
       "      <td>2</td>\n",
       "      <td>0</td>\n",
       "      <td>0</td>\n",
       "      <td>1</td>\n",
       "      <td>0</td>\n",
       "      <td>9.832103</td>\n",
       "      <td>8.952526</td>\n",
       "    </tr>\n",
       "    <tr>\n",
       "      <th>2</th>\n",
       "      <td>3</td>\n",
       "      <td>1</td>\n",
       "      <td>0</td>\n",
       "      <td>0</td>\n",
       "      <td>1</td>\n",
       "      <td>10.826720</td>\n",
       "      <td>13.562074</td>\n",
       "    </tr>\n",
       "    <tr>\n",
       "      <th>3</th>\n",
       "      <td>4</td>\n",
       "      <td>0</td>\n",
       "      <td>1</td>\n",
       "      <td>0</td>\n",
       "      <td>0</td>\n",
       "      <td>10.327610</td>\n",
       "      <td>8.143866</td>\n",
       "    </tr>\n",
       "    <tr>\n",
       "      <th>4</th>\n",
       "      <td>5</td>\n",
       "      <td>0</td>\n",
       "      <td>0</td>\n",
       "      <td>1</td>\n",
       "      <td>0</td>\n",
       "      <td>9.582078</td>\n",
       "      <td>10.420373</td>\n",
       "    </tr>\n",
       "  </tbody>\n",
       "</table>\n",
       "</div>"
      ],
      "text/plain": [
       "   user_id  age_below25  age_25to40  age_above40  treatment   past_rev  \\\n",
       "0        1            0           1            0          0   9.326800   \n",
       "1        2            0           0            1          0   9.832103   \n",
       "2        3            1           0            0          1  10.826720   \n",
       "3        4            0           1            0          0  10.327610   \n",
       "4        5            0           0            1          0   9.582078   \n",
       "\n",
       "     revenue  \n",
       "0   8.701338  \n",
       "1   8.952526  \n",
       "2  13.562074  \n",
       "3   8.143866  \n",
       "4  10.420373  "
      ]
     },
     "execution_count": 2,
     "metadata": {},
     "output_type": "execute_result"
    }
   ],
   "source": [
    "targeted_ads = pd.read_csv('targeted_ads.csv')\n",
    "targeted_ads.head()"
   ]
  },
  {
   "cell_type": "markdown",
   "id": "endless-perth",
   "metadata": {},
   "source": [
    "## Randomization Check\n",
    "\n",
    "First we check random assignment or lack thereof "
   ]
  },
  {
   "cell_type": "code",
   "execution_count": 3,
   "id": "bbd1e968",
   "metadata": {},
   "outputs": [
    {
     "name": "stdout",
     "output_type": "stream",
     "text": [
      "                            OLS Regression Results                            \n",
      "==============================================================================\n",
      "Dep. Variable:              treatment   R-squared:                       0.351\n",
      "Model:                            OLS   Adj. R-squared:                  0.350\n",
      "Method:                 Least Squares   F-statistic:                     270.0\n",
      "Date:                Thu, 21 Mar 2024   Prob (F-statistic):           1.96e-94\n",
      "Time:                        00:22:29   Log-Likelihood:                -454.64\n",
      "No. Observations:                1000   AIC:                             915.3\n",
      "Df Residuals:                     997   BIC:                             930.0\n",
      "Df Model:                           2                                         \n",
      "Covariance Type:            nonrobust                                         \n",
      "===============================================================================\n",
      "                  coef    std err          t      P>|t|      [0.025      0.975]\n",
      "-------------------------------------------------------------------------------\n",
      "Intercept       0.7508      0.022     34.788      0.000       0.708       0.793\n",
      "age_25to40     -0.5542      0.030    -18.671      0.000      -0.612      -0.496\n",
      "age_above40    -0.6466      0.030    -21.558      0.000      -0.705      -0.588\n",
      "==============================================================================\n",
      "Omnibus:                       53.128   Durbin-Watson:                   1.973\n",
      "Prob(Omnibus):                  0.000   Jarque-Bera (JB):               64.363\n",
      "Skew:                           0.525   Prob(JB):                     1.06e-14\n",
      "Kurtosis:                       3.665   Cond. No.                         3.84\n",
      "==============================================================================\n",
      "\n",
      "Notes:\n",
      "[1] Standard Errors assume that the covariance matrix of the errors is correctly specified.\n"
     ]
    }
   ],
   "source": [
    "random_check_reg = smf.ols(formula = 'treatment ~  age_25to40 + age_above40', data = targeted_ads)\n",
    "result = random_check_reg.fit()\n",
    "print(result.summary())"
   ]
  },
  {
   "cell_type": "markdown",
   "id": "nervous-planet",
   "metadata": {},
   "source": [
    "What is another way of checking randomization or lack thereof? \n",
    "\n",
    "Another way is to regress treatment on past revenue. "
   ]
  },
  {
   "cell_type": "code",
   "execution_count": 4,
   "id": "amateur-yugoslavia",
   "metadata": {},
   "outputs": [
    {
     "name": "stdout",
     "output_type": "stream",
     "text": [
      "                            OLS Regression Results                            \n",
      "==============================================================================\n",
      "Dep. Variable:              treatment   R-squared:                       0.035\n",
      "Model:                            OLS   Adj. R-squared:                  0.034\n",
      "Method:                 Least Squares   F-statistic:                     36.28\n",
      "Date:                Thu, 21 Mar 2024   Prob (F-statistic):           2.40e-09\n",
      "Time:                        00:22:47   Log-Likelihood:                -653.21\n",
      "No. Observations:                1000   AIC:                             1310.\n",
      "Df Residuals:                     998   BIC:                             1320.\n",
      "Df Model:                           1                                         \n",
      "Covariance Type:            nonrobust                                         \n",
      "==============================================================================\n",
      "                 coef    std err          t      P>|t|      [0.025      0.975]\n",
      "------------------------------------------------------------------------------\n",
      "Intercept     -0.4477      0.131     -3.406      0.001      -0.706      -0.190\n",
      "past_rev       0.0842      0.014      6.023      0.000       0.057       0.112\n",
      "==============================================================================\n",
      "Omnibus:                    11440.276   Durbin-Watson:                   1.957\n",
      "Prob(Omnibus):                  0.000   Jarque-Bera (JB):              155.013\n",
      "Skew:                           0.654   Prob(JB):                     2.18e-34\n",
      "Kurtosis:                       1.583   Cond. No.                         84.9\n",
      "==============================================================================\n",
      "\n",
      "Notes:\n",
      "[1] Standard Errors assume that the covariance matrix of the errors is correctly specified.\n"
     ]
    }
   ],
   "source": [
    "random_check_reg2 = smf.ols(formula = 'treatment ~ past_rev', data = targeted_ads)\n",
    "result = random_check_reg2.fit()\n",
    "print(result.summary())"
   ]
  },
  {
   "cell_type": "markdown",
   "id": "3ef0914a",
   "metadata": {},
   "source": [
    "## Estimating the effect of the treatment"
   ]
  },
  {
   "cell_type": "markdown",
   "id": "greenhouse-video",
   "metadata": {},
   "source": [
    "Ignoring for now the non-random assignment we regress revenue on treatment. "
   ]
  },
  {
   "cell_type": "code",
   "execution_count": 5,
   "id": "naked-accused",
   "metadata": {},
   "outputs": [
    {
     "name": "stdout",
     "output_type": "stream",
     "text": [
      "                            OLS Regression Results                            \n",
      "==============================================================================\n",
      "Dep. Variable:                revenue   R-squared:                       0.255\n",
      "Model:                            OLS   Adj. R-squared:                  0.254\n",
      "Method:                 Least Squares   F-statistic:                     341.1\n",
      "Date:                Thu, 21 Mar 2024   Prob (F-statistic):           9.51e-66\n",
      "Time:                        00:23:08   Log-Likelihood:                -1811.0\n",
      "No. Observations:                1000   AIC:                             3626.\n",
      "Df Residuals:                     998   BIC:                             3636.\n",
      "Df Model:                           1                                         \n",
      "Covariance Type:            nonrobust                                         \n",
      "==============================================================================\n",
      "                 coef    std err          t      P>|t|      [0.025      0.975]\n",
      "------------------------------------------------------------------------------\n",
      "Intercept      8.8098      0.058    152.878      0.000       8.697       8.923\n",
      "treatment      1.8281      0.099     18.470      0.000       1.634       2.022\n",
      "==============================================================================\n",
      "Omnibus:                        2.137   Durbin-Watson:                   2.044\n",
      "Prob(Omnibus):                  0.344   Jarque-Bera (JB):                2.205\n",
      "Skew:                           0.107   Prob(JB):                        0.332\n",
      "Kurtosis:                       2.914   Cond. No.                         2.41\n",
      "==============================================================================\n",
      "\n",
      "Notes:\n",
      "[1] Standard Errors assume that the covariance matrix of the errors is correctly specified.\n"
     ]
    }
   ],
   "source": [
    "effect_bias = smf.ols(formula = 'revenue ~ treatment', data = targeted_ads)\n",
    "result = effect_bias.fit()\n",
    "print(result.summary())"
   ]
  },
  {
   "cell_type": "markdown",
   "id": "sustainable-sight",
   "metadata": {},
   "source": [
    "We estimate a multivariate regression of revenue on treatment, controlling for the source of non-randomization (age bins). We compare the output to the univariate regression."
   ]
  },
  {
   "cell_type": "code",
   "execution_count": 6,
   "id": "physical-suspect",
   "metadata": {},
   "outputs": [
    {
     "name": "stdout",
     "output_type": "stream",
     "text": [
      "                            OLS Regression Results                            \n",
      "==============================================================================\n",
      "Dep. Variable:                revenue   R-squared:                       0.311\n",
      "Model:                            OLS   Adj. R-squared:                  0.309\n",
      "Method:                 Least Squares   F-statistic:                     150.2\n",
      "Date:                Thu, 21 Mar 2024   Prob (F-statistic):           2.71e-80\n",
      "Time:                        00:23:28   Log-Likelihood:                -1771.5\n",
      "No. Observations:                1000   AIC:                             3551.\n",
      "Df Residuals:                     996   BIC:                             3571.\n",
      "Df Model:                           3                                         \n",
      "Covariance Type:            nonrobust                                         \n",
      "===============================================================================\n",
      "                  coef    std err          t      P>|t|      [0.025      0.975]\n",
      "-------------------------------------------------------------------------------\n",
      "Intercept       9.7054      0.120     80.955      0.000       9.470       9.941\n",
      "treatment       1.2597      0.118     10.654      0.000       1.028       1.492\n",
      "age_25to40     -1.1629      0.129     -9.033      0.000      -1.416      -0.910\n",
      "age_above40    -0.8772      0.136     -6.469      0.000      -1.143      -0.611\n",
      "==============================================================================\n",
      "Omnibus:                        2.148   Durbin-Watson:                   2.025\n",
      "Prob(Omnibus):                  0.342   Jarque-Bera (JB):                2.100\n",
      "Skew:                           0.065   Prob(JB):                        0.350\n",
      "Kurtosis:                       2.817   Cond. No.                         5.71\n",
      "==============================================================================\n",
      "\n",
      "Notes:\n",
      "[1] Standard Errors assume that the covariance matrix of the errors is correctly specified.\n"
     ]
    }
   ],
   "source": [
    "effect = smf.ols(formula = 'revenue ~ treatment + age_25to40 + age_above40', data = targeted_ads)\n",
    "result = effect.fit()\n",
    "print(result.summary())"
   ]
  },
  {
   "cell_type": "markdown",
   "id": "expected-reduction",
   "metadata": {},
   "source": [
    "### Frisch-Waugh theorem\n",
    "Let’s verify that you would obtain the same result by the sequential estimation in the Frisch-Waugh theorem."
   ]
  },
  {
   "cell_type": "markdown",
   "id": "suited-aggregate",
   "metadata": {},
   "source": [
    "**Step 1:** Regress treatment on age bin dummies and compute the residual from this regression. Then verify this residual is uncorrelated with age."
   ]
  },
  {
   "cell_type": "code",
   "execution_count": 7,
   "id": "invalid-stuff",
   "metadata": {},
   "outputs": [
    {
     "name": "stdout",
     "output_type": "stream",
     "text": [
      "                            OLS Regression Results                            \n",
      "==============================================================================\n",
      "Dep. Variable:            residuals_1   R-squared:                       0.000\n",
      "Model:                            OLS   Adj. R-squared:                 -0.002\n",
      "Method:                 Least Squares   F-statistic:                 7.798e-13\n",
      "Date:                Thu, 21 Mar 2024   Prob (F-statistic):               1.00\n",
      "Time:                        00:24:04   Log-Likelihood:                -454.64\n",
      "No. Observations:                1000   AIC:                             915.3\n",
      "Df Residuals:                     997   BIC:                             930.0\n",
      "Df Model:                           2                                         \n",
      "Covariance Type:            nonrobust                                         \n",
      "===============================================================================\n",
      "                  coef    std err          t      P>|t|      [0.025      0.975]\n",
      "-------------------------------------------------------------------------------\n",
      "Intercept    3.476e-16      0.022   1.61e-14      1.000      -0.042       0.042\n",
      "age_25to40   2.705e-15      0.030   9.11e-14      1.000      -0.058       0.058\n",
      "age_above40 -5.842e-15      0.030  -1.95e-13      1.000      -0.059       0.059\n",
      "==============================================================================\n",
      "Omnibus:                       53.128   Durbin-Watson:                   1.973\n",
      "Prob(Omnibus):                  0.000   Jarque-Bera (JB):               64.363\n",
      "Skew:                           0.525   Prob(JB):                     1.06e-14\n",
      "Kurtosis:                       3.665   Cond. No.                         3.84\n",
      "==============================================================================\n",
      "\n",
      "Notes:\n",
      "[1] Standard Errors assume that the covariance matrix of the errors is correctly specified.\n"
     ]
    }
   ],
   "source": [
    "#form residual from regression of treatment on age-bin dummies\n",
    "result_1 = smf.ols(formula = 'treatment ~ age_25to40 + age_above40', data = targeted_ads).fit()\n",
    "targeted_ads['residuals_1'] = result_1.resid\n",
    "\n",
    "#treatment residual on age bin dummies \n",
    "result_2 = smf.ols(formula = 'residuals_1 ~ age_25to40 + age_above40', data = targeted_ads).fit()\n",
    "print(result_2.summary())"
   ]
  },
  {
   "cell_type": "markdown",
   "id": "buried-output",
   "metadata": {},
   "source": [
    "**Step 2:** Now regress revenue on the treatment residual from step 1\n"
   ]
  },
  {
   "cell_type": "code",
   "execution_count": 9,
   "id": "current-ivory",
   "metadata": {
    "scrolled": true
   },
   "outputs": [
    {
     "name": "stdout",
     "output_type": "stream",
     "text": [
      "                            OLS Regression Results                            \n",
      "==============================================================================\n",
      "Dep. Variable:                revenue   R-squared:                       0.078\n",
      "Model:                            OLS   Adj. R-squared:                  0.078\n",
      "Method:                 Least Squares   F-statistic:                     84.98\n",
      "Date:                Thu, 21 Mar 2024   Prob (F-statistic):           1.74e-19\n",
      "Time:                        00:24:55   Log-Likelihood:                -1917.2\n",
      "No. Observations:                1000   AIC:                             3838.\n",
      "Df Residuals:                     998   BIC:                             3848.\n",
      "Df Model:                           1                                         \n",
      "Covariance Type:            nonrobust                                         \n",
      "===============================================================================\n",
      "                  coef    std err          t      P>|t|      [0.025      0.975]\n",
      "-------------------------------------------------------------------------------\n",
      "Intercept       9.4295      0.052    180.994      0.000       9.327       9.532\n",
      "residuals_1     1.2597      0.137      9.219      0.000       0.992       1.528\n",
      "==============================================================================\n",
      "Omnibus:                        6.383   Durbin-Watson:                   2.038\n",
      "Prob(Omnibus):                  0.041   Jarque-Bera (JB):                6.406\n",
      "Skew:                           0.196   Prob(JB):                       0.0406\n",
      "Kurtosis:                       2.991   Cond. No.                         2.62\n",
      "==============================================================================\n",
      "\n",
      "Notes:\n",
      "[1] Standard Errors assume that the covariance matrix of the errors is correctly specified.\n"
     ]
    }
   ],
   "source": [
    "result_3 = smf.ols(formula = ' revenue ~ residuals_1', data = targeted_ads).fit()\n",
    "print(result_3.summary())"
   ]
  },
  {
   "cell_type": "markdown",
   "id": "dress-affiliation",
   "metadata": {},
   "source": [
    "## Including “past revenue” as additional control\n",
    "\n",
    "We now regress the treatment residual from step 1 on past revenue to confirm your intuition.\n"
   ]
  },
  {
   "cell_type": "code",
   "execution_count": 10,
   "id": "optimum-tiger",
   "metadata": {},
   "outputs": [
    {
     "name": "stdout",
     "output_type": "stream",
     "text": [
      "                            OLS Regression Results                            \n",
      "==============================================================================\n",
      "Dep. Variable:            residuals_1   R-squared:                       0.000\n",
      "Model:                            OLS   Adj. R-squared:                 -0.001\n",
      "Method:                 Least Squares   F-statistic:                    0.2143\n",
      "Date:                Thu, 21 Mar 2024   Prob (F-statistic):              0.643\n",
      "Time:                        00:25:18   Log-Likelihood:                -454.53\n",
      "No. Observations:                1000   AIC:                             913.1\n",
      "Df Residuals:                     998   BIC:                             922.9\n",
      "Df Model:                           1                                         \n",
      "Covariance Type:            nonrobust                                         \n",
      "==============================================================================\n",
      "                 coef    std err          t      P>|t|      [0.025      0.975]\n",
      "------------------------------------------------------------------------------\n",
      "Intercept      0.0496      0.108      0.460      0.646      -0.162       0.261\n",
      "past_rev      -0.0053      0.011     -0.463      0.643      -0.028       0.017\n",
      "==============================================================================\n",
      "Omnibus:                       52.468   Durbin-Watson:                   1.972\n",
      "Prob(Omnibus):                  0.000   Jarque-Bera (JB):               62.877\n",
      "Skew:                           0.526   Prob(JB):                     2.22e-14\n",
      "Kurtosis:                       3.635   Cond. No.                         84.9\n",
      "==============================================================================\n",
      "\n",
      "Notes:\n",
      "[1] Standard Errors assume that the covariance matrix of the errors is correctly specified.\n"
     ]
    }
   ],
   "source": [
    "result_4 = smf.ols(formula = 'residuals_1 ~ past_rev', data = targeted_ads).fit()\n",
    "print(result_4.summary())"
   ]
  },
  {
   "cell_type": "markdown",
   "id": "unlimited-hollow",
   "metadata": {},
   "source": [
    "Including past revenue as an additional control:"
   ]
  },
  {
   "cell_type": "code",
   "execution_count": 11,
   "id": "rolled-survival",
   "metadata": {},
   "outputs": [
    {
     "name": "stdout",
     "output_type": "stream",
     "text": [
      "                            OLS Regression Results                            \n",
      "==============================================================================\n",
      "Dep. Variable:                revenue   R-squared:                       0.640\n",
      "Model:                            OLS   Adj. R-squared:                  0.639\n",
      "Method:                 Least Squares   F-statistic:                     442.4\n",
      "Date:                Thu, 21 Mar 2024   Prob (F-statistic):          5.08e-219\n",
      "Time:                        00:25:26   Log-Likelihood:                -1447.1\n",
      "No. Observations:                1000   AIC:                             2904.\n",
      "Df Residuals:                     995   BIC:                             2929.\n",
      "Df Model:                           4                                         \n",
      "Covariance Type:            nonrobust                                         \n",
      "===============================================================================\n",
      "                  coef    std err          t      P>|t|      [0.025      0.975]\n",
      "-------------------------------------------------------------------------------\n",
      "Intercept      -0.2403      0.341     -0.704      0.481      -0.910       0.429\n",
      "treatment       1.3003      0.086     15.201      0.000       1.132       1.468\n",
      "age_25to40     -0.2229      0.098     -2.270      0.023      -0.416      -0.030\n",
      "age_above40    -0.1716      0.101     -1.702      0.089      -0.369       0.026\n",
      "past_rev        1.0020      0.033     30.142      0.000       0.937       1.067\n",
      "==============================================================================\n",
      "Omnibus:                        1.326   Durbin-Watson:                   2.061\n",
      "Prob(Omnibus):                  0.515   Jarque-Bera (JB):                1.395\n",
      "Skew:                           0.065   Prob(JB):                        0.498\n",
      "Kurtosis:                       2.871   Cond. No.                         102.\n",
      "==============================================================================\n",
      "\n",
      "Notes:\n",
      "[1] Standard Errors assume that the covariance matrix of the errors is correctly specified.\n"
     ]
    }
   ],
   "source": [
    "result_5 = smf.ols(formula = 'revenue ~ treatment + age_25to40 + age_above40 + past_rev', data = targeted_ads).fit()\n",
    "print(result_5.summary())"
   ]
  }
 ],
 "metadata": {
  "kernelspec": {
   "display_name": "Python 3 (ipykernel)",
   "language": "python",
   "name": "python3"
  },
  "language_info": {
   "codemirror_mode": {
    "name": "ipython",
    "version": 3
   },
   "file_extension": ".py",
   "mimetype": "text/x-python",
   "name": "python",
   "nbconvert_exporter": "python",
   "pygments_lexer": "ipython3",
   "version": "3.11.5"
  }
 },
 "nbformat": 4,
 "nbformat_minor": 5
}
